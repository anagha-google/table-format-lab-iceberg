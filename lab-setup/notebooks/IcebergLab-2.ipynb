{
 "cells": [
  {
   "cell_type": "markdown",
   "id": "4529a790-8425-4600-841a-4b094b82eaa8",
   "metadata": {},
   "source": [
    "# Apache Iceberg Lab \n",
    "## Unit 2: Create Iceberg table\n",
    "In the previous unit -\n",
    "1. We read parquet data in the datalake\n",
    "2. Cleansed it, reduced dataset and persisted it as parquet to the datalake parquet-consumable directory\n",
    "3. We created a database called loan_db and defined an external table on the data in parquet-consumable\n",
    "\n",
    "In this unit you will learn to -\n",
    "1. Create an Iceberg table in Hadoop Catalog off of the Parquet table in previous notebook and explore the folder structure\n",
    "2. Create Iceberg table in Hive Catalog off of the Parquet table in the prior notebook and explore the folder structure\n",
    "3. Check the Data and metadata files"
   ]
  },
  {
   "cell_type": "markdown",
   "id": "1a31c4fd-d465-4f52-8e56-3775bf499abc",
   "metadata": {},
   "source": [
    "### 1. Imports"
   ]
  },
  {
   "cell_type": "code",
   "execution_count": 1,
   "id": "1321bce9-178c-4065-8187-0a5728c1a370",
   "metadata": {},
   "outputs": [],
   "source": [
    "from pyspark.sql import SparkSession\n",
    "from pyspark.sql.functions import col\n",
    "\n",
    "import warnings\n",
    "warnings.filterwarnings('ignore')"
   ]
  },
  {
   "cell_type": "markdown",
   "id": "ed295a74-ed1d-4b5d-831a-1b5dcf73c36f",
   "metadata": {},
   "source": [
    "### 2. Create a Spark session powered by Cloud Dataproc "
   ]
  },
  {
   "cell_type": "code",
   "execution_count": 2,
   "id": "b383d5ab-a0b9-45ab-a232-34d88f2a0065",
   "metadata": {},
   "outputs": [],
   "source": [
    "spark = SparkSession.builder.appName('Loan Analysis').getOrCreate()\n",
    "spark.sparkContext.setLogLevel(\"WARN\")"
   ]
  },
  {
   "cell_type": "code",
   "execution_count": 7,
   "id": "852d22dc-2fd1-4dbf-b6e7-6e807ae6ff01",
   "metadata": {},
   "outputs": [
    {
     "name": "stdout",
     "output_type": "stream",
     "text": [
      "gs://iceberg-spark-bucket-928505941962/iceberg-warehouse-dir\n"
     ]
    }
   ],
   "source": [
    "val = spark.conf.get(\"spark.sql.catalog.hdp_ctlg.warehouse\")\n",
    "print(val)"
   ]
  },
  {
   "cell_type": "markdown",
   "id": "63cd13e6-f3f5-4f2c-b4fc-d7e2660c6206",
   "metadata": {},
   "source": [
    "### 3. Declare variables"
   ]
  },
  {
   "cell_type": "code",
   "execution_count": 4,
   "id": "5596e31b-749a-4702-8879-6f05f9ff0c2d",
   "metadata": {},
   "outputs": [
    {
     "name": "stdout",
     "output_type": "stream",
     "text": [
      "PROJECT_ID:  nikhim-iceberg-lab\n"
     ]
    }
   ],
   "source": [
    "project_id_output = !gcloud config list --format \"value(core.project)\" 2>/dev/null\n",
    "PROJECT_ID = project_id_output[0]\n",
    "print(\"PROJECT_ID: \", PROJECT_ID)"
   ]
  },
  {
   "cell_type": "code",
   "execution_count": 5,
   "id": "471c6743-a058-462b-851a-f34323f36243",
   "metadata": {},
   "outputs": [
    {
     "name": "stdout",
     "output_type": "stream",
     "text": [
      "PROJECT_NAME:  nikhim-iceberg-lab\n"
     ]
    }
   ],
   "source": [
    "project_name_output = !gcloud projects describe $PROJECT_ID | grep name | cut -d':' -f2 | xargs\n",
    "PROJECT_NAME = project_name_output[0]\n",
    "print(\"PROJECT_NAME: \", PROJECT_NAME)"
   ]
  },
  {
   "cell_type": "code",
   "execution_count": 6,
   "id": "61929dc6-a083-433c-8a13-3d39d9c4a4a1",
   "metadata": {},
   "outputs": [
    {
     "name": "stdout",
     "output_type": "stream",
     "text": [
      "PROJECT_NUMBER:  928505941962\n"
     ]
    }
   ],
   "source": [
    "project_number_output = !gcloud projects describe $PROJECT_ID | grep projectNumber | cut -d':' -f2 | xargs\n",
    "PROJECT_NUMBER = project_number_output[0]\n",
    "print(\"PROJECT_NUMBER: \", PROJECT_NUMBER)"
   ]
  },
  {
   "cell_type": "code",
   "execution_count": 8,
   "id": "f8b79fd2-5243-41a4-ae87-e7f9dd87cf20",
   "metadata": {},
   "outputs": [],
   "source": [
    "DATA_LAKE_ROOT_PATH= f\"gs://iceberg-data-bucket-{PROJECT_NUMBER}\"\n"
   ]
  },
  {
   "cell_type": "markdown",
   "id": "bf400b2d-434f-4429-a279-1ebf4aa6d990",
   "metadata": {},
   "source": [
    "#### **Note:** Iceberg provides the option to use different types of catalogs for metadata tracking. In this notebook we are exploring:\n",
    "\n",
    "    1. Hadoop Catalog - (Folder/File based metadata tracking)\n",
    "    2. Hive Catalog - (Hive metastore based metadata tracking)"
   ]
  },
  {
   "cell_type": "markdown",
   "id": "226c0b16-5f6e-4219-a911-d15af73fe9d9",
   "metadata": {},
   "source": [
    "### 4. Create an unpartitioned Iceberg table in  **\"Hadoop\"** Catalog"
   ]
  },
  {
   "cell_type": "code",
   "execution_count": 10,
   "id": "1fa7c08d-a9e2-4992-8de4-15c6b8039f61",
   "metadata": {},
   "outputs": [
    {
     "name": "stdout",
     "output_type": "stream",
     "text": [
      "ICEBERG_WAREHOUSE_DIR =  gs://iceberg-spark-bucket-928505941962/iceberg-warehouse-dir\n"
     ]
    }
   ],
   "source": [
    "#Fetch the hadoop warehouse directory for iceberg. All hadoop catalog tables will be created in this directory\n",
    "\n",
    "ICEBERG_HDP_WAREHOUSE_DIR = spark.conf.get(\"spark.sql.catalog.hdp_ctlg.warehouse\")\n",
    "\n",
    "print(\"ICEBERG_HDP_WAREHOUSE_DIR = \",ICEBERG_HDP_WAREHOUSE_DIR)"
   ]
  },
  {
   "cell_type": "code",
   "execution_count": 12,
   "id": "1eec0cb7-70cd-480e-9bb7-6ad3c4ff5035",
   "metadata": {},
   "outputs": [
    {
     "name": "stderr",
     "output_type": "stream",
     "text": [
      "23/02/10 15:19:57 WARN HadoopTableOperations: Error reading version hint file gs://iceberg-spark-bucket-928505941962/iceberg-warehouse-dir/loan_db/loans_by_state_iceberg_hdp/metadata/version-hint.text\n",
      "java.io.FileNotFoundException: Item not found: 'gs://iceberg-spark-bucket-928505941962/iceberg-warehouse-dir/loan_db/loans_by_state_iceberg_hdp/metadata/version-hint.text'. Note, it is possible that the live version is still available but the requested generation is deleted.\n",
      "\tat com.google.cloud.hadoop.repackaged.gcs.com.google.cloud.hadoop.gcsio.GoogleCloudStorageExceptions.createFileNotFoundException(GoogleCloudStorageExceptions.java:46)\n",
      "\tat com.google.cloud.hadoop.repackaged.gcs.com.google.cloud.hadoop.gcsio.GoogleCloudStorageImpl.open(GoogleCloudStorageImpl.java:824)\n",
      "\tat com.google.cloud.hadoop.repackaged.gcs.com.google.cloud.hadoop.gcsio.GoogleCloudStorageFileSystem.open(GoogleCloudStorageFileSystem.java:325)\n",
      "\tat com.google.cloud.hadoop.fs.gcs.GoogleHadoopFSInputStream.<init>(GoogleHadoopFSInputStream.java:93)\n",
      "\tat com.google.cloud.hadoop.fs.gcs.GoogleHadoopFileSystemBase.open(GoogleHadoopFileSystemBase.java:561)\n",
      "\tat org.apache.hadoop.fs.FileSystem.open(FileSystem.java:977)\n",
      "\tat org.apache.iceberg.hadoop.HadoopTableOperations.findVersion(HadoopTableOperations.java:318)\n",
      "\tat org.apache.iceberg.hadoop.HadoopTableOperations.refresh(HadoopTableOperations.java:104)\n",
      "\tat org.apache.iceberg.BaseTransaction.lambda$commitReplaceTransaction$2(BaseTransaction.java:333)\n",
      "\tat org.apache.iceberg.util.Tasks$Builder.runTaskWithRetry(Tasks.java:402)\n",
      "\tat org.apache.iceberg.util.Tasks$Builder.runSingleThreaded(Tasks.java:212)\n",
      "\tat org.apache.iceberg.util.Tasks$Builder.run(Tasks.java:196)\n",
      "\tat org.apache.iceberg.util.Tasks$Builder.run(Tasks.java:189)\n",
      "\tat org.apache.iceberg.BaseTransaction.commitReplaceTransaction(BaseTransaction.java:330)\n",
      "\tat org.apache.iceberg.BaseTransaction.commitTransaction(BaseTransaction.java:273)\n",
      "\tat org.apache.iceberg.CommitCallbackTransaction.commitTransaction(CommitCallbackTransaction.java:116)\n",
      "\tat org.apache.iceberg.spark.source.StagedSparkTable.commitStagedChanges(StagedSparkTable.java:34)\n",
      "\tat org.apache.spark.sql.execution.datasources.v2.TableWriteExecHelper.$anonfun$writeToTable$1(WriteToDataSourceV2Exec.scala:484)\n",
      "\tat org.apache.spark.util.Utils$.tryWithSafeFinallyAndFailureCallbacks(Utils.scala:1525)\n",
      "\tat org.apache.spark.sql.execution.datasources.v2.TableWriteExecHelper.writeToTable(WriteToDataSourceV2Exec.scala:468)\n",
      "\tat org.apache.spark.sql.execution.datasources.v2.TableWriteExecHelper.writeToTable$(WriteToDataSourceV2Exec.scala:463)\n",
      "\tat org.apache.spark.sql.execution.datasources.v2.AtomicReplaceTableAsSelectExec.writeToTable(WriteToDataSourceV2Exec.scala:193)\n",
      "\tat org.apache.spark.sql.execution.datasources.v2.AtomicReplaceTableAsSelectExec.run(WriteToDataSourceV2Exec.scala:224)\n",
      "\tat org.apache.spark.sql.execution.datasources.v2.V2CommandExec.result$lzycompute(V2CommandExec.scala:43)\n",
      "\tat org.apache.spark.sql.execution.datasources.v2.V2CommandExec.result(V2CommandExec.scala:43)\n",
      "\tat org.apache.spark.sql.execution.datasources.v2.V2CommandExec.executeCollect(V2CommandExec.scala:49)\n",
      "\tat org.apache.spark.sql.execution.QueryExecution$$anonfun$eagerlyExecuteCommands$1.$anonfun$applyOrElse$1(QueryExecution.scala:97)\n",
      "\tat org.apache.spark.sql.execution.SQLExecution$.$anonfun$withNewExecutionId$5(SQLExecution.scala:103)\n",
      "\tat org.apache.spark.sql.execution.SQLExecution$.withSQLConfPropagated(SQLExecution.scala:163)\n",
      "\tat org.apache.spark.sql.execution.SQLExecution$.$anonfun$withNewExecutionId$1(SQLExecution.scala:90)\n",
      "\tat org.apache.spark.sql.SparkSession.withActive(SparkSession.scala:775)\n",
      "\tat org.apache.spark.sql.execution.SQLExecution$.withNewExecutionId(SQLExecution.scala:64)\n",
      "\tat org.apache.spark.sql.execution.QueryExecution$$anonfun$eagerlyExecuteCommands$1.applyOrElse(QueryExecution.scala:97)\n",
      "\tat org.apache.spark.sql.execution.QueryExecution$$anonfun$eagerlyExecuteCommands$1.applyOrElse(QueryExecution.scala:93)\n",
      "\tat org.apache.spark.sql.catalyst.trees.TreeNode.$anonfun$transformDownWithPruning$1(TreeNode.scala:481)\n",
      "\tat org.apache.spark.sql.catalyst.trees.CurrentOrigin$.withOrigin(TreeNode.scala:82)\n",
      "\tat org.apache.spark.sql.catalyst.trees.TreeNode.transformDownWithPruning(TreeNode.scala:481)\n",
      "\tat org.apache.spark.sql.catalyst.plans.logical.LogicalPlan.org$apache$spark$sql$catalyst$plans$logical$AnalysisHelper$$super$transformDownWithPruning(LogicalPlan.scala:30)\n",
      "\tat org.apache.spark.sql.catalyst.plans.logical.AnalysisHelper.transformDownWithPruning(AnalysisHelper.scala:267)\n",
      "\tat org.apache.spark.sql.catalyst.plans.logical.AnalysisHelper.transformDownWithPruning$(AnalysisHelper.scala:263)\n",
      "\tat org.apache.spark.sql.catalyst.plans.logical.LogicalPlan.transformDownWithPruning(LogicalPlan.scala:30)\n",
      "\tat org.apache.spark.sql.catalyst.plans.logical.LogicalPlan.transformDownWithPruning(LogicalPlan.scala:30)\n",
      "\tat org.apache.spark.sql.catalyst.trees.TreeNode.transformDown(TreeNode.scala:457)\n",
      "\tat org.apache.spark.sql.execution.QueryExecution.eagerlyExecuteCommands(QueryExecution.scala:93)\n",
      "\tat org.apache.spark.sql.execution.QueryExecution.commandExecuted$lzycompute(QueryExecution.scala:80)\n",
      "\tat org.apache.spark.sql.execution.QueryExecution.commandExecuted(QueryExecution.scala:78)\n",
      "\tat org.apache.spark.sql.execution.QueryExecution.assertCommandExecuted(QueryExecution.scala:115)\n",
      "\tat org.apache.spark.sql.DataFrameWriterV2.runCommand(DataFrameWriterV2.scala:194)\n",
      "\tat org.apache.spark.sql.DataFrameWriterV2.internalReplace(DataFrameWriterV2.scala:211)\n",
      "\tat org.apache.spark.sql.DataFrameWriterV2.createOrReplace(DataFrameWriterV2.scala:132)\n",
      "\tat java.base/jdk.internal.reflect.NativeMethodAccessorImpl.invoke0(Native Method)\n",
      "\tat java.base/jdk.internal.reflect.NativeMethodAccessorImpl.invoke(NativeMethodAccessorImpl.java:62)\n",
      "\tat java.base/jdk.internal.reflect.DelegatingMethodAccessorImpl.invoke(DelegatingMethodAccessorImpl.java:43)\n",
      "\tat java.base/java.lang.reflect.Method.invoke(Method.java:566)\n",
      "\tat py4j.reflection.MethodInvoker.invoke(MethodInvoker.java:244)\n",
      "\tat py4j.reflection.ReflectionEngine.invoke(ReflectionEngine.java:357)\n",
      "\tat py4j.Gateway.invoke(Gateway.java:282)\n",
      "\tat py4j.commands.AbstractCommand.invokeMethod(AbstractCommand.java:132)\n",
      "\tat py4j.commands.CallCommand.execute(CallCommand.java:79)\n",
      "\tat py4j.ClientServerConnection.waitForCommands(ClientServerConnection.java:182)\n",
      "\tat py4j.ClientServerConnection.run(ClientServerConnection.java:106)\n",
      "\tat java.base/java.lang.Thread.run(Thread.java:829)\n",
      "23/02/10 15:19:57 WARN HadoopTableOperations: Error reading version hint file gs://iceberg-spark-bucket-928505941962/iceberg-warehouse-dir/loan_db/loans_by_state_iceberg_hdp/metadata/version-hint.text\n",
      "java.io.FileNotFoundException: Item not found: 'gs://iceberg-spark-bucket-928505941962/iceberg-warehouse-dir/loan_db/loans_by_state_iceberg_hdp/metadata/version-hint.text'. Note, it is possible that the live version is still available but the requested generation is deleted.\n",
      "\tat com.google.cloud.hadoop.repackaged.gcs.com.google.cloud.hadoop.gcsio.GoogleCloudStorageExceptions.createFileNotFoundException(GoogleCloudStorageExceptions.java:46)\n",
      "\tat com.google.cloud.hadoop.repackaged.gcs.com.google.cloud.hadoop.gcsio.GoogleCloudStorageImpl.open(GoogleCloudStorageImpl.java:824)\n",
      "\tat com.google.cloud.hadoop.repackaged.gcs.com.google.cloud.hadoop.gcsio.GoogleCloudStorageFileSystem.open(GoogleCloudStorageFileSystem.java:325)\n",
      "\tat com.google.cloud.hadoop.fs.gcs.GoogleHadoopFSInputStream.<init>(GoogleHadoopFSInputStream.java:93)\n",
      "\tat com.google.cloud.hadoop.fs.gcs.GoogleHadoopFileSystemBase.open(GoogleHadoopFileSystemBase.java:561)\n",
      "\tat org.apache.hadoop.fs.FileSystem.open(FileSystem.java:977)\n",
      "\tat org.apache.iceberg.hadoop.HadoopTableOperations.findVersion(HadoopTableOperations.java:318)\n",
      "\tat org.apache.iceberg.hadoop.HadoopTableOperations.refresh(HadoopTableOperations.java:104)\n",
      "\tat org.apache.iceberg.hadoop.HadoopTableOperations.current(HadoopTableOperations.java:84)\n",
      "\tat org.apache.iceberg.BaseTransaction.lambda$commitReplaceTransaction$2(BaseTransaction.java:342)\n",
      "\tat org.apache.iceberg.util.Tasks$Builder.runTaskWithRetry(Tasks.java:402)\n",
      "\tat org.apache.iceberg.util.Tasks$Builder.runSingleThreaded(Tasks.java:212)\n",
      "\tat org.apache.iceberg.util.Tasks$Builder.run(Tasks.java:196)\n",
      "\tat org.apache.iceberg.util.Tasks$Builder.run(Tasks.java:189)\n",
      "\tat org.apache.iceberg.BaseTransaction.commitReplaceTransaction(BaseTransaction.java:330)\n",
      "\tat org.apache.iceberg.BaseTransaction.commitTransaction(BaseTransaction.java:273)\n",
      "\tat org.apache.iceberg.CommitCallbackTransaction.commitTransaction(CommitCallbackTransaction.java:116)\n",
      "\tat org.apache.iceberg.spark.source.StagedSparkTable.commitStagedChanges(StagedSparkTable.java:34)\n",
      "\tat org.apache.spark.sql.execution.datasources.v2.TableWriteExecHelper.$anonfun$writeToTable$1(WriteToDataSourceV2Exec.scala:484)\n",
      "\tat org.apache.spark.util.Utils$.tryWithSafeFinallyAndFailureCallbacks(Utils.scala:1525)\n",
      "\tat org.apache.spark.sql.execution.datasources.v2.TableWriteExecHelper.writeToTable(WriteToDataSourceV2Exec.scala:468)\n",
      "\tat org.apache.spark.sql.execution.datasources.v2.TableWriteExecHelper.writeToTable$(WriteToDataSourceV2Exec.scala:463)\n",
      "\tat org.apache.spark.sql.execution.datasources.v2.AtomicReplaceTableAsSelectExec.writeToTable(WriteToDataSourceV2Exec.scala:193)\n",
      "\tat org.apache.spark.sql.execution.datasources.v2.AtomicReplaceTableAsSelectExec.run(WriteToDataSourceV2Exec.scala:224)\n",
      "\tat org.apache.spark.sql.execution.datasources.v2.V2CommandExec.result$lzycompute(V2CommandExec.scala:43)\n",
      "\tat org.apache.spark.sql.execution.datasources.v2.V2CommandExec.result(V2CommandExec.scala:43)\n",
      "\tat org.apache.spark.sql.execution.datasources.v2.V2CommandExec.executeCollect(V2CommandExec.scala:49)\n",
      "\tat org.apache.spark.sql.execution.QueryExecution$$anonfun$eagerlyExecuteCommands$1.$anonfun$applyOrElse$1(QueryExecution.scala:97)\n",
      "\tat org.apache.spark.sql.execution.SQLExecution$.$anonfun$withNewExecutionId$5(SQLExecution.scala:103)\n",
      "\tat org.apache.spark.sql.execution.SQLExecution$.withSQLConfPropagated(SQLExecution.scala:163)\n",
      "\tat org.apache.spark.sql.execution.SQLExecution$.$anonfun$withNewExecutionId$1(SQLExecution.scala:90)\n",
      "\tat org.apache.spark.sql.SparkSession.withActive(SparkSession.scala:775)\n",
      "\tat org.apache.spark.sql.execution.SQLExecution$.withNewExecutionId(SQLExecution.scala:64)\n",
      "\tat org.apache.spark.sql.execution.QueryExecution$$anonfun$eagerlyExecuteCommands$1.applyOrElse(QueryExecution.scala:97)\n",
      "\tat org.apache.spark.sql.execution.QueryExecution$$anonfun$eagerlyExecuteCommands$1.applyOrElse(QueryExecution.scala:93)\n",
      "\tat org.apache.spark.sql.catalyst.trees.TreeNode.$anonfun$transformDownWithPruning$1(TreeNode.scala:481)\n",
      "\tat org.apache.spark.sql.catalyst.trees.CurrentOrigin$.withOrigin(TreeNode.scala:82)\n",
      "\tat org.apache.spark.sql.catalyst.trees.TreeNode.transformDownWithPruning(TreeNode.scala:481)\n",
      "\tat org.apache.spark.sql.catalyst.plans.logical.LogicalPlan.org$apache$spark$sql$catalyst$plans$logical$AnalysisHelper$$super$transformDownWithPruning(LogicalPlan.scala:30)\n",
      "\tat org.apache.spark.sql.catalyst.plans.logical.AnalysisHelper.transformDownWithPruning(AnalysisHelper.scala:267)\n",
      "\tat org.apache.spark.sql.catalyst.plans.logical.AnalysisHelper.transformDownWithPruning$(AnalysisHelper.scala:263)\n",
      "\tat org.apache.spark.sql.catalyst.plans.logical.LogicalPlan.transformDownWithPruning(LogicalPlan.scala:30)\n",
      "\tat org.apache.spark.sql.catalyst.plans.logical.LogicalPlan.transformDownWithPruning(LogicalPlan.scala:30)\n",
      "\tat org.apache.spark.sql.catalyst.trees.TreeNode.transformDown(TreeNode.scala:457)\n",
      "\tat org.apache.spark.sql.execution.QueryExecution.eagerlyExecuteCommands(QueryExecution.scala:93)\n",
      "\tat org.apache.spark.sql.execution.QueryExecution.commandExecuted$lzycompute(QueryExecution.scala:80)\n",
      "\tat org.apache.spark.sql.execution.QueryExecution.commandExecuted(QueryExecution.scala:78)\n",
      "\tat org.apache.spark.sql.execution.QueryExecution.assertCommandExecuted(QueryExecution.scala:115)\n",
      "\tat org.apache.spark.sql.DataFrameWriterV2.runCommand(DataFrameWriterV2.scala:194)\n",
      "\tat org.apache.spark.sql.DataFrameWriterV2.internalReplace(DataFrameWriterV2.scala:211)\n",
      "\tat org.apache.spark.sql.DataFrameWriterV2.createOrReplace(DataFrameWriterV2.scala:132)\n",
      "\tat java.base/jdk.internal.reflect.NativeMethodAccessorImpl.invoke0(Native Method)\n",
      "\tat java.base/jdk.internal.reflect.NativeMethodAccessorImpl.invoke(NativeMethodAccessorImpl.java:62)\n",
      "\tat java.base/jdk.internal.reflect.DelegatingMethodAccessorImpl.invoke(DelegatingMethodAccessorImpl.java:43)\n",
      "\tat java.base/java.lang.reflect.Method.invoke(Method.java:566)\n",
      "\tat py4j.reflection.MethodInvoker.invoke(MethodInvoker.java:244)\n",
      "\tat py4j.reflection.ReflectionEngine.invoke(ReflectionEngine.java:357)\n",
      "\tat py4j.Gateway.invoke(Gateway.java:282)\n",
      "\tat py4j.commands.AbstractCommand.invokeMethod(AbstractCommand.java:132)\n",
      "\tat py4j.commands.CallCommand.execute(CallCommand.java:79)\n",
      "\tat py4j.ClientServerConnection.waitForCommands(ClientServerConnection.java:182)\n",
      "\tat py4j.ClientServerConnection.run(ClientServerConnection.java:106)\n",
      "\tat java.base/java.lang.Thread.run(Thread.java:829)\n"
     ]
    }
   ],
   "source": [
    "# Create iceberg table from the Parquet table using Hadoop Catalog\n",
    "spark.sql(\"SELECT addr_state,loan_count FROM loan_db.loans_by_state_parquet\").writeTo(\"hdp_ctlg.loan_db.loans_by_state_iceberg_hdp\").using(\"iceberg\").createOrReplace()"
   ]
  },
  {
   "cell_type": "markdown",
   "id": "23ed3323-d9a1-4aa0-b1b2-5e0752e33aee",
   "metadata": {},
   "source": [
    "**NOTE:** During table creation the statement throws **_FileNotFoundException_** as **_version-hint.text_** does not exist in the folder. It then proceeds to create the folder structure and add necessary files required by Iceberg"
   ]
  },
  {
   "cell_type": "code",
   "execution_count": 13,
   "id": "a1321819-2424-4f46-b1c4-2934574686d6",
   "metadata": {},
   "outputs": [
    {
     "name": "stdout",
     "output_type": "stream",
     "text": [
      "+---------+--------------------------+-----------+\n",
      "|namespace|tableName                 |isTemporary|\n",
      "+---------+--------------------------+-----------+\n",
      "|loan_db  |loans_by_state_iceberg_hdp|false      |\n",
      "+---------+--------------------------+-----------+\n",
      "\n"
     ]
    }
   ],
   "source": [
    "spark.sql(\"SHOW TABLES FROM hdp_ctlg.loan_db\").show(truncate=False)"
   ]
  },
  {
   "cell_type": "code",
   "execution_count": 14,
   "id": "598e1780-5248-442d-ba7f-b5568987384e",
   "metadata": {},
   "outputs": [
    {
     "name": "stdout",
     "output_type": "stream",
     "text": [
      "+----------------------------+-----------------------------------------------------------------------------------------------+-------+\n",
      "|col_name                    |data_type                                                                                      |comment|\n",
      "+----------------------------+-----------------------------------------------------------------------------------------------+-------+\n",
      "|addr_state                  |string                                                                                         |       |\n",
      "|loan_count                  |bigint                                                                                         |       |\n",
      "|                            |                                                                                               |       |\n",
      "|# Partitioning              |                                                                                               |       |\n",
      "|Not partitioned             |                                                                                               |       |\n",
      "|                            |                                                                                               |       |\n",
      "|# Metadata Columns          |                                                                                               |       |\n",
      "|_spec_id                    |int                                                                                            |       |\n",
      "|_partition                  |struct<>                                                                                       |       |\n",
      "|_file                       |string                                                                                         |       |\n",
      "|_pos                        |bigint                                                                                         |       |\n",
      "|_deleted                    |boolean                                                                                        |       |\n",
      "|                            |                                                                                               |       |\n",
      "|# Detailed Table Information|                                                                                               |       |\n",
      "|Name                        |hdp_ctlg.loan_db.loans_by_state_iceberg_hdp                                                    |       |\n",
      "|Location                    |gs://iceberg-spark-bucket-928505941962/iceberg-warehouse-dir/loan_db/loans_by_state_iceberg_hdp|       |\n",
      "|Provider                    |iceberg                                                                                        |       |\n",
      "|Owner                       |spark                                                                                          |       |\n",
      "|Table Properties            |[current-snapshot-id=2630534839670009067,format=iceberg/parquet,format-version=1]              |       |\n",
      "+----------------------------+-----------------------------------------------------------------------------------------------+-------+\n",
      "\n"
     ]
    }
   ],
   "source": [
    "spark.sql(\"DESCRIBE FORMATTED hdp_ctlg.loan_db.loans_by_state_iceberg_hdp\").show(truncate=False)"
   ]
  },
  {
   "cell_type": "code",
   "execution_count": 16,
   "id": "74ba2456-eb92-4c46-92c6-29833dcc555e",
   "metadata": {},
   "outputs": [
    {
     "name": "stdout",
     "output_type": "stream",
     "text": [
      "gs://iceberg-spark-bucket-928505941962/iceberg-warehouse-dir/:\n",
      "\n",
      "gs://iceberg-spark-bucket-928505941962/iceberg-warehouse-dir/loan_db/:\n",
      "\n",
      "gs://iceberg-spark-bucket-928505941962/iceberg-warehouse-dir/loan_db/loans_by_state_iceberg_hdp/:\n",
      "\n",
      "gs://iceberg-spark-bucket-928505941962/iceberg-warehouse-dir/loan_db/loans_by_state_iceberg_hdp/data/:\n",
      "gs://iceberg-spark-bucket-928505941962/iceberg-warehouse-dir/loan_db/loans_by_state_iceberg_hdp/data/00000-0-3df93f8c-6e76-4966-91f4-4fef143630d2-00001.parquet\n",
      "\n",
      "gs://iceberg-spark-bucket-928505941962/iceberg-warehouse-dir/loan_db/loans_by_state_iceberg_hdp/metadata/:\n",
      "gs://iceberg-spark-bucket-928505941962/iceberg-warehouse-dir/loan_db/loans_by_state_iceberg_hdp/metadata/\n",
      "gs://iceberg-spark-bucket-928505941962/iceberg-warehouse-dir/loan_db/loans_by_state_iceberg_hdp/metadata/df295a30-7f8c-4a82-b4f2-19ffb7665ed0-m0.avro\n",
      "gs://iceberg-spark-bucket-928505941962/iceberg-warehouse-dir/loan_db/loans_by_state_iceberg_hdp/metadata/snap-2630534839670009067-1-df295a30-7f8c-4a82-b4f2-19ffb7665ed0.avro\n",
      "gs://iceberg-spark-bucket-928505941962/iceberg-warehouse-dir/loan_db/loans_by_state_iceberg_hdp/metadata/v1.metadata.json\n",
      "gs://iceberg-spark-bucket-928505941962/iceberg-warehouse-dir/loan_db/loans_by_state_iceberg_hdp/metadata/version-hint.text\n"
     ]
    }
   ],
   "source": [
    "#Take a peek at the Data Layout in hdp_ctlg warehouse directory\n",
    "!gsutil ls -r $ICEBERG_HDP_WAREHOUSE_DIR "
   ]
  },
  {
   "cell_type": "markdown",
   "id": "ed5842b3-c6f0-43ee-a1f3-7739fdee836a",
   "metadata": {},
   "source": [
    "#### **Note**: We have two folders created for the table\n",
    "    1. Data - Contains the parquet file for actual data\n",
    "    2. Metadata - Contains metadata associated with the table\n",
    "    "
   ]
  },
  {
   "cell_type": "markdown",
   "id": "ff5b9a7b-920e-4d0c-98db-265755b9f96f",
   "metadata": {},
   "source": []
  },
  {
   "cell_type": "code",
   "execution_count": 18,
   "id": "7ca72406-d32f-4397-b361-0a93ab58a655",
   "metadata": {},
   "outputs": [
    {
     "name": "stdout",
     "output_type": "stream",
     "text": [
      "METADATA_VERSION 1\n"
     ]
    }
   ],
   "source": [
    "#Version hint keeps track of the latest metadata file of the table. \n",
    "\n",
    "version_hint = !gsutil cat $ICEBERG_HDP_WAREHOUSE_DIR/loan_db/loans_by_state_iceberg_hdp/metadata/version-hint.text\n",
    "\n",
    "METADATA_VERSION = version_hint[0]\n",
    "print(\"METADATA_VERSION =\",METADATA_VERSION)"
   ]
  },
  {
   "cell_type": "code",
   "execution_count": 19,
   "id": "f700eedb-6559-48a7-ae1d-b230e876db67",
   "metadata": {},
   "outputs": [
    {
     "name": "stdout",
     "output_type": "stream",
     "text": [
      "{\n",
      "  \"format-version\" : 1,\n",
      "  \"table-uuid\" : \"d81b513d-980d-40dd-9067-5b404de1c722\",\n",
      "  \"location\" : \"gs://iceberg-spark-bucket-928505941962/iceberg-warehouse-dir/loan_db/loans_by_state_iceberg_hdp\",\n",
      "  \"last-updated-ms\" : 1676042397490,\n",
      "  \"last-column-id\" : 2,\n",
      "  \"schema\" : {\n",
      "    \"type\" : \"struct\",\n",
      "    \"schema-id\" : 0,\n",
      "    \"fields\" : [ {\n",
      "      \"id\" : 1,\n",
      "      \"name\" : \"addr_state\",\n",
      "      \"required\" : false,\n",
      "      \"type\" : \"string\"\n",
      "    }, {\n",
      "      \"id\" : 2,\n",
      "      \"name\" : \"loan_count\",\n",
      "      \"required\" : false,\n",
      "      \"type\" : \"long\"\n",
      "    } ]\n",
      "  },\n",
      "  \"current-schema-id\" : 0,\n",
      "  \"schemas\" : [ {\n",
      "    \"type\" : \"struct\",\n",
      "    \"schema-id\" : 0,\n",
      "    \"fields\" : [ {\n",
      "      \"id\" : 1,\n",
      "      \"name\" : \"addr_state\",\n",
      "      \"required\" : false,\n",
      "      \"type\" : \"string\"\n",
      "    }, {\n",
      "      \"id\" : 2,\n",
      "      \"name\" : \"loan_count\",\n",
      "      \"required\" : false,\n",
      "      \"type\" : \"long\"\n",
      "    } ]\n",
      "  } ],\n",
      "  \"partition-spec\" : [ ],\n",
      "  \"default-spec-id\" : 0,\n",
      "  \"partition-specs\" : [ {\n",
      "    \"spec-id\" : 0,\n",
      "    \"fields\" : [ ]\n",
      "  } ],\n",
      "  \"last-partition-id\" : 999,\n",
      "  \"default-sort-order-id\" : 0,\n",
      "  \"sort-orders\" : [ {\n",
      "    \"order-id\" : 0,\n",
      "    \"fields\" : [ ]\n",
      "  } ],\n",
      "  \"properties\" : {\n",
      "    \"owner\" : \"spark\"\n",
      "  },\n",
      "  \"current-snapshot-id\" : 2630534839670009067,\n",
      "  \"refs\" : {\n",
      "    \"main\" : {\n",
      "      \"snapshot-id\" : 2630534839670009067,\n",
      "      \"type\" : \"branch\"\n",
      "    }\n",
      "  },\n",
      "  \"snapshots\" : [ {\n",
      "    \"snapshot-id\" : 2630534839670009067,\n",
      "    \"timestamp-ms\" : 1676042397490,\n",
      "    \"summary\" : {\n",
      "      \"operation\" : \"append\",\n",
      "      \"spark.app.id\" : \"app-20230210150657-0006\",\n",
      "      \"added-data-files\" : \"1\",\n",
      "      \"added-records\" : \"51\",\n",
      "      \"added-files-size\" : \"1005\",\n",
      "      \"changed-partition-count\" : \"1\",\n",
      "      \"total-records\" : \"51\",\n",
      "      \"total-files-size\" : \"1005\",\n",
      "      \"total-data-files\" : \"1\",\n",
      "      \"total-delete-files\" : \"0\",\n",
      "      \"total-position-deletes\" : \"0\",\n",
      "      \"total-equality-deletes\" : \"0\"\n",
      "    },\n",
      "    \"manifest-list\" : \"gs://iceberg-spark-bucket-928505941962/iceberg-warehouse-dir/loan_db/loans_by_state_iceberg_hdp/metadata/snap-2630534839670009067-1-df295a30-7f8c-4a82-b4f2-19ffb7665ed0.avro\",\n",
      "    \"schema-id\" : 0\n",
      "  } ],\n",
      "  \"statistics\" : [ ],\n",
      "  \"snapshot-log\" : [ {\n",
      "    \"timestamp-ms\" : 1676042397490,\n",
      "    \"snapshot-id\" : 2630534839670009067\n",
      "  } ],\n",
      "  \"metadata-log\" : [ ]\n",
      "}"
     ]
    }
   ],
   "source": [
    "# Exploring contents of latest metadata file. It keeps track of partition  info, schema info and latest snapshot information\n",
    "\n",
    "!gsutil cat {ICEBERG_HDP_WAREHOUSE_DIR}/loan_db/loans_by_state_iceberg_hdp/metadata/v{METADATA_VERSION}.metadata.json"
   ]
  },
  {
   "cell_type": "markdown",
   "id": "0b4a87c4-9319-4882-84b8-a7396e0c068a",
   "metadata": {},
   "source": []
  },
  {
   "cell_type": "markdown",
   "id": "edce360b-d7d0-41df-b02e-b32c0eae7ed8",
   "metadata": {},
   "source": [
    "### 5. Create Tables in **\"Hive\"** Catalog"
   ]
  },
  {
   "cell_type": "code",
   "execution_count": 20,
   "id": "0e8edec7-e391-4396-b7a5-01d8a42420b4",
   "metadata": {},
   "outputs": [
    {
     "name": "stdout",
     "output_type": "stream",
     "text": [
      "HIVE_METASTORE_WAREHOUSE_DIR = gs://gcs-bucket-iceberg-hms-928505941962-71d67f3e-cf27-4b25-a996-86a/hive-warehouse\n"
     ]
    }
   ],
   "source": [
    "#Fetch the hive metastore directory \n",
    "\n",
    "DPMS_NAME=f\"iceberg-hms-{PROJECT_NUMBER}\"\n",
    "LOCATION=\"us-central1\"\n",
    "\n",
    "metastore_dir = !gcloud metastore services describe $DPMS_NAME --location $LOCATION |grep 'hive.metastore.warehouse.dir'| cut -d':' -f2- | xargs \n",
    "HIVE_METASTORE_WAREHOUSE_DIR = metastore_dir[0]\n",
    "\n",
    "print(\"HIVE_METASTORE_WAREHOUSE_DIR =\",HIVE_METASTORE_WAREHOUSE_DIR)"
   ]
  },
  {
   "cell_type": "markdown",
   "id": "c38c8f72-5df0-4860-bee3-3b9a7160ff1c",
   "metadata": {},
   "source": [
    "####    a. Creating Unpartitioned Table\n",
    "Note: We will use these tables for the rest of the lab"
   ]
  },
  {
   "cell_type": "code",
   "execution_count": 22,
   "id": "75af85d5-27a5-4307-8778-d7c3594e5836",
   "metadata": {},
   "outputs": [
    {
     "name": "stderr",
     "output_type": "stream",
     "text": [
      "                                                                                \r"
     ]
    }
   ],
   "source": [
    "# Create iceberg table from the Parquet table\n",
    "spark.sql(\"SELECT addr_state,loan_count FROM loan_db.loans_by_state_parquet\").writeTo(\"loan_db.loans_by_state_iceberg\").using(\"iceberg\").createOrReplace()"
   ]
  },
  {
   "cell_type": "code",
   "execution_count": 23,
   "id": "f630f3b9-1333-450b-a6fc-7c6c4d2a7e58",
   "metadata": {},
   "outputs": [
    {
     "name": "stdout",
     "output_type": "stream",
     "text": [
      "+---------+----------------------+-----------+\n",
      "|namespace|tableName             |isTemporary|\n",
      "+---------+----------------------+-----------+\n",
      "|loan_db  |loans_by_state_iceberg|false      |\n",
      "|loan_db  |loans_by_state_parquet|false      |\n",
      "|loan_db  |loans_cleansed_parquet|false      |\n",
      "+---------+----------------------+-----------+\n",
      "\n"
     ]
    }
   ],
   "source": [
    "spark.sql(\"show tables from loan_db;\").show(truncate=False)"
   ]
  },
  {
   "cell_type": "markdown",
   "id": "db2da26d-4303-45a1-a57d-9b0b6c76b7fc",
   "metadata": {},
   "source": [
    "Note: **spark_catalog.loan_db** namespace is not the same as **hdp_ctlg.loan_db**. Both the namespaces belong to different catalogs and are identified with a catalog prefix"
   ]
  },
  {
   "cell_type": "code",
   "execution_count": 24,
   "id": "734e1bc2-d0e9-4f7b-b4b0-25082cbe7afa",
   "metadata": {},
   "outputs": [
    {
     "name": "stdout",
     "output_type": "stream",
     "text": [
      "+----------------------------+---------------------------------------------------------------------------------------------------------------------+-------+\n",
      "|col_name                    |data_type                                                                                                            |comment|\n",
      "+----------------------------+---------------------------------------------------------------------------------------------------------------------+-------+\n",
      "|addr_state                  |string                                                                                                               |       |\n",
      "|loan_count                  |bigint                                                                                                               |       |\n",
      "|                            |                                                                                                                     |       |\n",
      "|# Partitioning              |                                                                                                                     |       |\n",
      "|Not partitioned             |                                                                                                                     |       |\n",
      "|                            |                                                                                                                     |       |\n",
      "|# Metadata Columns          |                                                                                                                     |       |\n",
      "|_spec_id                    |int                                                                                                                  |       |\n",
      "|_partition                  |struct<>                                                                                                             |       |\n",
      "|_file                       |string                                                                                                               |       |\n",
      "|_pos                        |bigint                                                                                                               |       |\n",
      "|_deleted                    |boolean                                                                                                              |       |\n",
      "|                            |                                                                                                                     |       |\n",
      "|# Detailed Table Information|                                                                                                                     |       |\n",
      "|Name                        |spark_catalog.loan_db.loans_by_state_iceberg                                                                         |       |\n",
      "|Location                    |gs://gcs-bucket-iceberg-hms-928505941962-71d67f3e-cf27-4b25-a996-86a/hive-warehouse/loan_db.db/loans_by_state_iceberg|       |\n",
      "|Provider                    |iceberg                                                                                                              |       |\n",
      "|Owner                       |spark                                                                                                                |       |\n",
      "|Table Properties            |[current-snapshot-id=3648627921780331930,format=iceberg/parquet,format-version=1]                                    |       |\n",
      "+----------------------------+---------------------------------------------------------------------------------------------------------------------+-------+\n",
      "\n"
     ]
    }
   ],
   "source": [
    "spark.sql(\"DESCRIBE FORMATTED loan_db.loans_by_state_iceberg\").show(truncate=False)"
   ]
  },
  {
   "cell_type": "markdown",
   "id": "5d42d824-c097-4989-974d-3820c41942b8",
   "metadata": {},
   "source": [
    "**NOTE:** \"Hive-Catalog\" tables are created in the hive metastore warehouse directory by default"
   ]
  },
  {
   "cell_type": "code",
   "execution_count": 25,
   "id": "54ce6b8c-b366-457c-a870-68f336d95f55",
   "metadata": {},
   "outputs": [
    {
     "name": "stdout",
     "output_type": "stream",
     "text": [
      "+----------+----------+\n",
      "|addr_state|loan_count|\n",
      "+----------+----------+\n",
      "|        AZ|     10318|\n",
      "|        SC|      5460|\n",
      "+----------+----------+\n",
      "\n"
     ]
    },
    {
     "name": "stderr",
     "output_type": "stream",
     "text": [
      "                                                                                \r"
     ]
    }
   ],
   "source": [
    "spark.sql(\"select * from loan_db.loans_by_state_iceberg limit 2\").show()"
   ]
  },
  {
   "cell_type": "markdown",
   "id": "e11b1021-e4ca-4cff-9513-bcd18f56dea0",
   "metadata": {},
   "source": []
  },
  {
   "cell_type": "markdown",
   "id": "5a7b2095-91c7-41d5-9fc0-092c3511d0c4",
   "metadata": {},
   "source": [
    "#### b. Create Partitioned Iceberg table"
   ]
  },
  {
   "cell_type": "code",
   "execution_count": 29,
   "id": "5fe8230a-609a-4ae3-a990-17498ae6144a",
   "metadata": {},
   "outputs": [
    {
     "name": "stderr",
     "output_type": "stream",
     "text": [
      "                                                                                \r"
     ]
    }
   ],
   "source": [
    "# Create Iceberg partitioned table from the Parquet table\n",
    "spark.sql(\"SELECT addr_state,loan_count FROM loan_db.loans_by_state_parquet\") \\\n",
    ".writeTo(\"loan_db.loans_by_state_iceberg_partitioned\") \\\n",
    ".partitionedBy(\"addr_state\") \\\n",
    ".using(\"iceberg\") \\\n",
    ".createOrReplace()"
   ]
  },
  {
   "cell_type": "code",
   "execution_count": 30,
   "id": "2bf0f042-ce66-4221-aa20-3d19f78fcebc",
   "metadata": {},
   "outputs": [
    {
     "name": "stdout",
     "output_type": "stream",
     "text": [
      "+----------------------------+---------------------------------------------------------------------------------------------------------------------------------+-------+\n",
      "|col_name                    |data_type                                                                                                                        |comment|\n",
      "+----------------------------+---------------------------------------------------------------------------------------------------------------------------------+-------+\n",
      "|addr_state                  |string                                                                                                                           |       |\n",
      "|loan_count                  |bigint                                                                                                                           |       |\n",
      "|                            |                                                                                                                                 |       |\n",
      "|# Partitioning              |                                                                                                                                 |       |\n",
      "|Part 0                      |addr_state                                                                                                                       |       |\n",
      "|                            |                                                                                                                                 |       |\n",
      "|# Metadata Columns          |                                                                                                                                 |       |\n",
      "|_spec_id                    |int                                                                                                                              |       |\n",
      "|_partition                  |struct<addr_state:string>                                                                                                        |       |\n",
      "|_file                       |string                                                                                                                           |       |\n",
      "|_pos                        |bigint                                                                                                                           |       |\n",
      "|_deleted                    |boolean                                                                                                                          |       |\n",
      "|                            |                                                                                                                                 |       |\n",
      "|# Detailed Table Information|                                                                                                                                 |       |\n",
      "|Name                        |spark_catalog.loan_db.loans_by_state_iceberg_partitioned                                                                         |       |\n",
      "|Location                    |gs://gcs-bucket-iceberg-hms-928505941962-71d67f3e-cf27-4b25-a996-86a/hive-warehouse/loan_db.db/loans_by_state_iceberg_partitioned|       |\n",
      "|Provider                    |iceberg                                                                                                                          |       |\n",
      "|Owner                       |spark                                                                                                                            |       |\n",
      "|Table Properties            |[current-snapshot-id=2123253001572863375,format=iceberg/parquet,format-version=1]                                                |       |\n",
      "+----------------------------+---------------------------------------------------------------------------------------------------------------------------------+-------+\n",
      "\n"
     ]
    }
   ],
   "source": [
    "spark.sql(\"DESCRIBE FORMATTED loan_db.loans_by_state_iceberg_partitioned\").show(truncate=False)"
   ]
  },
  {
   "cell_type": "markdown",
   "id": "a0468c88-4f56-48af-9165-d4f1bbcbbda3",
   "metadata": {},
   "source": [
    "### 6. A quick peek at the data layout in hive metastore\n",
    "\n",
    "Note that similar to Hadoop Catalog, Hive catalog also creates data and metdata folders for both partitioned and unpartitioned tables.\n",
    "One noticeable difference is that Hive catalog does not create **version-hint.text** file because it tracks the latest version in Hive metastore table instead."
   ]
  },
  {
   "cell_type": "code",
   "execution_count": 26,
   "id": "19040051-e362-400e-987b-1fe3eb56a18a",
   "metadata": {},
   "outputs": [
    {
     "name": "stdout",
     "output_type": "stream",
     "text": [
      "gs://gcs-bucket-iceberg-hms-928505941962-71d67f3e-cf27-4b25-a996-86a/hive-warehouse/loan_db.db/loans_by_state_iceberg/:\n",
      "\n",
      "gs://gcs-bucket-iceberg-hms-928505941962-71d67f3e-cf27-4b25-a996-86a/hive-warehouse/loan_db.db/loans_by_state_iceberg/data/:\n",
      "gs://gcs-bucket-iceberg-hms-928505941962-71d67f3e-cf27-4b25-a996-86a/hive-warehouse/loan_db.db/loans_by_state_iceberg/data/00000-2-b2d1021e-d3ad-4aff-baa7-1c740e8a3144-00001.parquet\n",
      "\n",
      "gs://gcs-bucket-iceberg-hms-928505941962-71d67f3e-cf27-4b25-a996-86a/hive-warehouse/loan_db.db/loans_by_state_iceberg/metadata/:\n",
      "gs://gcs-bucket-iceberg-hms-928505941962-71d67f3e-cf27-4b25-a996-86a/hive-warehouse/loan_db.db/loans_by_state_iceberg/metadata/00000-e9f97377-9cf7-4d6b-a97f-cde34a16cb51.metadata.json\n",
      "gs://gcs-bucket-iceberg-hms-928505941962-71d67f3e-cf27-4b25-a996-86a/hive-warehouse/loan_db.db/loans_by_state_iceberg/metadata/d37b2f20-215b-4690-9fdf-1e59a8e68f24-m0.avro\n",
      "gs://gcs-bucket-iceberg-hms-928505941962-71d67f3e-cf27-4b25-a996-86a/hive-warehouse/loan_db.db/loans_by_state_iceberg/metadata/snap-3648627921780331930-1-d37b2f20-215b-4690-9fdf-1e59a8e68f24.avro\n"
     ]
    }
   ],
   "source": [
    "!gsutil ls -r $HIVE_METASTORE_WAREHOUSE_DIR/loan_db.db/loans_by_state_iceberg"
   ]
  },
  {
   "cell_type": "code",
   "execution_count": 31,
   "id": "780de18a-ee8c-4916-923b-dbfa478b2eec",
   "metadata": {},
   "outputs": [
    {
     "name": "stdout",
     "output_type": "stream",
     "text": [
      "gs://gcs-bucket-iceberg-hms-928505941962-71d67f3e-cf27-4b25-a996-86a/hive-warehouse/loan_db.db/loans_by_state_iceberg_partitioned/:\n",
      "\n",
      "gs://gcs-bucket-iceberg-hms-928505941962-71d67f3e-cf27-4b25-a996-86a/hive-warehouse/loan_db.db/loans_by_state_iceberg_partitioned/data/:\n",
      "\n",
      "gs://gcs-bucket-iceberg-hms-928505941962-71d67f3e-cf27-4b25-a996-86a/hive-warehouse/loan_db.db/loans_by_state_iceberg_partitioned/data/addr_state=AK/:\n",
      "gs://gcs-bucket-iceberg-hms-928505941962-71d67f3e-cf27-4b25-a996-86a/hive-warehouse/loan_db.db/loans_by_state_iceberg_partitioned/data/addr_state=AK/00000-7-b52442f2-5e23-498a-be5f-548faba5a686-00047.parquet\n",
      "\n",
      "gs://gcs-bucket-iceberg-hms-928505941962-71d67f3e-cf27-4b25-a996-86a/hive-warehouse/loan_db.db/loans_by_state_iceberg_partitioned/data/addr_state=AL/:\n",
      "gs://gcs-bucket-iceberg-hms-928505941962-71d67f3e-cf27-4b25-a996-86a/hive-warehouse/loan_db.db/loans_by_state_iceberg_partitioned/data/addr_state=AL/00000-7-b52442f2-5e23-498a-be5f-548faba5a686-00031.parquet\n",
      "\n",
      "gs://gcs-bucket-iceberg-hms-928505941962-71d67f3e-cf27-4b25-a996-86a/hive-warehouse/loan_db.db/loans_by_state_iceberg_partitioned/data/addr_state=AR/:\n",
      "gs://gcs-bucket-iceberg-hms-928505941962-71d67f3e-cf27-4b25-a996-86a/hive-warehouse/loan_db.db/loans_by_state_iceberg_partitioned/data/addr_state=AR/00000-7-b52442f2-5e23-498a-be5f-548faba5a686-00048.parquet\n",
      "\n",
      "gs://gcs-bucket-iceberg-hms-928505941962-71d67f3e-cf27-4b25-a996-86a/hive-warehouse/loan_db.db/loans_by_state_iceberg_partitioned/data/addr_state=AZ/:\n",
      "gs://gcs-bucket-iceberg-hms-928505941962-71d67f3e-cf27-4b25-a996-86a/hive-warehouse/loan_db.db/loans_by_state_iceberg_partitioned/data/addr_state=AZ/00000-7-b52442f2-5e23-498a-be5f-548faba5a686-00001.parquet\n",
      "\n",
      "gs://gcs-bucket-iceberg-hms-928505941962-71d67f3e-cf27-4b25-a996-86a/hive-warehouse/loan_db.db/loans_by_state_iceberg_partitioned/data/addr_state=CA/:\n",
      "gs://gcs-bucket-iceberg-hms-928505941962-71d67f3e-cf27-4b25-a996-86a/hive-warehouse/loan_db.db/loans_by_state_iceberg_partitioned/data/addr_state=CA/00000-7-b52442f2-5e23-498a-be5f-548faba5a686-00017.parquet\n",
      "\n",
      "gs://gcs-bucket-iceberg-hms-928505941962-71d67f3e-cf27-4b25-a996-86a/hive-warehouse/loan_db.db/loans_by_state_iceberg_partitioned/data/addr_state=CO/:\n",
      "gs://gcs-bucket-iceberg-hms-928505941962-71d67f3e-cf27-4b25-a996-86a/hive-warehouse/loan_db.db/loans_by_state_iceberg_partitioned/data/addr_state=CO/00000-7-b52442f2-5e23-498a-be5f-548faba5a686-00046.parquet\n",
      "\n",
      "gs://gcs-bucket-iceberg-hms-928505941962-71d67f3e-cf27-4b25-a996-86a/hive-warehouse/loan_db.db/loans_by_state_iceberg_partitioned/data/addr_state=CT/:\n",
      "gs://gcs-bucket-iceberg-hms-928505941962-71d67f3e-cf27-4b25-a996-86a/hive-warehouse/loan_db.db/loans_by_state_iceberg_partitioned/data/addr_state=CT/00000-7-b52442f2-5e23-498a-be5f-548faba5a686-00018.parquet\n",
      "\n",
      "gs://gcs-bucket-iceberg-hms-928505941962-71d67f3e-cf27-4b25-a996-86a/hive-warehouse/loan_db.db/loans_by_state_iceberg_partitioned/data/addr_state=DC/:\n",
      "gs://gcs-bucket-iceberg-hms-928505941962-71d67f3e-cf27-4b25-a996-86a/hive-warehouse/loan_db.db/loans_by_state_iceberg_partitioned/data/addr_state=DC/00000-7-b52442f2-5e23-498a-be5f-548faba5a686-00006.parquet\n",
      "\n",
      "gs://gcs-bucket-iceberg-hms-928505941962-71d67f3e-cf27-4b25-a996-86a/hive-warehouse/loan_db.db/loans_by_state_iceberg_partitioned/data/addr_state=DE/:\n",
      "gs://gcs-bucket-iceberg-hms-928505941962-71d67f3e-cf27-4b25-a996-86a/hive-warehouse/loan_db.db/loans_by_state_iceberg_partitioned/data/addr_state=DE/00000-7-b52442f2-5e23-498a-be5f-548faba5a686-00024.parquet\n",
      "\n",
      "gs://gcs-bucket-iceberg-hms-928505941962-71d67f3e-cf27-4b25-a996-86a/hive-warehouse/loan_db.db/loans_by_state_iceberg_partitioned/data/addr_state=FL/:\n",
      "gs://gcs-bucket-iceberg-hms-928505941962-71d67f3e-cf27-4b25-a996-86a/hive-warehouse/loan_db.db/loans_by_state_iceberg_partitioned/data/addr_state=FL/00000-7-b52442f2-5e23-498a-be5f-548faba5a686-00045.parquet\n",
      "\n",
      "gs://gcs-bucket-iceberg-hms-928505941962-71d67f3e-cf27-4b25-a996-86a/hive-warehouse/loan_db.db/loans_by_state_iceberg_partitioned/data/addr_state=GA/:\n",
      "gs://gcs-bucket-iceberg-hms-928505941962-71d67f3e-cf27-4b25-a996-86a/hive-warehouse/loan_db.db/loans_by_state_iceberg_partitioned/data/addr_state=GA/00000-7-b52442f2-5e23-498a-be5f-548faba5a686-00042.parquet\n",
      "\n",
      "gs://gcs-bucket-iceberg-hms-928505941962-71d67f3e-cf27-4b25-a996-86a/hive-warehouse/loan_db.db/loans_by_state_iceberg_partitioned/data/addr_state=HI/:\n",
      "gs://gcs-bucket-iceberg-hms-928505941962-71d67f3e-cf27-4b25-a996-86a/hive-warehouse/loan_db.db/loans_by_state_iceberg_partitioned/data/addr_state=HI/00000-7-b52442f2-5e23-498a-be5f-548faba5a686-00051.parquet\n",
      "\n",
      "gs://gcs-bucket-iceberg-hms-928505941962-71d67f3e-cf27-4b25-a996-86a/hive-warehouse/loan_db.db/loans_by_state_iceberg_partitioned/data/addr_state=IA/:\n",
      "gs://gcs-bucket-iceberg-hms-928505941962-71d67f3e-cf27-4b25-a996-86a/hive-warehouse/loan_db.db/loans_by_state_iceberg_partitioned/data/addr_state=IA/00000-7-b52442f2-5e23-498a-be5f-548faba5a686-00036.parquet\n",
      "\n",
      "gs://gcs-bucket-iceberg-hms-928505941962-71d67f3e-cf27-4b25-a996-86a/hive-warehouse/loan_db.db/loans_by_state_iceberg_partitioned/data/addr_state=ID/:\n",
      "gs://gcs-bucket-iceberg-hms-928505941962-71d67f3e-cf27-4b25-a996-86a/hive-warehouse/loan_db.db/loans_by_state_iceberg_partitioned/data/addr_state=ID/00000-7-b52442f2-5e23-498a-be5f-548faba5a686-00016.parquet\n",
      "\n",
      "gs://gcs-bucket-iceberg-hms-928505941962-71d67f3e-cf27-4b25-a996-86a/hive-warehouse/loan_db.db/loans_by_state_iceberg_partitioned/data/addr_state=IL/:\n",
      "gs://gcs-bucket-iceberg-hms-928505941962-71d67f3e-cf27-4b25-a996-86a/hive-warehouse/loan_db.db/loans_by_state_iceberg_partitioned/data/addr_state=IL/00000-7-b52442f2-5e23-498a-be5f-548faba5a686-00026.parquet\n",
      "\n",
      "gs://gcs-bucket-iceberg-hms-928505941962-71d67f3e-cf27-4b25-a996-86a/hive-warehouse/loan_db.db/loans_by_state_iceberg_partitioned/data/addr_state=IN/:\n",
      "gs://gcs-bucket-iceberg-hms-928505941962-71d67f3e-cf27-4b25-a996-86a/hive-warehouse/loan_db.db/loans_by_state_iceberg_partitioned/data/addr_state=IN/00000-7-b52442f2-5e23-498a-be5f-548faba5a686-00032.parquet\n",
      "\n",
      "gs://gcs-bucket-iceberg-hms-928505941962-71d67f3e-cf27-4b25-a996-86a/hive-warehouse/loan_db.db/loans_by_state_iceberg_partitioned/data/addr_state=KS/:\n",
      "gs://gcs-bucket-iceberg-hms-928505941962-71d67f3e-cf27-4b25-a996-86a/hive-warehouse/loan_db.db/loans_by_state_iceberg_partitioned/data/addr_state=KS/00000-7-b52442f2-5e23-498a-be5f-548faba5a686-00044.parquet\n",
      "\n",
      "gs://gcs-bucket-iceberg-hms-928505941962-71d67f3e-cf27-4b25-a996-86a/hive-warehouse/loan_db.db/loans_by_state_iceberg_partitioned/data/addr_state=KY/:\n",
      "gs://gcs-bucket-iceberg-hms-928505941962-71d67f3e-cf27-4b25-a996-86a/hive-warehouse/loan_db.db/loans_by_state_iceberg_partitioned/data/addr_state=KY/00000-7-b52442f2-5e23-498a-be5f-548faba5a686-00010.parquet\n",
      "\n",
      "gs://gcs-bucket-iceberg-hms-928505941962-71d67f3e-cf27-4b25-a996-86a/hive-warehouse/loan_db.db/loans_by_state_iceberg_partitioned/data/addr_state=LA/:\n",
      "gs://gcs-bucket-iceberg-hms-928505941962-71d67f3e-cf27-4b25-a996-86a/hive-warehouse/loan_db.db/loans_by_state_iceberg_partitioned/data/addr_state=LA/00000-7-b52442f2-5e23-498a-be5f-548faba5a686-00003.parquet\n",
      "\n",
      "gs://gcs-bucket-iceberg-hms-928505941962-71d67f3e-cf27-4b25-a996-86a/hive-warehouse/loan_db.db/loans_by_state_iceberg_partitioned/data/addr_state=MA/:\n",
      "gs://gcs-bucket-iceberg-hms-928505941962-71d67f3e-cf27-4b25-a996-86a/hive-warehouse/loan_db.db/loans_by_state_iceberg_partitioned/data/addr_state=MA/00000-7-b52442f2-5e23-498a-be5f-548faba5a686-00043.parquet\n",
      "\n",
      "gs://gcs-bucket-iceberg-hms-928505941962-71d67f3e-cf27-4b25-a996-86a/hive-warehouse/loan_db.db/loans_by_state_iceberg_partitioned/data/addr_state=MD/:\n",
      "gs://gcs-bucket-iceberg-hms-928505941962-71d67f3e-cf27-4b25-a996-86a/hive-warehouse/loan_db.db/loans_by_state_iceberg_partitioned/data/addr_state=MD/00000-7-b52442f2-5e23-498a-be5f-548faba5a686-00023.parquet\n",
      "\n",
      "gs://gcs-bucket-iceberg-hms-928505941962-71d67f3e-cf27-4b25-a996-86a/hive-warehouse/loan_db.db/loans_by_state_iceberg_partitioned/data/addr_state=ME/:\n",
      "gs://gcs-bucket-iceberg-hms-928505941962-71d67f3e-cf27-4b25-a996-86a/hive-warehouse/loan_db.db/loans_by_state_iceberg_partitioned/data/addr_state=ME/00000-7-b52442f2-5e23-498a-be5f-548faba5a686-00027.parquet\n",
      "\n",
      "gs://gcs-bucket-iceberg-hms-928505941962-71d67f3e-cf27-4b25-a996-86a/hive-warehouse/loan_db.db/loans_by_state_iceberg_partitioned/data/addr_state=MI/:\n",
      "gs://gcs-bucket-iceberg-hms-928505941962-71d67f3e-cf27-4b25-a996-86a/hive-warehouse/loan_db.db/loans_by_state_iceberg_partitioned/data/addr_state=MI/00000-7-b52442f2-5e23-498a-be5f-548faba5a686-00013.parquet\n",
      "\n",
      "gs://gcs-bucket-iceberg-hms-928505941962-71d67f3e-cf27-4b25-a996-86a/hive-warehouse/loan_db.db/loans_by_state_iceberg_partitioned/data/addr_state=MN/:\n",
      "gs://gcs-bucket-iceberg-hms-928505941962-71d67f3e-cf27-4b25-a996-86a/hive-warehouse/loan_db.db/loans_by_state_iceberg_partitioned/data/addr_state=MN/00000-7-b52442f2-5e23-498a-be5f-548faba5a686-00004.parquet\n",
      "\n",
      "gs://gcs-bucket-iceberg-hms-928505941962-71d67f3e-cf27-4b25-a996-86a/hive-warehouse/loan_db.db/loans_by_state_iceberg_partitioned/data/addr_state=MO/:\n",
      "gs://gcs-bucket-iceberg-hms-928505941962-71d67f3e-cf27-4b25-a996-86a/hive-warehouse/loan_db.db/loans_by_state_iceberg_partitioned/data/addr_state=MO/00000-7-b52442f2-5e23-498a-be5f-548faba5a686-00025.parquet\n",
      "\n",
      "gs://gcs-bucket-iceberg-hms-928505941962-71d67f3e-cf27-4b25-a996-86a/hive-warehouse/loan_db.db/loans_by_state_iceberg_partitioned/data/addr_state=MS/:\n",
      "gs://gcs-bucket-iceberg-hms-928505941962-71d67f3e-cf27-4b25-a996-86a/hive-warehouse/loan_db.db/loans_by_state_iceberg_partitioned/data/addr_state=MS/00000-7-b52442f2-5e23-498a-be5f-548faba5a686-00030.parquet\n",
      "\n",
      "gs://gcs-bucket-iceberg-hms-928505941962-71d67f3e-cf27-4b25-a996-86a/hive-warehouse/loan_db.db/loans_by_state_iceberg_partitioned/data/addr_state=MT/:\n",
      "gs://gcs-bucket-iceberg-hms-928505941962-71d67f3e-cf27-4b25-a996-86a/hive-warehouse/loan_db.db/loans_by_state_iceberg_partitioned/data/addr_state=MT/00000-7-b52442f2-5e23-498a-be5f-548faba5a686-00020.parquet\n",
      "\n",
      "gs://gcs-bucket-iceberg-hms-928505941962-71d67f3e-cf27-4b25-a996-86a/hive-warehouse/loan_db.db/loans_by_state_iceberg_partitioned/data/addr_state=NC/:\n",
      "gs://gcs-bucket-iceberg-hms-928505941962-71d67f3e-cf27-4b25-a996-86a/hive-warehouse/loan_db.db/loans_by_state_iceberg_partitioned/data/addr_state=NC/00000-7-b52442f2-5e23-498a-be5f-548faba5a686-00021.parquet\n",
      "\n",
      "gs://gcs-bucket-iceberg-hms-928505941962-71d67f3e-cf27-4b25-a996-86a/hive-warehouse/loan_db.db/loans_by_state_iceberg_partitioned/data/addr_state=ND/:\n",
      "gs://gcs-bucket-iceberg-hms-928505941962-71d67f3e-cf27-4b25-a996-86a/hive-warehouse/loan_db.db/loans_by_state_iceberg_partitioned/data/addr_state=ND/00000-7-b52442f2-5e23-498a-be5f-548faba5a686-00029.parquet\n",
      "\n",
      "gs://gcs-bucket-iceberg-hms-928505941962-71d67f3e-cf27-4b25-a996-86a/hive-warehouse/loan_db.db/loans_by_state_iceberg_partitioned/data/addr_state=NE/:\n",
      "gs://gcs-bucket-iceberg-hms-928505941962-71d67f3e-cf27-4b25-a996-86a/hive-warehouse/loan_db.db/loans_by_state_iceberg_partitioned/data/addr_state=NE/00000-7-b52442f2-5e23-498a-be5f-548faba5a686-00019.parquet\n",
      "\n",
      "gs://gcs-bucket-iceberg-hms-928505941962-71d67f3e-cf27-4b25-a996-86a/hive-warehouse/loan_db.db/loans_by_state_iceberg_partitioned/data/addr_state=NH/:\n",
      "gs://gcs-bucket-iceberg-hms-928505941962-71d67f3e-cf27-4b25-a996-86a/hive-warehouse/loan_db.db/loans_by_state_iceberg_partitioned/data/addr_state=NH/00000-7-b52442f2-5e23-498a-be5f-548faba5a686-00012.parquet\n",
      "\n",
      "gs://gcs-bucket-iceberg-hms-928505941962-71d67f3e-cf27-4b25-a996-86a/hive-warehouse/loan_db.db/loans_by_state_iceberg_partitioned/data/addr_state=NJ/:\n",
      "gs://gcs-bucket-iceberg-hms-928505941962-71d67f3e-cf27-4b25-a996-86a/hive-warehouse/loan_db.db/loans_by_state_iceberg_partitioned/data/addr_state=NJ/00000-7-b52442f2-5e23-498a-be5f-548faba5a686-00005.parquet\n",
      "\n",
      "gs://gcs-bucket-iceberg-hms-928505941962-71d67f3e-cf27-4b25-a996-86a/hive-warehouse/loan_db.db/loans_by_state_iceberg_partitioned/data/addr_state=NM/:\n",
      "gs://gcs-bucket-iceberg-hms-928505941962-71d67f3e-cf27-4b25-a996-86a/hive-warehouse/loan_db.db/loans_by_state_iceberg_partitioned/data/addr_state=NM/00000-7-b52442f2-5e23-498a-be5f-548faba5a686-00035.parquet\n",
      "\n",
      "gs://gcs-bucket-iceberg-hms-928505941962-71d67f3e-cf27-4b25-a996-86a/hive-warehouse/loan_db.db/loans_by_state_iceberg_partitioned/data/addr_state=NV/:\n",
      "gs://gcs-bucket-iceberg-hms-928505941962-71d67f3e-cf27-4b25-a996-86a/hive-warehouse/loan_db.db/loans_by_state_iceberg_partitioned/data/addr_state=NV/00000-7-b52442f2-5e23-498a-be5f-548faba5a686-00014.parquet\n",
      "\n",
      "gs://gcs-bucket-iceberg-hms-928505941962-71d67f3e-cf27-4b25-a996-86a/hive-warehouse/loan_db.db/loans_by_state_iceberg_partitioned/data/addr_state=NY/:\n",
      "gs://gcs-bucket-iceberg-hms-928505941962-71d67f3e-cf27-4b25-a996-86a/hive-warehouse/loan_db.db/loans_by_state_iceberg_partitioned/data/addr_state=NY/00000-7-b52442f2-5e23-498a-be5f-548faba5a686-00039.parquet\n",
      "\n",
      "gs://gcs-bucket-iceberg-hms-928505941962-71d67f3e-cf27-4b25-a996-86a/hive-warehouse/loan_db.db/loans_by_state_iceberg_partitioned/data/addr_state=OH/:\n",
      "gs://gcs-bucket-iceberg-hms-928505941962-71d67f3e-cf27-4b25-a996-86a/hive-warehouse/loan_db.db/loans_by_state_iceberg_partitioned/data/addr_state=OH/00000-7-b52442f2-5e23-498a-be5f-548faba5a686-00033.parquet\n",
      "\n",
      "gs://gcs-bucket-iceberg-hms-928505941962-71d67f3e-cf27-4b25-a996-86a/hive-warehouse/loan_db.db/loans_by_state_iceberg_partitioned/data/addr_state=OK/:\n",
      "gs://gcs-bucket-iceberg-hms-928505941962-71d67f3e-cf27-4b25-a996-86a/hive-warehouse/loan_db.db/loans_by_state_iceberg_partitioned/data/addr_state=OK/00000-7-b52442f2-5e23-498a-be5f-548faba5a686-00049.parquet\n",
      "\n",
      "gs://gcs-bucket-iceberg-hms-928505941962-71d67f3e-cf27-4b25-a996-86a/hive-warehouse/loan_db.db/loans_by_state_iceberg_partitioned/data/addr_state=OR/:\n",
      "gs://gcs-bucket-iceberg-hms-928505941962-71d67f3e-cf27-4b25-a996-86a/hive-warehouse/loan_db.db/loans_by_state_iceberg_partitioned/data/addr_state=OR/00000-7-b52442f2-5e23-498a-be5f-548faba5a686-00007.parquet\n",
      "\n",
      "gs://gcs-bucket-iceberg-hms-928505941962-71d67f3e-cf27-4b25-a996-86a/hive-warehouse/loan_db.db/loans_by_state_iceberg_partitioned/data/addr_state=PA/:\n",
      "gs://gcs-bucket-iceberg-hms-928505941962-71d67f3e-cf27-4b25-a996-86a/hive-warehouse/loan_db.db/loans_by_state_iceberg_partitioned/data/addr_state=PA/00000-7-b52442f2-5e23-498a-be5f-548faba5a686-00037.parquet\n",
      "\n",
      "gs://gcs-bucket-iceberg-hms-928505941962-71d67f3e-cf27-4b25-a996-86a/hive-warehouse/loan_db.db/loans_by_state_iceberg_partitioned/data/addr_state=RI/:\n",
      "gs://gcs-bucket-iceberg-hms-928505941962-71d67f3e-cf27-4b25-a996-86a/hive-warehouse/loan_db.db/loans_by_state_iceberg_partitioned/data/addr_state=RI/00000-7-b52442f2-5e23-498a-be5f-548faba5a686-00009.parquet\n",
      "\n",
      "gs://gcs-bucket-iceberg-hms-928505941962-71d67f3e-cf27-4b25-a996-86a/hive-warehouse/loan_db.db/loans_by_state_iceberg_partitioned/data/addr_state=SC/:\n",
      "gs://gcs-bucket-iceberg-hms-928505941962-71d67f3e-cf27-4b25-a996-86a/hive-warehouse/loan_db.db/loans_by_state_iceberg_partitioned/data/addr_state=SC/00000-7-b52442f2-5e23-498a-be5f-548faba5a686-00002.parquet\n",
      "\n",
      "gs://gcs-bucket-iceberg-hms-928505941962-71d67f3e-cf27-4b25-a996-86a/hive-warehouse/loan_db.db/loans_by_state_iceberg_partitioned/data/addr_state=SD/:\n",
      "gs://gcs-bucket-iceberg-hms-928505941962-71d67f3e-cf27-4b25-a996-86a/hive-warehouse/loan_db.db/loans_by_state_iceberg_partitioned/data/addr_state=SD/00000-7-b52442f2-5e23-498a-be5f-548faba5a686-00038.parquet\n",
      "\n",
      "gs://gcs-bucket-iceberg-hms-928505941962-71d67f3e-cf27-4b25-a996-86a/hive-warehouse/loan_db.db/loans_by_state_iceberg_partitioned/data/addr_state=TN/:\n",
      "gs://gcs-bucket-iceberg-hms-928505941962-71d67f3e-cf27-4b25-a996-86a/hive-warehouse/loan_db.db/loans_by_state_iceberg_partitioned/data/addr_state=TN/00000-7-b52442f2-5e23-498a-be5f-548faba5a686-00034.parquet\n",
      "\n",
      "gs://gcs-bucket-iceberg-hms-928505941962-71d67f3e-cf27-4b25-a996-86a/hive-warehouse/loan_db.db/loans_by_state_iceberg_partitioned/data/addr_state=TX/:\n",
      "gs://gcs-bucket-iceberg-hms-928505941962-71d67f3e-cf27-4b25-a996-86a/hive-warehouse/loan_db.db/loans_by_state_iceberg_partitioned/data/addr_state=TX/00000-7-b52442f2-5e23-498a-be5f-548faba5a686-00040.parquet\n",
      "\n",
      "gs://gcs-bucket-iceberg-hms-928505941962-71d67f3e-cf27-4b25-a996-86a/hive-warehouse/loan_db.db/loans_by_state_iceberg_partitioned/data/addr_state=UT/:\n",
      "gs://gcs-bucket-iceberg-hms-928505941962-71d67f3e-cf27-4b25-a996-86a/hive-warehouse/loan_db.db/loans_by_state_iceberg_partitioned/data/addr_state=UT/00000-7-b52442f2-5e23-498a-be5f-548faba5a686-00050.parquet\n",
      "\n",
      "gs://gcs-bucket-iceberg-hms-928505941962-71d67f3e-cf27-4b25-a996-86a/hive-warehouse/loan_db.db/loans_by_state_iceberg_partitioned/data/addr_state=VA/:\n",
      "gs://gcs-bucket-iceberg-hms-928505941962-71d67f3e-cf27-4b25-a996-86a/hive-warehouse/loan_db.db/loans_by_state_iceberg_partitioned/data/addr_state=VA/00000-7-b52442f2-5e23-498a-be5f-548faba5a686-00008.parquet\n",
      "\n",
      "gs://gcs-bucket-iceberg-hms-928505941962-71d67f3e-cf27-4b25-a996-86a/hive-warehouse/loan_db.db/loans_by_state_iceberg_partitioned/data/addr_state=VT/:\n",
      "gs://gcs-bucket-iceberg-hms-928505941962-71d67f3e-cf27-4b25-a996-86a/hive-warehouse/loan_db.db/loans_by_state_iceberg_partitioned/data/addr_state=VT/00000-7-b52442f2-5e23-498a-be5f-548faba5a686-00022.parquet\n",
      "\n",
      "gs://gcs-bucket-iceberg-hms-928505941962-71d67f3e-cf27-4b25-a996-86a/hive-warehouse/loan_db.db/loans_by_state_iceberg_partitioned/data/addr_state=WA/:\n",
      "gs://gcs-bucket-iceberg-hms-928505941962-71d67f3e-cf27-4b25-a996-86a/hive-warehouse/loan_db.db/loans_by_state_iceberg_partitioned/data/addr_state=WA/00000-7-b52442f2-5e23-498a-be5f-548faba5a686-00028.parquet\n",
      "\n",
      "gs://gcs-bucket-iceberg-hms-928505941962-71d67f3e-cf27-4b25-a996-86a/hive-warehouse/loan_db.db/loans_by_state_iceberg_partitioned/data/addr_state=WI/:\n",
      "gs://gcs-bucket-iceberg-hms-928505941962-71d67f3e-cf27-4b25-a996-86a/hive-warehouse/loan_db.db/loans_by_state_iceberg_partitioned/data/addr_state=WI/00000-7-b52442f2-5e23-498a-be5f-548faba5a686-00015.parquet\n",
      "\n",
      "gs://gcs-bucket-iceberg-hms-928505941962-71d67f3e-cf27-4b25-a996-86a/hive-warehouse/loan_db.db/loans_by_state_iceberg_partitioned/data/addr_state=WV/:\n",
      "gs://gcs-bucket-iceberg-hms-928505941962-71d67f3e-cf27-4b25-a996-86a/hive-warehouse/loan_db.db/loans_by_state_iceberg_partitioned/data/addr_state=WV/00000-7-b52442f2-5e23-498a-be5f-548faba5a686-00041.parquet\n",
      "\n",
      "gs://gcs-bucket-iceberg-hms-928505941962-71d67f3e-cf27-4b25-a996-86a/hive-warehouse/loan_db.db/loans_by_state_iceberg_partitioned/data/addr_state=WY/:\n",
      "gs://gcs-bucket-iceberg-hms-928505941962-71d67f3e-cf27-4b25-a996-86a/hive-warehouse/loan_db.db/loans_by_state_iceberg_partitioned/data/addr_state=WY/00000-7-b52442f2-5e23-498a-be5f-548faba5a686-00011.parquet\n",
      "\n",
      "gs://gcs-bucket-iceberg-hms-928505941962-71d67f3e-cf27-4b25-a996-86a/hive-warehouse/loan_db.db/loans_by_state_iceberg_partitioned/metadata/:\n",
      "gs://gcs-bucket-iceberg-hms-928505941962-71d67f3e-cf27-4b25-a996-86a/hive-warehouse/loan_db.db/loans_by_state_iceberg_partitioned/metadata/00000-c68b3d10-f585-4dfb-a361-e86e26b76fbc.metadata.json\n",
      "gs://gcs-bucket-iceberg-hms-928505941962-71d67f3e-cf27-4b25-a996-86a/hive-warehouse/loan_db.db/loans_by_state_iceberg_partitioned/metadata/876874af-502d-4a13-b167-b4a9a32f8391-m0.avro\n",
      "gs://gcs-bucket-iceberg-hms-928505941962-71d67f3e-cf27-4b25-a996-86a/hive-warehouse/loan_db.db/loans_by_state_iceberg_partitioned/metadata/snap-2123253001572863375-1-876874af-502d-4a13-b167-b4a9a32f8391.avro\n"
     ]
    }
   ],
   "source": [
    "!gsutil ls -r $HIVE_METASTORE_WAREHOUSE_DIR/loan_db.db/loans_by_state_iceberg_partitioned"
   ]
  },
  {
   "cell_type": "markdown",
   "id": "6c4df240-5ff1-433b-92ed-cf311dbef082",
   "metadata": {},
   "source": [
    "### THIS CONCLUDES THIS UNIT. PROCEED TO THE NEXT NOTEBOOK"
   ]
  }
 ],
 "metadata": {
  "language_info": {
   "codemirror_mode": {
    "name": "ipython",
    "version": 3
   },
   "file_extension": ".py",
   "mimetype": "text/x-python",
   "name": "python",
   "nbconvert_exporter": "python",
   "pygments_lexer": "ipython3",
   "version": "3.9.15"
  },
  "serverless_spark": "{\"name\":\"projects/nikhim-iceberg-lab/locations/us-central1/sessions/iceberg-lab-16947\",\"uuid\":\"7b192709-4525-4de5-8984-02c3c6557b73\",\"createTime\":\"2023-02-10T14:05:51.785776Z\",\"jupyterSession\":{},\"spark\":{},\"runtimeInfo\":{\"endpoints\":{\"Spark History Server\":\"https://7suwyw62lfbjhcvtckfaxhuxcm-dot-us-central1.dataproc.googleusercontent.com/sparkhistory/?eventLogDirFilter=7b192709-4525-4de5-8984-02c3c6557b73\"}},\"state\":\"ACTIVE\",\"stateTime\":\"2023-02-10T14:06:44.043437Z\",\"creator\":\"nikhim@google.com\",\"runtimeConfig\":{\"version\":\"1.0.29\",\"properties\":{\"spark:spark.jars.packages\":\"org.apache.iceberg:iceberg-spark-runtime-3.2_2.12:1.1.0\",\"spark:spark.sql.catalog.hdp_ctlg\":\"org.apache.iceberg.spark.SparkCatalog\",\"spark:spark.sql.catalog.hdp_ctlg.type\":\"hadoop\",\"spark:spark.sql.catalog.hdp_ctlg.warehouse\":\"gs://iceberg-data-bucket-928505941962/iceberg-warehouse-dir\",\"spark:spark.sql.catalog.spark_catalog\":\"org.apache.iceberg.spark.SparkSessionCatalog\",\"spark:spark.sql.catalog.spark_catalog.type\":\"hive\",\"spark:spark.sql.extensions\":\"org.apache.iceberg.spark.extensions.IcebergSparkSessionExtensions\",\"spark:spark.executor.instances\":\"2\",\"spark:spark.driver.cores\":\"4\",\"spark:spark.executor.cores\":\"4\",\"spark:spark.dynamicAllocation.executorAllocationRatio\":\"0.3\",\"spark:spark.eventLog.dir\":\"gs://iceberg-sphs-bucket-928505941962/7b192709-4525-4de5-8984-02c3c6557b73/spark-job-history\"}},\"environmentConfig\":{\"executionConfig\":{\"serviceAccount\":\"iceberg-lab-sa@nikhim-iceberg-lab.iam.gserviceaccount.com\",\"subnetworkUri\":\"spark-subnet\",\"idleTtl\":\"14400s\"},\"peripheralsConfig\":{\"metastoreService\":\"projects/nikhim-iceberg-lab/locations/us-central1/services/iceberg-hms-928505941962\",\"sparkHistoryServerConfig\":{\"dataprocCluster\":\"projects/nikhim-iceberg-lab/regions/us-central1/clusters/iceberg-sphs-928505941962\"}}},\"stateHistory\":[{\"state\":\"CREATING\",\"stateStartTime\":\"2023-02-10T14:05:51.785776Z\"}]}",
  "serverless_spark_kernel_name": "remote-181e9fde776b586aa38a5ebc-pyspark",
  "vscode": {
   "interpreter": {
    "hash": "aee8b7b246df8f9039afb4144a1f6fd8d2ca17a180786b69acc140d282b71a49"
   }
  }
 },
 "nbformat": 4,
 "nbformat_minor": 5
}
