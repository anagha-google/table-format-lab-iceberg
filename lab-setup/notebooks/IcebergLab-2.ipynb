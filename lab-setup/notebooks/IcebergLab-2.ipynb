{
 "cells": [
  {
   "cell_type": "markdown",
   "id": "4529a790-8425-4600-841a-4b094b82eaa8",
   "metadata": {},
   "source": [
    "# Apache Iceberg Lab \n",
    "## Unit 2: Create Iceberg table\n",
    "In the previous unit -\n",
    "1. We read parquet data in the datalake in the parquet-source directory\n",
    "2. We cleansed it and persisted it as parquet to the datalake parquet-cleansed directory\n",
    "3. We then optimized it and persisted it as parquet to the datalake parquet-consumable directory\n",
    "4. We finally a database called loan_db and defined an external table on the data in parquet-consumable\n",
    "\n",
    "In this unit you will learn to -\n",
    "1. Create Iceberg table in Hive Catalog off of the parquet table from the prior notebook and explore the folder structure\n",
    "2. Study the data and metadata "
   ]
  },
  {
   "cell_type": "markdown",
   "id": "1a31c4fd-d465-4f52-8e56-3775bf499abc",
   "metadata": {},
   "source": [
    "### 1. Imports"
   ]
  },
  {
   "cell_type": "code",
   "execution_count": 1,
   "id": "1321bce9-178c-4065-8187-0a5728c1a370",
   "metadata": {},
   "outputs": [],
   "source": [
    "from pyspark.sql import SparkSession\n",
    "from pyspark.sql.functions import col\n",
    "\n",
    "import warnings\n",
    "warnings.filterwarnings('ignore')"
   ]
  },
  {
   "cell_type": "markdown",
   "id": "ed295a74-ed1d-4b5d-831a-1b5dcf73c36f",
   "metadata": {},
   "source": [
    "### 2. Create a Spark session powered by Cloud Dataproc "
   ]
  },
  {
   "cell_type": "code",
   "execution_count": 2,
   "id": "b383d5ab-a0b9-45ab-a232-34d88f2a0065",
   "metadata": {},
   "outputs": [
    {
     "name": "stderr",
     "output_type": "stream",
     "text": [
      "24/05/13 16:39:54 WARN SparkSession: Using an existing Spark session; only runtime SQL configurations will take effect.\n"
     ]
    }
   ],
   "source": [
    "spark = SparkSession.builder.appName('Loan Analysis').getOrCreate()\n",
    "spark.sparkContext.setLogLevel(\"WARN\")"
   ]
  },
  {
   "cell_type": "markdown",
   "id": "63cd13e6-f3f5-4f2c-b4fc-d7e2660c6206",
   "metadata": {},
   "source": [
    "### 3. Declare variables"
   ]
  },
  {
   "cell_type": "code",
   "execution_count": 3,
   "id": "5596e31b-749a-4702-8879-6f05f9ff0c2d",
   "metadata": {},
   "outputs": [
    {
     "name": "stdout",
     "output_type": "stream",
     "text": [
      "PROJECT_ID:  delta-lake-diy-lab\n"
     ]
    }
   ],
   "source": [
    "project_id_output = !gcloud config list --format \"value(core.project)\" 2>/dev/null\n",
    "PROJECT_ID = project_id_output[0]\n",
    "print(\"PROJECT_ID: \", PROJECT_ID)"
   ]
  },
  {
   "cell_type": "code",
   "execution_count": 4,
   "id": "471c6743-a058-462b-851a-f34323f36243",
   "metadata": {},
   "outputs": [
    {
     "name": "stdout",
     "output_type": "stream",
     "text": [
      "PROJECT_NAME:  delta-lake-diy-lab\n"
     ]
    }
   ],
   "source": [
    "project_name_output = !gcloud projects describe $PROJECT_ID | grep name | cut -d':' -f2 | xargs\n",
    "PROJECT_NAME = project_name_output[0]\n",
    "print(\"PROJECT_NAME: \", PROJECT_NAME)"
   ]
  },
  {
   "cell_type": "code",
   "execution_count": 5,
   "id": "61929dc6-a083-433c-8a13-3d39d9c4a4a1",
   "metadata": {},
   "outputs": [
    {
     "name": "stdout",
     "output_type": "stream",
     "text": [
      "PROJECT_NUMBER:  11002190840\n"
     ]
    }
   ],
   "source": [
    "project_number_output = !gcloud projects describe $PROJECT_ID | grep projectNumber | cut -d':' -f2 | xargs\n",
    "PROJECT_NUMBER = project_number_output[0]\n",
    "print(\"PROJECT_NUMBER: \", PROJECT_NUMBER)"
   ]
  },
  {
   "cell_type": "code",
   "execution_count": 6,
   "id": "f8b79fd2-5243-41a4-ae87-e7f9dd87cf20",
   "metadata": {},
   "outputs": [
    {
     "name": "stdout",
     "output_type": "stream",
     "text": [
      "DATA_LAKE_ROOT_PATH: gs://iceberg-data-bucket-11002190840\n"
     ]
    }
   ],
   "source": [
    "DATA_LAKE_ROOT_PATH = f\"gs://iceberg-data-bucket-{PROJECT_NUMBER}\"\n",
    "print(\"DATA_LAKE_ROOT_PATH:\",DATA_LAKE_ROOT_PATH)"
   ]
  },
  {
   "cell_type": "code",
   "execution_count": 7,
   "id": "7ca72406-d32f-4397-b361-0a93ab58a655",
   "metadata": {},
   "outputs": [
    {
     "name": "stdout",
     "output_type": "stream",
     "text": [
      "METADATA_VERSION = CommandException: \"cat\" command does not support \"file://\" URLs. Did you mean to use a gs:// URL?\n"
     ]
    }
   ],
   "source": [
    "#Version hint keeps track of the latest metadata file of the table. \n",
    "version_hint = !gsutil cat $ICEBERG_HDP_WAREHOUSE_DIR/loan_db/loans_by_state_iceberg_hdp/metadata/version-hint.text\n",
    "\n",
    "METADATA_VERSION = version_hint[0]\n",
    "print(\"METADATA_VERSION =\",METADATA_VERSION)"
   ]
  },
  {
   "cell_type": "code",
   "execution_count": 8,
   "id": "0e8edec7-e391-4396-b7a5-01d8a42420b4",
   "metadata": {},
   "outputs": [
    {
     "name": "stdout",
     "output_type": "stream",
     "text": [
      "HIVE_METASTORE_WAREHOUSE_DIR = gs://gcs-bucket-dll-hms-11002190840-e1664035-a2d9-4215-be46-45c40712/hive-warehouse\n"
     ]
    }
   ],
   "source": [
    "#Fetch the hive metastore directory \n",
    "DPMS_NAME=f\"dll-hms-{PROJECT_NUMBER}\"\n",
    "LOCATION=\"us-central1\"\n",
    "\n",
    "metastore_dir = !gcloud metastore services describe $DPMS_NAME --location $LOCATION |grep 'hive.metastore.warehouse.dir'| cut -d':' -f2- | xargs \n",
    "HIVE_METASTORE_WAREHOUSE_DIR = metastore_dir[0]\n",
    "\n",
    "print(\"HIVE_METASTORE_WAREHOUSE_DIR =\",HIVE_METASTORE_WAREHOUSE_DIR)"
   ]
  },
  {
   "cell_type": "markdown",
   "id": "edce360b-d7d0-41df-b02e-b32c0eae7ed8",
   "metadata": {},
   "source": [
    "### 5. Create Tables in **\"Hive\"** Catalog"
   ]
  },
  {
   "cell_type": "markdown",
   "id": "c38c8f72-5df0-4860-bee3-3b9a7160ff1c",
   "metadata": {},
   "source": [
    "####    a. Creating Unpartitioned Table\n",
    "Note: We will use these tables for the rest of the lab"
   ]
  },
  {
   "cell_type": "code",
   "execution_count": 9,
   "id": "ac1504fe-b3e5-4ae3-aae6-6fec91fef534",
   "metadata": {},
   "outputs": [
    {
     "name": "stderr",
     "output_type": "stream",
     "text": [
      "ivysettings.xml file not found in HIVE_HOME or HIVE_CONF_DIR,/etc/spark/conf/ivysettings.xml will be used\n"
     ]
    },
    {
     "name": "stdout",
     "output_type": "stream",
     "text": [
      "+---------+\n",
      "|namespace|\n",
      "+---------+\n",
      "|default  |\n",
      "|loan_db  |\n",
      "+---------+\n",
      "\n"
     ]
    }
   ],
   "source": [
    "spark.sql(\"show databases\").show(truncate=False)"
   ]
  },
  {
   "cell_type": "code",
   "execution_count": 10,
   "id": "c718c76c-8815-4c30-b05d-6552f09c0eca",
   "metadata": {},
   "outputs": [
    {
     "name": "stderr",
     "output_type": "stream",
     "text": [
      "[Stage 0:>                                                          (0 + 1) / 1]\r"
     ]
    },
    {
     "name": "stdout",
     "output_type": "stream",
     "text": [
      "+---------+----------------------+-----------+\n",
      "|namespace|tableName             |isTemporary|\n",
      "+---------+----------------------+-----------+\n",
      "|loan_db  |loans_by_state_parquet|false      |\n",
      "|loan_db  |loans_cleansed_parquet|false      |\n",
      "+---------+----------------------+-----------+\n",
      "\n"
     ]
    },
    {
     "name": "stderr",
     "output_type": "stream",
     "text": [
      "                                                                                \r"
     ]
    }
   ],
   "source": [
    "spark.sql(\"show tables in loan_db\").show(truncate=False)"
   ]
  },
  {
   "cell_type": "code",
   "execution_count": 11,
   "id": "c41df668-a55a-499a-a949-d5fced2c9d86",
   "metadata": {},
   "outputs": [
    {
     "name": "stdout",
     "output_type": "stream",
     "text": [
      "++\n",
      "||\n",
      "++\n",
      "++\n",
      "\n"
     ]
    }
   ],
   "source": [
    "spark.sql(\"drop table if exists loan_db.loans_by_state_iceberg_partitioned\").show(truncate=False)"
   ]
  },
  {
   "cell_type": "code",
   "execution_count": 12,
   "id": "75af85d5-27a5-4307-8778-d7c3594e5836",
   "metadata": {},
   "outputs": [
    {
     "name": "stderr",
     "output_type": "stream",
     "text": [
      "                                                                                \r"
     ]
    }
   ],
   "source": [
    "# Create iceberg table from the Parquet table\n",
    "spark.sql(\"SELECT addr_state,loan_count FROM loan_db.loans_by_state_parquet\").writeTo(\"loan_db.loans_by_state_iceberg\").using(\"iceberg\").createOrReplace()"
   ]
  },
  {
   "cell_type": "code",
   "execution_count": 13,
   "id": "f630f3b9-1333-450b-a6fc-7c6c4d2a7e58",
   "metadata": {},
   "outputs": [
    {
     "name": "stdout",
     "output_type": "stream",
     "text": [
      "+---------+----------------------+-----------+\n",
      "|namespace|tableName             |isTemporary|\n",
      "+---------+----------------------+-----------+\n",
      "|loan_db  |loans_by_state_iceberg|false      |\n",
      "|loan_db  |loans_by_state_parquet|false      |\n",
      "|loan_db  |loans_cleansed_parquet|false      |\n",
      "+---------+----------------------+-----------+\n",
      "\n"
     ]
    }
   ],
   "source": [
    "spark.sql(\"show tables from loan_db;\").show(truncate=False)"
   ]
  },
  {
   "cell_type": "code",
   "execution_count": 14,
   "id": "734e1bc2-d0e9-4f7b-b4b0-25082cbe7afa",
   "metadata": {},
   "outputs": [
    {
     "name": "stdout",
     "output_type": "stream",
     "text": [
      "+----------------------------+----------------------------------------------------------------------------------------------------------------------+-------+\n",
      "|col_name                    |data_type                                                                                                             |comment|\n",
      "+----------------------------+----------------------------------------------------------------------------------------------------------------------+-------+\n",
      "|addr_state                  |string                                                                                                                |       |\n",
      "|loan_count                  |bigint                                                                                                                |       |\n",
      "|                            |                                                                                                                      |       |\n",
      "|# Partitioning              |                                                                                                                      |       |\n",
      "|Not partitioned             |                                                                                                                      |       |\n",
      "|                            |                                                                                                                      |       |\n",
      "|# Metadata Columns          |                                                                                                                      |       |\n",
      "|_spec_id                    |int                                                                                                                   |       |\n",
      "|_partition                  |struct<>                                                                                                              |       |\n",
      "|_file                       |string                                                                                                                |       |\n",
      "|_pos                        |bigint                                                                                                                |       |\n",
      "|_deleted                    |boolean                                                                                                               |       |\n",
      "|                            |                                                                                                                      |       |\n",
      "|# Detailed Table Information|                                                                                                                      |       |\n",
      "|Name                        |spark_catalog.loan_db.loans_by_state_iceberg                                                                          |       |\n",
      "|Location                    |gs://gcs-bucket-dll-hms-11002190840-e1664035-a2d9-4215-be46-45c40712/hive-warehouse/loan_db.db/loans_by_state_iceberg |       |\n",
      "|Provider                    |iceberg                                                                                                               |       |\n",
      "|Owner                       |spark                                                                                                                 |       |\n",
      "|Table Properties            |[current-snapshot-id=9176687385630465169,format=iceberg/parquet,format-version=2,write.parquet.compression-codec=zstd]|       |\n",
      "+----------------------------+----------------------------------------------------------------------------------------------------------------------+-------+\n",
      "\n"
     ]
    }
   ],
   "source": [
    "spark.sql(\"DESCRIBE FORMATTED loan_db.loans_by_state_iceberg\").show(truncate=False)"
   ]
  },
  {
   "cell_type": "markdown",
   "id": "5d42d824-c097-4989-974d-3820c41942b8",
   "metadata": {},
   "source": [
    "**NOTE:** \"Hive-Catalog\" tables are created in the hive metastore warehouse directory by default"
   ]
  },
  {
   "cell_type": "code",
   "execution_count": 15,
   "id": "54ce6b8c-b366-457c-a870-68f336d95f55",
   "metadata": {},
   "outputs": [
    {
     "name": "stdout",
     "output_type": "stream",
     "text": [
      "+----------+----------+\n",
      "|addr_state|loan_count|\n",
      "+----------+----------+\n",
      "|        AZ|     10318|\n",
      "|        SC|      5460|\n",
      "+----------+----------+\n",
      "\n"
     ]
    }
   ],
   "source": [
    "spark.sql(\"select * from loan_db.loans_by_state_iceberg limit 2\").show()"
   ]
  },
  {
   "cell_type": "markdown",
   "id": "5a7b2095-91c7-41d5-9fc0-092c3511d0c4",
   "metadata": {},
   "source": [
    "#### b. Create Partitioned Iceberg table"
   ]
  },
  {
   "cell_type": "code",
   "execution_count": 16,
   "id": "5fe8230a-609a-4ae3-a990-17498ae6144a",
   "metadata": {},
   "outputs": [
    {
     "name": "stderr",
     "output_type": "stream",
     "text": [
      "                                                                                \r"
     ]
    }
   ],
   "source": [
    "# Create Iceberg partitioned table from the Parquet table\n",
    "spark.sql(\"SELECT addr_state,loan_count FROM loan_db.loans_by_state_parquet\") \\\n",
    ".writeTo(\"loan_db.loans_by_state_iceberg_partitioned\") \\\n",
    ".partitionedBy(\"addr_state\") \\\n",
    ".using(\"iceberg\") \\\n",
    ".createOrReplace()"
   ]
  },
  {
   "cell_type": "code",
   "execution_count": 17,
   "id": "2bf0f042-ce66-4221-aa20-3d19f78fcebc",
   "metadata": {},
   "outputs": [
    {
     "name": "stdout",
     "output_type": "stream",
     "text": [
      "+----------------------------+---------------------------------------------------------------------------------------------------------------------------------+-------+\n",
      "|col_name                    |data_type                                                                                                                        |comment|\n",
      "+----------------------------+---------------------------------------------------------------------------------------------------------------------------------+-------+\n",
      "|addr_state                  |string                                                                                                                           |       |\n",
      "|loan_count                  |bigint                                                                                                                           |       |\n",
      "|                            |                                                                                                                                 |       |\n",
      "|# Partitioning              |                                                                                                                                 |       |\n",
      "|Part 0                      |addr_state                                                                                                                       |       |\n",
      "|                            |                                                                                                                                 |       |\n",
      "|# Metadata Columns          |                                                                                                                                 |       |\n",
      "|_spec_id                    |int                                                                                                                              |       |\n",
      "|_partition                  |struct<addr_state:string>                                                                                                        |       |\n",
      "|_file                       |string                                                                                                                           |       |\n",
      "|_pos                        |bigint                                                                                                                           |       |\n",
      "|_deleted                    |boolean                                                                                                                          |       |\n",
      "|                            |                                                                                                                                 |       |\n",
      "|# Detailed Table Information|                                                                                                                                 |       |\n",
      "|Name                        |spark_catalog.loan_db.loans_by_state_iceberg_partitioned                                                                         |       |\n",
      "|Location                    |gs://gcs-bucket-dll-hms-11002190840-e1664035-a2d9-4215-be46-45c40712/hive-warehouse/loan_db.db/loans_by_state_iceberg_partitioned|       |\n",
      "|Provider                    |iceberg                                                                                                                          |       |\n",
      "|Owner                       |spark                                                                                                                            |       |\n",
      "|Table Properties            |[current-snapshot-id=994591193726650744,format=iceberg/parquet,format-version=2,write.parquet.compression-codec=zstd]            |       |\n",
      "+----------------------------+---------------------------------------------------------------------------------------------------------------------------------+-------+\n",
      "\n"
     ]
    }
   ],
   "source": [
    "spark.sql(\"DESCRIBE FORMATTED loan_db.loans_by_state_iceberg_partitioned\").show(truncate=False)"
   ]
  },
  {
   "cell_type": "markdown",
   "id": "a0468c88-4f56-48af-9165-d4f1bbcbbda3",
   "metadata": {},
   "source": [
    "### 6. A quick peek at the data layout in hive metastore\n",
    "\n",
    "Note that similar to Hadoop Catalog, Hive catalog also creates data and metdata folders for both partitioned and unpartitioned tables.\n",
    "One noticeable difference is that Hive catalog does not create **version-hint.text** file because it tracks the latest version in Hive metastore table instead."
   ]
  },
  {
   "cell_type": "code",
   "execution_count": 18,
   "id": "294bd63b-c7e6-4dc9-853f-179fea08850b",
   "metadata": {},
   "outputs": [
    {
     "name": "stdout",
     "output_type": "stream",
     "text": [
      "gs://gcs-bucket-dll-hms-11002190840-e1664035-a2d9-4215-be46-45c40712/hive-warehouse\n"
     ]
    }
   ],
   "source": [
    "!echo $HIVE_METASTORE_WAREHOUSE_DIR"
   ]
  },
  {
   "cell_type": "markdown",
   "id": "23dae7e2-dfe8-46a7-bd42-04bc08b3a7f5",
   "metadata": {},
   "source": [
    "#### **Note**: We have two folders created for the table\n",
    "    1. data directory - Contains the parquet files for the actual data\n",
    "    2. metadat directory - Contains metadata associated with the Iceberg table"
   ]
  },
  {
   "cell_type": "code",
   "execution_count": 20,
   "id": "19040051-e362-400e-987b-1fe3eb56a18a",
   "metadata": {},
   "outputs": [
    {
     "name": "stdout",
     "output_type": "stream",
     "text": [
      "gs://gcs-bucket-dll-hms-11002190840-e1664035-a2d9-4215-be46-45c40712/hive-warehouse/loan_db.db/loans_by_state_iceberg/:\n",
      "\n",
      "gs://gcs-bucket-dll-hms-11002190840-e1664035-a2d9-4215-be46-45c40712/hive-warehouse/loan_db.db/loans_by_state_iceberg/data/:\n",
      "gs://gcs-bucket-dll-hms-11002190840-e1664035-a2d9-4215-be46-45c40712/hive-warehouse/loan_db.db/loans_by_state_iceberg/data/00000-2-525c32e9-c437-4d4c-a7a0-c6fac91bba85-0-00001.parquet\n",
      "\n",
      "gs://gcs-bucket-dll-hms-11002190840-e1664035-a2d9-4215-be46-45c40712/hive-warehouse/loan_db.db/loans_by_state_iceberg/metadata/:\n",
      "gs://gcs-bucket-dll-hms-11002190840-e1664035-a2d9-4215-be46-45c40712/hive-warehouse/loan_db.db/loans_by_state_iceberg/metadata/00000-ff4fdfd8-1029-48c2-ac68-d44d499bc9ce.metadata.json\n",
      "gs://gcs-bucket-dll-hms-11002190840-e1664035-a2d9-4215-be46-45c40712/hive-warehouse/loan_db.db/loans_by_state_iceberg/metadata/9702db53-a27d-47ad-ab43-477bbf42516d-m0.avro\n",
      "gs://gcs-bucket-dll-hms-11002190840-e1664035-a2d9-4215-be46-45c40712/hive-warehouse/loan_db.db/loans_by_state_iceberg/metadata/snap-9176687385630465169-1-9702db53-a27d-47ad-ab43-477bbf42516d.avro\n"
     ]
    }
   ],
   "source": [
    "!gsutil ls -r $HIVE_METASTORE_WAREHOUSE_DIR/loan_db.db/loans_by_state_iceberg"
   ]
  },
  {
   "cell_type": "markdown",
   "id": "8c091559-ccf7-4bb7-9fb2-088fd8f71019",
   "metadata": {},
   "source": [
    "In the listing above-\n",
    "1. Metadata file: has .json extension\n",
    "2. Manifest list: has snap prefix\n",
    "3. Manifest file: has .avro extension\n",
    "\n",
    "Lets get familiar with these names."
   ]
  },
  {
   "cell_type": "code",
   "execution_count": 21,
   "id": "f6e68df4-ee7e-4585-9f0e-4441b3239f5a",
   "metadata": {},
   "outputs": [
    {
     "name": "stdout",
     "output_type": "stream",
     "text": [
      "{\n",
      "  \"format-version\" : 2,\n",
      "  \"table-uuid\" : \"9228ae9b-8c1d-4c94-bc1e-9205b86ffd30\",\n",
      "  \"location\" : \"gs://gcs-bucket-dll-hms-11002190840-e1664035-a2d9-4215-be46-45c40712/hive-warehouse/loan_db.db/loans_by_state_iceberg\",\n",
      "  \"last-sequence-number\" : 1,\n",
      "  \"last-updated-ms\" : 1715618413336,\n",
      "  \"last-column-id\" : 2,\n",
      "  \"current-schema-id\" : 0,\n",
      "  \"schemas\" : [ {\n",
      "    \"type\" : \"struct\",\n",
      "    \"schema-id\" : 0,\n",
      "    \"fields\" : [ {\n",
      "      \"id\" : 1,\n",
      "      \"name\" : \"addr_state\",\n",
      "      \"required\" : false,\n",
      "      \"type\" : \"string\"\n",
      "    }, {\n",
      "      \"id\" : 2,\n",
      "      \"name\" : \"loan_count\",\n",
      "      \"required\" : false,\n",
      "      \"type\" : \"long\"\n",
      "    } ]\n",
      "  } ],\n",
      "  \"default-spec-id\" : 0,\n",
      "  \"partition-specs\" : [ {\n",
      "    \"spec-id\" : 0,\n",
      "    \"fields\" : [ ]\n",
      "  } ],\n",
      "  \"last-partition-id\" : 999,\n",
      "  \"default-sort-order-id\" : 0,\n",
      "  \"sort-orders\" : [ {\n",
      "    \"order-id\" : 0,\n",
      "    \"fields\" : [ ]\n",
      "  } ],\n",
      "  \"properties\" : {\n",
      "    \"owner\" : \"spark\",\n",
      "    \"write.parquet.compression-codec\" : \"zstd\"\n",
      "  },\n",
      "  \"current-snapshot-id\" : 9176687385630465169,\n",
      "  \"refs\" : {\n",
      "    \"main\" : {\n",
      "      \"snapshot-id\" : 9176687385630465169,\n",
      "      \"type\" : \"branch\"\n",
      "    }\n",
      "  },\n",
      "  \"snapshots\" : [ {\n",
      "    \"sequence-number\" : 1,\n",
      "    \"snapshot-id\" : 9176687385630465169,\n",
      "    \"timestamp-ms\" : 1715618413336,\n",
      "    \"summary\" : {\n",
      "      \"operation\" : \"append\",\n",
      "      \"spark.app.id\" : \"app-20240513163930-0005\",\n",
      "      \"added-data-files\" : \"1\",\n",
      "      \"added-records\" : \"51\",\n",
      "      \"added-files-size\" : \"1018\",\n",
      "      \"changed-partition-count\" : \"1\",\n",
      "      \"total-records\" : \"51\",\n",
      "      \"total-files-size\" : \"1018\",\n",
      "      \"total-data-files\" : \"1\",\n",
      "      \"total-delete-files\" : \"0\",\n",
      "      \"total-position-deletes\" : \"0\",\n",
      "      \"total-equality-deletes\" : \"0\"\n",
      "    },\n",
      "    \"manifest-list\" : \"gs://gcs-bucket-dll-hms-11002190840-e1664035-a2d9-4215-be46-45c40712/hive-warehouse/loan_db.db/loans_by_state_iceberg/metadata/snap-9176687385630465169-1-9702db53-a27d-47ad-ab43-477bbf42516d.avro\",\n",
      "    \"schema-id\" : 0\n",
      "  } ],\n",
      "  \"statistics\" : [ ],\n",
      "  \"partition-statistics\" : [ ],\n",
      "  \"snapshot-log\" : [ {\n",
      "    \"timestamp-ms\" : 1715618413336,\n",
      "    \"snapshot-id\" : 9176687385630465169\n",
      "  } ],\n",
      "  \"metadata-log\" : [ ]\n",
      "}"
     ]
    }
   ],
   "source": [
    "# Lets review the metadata file for the unpartitioned table-\n",
    "!gsutil cat \"gs://gcs-bucket-dll-hms-11002190840-e1664035-a2d9-4215-be46-45c40712/hive-warehouse/loan_db.db/loans_by_state_iceberg/metadata/00000-ff4fdfd8-1029-48c2-ac68-d44d499bc9ce.metadata.json\""
   ]
  },
  {
   "cell_type": "code",
   "execution_count": 22,
   "id": "780de18a-ee8c-4916-923b-dbfa478b2eec",
   "metadata": {},
   "outputs": [
    {
     "name": "stdout",
     "output_type": "stream",
     "text": [
      "gs://gcs-bucket-dll-hms-11002190840-e1664035-a2d9-4215-be46-45c40712/hive-warehouse/loan_db.db/loans_by_state_iceberg_partitioned/:\n",
      "\n",
      "gs://gcs-bucket-dll-hms-11002190840-e1664035-a2d9-4215-be46-45c40712/hive-warehouse/loan_db.db/loans_by_state_iceberg_partitioned/data/:\n",
      "\n",
      "gs://gcs-bucket-dll-hms-11002190840-e1664035-a2d9-4215-be46-45c40712/hive-warehouse/loan_db.db/loans_by_state_iceberg_partitioned/data/addr_state=AK/:\n",
      "gs://gcs-bucket-dll-hms-11002190840-e1664035-a2d9-4215-be46-45c40712/hive-warehouse/loan_db.db/loans_by_state_iceberg_partitioned/data/addr_state=AK/00000-7-886ba725-2684-4fba-aa9a-75fa681013b6-0-00047.parquet\n",
      "\n",
      "gs://gcs-bucket-dll-hms-11002190840-e1664035-a2d9-4215-be46-45c40712/hive-warehouse/loan_db.db/loans_by_state_iceberg_partitioned/data/addr_state=AL/:\n",
      "gs://gcs-bucket-dll-hms-11002190840-e1664035-a2d9-4215-be46-45c40712/hive-warehouse/loan_db.db/loans_by_state_iceberg_partitioned/data/addr_state=AL/00000-7-886ba725-2684-4fba-aa9a-75fa681013b6-0-00031.parquet\n",
      "\n",
      "gs://gcs-bucket-dll-hms-11002190840-e1664035-a2d9-4215-be46-45c40712/hive-warehouse/loan_db.db/loans_by_state_iceberg_partitioned/data/addr_state=AR/:\n",
      "gs://gcs-bucket-dll-hms-11002190840-e1664035-a2d9-4215-be46-45c40712/hive-warehouse/loan_db.db/loans_by_state_iceberg_partitioned/data/addr_state=AR/00000-7-886ba725-2684-4fba-aa9a-75fa681013b6-0-00048.parquet\n",
      "\n",
      "gs://gcs-bucket-dll-hms-11002190840-e1664035-a2d9-4215-be46-45c40712/hive-warehouse/loan_db.db/loans_by_state_iceberg_partitioned/data/addr_state=AZ/:\n",
      "gs://gcs-bucket-dll-hms-11002190840-e1664035-a2d9-4215-be46-45c40712/hive-warehouse/loan_db.db/loans_by_state_iceberg_partitioned/data/addr_state=AZ/00000-7-886ba725-2684-4fba-aa9a-75fa681013b6-0-00001.parquet\n",
      "\n",
      "gs://gcs-bucket-dll-hms-11002190840-e1664035-a2d9-4215-be46-45c40712/hive-warehouse/loan_db.db/loans_by_state_iceberg_partitioned/data/addr_state=CA/:\n",
      "gs://gcs-bucket-dll-hms-11002190840-e1664035-a2d9-4215-be46-45c40712/hive-warehouse/loan_db.db/loans_by_state_iceberg_partitioned/data/addr_state=CA/00000-7-886ba725-2684-4fba-aa9a-75fa681013b6-0-00017.parquet\n",
      "\n",
      "gs://gcs-bucket-dll-hms-11002190840-e1664035-a2d9-4215-be46-45c40712/hive-warehouse/loan_db.db/loans_by_state_iceberg_partitioned/data/addr_state=CO/:\n",
      "gs://gcs-bucket-dll-hms-11002190840-e1664035-a2d9-4215-be46-45c40712/hive-warehouse/loan_db.db/loans_by_state_iceberg_partitioned/data/addr_state=CO/00000-7-886ba725-2684-4fba-aa9a-75fa681013b6-0-00046.parquet\n",
      "\n",
      "gs://gcs-bucket-dll-hms-11002190840-e1664035-a2d9-4215-be46-45c40712/hive-warehouse/loan_db.db/loans_by_state_iceberg_partitioned/data/addr_state=CT/:\n",
      "gs://gcs-bucket-dll-hms-11002190840-e1664035-a2d9-4215-be46-45c40712/hive-warehouse/loan_db.db/loans_by_state_iceberg_partitioned/data/addr_state=CT/00000-7-886ba725-2684-4fba-aa9a-75fa681013b6-0-00018.parquet\n",
      "\n",
      "gs://gcs-bucket-dll-hms-11002190840-e1664035-a2d9-4215-be46-45c40712/hive-warehouse/loan_db.db/loans_by_state_iceberg_partitioned/data/addr_state=DC/:\n",
      "gs://gcs-bucket-dll-hms-11002190840-e1664035-a2d9-4215-be46-45c40712/hive-warehouse/loan_db.db/loans_by_state_iceberg_partitioned/data/addr_state=DC/00000-7-886ba725-2684-4fba-aa9a-75fa681013b6-0-00006.parquet\n",
      "\n",
      "gs://gcs-bucket-dll-hms-11002190840-e1664035-a2d9-4215-be46-45c40712/hive-warehouse/loan_db.db/loans_by_state_iceberg_partitioned/data/addr_state=DE/:\n",
      "gs://gcs-bucket-dll-hms-11002190840-e1664035-a2d9-4215-be46-45c40712/hive-warehouse/loan_db.db/loans_by_state_iceberg_partitioned/data/addr_state=DE/00000-7-886ba725-2684-4fba-aa9a-75fa681013b6-0-00024.parquet\n",
      "\n",
      "gs://gcs-bucket-dll-hms-11002190840-e1664035-a2d9-4215-be46-45c40712/hive-warehouse/loan_db.db/loans_by_state_iceberg_partitioned/data/addr_state=FL/:\n",
      "gs://gcs-bucket-dll-hms-11002190840-e1664035-a2d9-4215-be46-45c40712/hive-warehouse/loan_db.db/loans_by_state_iceberg_partitioned/data/addr_state=FL/00000-7-886ba725-2684-4fba-aa9a-75fa681013b6-0-00045.parquet\n",
      "\n",
      "gs://gcs-bucket-dll-hms-11002190840-e1664035-a2d9-4215-be46-45c40712/hive-warehouse/loan_db.db/loans_by_state_iceberg_partitioned/data/addr_state=GA/:\n",
      "gs://gcs-bucket-dll-hms-11002190840-e1664035-a2d9-4215-be46-45c40712/hive-warehouse/loan_db.db/loans_by_state_iceberg_partitioned/data/addr_state=GA/00000-7-886ba725-2684-4fba-aa9a-75fa681013b6-0-00042.parquet\n",
      "\n",
      "gs://gcs-bucket-dll-hms-11002190840-e1664035-a2d9-4215-be46-45c40712/hive-warehouse/loan_db.db/loans_by_state_iceberg_partitioned/data/addr_state=HI/:\n",
      "gs://gcs-bucket-dll-hms-11002190840-e1664035-a2d9-4215-be46-45c40712/hive-warehouse/loan_db.db/loans_by_state_iceberg_partitioned/data/addr_state=HI/00000-7-886ba725-2684-4fba-aa9a-75fa681013b6-0-00051.parquet\n",
      "\n",
      "gs://gcs-bucket-dll-hms-11002190840-e1664035-a2d9-4215-be46-45c40712/hive-warehouse/loan_db.db/loans_by_state_iceberg_partitioned/data/addr_state=IA/:\n",
      "gs://gcs-bucket-dll-hms-11002190840-e1664035-a2d9-4215-be46-45c40712/hive-warehouse/loan_db.db/loans_by_state_iceberg_partitioned/data/addr_state=IA/00000-7-886ba725-2684-4fba-aa9a-75fa681013b6-0-00036.parquet\n",
      "\n",
      "gs://gcs-bucket-dll-hms-11002190840-e1664035-a2d9-4215-be46-45c40712/hive-warehouse/loan_db.db/loans_by_state_iceberg_partitioned/data/addr_state=ID/:\n",
      "gs://gcs-bucket-dll-hms-11002190840-e1664035-a2d9-4215-be46-45c40712/hive-warehouse/loan_db.db/loans_by_state_iceberg_partitioned/data/addr_state=ID/00000-7-886ba725-2684-4fba-aa9a-75fa681013b6-0-00016.parquet\n",
      "\n",
      "gs://gcs-bucket-dll-hms-11002190840-e1664035-a2d9-4215-be46-45c40712/hive-warehouse/loan_db.db/loans_by_state_iceberg_partitioned/data/addr_state=IL/:\n",
      "gs://gcs-bucket-dll-hms-11002190840-e1664035-a2d9-4215-be46-45c40712/hive-warehouse/loan_db.db/loans_by_state_iceberg_partitioned/data/addr_state=IL/00000-7-886ba725-2684-4fba-aa9a-75fa681013b6-0-00026.parquet\n",
      "\n",
      "gs://gcs-bucket-dll-hms-11002190840-e1664035-a2d9-4215-be46-45c40712/hive-warehouse/loan_db.db/loans_by_state_iceberg_partitioned/data/addr_state=IN/:\n",
      "gs://gcs-bucket-dll-hms-11002190840-e1664035-a2d9-4215-be46-45c40712/hive-warehouse/loan_db.db/loans_by_state_iceberg_partitioned/data/addr_state=IN/00000-7-886ba725-2684-4fba-aa9a-75fa681013b6-0-00032.parquet\n",
      "\n",
      "gs://gcs-bucket-dll-hms-11002190840-e1664035-a2d9-4215-be46-45c40712/hive-warehouse/loan_db.db/loans_by_state_iceberg_partitioned/data/addr_state=KS/:\n",
      "gs://gcs-bucket-dll-hms-11002190840-e1664035-a2d9-4215-be46-45c40712/hive-warehouse/loan_db.db/loans_by_state_iceberg_partitioned/data/addr_state=KS/00000-7-886ba725-2684-4fba-aa9a-75fa681013b6-0-00044.parquet\n",
      "\n",
      "gs://gcs-bucket-dll-hms-11002190840-e1664035-a2d9-4215-be46-45c40712/hive-warehouse/loan_db.db/loans_by_state_iceberg_partitioned/data/addr_state=KY/:\n",
      "gs://gcs-bucket-dll-hms-11002190840-e1664035-a2d9-4215-be46-45c40712/hive-warehouse/loan_db.db/loans_by_state_iceberg_partitioned/data/addr_state=KY/00000-7-886ba725-2684-4fba-aa9a-75fa681013b6-0-00010.parquet\n",
      "\n",
      "gs://gcs-bucket-dll-hms-11002190840-e1664035-a2d9-4215-be46-45c40712/hive-warehouse/loan_db.db/loans_by_state_iceberg_partitioned/data/addr_state=LA/:\n",
      "gs://gcs-bucket-dll-hms-11002190840-e1664035-a2d9-4215-be46-45c40712/hive-warehouse/loan_db.db/loans_by_state_iceberg_partitioned/data/addr_state=LA/00000-7-886ba725-2684-4fba-aa9a-75fa681013b6-0-00003.parquet\n",
      "\n",
      "gs://gcs-bucket-dll-hms-11002190840-e1664035-a2d9-4215-be46-45c40712/hive-warehouse/loan_db.db/loans_by_state_iceberg_partitioned/data/addr_state=MA/:\n",
      "gs://gcs-bucket-dll-hms-11002190840-e1664035-a2d9-4215-be46-45c40712/hive-warehouse/loan_db.db/loans_by_state_iceberg_partitioned/data/addr_state=MA/00000-7-886ba725-2684-4fba-aa9a-75fa681013b6-0-00043.parquet\n",
      "\n",
      "gs://gcs-bucket-dll-hms-11002190840-e1664035-a2d9-4215-be46-45c40712/hive-warehouse/loan_db.db/loans_by_state_iceberg_partitioned/data/addr_state=MD/:\n",
      "gs://gcs-bucket-dll-hms-11002190840-e1664035-a2d9-4215-be46-45c40712/hive-warehouse/loan_db.db/loans_by_state_iceberg_partitioned/data/addr_state=MD/00000-7-886ba725-2684-4fba-aa9a-75fa681013b6-0-00023.parquet\n",
      "\n",
      "gs://gcs-bucket-dll-hms-11002190840-e1664035-a2d9-4215-be46-45c40712/hive-warehouse/loan_db.db/loans_by_state_iceberg_partitioned/data/addr_state=ME/:\n",
      "gs://gcs-bucket-dll-hms-11002190840-e1664035-a2d9-4215-be46-45c40712/hive-warehouse/loan_db.db/loans_by_state_iceberg_partitioned/data/addr_state=ME/00000-7-886ba725-2684-4fba-aa9a-75fa681013b6-0-00027.parquet\n",
      "\n",
      "gs://gcs-bucket-dll-hms-11002190840-e1664035-a2d9-4215-be46-45c40712/hive-warehouse/loan_db.db/loans_by_state_iceberg_partitioned/data/addr_state=MI/:\n",
      "gs://gcs-bucket-dll-hms-11002190840-e1664035-a2d9-4215-be46-45c40712/hive-warehouse/loan_db.db/loans_by_state_iceberg_partitioned/data/addr_state=MI/00000-7-886ba725-2684-4fba-aa9a-75fa681013b6-0-00013.parquet\n",
      "\n",
      "gs://gcs-bucket-dll-hms-11002190840-e1664035-a2d9-4215-be46-45c40712/hive-warehouse/loan_db.db/loans_by_state_iceberg_partitioned/data/addr_state=MN/:\n",
      "gs://gcs-bucket-dll-hms-11002190840-e1664035-a2d9-4215-be46-45c40712/hive-warehouse/loan_db.db/loans_by_state_iceberg_partitioned/data/addr_state=MN/00000-7-886ba725-2684-4fba-aa9a-75fa681013b6-0-00004.parquet\n",
      "\n",
      "gs://gcs-bucket-dll-hms-11002190840-e1664035-a2d9-4215-be46-45c40712/hive-warehouse/loan_db.db/loans_by_state_iceberg_partitioned/data/addr_state=MO/:\n",
      "gs://gcs-bucket-dll-hms-11002190840-e1664035-a2d9-4215-be46-45c40712/hive-warehouse/loan_db.db/loans_by_state_iceberg_partitioned/data/addr_state=MO/00000-7-886ba725-2684-4fba-aa9a-75fa681013b6-0-00025.parquet\n",
      "\n",
      "gs://gcs-bucket-dll-hms-11002190840-e1664035-a2d9-4215-be46-45c40712/hive-warehouse/loan_db.db/loans_by_state_iceberg_partitioned/data/addr_state=MS/:\n",
      "gs://gcs-bucket-dll-hms-11002190840-e1664035-a2d9-4215-be46-45c40712/hive-warehouse/loan_db.db/loans_by_state_iceberg_partitioned/data/addr_state=MS/00000-7-886ba725-2684-4fba-aa9a-75fa681013b6-0-00030.parquet\n",
      "\n",
      "gs://gcs-bucket-dll-hms-11002190840-e1664035-a2d9-4215-be46-45c40712/hive-warehouse/loan_db.db/loans_by_state_iceberg_partitioned/data/addr_state=MT/:\n",
      "gs://gcs-bucket-dll-hms-11002190840-e1664035-a2d9-4215-be46-45c40712/hive-warehouse/loan_db.db/loans_by_state_iceberg_partitioned/data/addr_state=MT/00000-7-886ba725-2684-4fba-aa9a-75fa681013b6-0-00020.parquet\n",
      "\n",
      "gs://gcs-bucket-dll-hms-11002190840-e1664035-a2d9-4215-be46-45c40712/hive-warehouse/loan_db.db/loans_by_state_iceberg_partitioned/data/addr_state=NC/:\n",
      "gs://gcs-bucket-dll-hms-11002190840-e1664035-a2d9-4215-be46-45c40712/hive-warehouse/loan_db.db/loans_by_state_iceberg_partitioned/data/addr_state=NC/00000-7-886ba725-2684-4fba-aa9a-75fa681013b6-0-00021.parquet\n",
      "\n",
      "gs://gcs-bucket-dll-hms-11002190840-e1664035-a2d9-4215-be46-45c40712/hive-warehouse/loan_db.db/loans_by_state_iceberg_partitioned/data/addr_state=ND/:\n",
      "gs://gcs-bucket-dll-hms-11002190840-e1664035-a2d9-4215-be46-45c40712/hive-warehouse/loan_db.db/loans_by_state_iceberg_partitioned/data/addr_state=ND/00000-7-886ba725-2684-4fba-aa9a-75fa681013b6-0-00029.parquet\n",
      "\n",
      "gs://gcs-bucket-dll-hms-11002190840-e1664035-a2d9-4215-be46-45c40712/hive-warehouse/loan_db.db/loans_by_state_iceberg_partitioned/data/addr_state=NE/:\n",
      "gs://gcs-bucket-dll-hms-11002190840-e1664035-a2d9-4215-be46-45c40712/hive-warehouse/loan_db.db/loans_by_state_iceberg_partitioned/data/addr_state=NE/00000-7-886ba725-2684-4fba-aa9a-75fa681013b6-0-00019.parquet\n",
      "\n",
      "gs://gcs-bucket-dll-hms-11002190840-e1664035-a2d9-4215-be46-45c40712/hive-warehouse/loan_db.db/loans_by_state_iceberg_partitioned/data/addr_state=NH/:\n",
      "gs://gcs-bucket-dll-hms-11002190840-e1664035-a2d9-4215-be46-45c40712/hive-warehouse/loan_db.db/loans_by_state_iceberg_partitioned/data/addr_state=NH/00000-7-886ba725-2684-4fba-aa9a-75fa681013b6-0-00012.parquet\n",
      "\n",
      "gs://gcs-bucket-dll-hms-11002190840-e1664035-a2d9-4215-be46-45c40712/hive-warehouse/loan_db.db/loans_by_state_iceberg_partitioned/data/addr_state=NJ/:\n",
      "gs://gcs-bucket-dll-hms-11002190840-e1664035-a2d9-4215-be46-45c40712/hive-warehouse/loan_db.db/loans_by_state_iceberg_partitioned/data/addr_state=NJ/00000-7-886ba725-2684-4fba-aa9a-75fa681013b6-0-00005.parquet\n",
      "\n",
      "gs://gcs-bucket-dll-hms-11002190840-e1664035-a2d9-4215-be46-45c40712/hive-warehouse/loan_db.db/loans_by_state_iceberg_partitioned/data/addr_state=NM/:\n",
      "gs://gcs-bucket-dll-hms-11002190840-e1664035-a2d9-4215-be46-45c40712/hive-warehouse/loan_db.db/loans_by_state_iceberg_partitioned/data/addr_state=NM/00000-7-886ba725-2684-4fba-aa9a-75fa681013b6-0-00035.parquet\n",
      "\n",
      "gs://gcs-bucket-dll-hms-11002190840-e1664035-a2d9-4215-be46-45c40712/hive-warehouse/loan_db.db/loans_by_state_iceberg_partitioned/data/addr_state=NV/:\n",
      "gs://gcs-bucket-dll-hms-11002190840-e1664035-a2d9-4215-be46-45c40712/hive-warehouse/loan_db.db/loans_by_state_iceberg_partitioned/data/addr_state=NV/00000-7-886ba725-2684-4fba-aa9a-75fa681013b6-0-00014.parquet\n",
      "\n",
      "gs://gcs-bucket-dll-hms-11002190840-e1664035-a2d9-4215-be46-45c40712/hive-warehouse/loan_db.db/loans_by_state_iceberg_partitioned/data/addr_state=NY/:\n",
      "gs://gcs-bucket-dll-hms-11002190840-e1664035-a2d9-4215-be46-45c40712/hive-warehouse/loan_db.db/loans_by_state_iceberg_partitioned/data/addr_state=NY/00000-7-886ba725-2684-4fba-aa9a-75fa681013b6-0-00039.parquet\n",
      "\n",
      "gs://gcs-bucket-dll-hms-11002190840-e1664035-a2d9-4215-be46-45c40712/hive-warehouse/loan_db.db/loans_by_state_iceberg_partitioned/data/addr_state=OH/:\n",
      "gs://gcs-bucket-dll-hms-11002190840-e1664035-a2d9-4215-be46-45c40712/hive-warehouse/loan_db.db/loans_by_state_iceberg_partitioned/data/addr_state=OH/00000-7-886ba725-2684-4fba-aa9a-75fa681013b6-0-00033.parquet\n",
      "\n",
      "gs://gcs-bucket-dll-hms-11002190840-e1664035-a2d9-4215-be46-45c40712/hive-warehouse/loan_db.db/loans_by_state_iceberg_partitioned/data/addr_state=OK/:\n",
      "gs://gcs-bucket-dll-hms-11002190840-e1664035-a2d9-4215-be46-45c40712/hive-warehouse/loan_db.db/loans_by_state_iceberg_partitioned/data/addr_state=OK/00000-7-886ba725-2684-4fba-aa9a-75fa681013b6-0-00049.parquet\n",
      "\n",
      "gs://gcs-bucket-dll-hms-11002190840-e1664035-a2d9-4215-be46-45c40712/hive-warehouse/loan_db.db/loans_by_state_iceberg_partitioned/data/addr_state=OR/:\n",
      "gs://gcs-bucket-dll-hms-11002190840-e1664035-a2d9-4215-be46-45c40712/hive-warehouse/loan_db.db/loans_by_state_iceberg_partitioned/data/addr_state=OR/00000-7-886ba725-2684-4fba-aa9a-75fa681013b6-0-00007.parquet\n",
      "\n",
      "gs://gcs-bucket-dll-hms-11002190840-e1664035-a2d9-4215-be46-45c40712/hive-warehouse/loan_db.db/loans_by_state_iceberg_partitioned/data/addr_state=PA/:\n",
      "gs://gcs-bucket-dll-hms-11002190840-e1664035-a2d9-4215-be46-45c40712/hive-warehouse/loan_db.db/loans_by_state_iceberg_partitioned/data/addr_state=PA/00000-7-886ba725-2684-4fba-aa9a-75fa681013b6-0-00037.parquet\n",
      "\n",
      "gs://gcs-bucket-dll-hms-11002190840-e1664035-a2d9-4215-be46-45c40712/hive-warehouse/loan_db.db/loans_by_state_iceberg_partitioned/data/addr_state=RI/:\n",
      "gs://gcs-bucket-dll-hms-11002190840-e1664035-a2d9-4215-be46-45c40712/hive-warehouse/loan_db.db/loans_by_state_iceberg_partitioned/data/addr_state=RI/00000-7-886ba725-2684-4fba-aa9a-75fa681013b6-0-00009.parquet\n",
      "\n",
      "gs://gcs-bucket-dll-hms-11002190840-e1664035-a2d9-4215-be46-45c40712/hive-warehouse/loan_db.db/loans_by_state_iceberg_partitioned/data/addr_state=SC/:\n",
      "gs://gcs-bucket-dll-hms-11002190840-e1664035-a2d9-4215-be46-45c40712/hive-warehouse/loan_db.db/loans_by_state_iceberg_partitioned/data/addr_state=SC/00000-7-886ba725-2684-4fba-aa9a-75fa681013b6-0-00002.parquet\n",
      "\n",
      "gs://gcs-bucket-dll-hms-11002190840-e1664035-a2d9-4215-be46-45c40712/hive-warehouse/loan_db.db/loans_by_state_iceberg_partitioned/data/addr_state=SD/:\n",
      "gs://gcs-bucket-dll-hms-11002190840-e1664035-a2d9-4215-be46-45c40712/hive-warehouse/loan_db.db/loans_by_state_iceberg_partitioned/data/addr_state=SD/00000-7-886ba725-2684-4fba-aa9a-75fa681013b6-0-00038.parquet\n",
      "\n",
      "gs://gcs-bucket-dll-hms-11002190840-e1664035-a2d9-4215-be46-45c40712/hive-warehouse/loan_db.db/loans_by_state_iceberg_partitioned/data/addr_state=TN/:\n",
      "gs://gcs-bucket-dll-hms-11002190840-e1664035-a2d9-4215-be46-45c40712/hive-warehouse/loan_db.db/loans_by_state_iceberg_partitioned/data/addr_state=TN/00000-7-886ba725-2684-4fba-aa9a-75fa681013b6-0-00034.parquet\n",
      "\n",
      "gs://gcs-bucket-dll-hms-11002190840-e1664035-a2d9-4215-be46-45c40712/hive-warehouse/loan_db.db/loans_by_state_iceberg_partitioned/data/addr_state=TX/:\n",
      "gs://gcs-bucket-dll-hms-11002190840-e1664035-a2d9-4215-be46-45c40712/hive-warehouse/loan_db.db/loans_by_state_iceberg_partitioned/data/addr_state=TX/00000-7-886ba725-2684-4fba-aa9a-75fa681013b6-0-00040.parquet\n",
      "\n",
      "gs://gcs-bucket-dll-hms-11002190840-e1664035-a2d9-4215-be46-45c40712/hive-warehouse/loan_db.db/loans_by_state_iceberg_partitioned/data/addr_state=UT/:\n",
      "gs://gcs-bucket-dll-hms-11002190840-e1664035-a2d9-4215-be46-45c40712/hive-warehouse/loan_db.db/loans_by_state_iceberg_partitioned/data/addr_state=UT/00000-7-886ba725-2684-4fba-aa9a-75fa681013b6-0-00050.parquet\n",
      "\n",
      "gs://gcs-bucket-dll-hms-11002190840-e1664035-a2d9-4215-be46-45c40712/hive-warehouse/loan_db.db/loans_by_state_iceberg_partitioned/data/addr_state=VA/:\n",
      "gs://gcs-bucket-dll-hms-11002190840-e1664035-a2d9-4215-be46-45c40712/hive-warehouse/loan_db.db/loans_by_state_iceberg_partitioned/data/addr_state=VA/00000-7-886ba725-2684-4fba-aa9a-75fa681013b6-0-00008.parquet\n",
      "\n",
      "gs://gcs-bucket-dll-hms-11002190840-e1664035-a2d9-4215-be46-45c40712/hive-warehouse/loan_db.db/loans_by_state_iceberg_partitioned/data/addr_state=VT/:\n",
      "gs://gcs-bucket-dll-hms-11002190840-e1664035-a2d9-4215-be46-45c40712/hive-warehouse/loan_db.db/loans_by_state_iceberg_partitioned/data/addr_state=VT/00000-7-886ba725-2684-4fba-aa9a-75fa681013b6-0-00022.parquet\n",
      "\n",
      "gs://gcs-bucket-dll-hms-11002190840-e1664035-a2d9-4215-be46-45c40712/hive-warehouse/loan_db.db/loans_by_state_iceberg_partitioned/data/addr_state=WA/:\n",
      "gs://gcs-bucket-dll-hms-11002190840-e1664035-a2d9-4215-be46-45c40712/hive-warehouse/loan_db.db/loans_by_state_iceberg_partitioned/data/addr_state=WA/00000-7-886ba725-2684-4fba-aa9a-75fa681013b6-0-00028.parquet\n",
      "\n",
      "gs://gcs-bucket-dll-hms-11002190840-e1664035-a2d9-4215-be46-45c40712/hive-warehouse/loan_db.db/loans_by_state_iceberg_partitioned/data/addr_state=WI/:\n",
      "gs://gcs-bucket-dll-hms-11002190840-e1664035-a2d9-4215-be46-45c40712/hive-warehouse/loan_db.db/loans_by_state_iceberg_partitioned/data/addr_state=WI/00000-7-886ba725-2684-4fba-aa9a-75fa681013b6-0-00015.parquet\n",
      "\n",
      "gs://gcs-bucket-dll-hms-11002190840-e1664035-a2d9-4215-be46-45c40712/hive-warehouse/loan_db.db/loans_by_state_iceberg_partitioned/data/addr_state=WV/:\n",
      "gs://gcs-bucket-dll-hms-11002190840-e1664035-a2d9-4215-be46-45c40712/hive-warehouse/loan_db.db/loans_by_state_iceberg_partitioned/data/addr_state=WV/00000-7-886ba725-2684-4fba-aa9a-75fa681013b6-0-00041.parquet\n",
      "\n",
      "gs://gcs-bucket-dll-hms-11002190840-e1664035-a2d9-4215-be46-45c40712/hive-warehouse/loan_db.db/loans_by_state_iceberg_partitioned/data/addr_state=WY/:\n",
      "gs://gcs-bucket-dll-hms-11002190840-e1664035-a2d9-4215-be46-45c40712/hive-warehouse/loan_db.db/loans_by_state_iceberg_partitioned/data/addr_state=WY/00000-7-886ba725-2684-4fba-aa9a-75fa681013b6-0-00011.parquet\n",
      "\n",
      "gs://gcs-bucket-dll-hms-11002190840-e1664035-a2d9-4215-be46-45c40712/hive-warehouse/loan_db.db/loans_by_state_iceberg_partitioned/metadata/:\n",
      "gs://gcs-bucket-dll-hms-11002190840-e1664035-a2d9-4215-be46-45c40712/hive-warehouse/loan_db.db/loans_by_state_iceberg_partitioned/metadata/00000-83573c55-4d6c-4fd0-a96c-3eef09efb90f.metadata.json\n",
      "gs://gcs-bucket-dll-hms-11002190840-e1664035-a2d9-4215-be46-45c40712/hive-warehouse/loan_db.db/loans_by_state_iceberg_partitioned/metadata/0b228f0f-f895-498a-97ab-48aa7d213bea-m0.avro\n",
      "gs://gcs-bucket-dll-hms-11002190840-e1664035-a2d9-4215-be46-45c40712/hive-warehouse/loan_db.db/loans_by_state_iceberg_partitioned/metadata/snap-994591193726650744-1-0b228f0f-f895-498a-97ab-48aa7d213bea.avro\n"
     ]
    }
   ],
   "source": [
    "!gsutil ls -r $HIVE_METASTORE_WAREHOUSE_DIR/loan_db.db/loans_by_state_iceberg_partitioned"
   ]
  },
  {
   "cell_type": "code",
   "execution_count": 23,
   "id": "f8e7151a-cf8c-48d3-b09a-c6ba79c8e1ea",
   "metadata": {},
   "outputs": [
    {
     "name": "stdout",
     "output_type": "stream",
     "text": [
      "{\n",
      "  \"format-version\" : 2,\n",
      "  \"table-uuid\" : \"df5acb98-87ce-4425-b01c-55fa718999c1\",\n",
      "  \"location\" : \"gs://gcs-bucket-dll-hms-11002190840-e1664035-a2d9-4215-be46-45c40712/hive-warehouse/loan_db.db/loans_by_state_iceberg_partitioned\",\n",
      "  \"last-sequence-number\" : 1,\n",
      "  \"last-updated-ms\" : 1715618428768,\n",
      "  \"last-column-id\" : 2,\n",
      "  \"current-schema-id\" : 0,\n",
      "  \"schemas\" : [ {\n",
      "    \"type\" : \"struct\",\n",
      "    \"schema-id\" : 0,\n",
      "    \"fields\" : [ {\n",
      "      \"id\" : 1,\n",
      "      \"name\" : \"addr_state\",\n",
      "      \"required\" : false,\n",
      "      \"type\" : \"string\"\n",
      "    }, {\n",
      "      \"id\" : 2,\n",
      "      \"name\" : \"loan_count\",\n",
      "      \"required\" : false,\n",
      "      \"type\" : \"long\"\n",
      "    } ]\n",
      "  } ],\n",
      "  \"default-spec-id\" : 0,\n",
      "  \"partition-specs\" : [ {\n",
      "    \"spec-id\" : 0,\n",
      "    \"fields\" : [ {\n",
      "      \"name\" : \"addr_state\",\n",
      "      \"transform\" : \"identity\",\n",
      "      \"source-id\" : 1,\n",
      "      \"field-id\" : 1000\n",
      "    } ]\n",
      "  } ],\n",
      "  \"last-partition-id\" : 1000,\n",
      "  \"default-sort-order-id\" : 0,\n",
      "  \"sort-orders\" : [ {\n",
      "    \"order-id\" : 0,\n",
      "    \"fields\" : [ ]\n",
      "  } ],\n",
      "  \"properties\" : {\n",
      "    \"owner\" : \"spark\",\n",
      "    \"write.parquet.compression-codec\" : \"zstd\"\n",
      "  },\n",
      "  \"current-snapshot-id\" : 994591193726650744,\n",
      "  \"refs\" : {\n",
      "    \"main\" : {\n",
      "      \"snapshot-id\" : 994591193726650744,\n",
      "      \"type\" : \"branch\"\n",
      "    }\n",
      "  },\n",
      "  \"snapshots\" : [ {\n",
      "    \"sequence-number\" : 1,\n",
      "    \"snapshot-id\" : 994591193726650744,\n",
      "    \"timestamp-ms\" : 1715618428768,\n",
      "    \"summary\" : {\n",
      "      \"operation\" : \"append\",\n",
      "      \"spark.app.id\" : \"app-20240513163930-0005\",\n",
      "      \"added-data-files\" : \"51\",\n",
      "      \"added-records\" : \"51\",\n",
      "      \"added-files-size\" : \"35288\",\n",
      "      \"changed-partition-count\" : \"51\",\n",
      "      \"total-records\" : \"51\",\n",
      "      \"total-files-size\" : \"35288\",\n",
      "      \"total-data-files\" : \"51\",\n",
      "      \"total-delete-files\" : \"0\",\n",
      "      \"total-position-deletes\" : \"0\",\n",
      "      \"total-equality-deletes\" : \"0\"\n",
      "    },\n",
      "    \"manifest-list\" : \"gs://gcs-bucket-dll-hms-11002190840-e1664035-a2d9-4215-be46-45c40712/hive-warehouse/loan_db.db/loans_by_state_iceberg_partitioned/metadata/snap-994591193726650744-1-0b228f0f-f895-498a-97ab-48aa7d213bea.avro\",\n",
      "    \"schema-id\" : 0\n",
      "  } ],\n",
      "  \"statistics\" : [ ],\n",
      "  \"partition-statistics\" : [ ],\n",
      "  \"snapshot-log\" : [ {\n",
      "    \"timestamp-ms\" : 1715618428768,\n",
      "    \"snapshot-id\" : 994591193726650744\n",
      "  } ],\n",
      "  \"metadata-log\" : [ ]\n",
      "}"
     ]
    }
   ],
   "source": [
    "!gsutil cat \"gs://gcs-bucket-dll-hms-11002190840-e1664035-a2d9-4215-be46-45c40712/hive-warehouse/loan_db.db/loans_by_state_iceberg_partitioned/metadata/00000-83573c55-4d6c-4fd0-a96c-3eef09efb90f.metadata.json\""
   ]
  },
  {
   "cell_type": "markdown",
   "id": "6c4df240-5ff1-433b-92ed-cf311dbef082",
   "metadata": {},
   "source": [
    "### THIS CONCLUDES THIS UNIT. PROCEED TO THE NEXT NOTEBOOK"
   ]
  }
 ],
 "metadata": {
  "language_info": {
   "codemirror_mode": {
    "name": "ipython",
    "version": 3
   },
   "file_extension": ".py",
   "mimetype": "text/x-python",
   "name": "python",
   "nbconvert_exporter": "python",
   "pygments_lexer": "ipython3",
   "version": "3.10.9"
  },
  "serverless_spark": "{\"name\":\"projects/delta-lake-diy-lab/locations/us-central1/sessions/iceberg-lab-20370\",\"uuid\":\"754ac0c4-c3f1-48db-89cd-248d9a912f37\",\"createTime\":\"2024-05-13T15:06:31.890972Z\",\"jupyterSession\":{},\"runtimeInfo\":{},\"state\":\"ACTIVE\",\"stateTime\":\"2024-05-13T15:08:49.396022Z\",\"creator\":\"admin@akhanolkar.altostrat.com\",\"runtimeConfig\":{\"version\":\"2.0.69\",\"properties\":{\"spark:spark.jars.packages\":\"org.apache.iceberg:iceberg-spark-runtime-3.3_2.13:1.5.0\",\"spark:spark.sql.catalog.hdp_ctlg\":\"org.apache.iceberg.spark.SparkCatalog\",\"spark:spark.sql.catalog.hdp_ctlg.type\":\"hadoop\",\"spark:spark.sql.catalog.hdp_ctlg.warehouse\":\"gs://iceberg-spark-bucket-11002190840/iceberg-warehouse-dir\",\"spark:spark.sql.catalog.spark_catalog\":\"org.apache.iceberg.spark.SparkSessionCatalog\",\"spark:spark.sql.catalog.spark_catalog.type\":\"hive\",\"spark:spark.sql.extensions\":\"org.apache.iceberg.spark.extensions.IcebergSparkSessionExtensions\",\"spark:spark.executor.instances\":\"2\",\"spark:spark.driver.cores\":\"4\",\"spark:spark.executor.cores\":\"4\",\"spark:spark.dynamicAllocation.executorAllocationRatio\":\"0.3\",\"spark:spark.eventLog.dir\":\"gs://dll-sphs-bucket-11002190840/754ac0c4-c3f1-48db-89cd-248d9a912f37/spark-job-history\",\"spark:spark.dataproc.scaling.version\":\"1\"}},\"environmentConfig\":{\"executionConfig\":{\"serviceAccount\":\"dll-lab-sa@delta-lake-diy-lab.iam.gserviceaccount.com\",\"subnetworkUri\":\"projects/delta-lake-diy-lab/regions/us-central1/subnetworks/spark-snet\",\"idleTtl\":\"3600s\",\"ttl\":\"86400s\"},\"peripheralsConfig\":{\"metastoreService\":\"projects/delta-lake-diy-lab/locations/us-central1/services/dll-hms-11002190840\",\"sparkHistoryServerConfig\":{\"dataprocCluster\":\"projects/delta-lake-diy-lab/regions/us-central1/clusters/dll-sphs-11002190840\"}}},\"stateHistory\":[{\"state\":\"CREATING\",\"stateStartTime\":\"2024-05-13T15:06:31.890972Z\"}]}",
  "serverless_spark_kernel_name": "remote-70589e41fdd6b67da8515900-pyspark",
  "vscode": {
   "interpreter": {
    "hash": "aee8b7b246df8f9039afb4144a1f6fd8d2ca17a180786b69acc140d282b71a49"
   }
  }
 },
 "nbformat": 4,
 "nbformat_minor": 5
}
