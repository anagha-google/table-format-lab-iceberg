{
 "cells": [
  {
   "cell_type": "markdown",
   "id": "4529a790-8425-4600-841a-4b094b82eaa8",
   "metadata": {},
   "source": [
    "# Iceberg Lab \n",
    "## Unit 5: Table Inspection\n",
    "\n",
    "In the previous unit, we-\n",
    "1. Learned how Schema is enforced in Iceberg\n",
    "2. Learned how to perform Schema Evolution and how Iceberg keeps track of it\n",
    "\n",
    "In this unit, we will-\n",
    "1. Explore metadata inspection tables that iceberg provides"
   ]
  },
  {
   "cell_type": "markdown",
   "id": "1a31c4fd-d465-4f52-8e56-3775bf499abc",
   "metadata": {},
   "source": [
    "### 1. Imports"
   ]
  },
  {
   "cell_type": "code",
   "execution_count": 1,
   "id": "1321bce9-178c-4065-8187-0a5728c1a370",
   "metadata": {},
   "outputs": [],
   "source": [
    "from pyspark.sql import SparkSession\n",
    "from pyspark.sql.functions import col\n",
    "\n",
    "\n",
    "import warnings\n",
    "warnings.filterwarnings('ignore')"
   ]
  },
  {
   "cell_type": "markdown",
   "id": "ed295a74-ed1d-4b5d-831a-1b5dcf73c36f",
   "metadata": {},
   "source": [
    "### 2. Create a Spark session powered by Cloud Dataproc "
   ]
  },
  {
   "cell_type": "code",
   "execution_count": 2,
   "id": "b383d5ab-a0b9-45ab-a232-34d88f2a0065",
   "metadata": {},
   "outputs": [
    {
     "name": "stderr",
     "output_type": "stream",
     "text": [
      "24/05/13 17:02:45 WARN SparkSession: Using an existing Spark session; only runtime SQL configurations will take effect.\n"
     ]
    },
    {
     "data": {
      "text/html": [
       "\n",
       "            <div>\n",
       "                <p><b>SparkSession - hive</b></p>\n",
       "                \n",
       "        <div>\n",
       "            <p><b>SparkContext</b></p>\n",
       "\n",
       "            <p><a href=\"http://gdpic-srvls-session-754ac0c4-c3f1-48db-89cd-248d9a912f37-m.us-central1-a.c.delta-lake-diy-lab.internal:4040\">Spark UI</a></p>\n",
       "\n",
       "            <dl>\n",
       "              <dt>Version</dt>\n",
       "                <dd><code>v3.3.4</code></dd>\n",
       "              <dt>Master</dt>\n",
       "                <dd><code>spark://gdpic-srvls-session-754ac0c4-c3f1-48db-89cd-248d9a912f37-m:7077</code></dd>\n",
       "              <dt>AppName</dt>\n",
       "                <dd><code>PySparkShell</code></dd>\n",
       "            </dl>\n",
       "        </div>\n",
       "        \n",
       "            </div>\n",
       "        "
      ],
      "text/plain": [
       "<pyspark.sql.session.SparkSession at 0x7fc7a9941360>"
      ]
     },
     "execution_count": 2,
     "metadata": {},
     "output_type": "execute_result"
    }
   ],
   "source": [
    "spark = SparkSession.builder.appName('Loan Analysis').getOrCreate()\n",
    "spark.sparkContext.setLogLevel(\"WARN\")\n",
    "spark"
   ]
  },
  {
   "cell_type": "markdown",
   "id": "63cd13e6-f3f5-4f2c-b4fc-d7e2660c6206",
   "metadata": {},
   "source": [
    "### 3. Declare variables"
   ]
  },
  {
   "cell_type": "code",
   "execution_count": 3,
   "id": "5596e31b-749a-4702-8879-6f05f9ff0c2d",
   "metadata": {},
   "outputs": [
    {
     "name": "stdout",
     "output_type": "stream",
     "text": [
      "PROJECT_ID:  delta-lake-diy-lab\n"
     ]
    }
   ],
   "source": [
    "project_id_output = !gcloud config list --format \"value(core.project)\" 2>/dev/null\n",
    "PROJECT_ID = project_id_output[0]\n",
    "print(\"PROJECT_ID: \", PROJECT_ID)"
   ]
  },
  {
   "cell_type": "code",
   "execution_count": 4,
   "id": "471c6743-a058-462b-851a-f34323f36243",
   "metadata": {},
   "outputs": [
    {
     "name": "stdout",
     "output_type": "stream",
     "text": [
      "PROJECT_NAME:  delta-lake-diy-lab\n"
     ]
    }
   ],
   "source": [
    "project_name_output = !gcloud projects describe $PROJECT_ID | grep name | cut -d':' -f2 | xargs\n",
    "PROJECT_NAME = project_name_output[0]\n",
    "print(\"PROJECT_NAME: \", PROJECT_NAME)"
   ]
  },
  {
   "cell_type": "code",
   "execution_count": 5,
   "id": "61929dc6-a083-433c-8a13-3d39d9c4a4a1",
   "metadata": {},
   "outputs": [
    {
     "name": "stdout",
     "output_type": "stream",
     "text": [
      "PROJECT_NUMBER:  11002190840\n"
     ]
    }
   ],
   "source": [
    "project_number_output = !gcloud projects describe $PROJECT_ID | grep projectNumber | cut -d':' -f2 | xargs\n",
    "PROJECT_NUMBER = project_number_output[0]\n",
    "print(\"PROJECT_NUMBER: \", PROJECT_NUMBER)"
   ]
  },
  {
   "cell_type": "code",
   "execution_count": 6,
   "id": "f8b79fd2-5243-41a4-ae87-e7f9dd87cf20",
   "metadata": {},
   "outputs": [
    {
     "name": "stdout",
     "output_type": "stream",
     "text": [
      "HIVE_METASTORE_WAREHOUSE_DIR ERROR: (gcloud.metastore.services.describe) NOT_FOUND: Resource 'projects/delta-lake-diy-lab/locations/us-central1/services/iceberg-hms-11002190840' was not found\n"
     ]
    }
   ],
   "source": [
    "DPMS_NAME=f\"iceberg-hms-{PROJECT_NUMBER}\"\n",
    "LOCATION=\"us-central1\"\n",
    "\n",
    "metastore_dir = !gcloud metastore services describe $DPMS_NAME --location $LOCATION |grep 'hive.metastore.warehouse.dir'| cut -d':' -f2- | xargs \n",
    "HIVE_METASTORE_WAREHOUSE_DIR = metastore_dir[0]\n",
    "print(\"HIVE_METASTORE_WAREHOUSE_DIR\",HIVE_METASTORE_WAREHOUSE_DIR)"
   ]
  },
  {
   "cell_type": "code",
   "execution_count": 7,
   "id": "e00cb418-a3a0-4c7f-9686-398322afa963",
   "metadata": {},
   "outputs": [
    {
     "name": "stdout",
     "output_type": "stream",
     "text": [
      "Fully quailified table name : loan_db.loans_by_state_iceberg\n"
     ]
    }
   ],
   "source": [
    "TABLE_NAME=\"loans_by_state_iceberg\"\n",
    "DB_NAME=\"loan_db\"\n",
    "\n",
    "#fully qualified table name\n",
    "FQTN=f\"{DB_NAME}.{TABLE_NAME}\"\n",
    "\n",
    "print(\"Fully quailified table name :\",FQTN)"
   ]
  },
  {
   "cell_type": "markdown",
   "id": "ed74d358-e90b-46d0-b81c-1e29c25ccac5",
   "metadata": {},
   "source": [
    "### 4. Table Inspection\n",
    "Iceberg provides a set of metadata tables that makes it easier to read the files from Metadata folders and the information from these tables can be used to perform time_travel, rollback, snapshot correction or maintenance.\n"
   ]
  },
  {
   "cell_type": "markdown",
   "id": "03d08913-bac9-4eb6-beeb-322a75680d64",
   "metadata": {},
   "source": [
    "#### a. history"
   ]
  },
  {
   "cell_type": "code",
   "execution_count": 8,
   "id": "0bcc3cf8-6ecf-4efe-855d-b564401317bc",
   "metadata": {},
   "outputs": [
    {
     "name": "stderr",
     "output_type": "stream",
     "text": [
      "[Stage 0:>                                                          (0 + 1) / 1]\r"
     ]
    },
    {
     "name": "stdout",
     "output_type": "stream",
     "text": [
      "+-----------------------+-------------------+-------------------+-------------------+\n",
      "|made_current_at        |snapshot_id        |parent_id          |is_current_ancestor|\n",
      "+-----------------------+-------------------+-------------------+-------------------+\n",
      "|2024-05-13 16:40:13.336|9176687385630465169|null               |true               |\n",
      "|2024-05-13 16:48:45.421|5233765456160638845|9176687385630465169|true               |\n",
      "|2024-05-13 16:50:19.235|7272046516454809414|5233765456160638845|true               |\n",
      "|2024-05-13 16:51:36.457|6697245229602575300|7272046516454809414|true               |\n",
      "|2024-05-13 16:52:33.693|1795098683837972174|6697245229602575300|true               |\n",
      "|2024-05-13 16:54:50.592|4282559450411521188|1795098683837972174|true               |\n",
      "+-----------------------+-------------------+-------------------+-------------------+\n",
      "\n"
     ]
    },
    {
     "name": "stderr",
     "output_type": "stream",
     "text": [
      "                                                                                \r"
     ]
    }
   ],
   "source": [
    "# Shows a history of snapshot updates on the table\n",
    "spark.table(\"loan_db.loans_by_state_iceberg.history\").show(truncate=False)"
   ]
  },
  {
   "cell_type": "markdown",
   "id": "17581b81-035f-43b6-a4fa-48b55ce28c8c",
   "metadata": {},
   "source": [
    "#### b. metadata_log_entries"
   ]
  },
  {
   "cell_type": "code",
   "execution_count": 10,
   "id": "e87b9d79-dd75-490b-ac26-05724c9b26c1",
   "metadata": {},
   "outputs": [
    {
     "name": "stdout",
     "output_type": "stream",
     "text": [
      "+-----------------------+---------------------------------------------------------------------------------------------------------------------------------------------------------------------------------------+-------------------+----------------+----------------------+\n",
      "|timestamp              |file                                                                                                                                                                                   |latest_snapshot_id |latest_schema_id|latest_sequence_number|\n",
      "+-----------------------+---------------------------------------------------------------------------------------------------------------------------------------------------------------------------------------+-------------------+----------------+----------------------+\n",
      "|2024-05-13 16:40:13.336|gs://gcs-bucket-dll-hms-11002190840-e1664035-a2d9-4215-be46-45c40712/hive-warehouse/loan_db.db/loans_by_state_iceberg/metadata/00000-ff4fdfd8-1029-48c2-ac68-d44d499bc9ce.metadata.json|9176687385630465169|0               |1                     |\n",
      "|2024-05-13 16:48:45.421|gs://gcs-bucket-dll-hms-11002190840-e1664035-a2d9-4215-be46-45c40712/hive-warehouse/loan_db.db/loans_by_state_iceberg/metadata/00001-45382348-1735-41f3-9369-c570189ed61c.metadata.json|5233765456160638845|0               |2                     |\n",
      "|2024-05-13 16:50:19.235|gs://gcs-bucket-dll-hms-11002190840-e1664035-a2d9-4215-be46-45c40712/hive-warehouse/loan_db.db/loans_by_state_iceberg/metadata/00002-7ff9d324-2678-42c0-8cf0-10e0efd94222.metadata.json|7272046516454809414|0               |3                     |\n",
      "|2024-05-13 16:51:36.457|gs://gcs-bucket-dll-hms-11002190840-e1664035-a2d9-4215-be46-45c40712/hive-warehouse/loan_db.db/loans_by_state_iceberg/metadata/00003-f4ea5e78-31ac-41bb-9fd5-49ab3ebb6f2d.metadata.json|6697245229602575300|0               |4                     |\n",
      "|2024-05-13 16:52:33.693|gs://gcs-bucket-dll-hms-11002190840-e1664035-a2d9-4215-be46-45c40712/hive-warehouse/loan_db.db/loans_by_state_iceberg/metadata/00004-3bd4d900-5e07-4acf-9935-0d557023d467.metadata.json|1795098683837972174|0               |5                     |\n",
      "|2024-05-13 16:54:50.592|gs://gcs-bucket-dll-hms-11002190840-e1664035-a2d9-4215-be46-45c40712/hive-warehouse/loan_db.db/loans_by_state_iceberg/metadata/00005-a1d4009d-0a1e-4f32-9e94-20c5a10fad11.metadata.json|4282559450411521188|0               |6                     |\n",
      "|2024-05-13 16:58:29.78 |gs://gcs-bucket-dll-hms-11002190840-e1664035-a2d9-4215-be46-45c40712/hive-warehouse/loan_db.db/loans_by_state_iceberg/metadata/00006-8c34b861-ffe4-4b24-90ec-2fb3d1a979fc.metadata.json|4282559450411521188|0               |6                     |\n",
      "|2024-05-13 16:58:35.274|gs://gcs-bucket-dll-hms-11002190840-e1664035-a2d9-4215-be46-45c40712/hive-warehouse/loan_db.db/loans_by_state_iceberg/metadata/00007-a7569c9a-32c1-4969-9e03-da3ac8fac48e.metadata.json|4282559450411521188|0               |6                     |\n",
      "|2024-05-13 16:58:38.624|gs://gcs-bucket-dll-hms-11002190840-e1664035-a2d9-4215-be46-45c40712/hive-warehouse/loan_db.db/loans_by_state_iceberg/metadata/00008-2c4b131c-4a23-4df5-82c3-780ef132c29d.metadata.json|4282559450411521188|0               |6                     |\n",
      "+-----------------------+---------------------------------------------------------------------------------------------------------------------------------------------------------------------------------------+-------------------+----------------+----------------------+\n",
      "\n"
     ]
    }
   ],
   "source": [
    "# Keeps a track of metadata log entries and their current snapshot at the time of metadata file update\n",
    "spark.table(\"loan_db.loans_by_state_iceberg.metadata_log_entries\").show(truncate=False)"
   ]
  },
  {
   "cell_type": "markdown",
   "id": "8130b0f6-44d8-4bad-a0cb-029b7a5d0c8a",
   "metadata": {},
   "source": [
    "#### c. snapshots"
   ]
  },
  {
   "cell_type": "code",
   "execution_count": 11,
   "id": "da4f7939-4668-4015-83eb-90209251ea03",
   "metadata": {},
   "outputs": [
    {
     "name": "stdout",
     "output_type": "stream",
     "text": [
      "+--------------------+-------------------+-------------------+---------+--------------------+--------------------+\n",
      "|        committed_at|        snapshot_id|          parent_id|operation|       manifest_list|             summary|\n",
      "+--------------------+-------------------+-------------------+---------+--------------------+--------------------+\n",
      "|2024-05-13 16:40:...|9176687385630465169|               null|   append|gs://gcs-bucket-d...|{spark.app.id -> ...|\n",
      "|2024-05-13 16:48:...|5233765456160638845|9176687385630465169|overwrite|gs://gcs-bucket-d...|{spark.app.id -> ...|\n",
      "|2024-05-13 16:50:...|7272046516454809414|5233765456160638845|   append|gs://gcs-bucket-d...|{spark.app.id -> ...|\n",
      "|2024-05-13 16:51:...|6697245229602575300|7272046516454809414|overwrite|gs://gcs-bucket-d...|{spark.app.id -> ...|\n",
      "|2024-05-13 16:52:...|1795098683837972174|6697245229602575300|overwrite|gs://gcs-bucket-d...|{spark.app.id -> ...|\n",
      "|2024-05-13 16:54:...|4282559450411521188|1795098683837972174|overwrite|gs://gcs-bucket-d...|{spark.app.id -> ...|\n",
      "+--------------------+-------------------+-------------------+---------+--------------------+--------------------+\n",
      "\n"
     ]
    }
   ],
   "source": [
    "# Reads data from snapshot avro file that keeps a track of snapshot updates, operations performed, partition and table statistics and parent snapshots\n",
    "# The entry with \"null\" parent_id is the first snapshot created \n",
    "spark.table(\"loan_db.loans_by_state_iceberg.snapshots\").show()"
   ]
  },
  {
   "cell_type": "markdown",
   "id": "75c09c13-8019-4108-8695-fcf7617a3010",
   "metadata": {},
   "source": [
    "#### c. files"
   ]
  },
  {
   "cell_type": "code",
   "execution_count": 12,
   "id": "e98a313e-98cf-43a6-b000-626c5f3672e1",
   "metadata": {},
   "outputs": [
    {
     "name": "stderr",
     "output_type": "stream",
     "text": [
      "[Stage 4:>                                                          (0 + 1) / 1]\r"
     ]
    },
    {
     "name": "stdout",
     "output_type": "stream",
     "text": [
      "+-------+--------------------+-----------+-------+------------+------------------+--------------------+------------------+-----------------+----------------+--------------------+--------------------+------------+-------------+------------+-------------+--------------------+\n",
      "|content|           file_path|file_format|spec_id|record_count|file_size_in_bytes|        column_sizes|      value_counts|null_value_counts|nan_value_counts|        lower_bounds|        upper_bounds|key_metadata|split_offsets|equality_ids|sort_order_id|    readable_metrics|\n",
      "+-------+--------------------+-----------+-------+------------+------------------+--------------------+------------------+-----------------+----------------+--------------------+--------------------+------------+-------------+------------+-------------+--------------------+\n",
      "|      0|gs://gcs-bucket-d...|    PARQUET|      0|          51|               991|{1 -> 169, 2 -> 219}|{1 -> 51, 2 -> 51}| {1 -> 0, 2 -> 0}|              {}|{1 -> AK, 2 -> \\n...|{1 -> WY, 2 -> ��...|        null|          [4]|        null|            0|{{169, 51, 0, nul...|\n",
      "+-------+--------------------+-----------+-------+------------+------------------+--------------------+------------------+-----------------+----------------+--------------------+--------------------+------------+-------------+------------+-------------+--------------------+\n",
      "\n"
     ]
    },
    {
     "name": "stderr",
     "output_type": "stream",
     "text": [
      "                                                                                \r"
     ]
    }
   ],
   "source": [
    "# Shows details of current data files only, their respective metadata and statistics for efficient querying\n",
    "\n",
    "spark.table(\"loan_db.loans_by_state_iceberg.files\").show(truncate=True)"
   ]
  },
  {
   "cell_type": "markdown",
   "id": "ecfc275f-8c2e-4a97-add7-37572e0c820c",
   "metadata": {},
   "source": [
    "#### d. all_files"
   ]
  },
  {
   "cell_type": "code",
   "execution_count": 13,
   "id": "3f2393d3-79ba-426a-b087-c39e54770832",
   "metadata": {},
   "outputs": [
    {
     "name": "stderr",
     "output_type": "stream",
     "text": [
      "                                                                                \r"
     ]
    },
    {
     "name": "stdout",
     "output_type": "stream",
     "text": [
      "+-------+-----------------------------------------------------------------------------------------------------------------------------------------------------------------------------------------+-----------+-------+------------+------------------+--------------------+------------------+-----------------+----------------+-------------------------+------------------------+------------+-------------+------------+-------------+------------------------------------------------------------+\n",
      "|content|file_path                                                                                                                                                                                |file_format|spec_id|record_count|file_size_in_bytes|column_sizes        |value_counts      |null_value_counts|nan_value_counts|lower_bounds             |upper_bounds            |key_metadata|split_offsets|equality_ids|sort_order_id|readable_metrics                                            |\n",
      "+-------+-----------------------------------------------------------------------------------------------------------------------------------------------------------------------------------------+-----------+-------+------------+------------------+--------------------+------------------+-----------------+----------------+-------------------------+------------------------+------------+-------------+------------+-------------+------------------------------------------------------------+\n",
      "|0      |gs://gcs-bucket-dll-hms-11002190840-e1664035-a2d9-4215-be46-45c40712/hive-warehouse/loan_db.db/loans_by_state_iceberg/data/00000-441-eb0fbb23-c499-40cf-9192-c8bc95b48657-0-00001.parquet|PARQUET    |0      |51          |991               |{1 -> 169, 2 -> 219}|{1 -> 51, 2 -> 51}|{1 -> 0, 2 -> 0} |{}              |{1 -> AK, 2 -> \\n\u0002\u0000\u0000\u0000\u0000\u0000\u0000}|{1 -> WY, 2 -> ��\u0000\u0000\u0000\u0000\u0000\u0000}|null        |[4]          |null        |0            |{{169, 51, 0, null, AK, WY}, {219, 51, 0, null, 522, 36524}}|\n",
      "|0      |gs://gcs-bucket-dll-hms-11002190840-e1664035-a2d9-4215-be46-45c40712/hive-warehouse/loan_db.db/loans_by_state_iceberg/data/00098-3-ba66277d-68ee-4b82-86ac-0b7e1aab54f5-0-00001.parquet  |PARQUET    |0      |50          |1008              |{1 -> 184, 2 -> 221}|{1 -> 50, 2 -> 50}|{1 -> 0, 2 -> 0} |{}              |{1 -> AK, 2 -> \u0001\u0000\u0000\u0000\u0000\u0000\u0000\u0000} |{1 -> WY, 2 -> ��\u0000\u0000\u0000\u0000\u0000\u0000}|null        |[4]          |null        |0            |{{184, 50, 0, null, AK, WY}, {221, 50, 0, null, 1, 62090}}  |\n",
      "|0      |gs://gcs-bucket-dll-hms-11002190840-e1664035-a2d9-4215-be46-45c40712/hive-warehouse/loan_db.db/loans_by_state_iceberg/data/00177-208-a545235b-7ccd-45f0-8d66-c3a6fd260072-0-00001.parquet|PARQUET    |0      |1           |692               |{1 -> 44, 2 -> 46}  |{1 -> 1, 2 -> 1}  |{1 -> 0, 2 -> 0} |{}              |{1 -> AZ, 2 -> g+\u0000\u0000\u0000\u0000\u0000\u0000} |{1 -> AZ, 2 -> g+\u0000\u0000\u0000\u0000\u0000\u0000}|null        |[4]          |null        |0            |{{44, 1, 0, null, AZ, AZ}, {46, 1, 0, null, 11111, 11111}}  |\n",
      "|0      |gs://gcs-bucket-dll-hms-11002190840-e1664035-a2d9-4215-be46-45c40712/hive-warehouse/loan_db.db/loans_by_state_iceberg/data/00000-2-525c32e9-c437-4d4c-a7a0-c6fac91bba85-0-00001.parquet  |PARQUET    |0      |51          |1018              |{1 -> 190, 2 -> 225}|{1 -> 51, 2 -> 51}|{1 -> 0, 2 -> 0} |{}              |{1 -> AK, 2 -> \u0001\u0000\u0000\u0000\u0000\u0000\u0000\u0000} |{1 -> WY, 2 -> ��\u0000\u0000\u0000\u0000\u0000\u0000}|null        |[4]          |null        |0            |{{190, 51, 0, null, AK, WY}, {225, 51, 0, null, 1, 62090}}  |\n",
      "|0      |gs://gcs-bucket-dll-hms-11002190840-e1664035-a2d9-4215-be46-45c40712/hive-warehouse/loan_db.db/loans_by_state_iceberg/data/00000-204-10f4d0c1-80ac-4e51-acf9-b918ef057a8d-0-00001.parquet|PARQUET    |0      |1           |675               |{1 -> 38, 2 -> 40}  |{1 -> 1, 2 -> 1}  |{1 -> 0, 2 -> 0} |{}              |{1 -> AZ, 2 -> P�\u0000\u0000\u0000\u0000\u0000\u0000} |{1 -> AZ, 2 -> P�\u0000\u0000\u0000\u0000\u0000\u0000}|null        |[4]          |null        |0            |{{38, 1, 0, null, AZ, AZ}, {40, 1, 0, null, 50000, 50000}}  |\n",
      "|0      |gs://gcs-bucket-dll-hms-11002190840-e1664035-a2d9-4215-be46-45c40712/hive-warehouse/loan_db.db/loans_by_state_iceberg/data/00000-409-0e90780c-f8a8-40ff-a14d-6defc2157af7-0-00001.parquet|PARQUET    |0      |49          |1003              |{1 -> 183, 2 -> 217}|{1 -> 49, 2 -> 49}|{1 -> 0, 2 -> 0} |{}              |{1 -> AK, 2 -> \\n\u0002\u0000\u0000\u0000\u0000\u0000\u0000}|{1 -> WY, 2 -> ��\u0000\u0000\u0000\u0000\u0000\u0000}|null        |[4]          |null        |0            |{{183, 49, 0, null, AK, WY}, {217, 49, 0, null, 522, 36524}}|\n",
      "+-------+-----------------------------------------------------------------------------------------------------------------------------------------------------------------------------------------+-----------+-------+------------+------------------+--------------------+------------------+-----------------+----------------+-------------------------+------------------------+------------+-------------+------------+-------------+------------------------------------------------------------+\n",
      "\n"
     ]
    }
   ],
   "source": [
    "# Similar to \"files\" above but gives details of all files for a given table\n",
    "\n",
    "spark.table(\"loan_db.loans_by_state_iceberg.all_files\").show(truncate=False)"
   ]
  },
  {
   "cell_type": "markdown",
   "id": "ef28dabb-bed5-4cff-846d-68b92b56cc08",
   "metadata": {},
   "source": [
    "#### e. manifests"
   ]
  },
  {
   "cell_type": "code",
   "execution_count": 14,
   "id": "8f079bb0-6881-49bf-99ca-3521ae384759",
   "metadata": {},
   "outputs": [
    {
     "name": "stdout",
     "output_type": "stream",
     "text": [
      "+-------+---------------------------------------------------------------------------------------------------------------------------------------------------------------------------+------+-----------------+-------------------+----------------------+-------------------------+------------------------+------------------------+---------------------------+--------------------------+-------------------+\n",
      "|content|path                                                                                                                                                                       |length|partition_spec_id|added_snapshot_id  |added_data_files_count|existing_data_files_count|deleted_data_files_count|added_delete_files_count|existing_delete_files_count|deleted_delete_files_count|partition_summaries|\n",
      "+-------+---------------------------------------------------------------------------------------------------------------------------------------------------------------------------+------+-----------------+-------------------+----------------------+-------------------------+------------------------+------------------------+---------------------------+--------------------------+-------------------+\n",
      "|0      |gs://gcs-bucket-dll-hms-11002190840-e1664035-a2d9-4215-be46-45c40712/hive-warehouse/loan_db.db/loans_by_state_iceberg/metadata/2724a2d0-7ad7-4de0-81ae-e0b7a4b93619-m1.avro|6760  |0                |4282559450411521188|1                     |0                        |0                       |0                       |0                          |0                         |[]                 |\n",
      "|0      |gs://gcs-bucket-dll-hms-11002190840-e1664035-a2d9-4215-be46-45c40712/hive-warehouse/loan_db.db/loans_by_state_iceberg/metadata/2724a2d0-7ad7-4de0-81ae-e0b7a4b93619-m0.avro|6761  |0                |4282559450411521188|0                     |0                        |1                       |0                       |0                          |0                         |[]                 |\n",
      "+-------+---------------------------------------------------------------------------------------------------------------------------------------------------------------------------+------+-----------------+-------------------+----------------------+-------------------------+------------------------+------------------------+---------------------------+--------------------------+-------------------+\n",
      "\n"
     ]
    }
   ],
   "source": [
    "# Shows details of manifest files for current snapshot only. Reads data from the manifest avro file in metadata folder\n",
    "\n",
    "spark.table(\"loan_db.loans_by_state_iceberg.manifests\").show(truncate=False) "
   ]
  },
  {
   "cell_type": "markdown",
   "id": "c4b53549-6d55-4abe-929f-d6857d87aff8",
   "metadata": {},
   "source": [
    "#### e. all_manifests"
   ]
  },
  {
   "cell_type": "code",
   "execution_count": 15,
   "id": "8ee32478-4d18-4fc1-b4c3-33d3cae114c9",
   "metadata": {},
   "outputs": [
    {
     "name": "stderr",
     "output_type": "stream",
     "text": [
      "[Stage 8:>                                                          (0 + 1) / 1]\r"
     ]
    },
    {
     "name": "stdout",
     "output_type": "stream",
     "text": [
      "+-------+---------------------------------------------------------------------------------------------------------------------------------------------------------------------------+------+-----------------+-------------------+----------------------+-------------------------+------------------------+------------------------+---------------------------+--------------------------+-------------------+---------------------+\n",
      "|content|path                                                                                                                                                                       |length|partition_spec_id|added_snapshot_id  |added_data_files_count|existing_data_files_count|deleted_data_files_count|added_delete_files_count|existing_delete_files_count|deleted_delete_files_count|partition_summaries|reference_snapshot_id|\n",
      "+-------+---------------------------------------------------------------------------------------------------------------------------------------------------------------------------+------+-----------------+-------------------+----------------------+-------------------------+------------------------+------------------------+---------------------------+--------------------------+-------------------+---------------------+\n",
      "|0      |gs://gcs-bucket-dll-hms-11002190840-e1664035-a2d9-4215-be46-45c40712/hive-warehouse/loan_db.db/loans_by_state_iceberg/metadata/9702db53-a27d-47ad-ab43-477bbf42516d-m0.avro|6760  |0                |9176687385630465169|1                     |0                        |0                       |0                       |0                          |0                         |[]                 |9176687385630465169  |\n",
      "|0      |gs://gcs-bucket-dll-hms-11002190840-e1664035-a2d9-4215-be46-45c40712/hive-warehouse/loan_db.db/loans_by_state_iceberg/metadata/2761bca5-556a-4567-9c37-95f533e1cf44-m1.avro|6764  |0                |5233765456160638845|1                     |0                        |0                       |0                       |0                          |0                         |[]                 |5233765456160638845  |\n",
      "|0      |gs://gcs-bucket-dll-hms-11002190840-e1664035-a2d9-4215-be46-45c40712/hive-warehouse/loan_db.db/loans_by_state_iceberg/metadata/2761bca5-556a-4567-9c37-95f533e1cf44-m0.avro|6758  |0                |5233765456160638845|0                     |0                        |1                       |0                       |0                          |0                         |[]                 |5233765456160638845  |\n",
      "|0      |gs://gcs-bucket-dll-hms-11002190840-e1664035-a2d9-4215-be46-45c40712/hive-warehouse/loan_db.db/loans_by_state_iceberg/metadata/65ea8eec-1f10-4d53-bea3-fbef20246fa5-m0.avro|6750  |0                |7272046516454809414|1                     |0                        |0                       |0                       |0                          |0                         |[]                 |7272046516454809414  |\n",
      "|0      |gs://gcs-bucket-dll-hms-11002190840-e1664035-a2d9-4215-be46-45c40712/hive-warehouse/loan_db.db/loans_by_state_iceberg/metadata/2761bca5-556a-4567-9c37-95f533e1cf44-m1.avro|6764  |0                |5233765456160638845|1                     |0                        |0                       |0                       |0                          |0                         |[]                 |7272046516454809414  |\n",
      "|0      |gs://gcs-bucket-dll-hms-11002190840-e1664035-a2d9-4215-be46-45c40712/hive-warehouse/loan_db.db/loans_by_state_iceberg/metadata/343c5fbf-794e-43fc-9d04-056702606d92-m1.avro|6754  |0                |6697245229602575300|1                     |0                        |0                       |0                       |0                          |0                         |[]                 |6697245229602575300  |\n",
      "|0      |gs://gcs-bucket-dll-hms-11002190840-e1664035-a2d9-4215-be46-45c40712/hive-warehouse/loan_db.db/loans_by_state_iceberg/metadata/343c5fbf-794e-43fc-9d04-056702606d92-m0.avro|6753  |0                |6697245229602575300|0                     |0                        |1                       |0                       |0                          |0                         |[]                 |6697245229602575300  |\n",
      "|0      |gs://gcs-bucket-dll-hms-11002190840-e1664035-a2d9-4215-be46-45c40712/hive-warehouse/loan_db.db/loans_by_state_iceberg/metadata/2761bca5-556a-4567-9c37-95f533e1cf44-m1.avro|6764  |0                |5233765456160638845|1                     |0                        |0                       |0                       |0                          |0                         |[]                 |6697245229602575300  |\n",
      "|0      |gs://gcs-bucket-dll-hms-11002190840-e1664035-a2d9-4215-be46-45c40712/hive-warehouse/loan_db.db/loans_by_state_iceberg/metadata/ba8aac95-51f6-4185-bdd8-4ea146d16dea-m2.avro|6761  |0                |1795098683837972174|1                     |0                        |0                       |0                       |0                          |0                         |[]                 |1795098683837972174  |\n",
      "|0      |gs://gcs-bucket-dll-hms-11002190840-e1664035-a2d9-4215-be46-45c40712/hive-warehouse/loan_db.db/loans_by_state_iceberg/metadata/ba8aac95-51f6-4185-bdd8-4ea146d16dea-m1.avro|6753  |0                |1795098683837972174|0                     |0                        |1                       |0                       |0                          |0                         |[]                 |1795098683837972174  |\n",
      "|0      |gs://gcs-bucket-dll-hms-11002190840-e1664035-a2d9-4215-be46-45c40712/hive-warehouse/loan_db.db/loans_by_state_iceberg/metadata/ba8aac95-51f6-4185-bdd8-4ea146d16dea-m0.avro|6762  |0                |1795098683837972174|0                     |0                        |1                       |0                       |0                          |0                         |[]                 |1795098683837972174  |\n",
      "|0      |gs://gcs-bucket-dll-hms-11002190840-e1664035-a2d9-4215-be46-45c40712/hive-warehouse/loan_db.db/loans_by_state_iceberg/metadata/2724a2d0-7ad7-4de0-81ae-e0b7a4b93619-m1.avro|6760  |0                |4282559450411521188|1                     |0                        |0                       |0                       |0                          |0                         |[]                 |4282559450411521188  |\n",
      "|0      |gs://gcs-bucket-dll-hms-11002190840-e1664035-a2d9-4215-be46-45c40712/hive-warehouse/loan_db.db/loans_by_state_iceberg/metadata/2724a2d0-7ad7-4de0-81ae-e0b7a4b93619-m0.avro|6761  |0                |4282559450411521188|0                     |0                        |1                       |0                       |0                          |0                         |[]                 |4282559450411521188  |\n",
      "+-------+---------------------------------------------------------------------------------------------------------------------------------------------------------------------------+------+-----------------+-------------------+----------------------+-------------------------+------------------------+------------------------+---------------------------+--------------------------+-------------------+---------------------+\n",
      "\n"
     ]
    },
    {
     "name": "stderr",
     "output_type": "stream",
     "text": [
      "                                                                                \r"
     ]
    }
   ],
   "source": [
    "# Similar to \"manifests\" above but gives details of all manifest files for a given table\n",
    "\n",
    "spark.table(\"loan_db.loans_by_state_iceberg.all_manifests\").show(truncate=False)"
   ]
  },
  {
   "cell_type": "markdown",
   "id": "780032e7-cabd-440b-906d-095e47e5c494",
   "metadata": {},
   "source": [
    "#### f. partitions"
   ]
  },
  {
   "cell_type": "code",
   "execution_count": 16,
   "id": "616f1759-57ec-4b33-8ee3-d95190170ca6",
   "metadata": {},
   "outputs": [
    {
     "name": "stdout",
     "output_type": "stream",
     "text": [
      "+------------+----------+-----------------------------+----------------------------+--------------------------+----------------------------+--------------------------+-----------------------+------------------------+\n",
      "|record_count|file_count|total_data_file_size_in_bytes|position_delete_record_count|position_delete_file_count|equality_delete_record_count|equality_delete_file_count|last_updated_at        |last_updated_snapshot_id|\n",
      "+------------+----------+-----------------------------+----------------------------+--------------------------+----------------------------+--------------------------+-----------------------+------------------------+\n",
      "|51          |1         |991                          |0                           |0                         |0                           |0                         |2024-05-13 16:54:50.592|4282559450411521188     |\n",
      "+------------+----------+-----------------------------+----------------------------+--------------------------+----------------------------+--------------------------+-----------------------+------------------------+\n",
      "\n"
     ]
    }
   ],
   "source": [
    "# Below is the output for an unpartitioned table\n",
    "spark.table(\"loan_db.loans_by_state_iceberg.partitions\").show(truncate=False)"
   ]
  },
  {
   "cell_type": "code",
   "execution_count": 17,
   "id": "d5e9e5a3-53cc-4536-a04f-5456b75ba3e7",
   "metadata": {},
   "outputs": [
    {
     "name": "stdout",
     "output_type": "stream",
     "text": [
      "+---------+-------+------------+----------+-----------------------------+----------------------------+--------------------------+----------------------------+--------------------------+-----------------------+------------------------+\n",
      "|partition|spec_id|record_count|file_count|total_data_file_size_in_bytes|position_delete_record_count|position_delete_file_count|equality_delete_record_count|equality_delete_file_count|last_updated_at        |last_updated_snapshot_id|\n",
      "+---------+-------+------------+----------+-----------------------------+----------------------------+--------------------------+----------------------------+--------------------------+-----------------------+------------------------+\n",
      "|{TN}     |0      |1           |1         |692                          |0                           |0                         |0                           |0                         |2024-05-13 16:40:28.768|994591193726650744      |\n",
      "|{LA}     |0      |1           |1         |692                          |0                           |0                         |0                           |0                         |2024-05-13 16:40:28.768|994591193726650744      |\n",
      "|{DE}     |0      |1           |1         |692                          |0                           |0                         |0                           |0                         |2024-05-13 16:40:28.768|994591193726650744      |\n",
      "|{HI}     |0      |1           |1         |692                          |0                           |0                         |0                           |0                         |2024-05-13 16:40:28.768|994591193726650744      |\n",
      "|{TX}     |0      |1           |1         |692                          |0                           |0                         |0                           |0                         |2024-05-13 16:40:28.768|994591193726650744      |\n",
      "|{DC}     |0      |1           |1         |692                          |0                           |0                         |0                           |0                         |2024-05-13 16:40:28.768|994591193726650744      |\n",
      "|{MA}     |0      |1           |1         |692                          |0                           |0                         |0                           |0                         |2024-05-13 16:40:28.768|994591193726650744      |\n",
      "|{MI}     |0      |1           |1         |692                          |0                           |0                         |0                           |0                         |2024-05-13 16:40:28.768|994591193726650744      |\n",
      "|{ID}     |0      |1           |1         |692                          |0                           |0                         |0                           |0                         |2024-05-13 16:40:28.768|994591193726650744      |\n",
      "|{ME}     |0      |1           |1         |692                          |0                           |0                         |0                           |0                         |2024-05-13 16:40:28.768|994591193726650744      |\n",
      "|{IA}     |0      |1           |1         |692                          |0                           |0                         |0                           |0                         |2024-05-13 16:40:28.768|994591193726650744      |\n",
      "|{MD}     |0      |1           |1         |692                          |0                           |0                         |0                           |0                         |2024-05-13 16:40:28.768|994591193726650744      |\n",
      "|{MO}     |0      |1           |1         |692                          |0                           |0                         |0                           |0                         |2024-05-13 16:40:28.768|994591193726650744      |\n",
      "|{MN}     |0      |1           |1         |691                          |0                           |0                         |0                           |0                         |2024-05-13 16:40:28.768|994591193726650744      |\n",
      "|{IL}     |0      |1           |1         |691                          |0                           |0                         |0                           |0                         |2024-05-13 16:40:28.768|994591193726650744      |\n",
      "|{UT}     |0      |1           |1         |692                          |0                           |0                         |0                           |0                         |2024-05-13 16:40:28.768|994591193726650744      |\n",
      "|{AK}     |0      |1           |1         |692                          |0                           |0                         |0                           |0                         |2024-05-13 16:40:28.768|994591193726650744      |\n",
      "|{VA}     |0      |1           |1         |692                          |0                           |0                         |0                           |0                         |2024-05-13 16:40:28.768|994591193726650744      |\n",
      "|{AL}     |0      |1           |1         |692                          |0                           |0                         |0                           |0                         |2024-05-13 16:40:28.768|994591193726650744      |\n",
      "|{MS}     |0      |1           |1         |692                          |0                           |0                         |0                           |0                         |2024-05-13 16:40:28.768|994591193726650744      |\n",
      "+---------+-------+------------+----------+-----------------------------+----------------------------+--------------------------+----------------------------+--------------------------+-----------------------+------------------------+\n",
      "only showing top 20 rows\n",
      "\n"
     ]
    }
   ],
   "source": [
    "# Below statement shows a much descriptive output on a partitioned table indicating record count in each partition, files in each partition and spec_id\n",
    "#( In our case the spec_id = 0 indicating the first column \"addr_state\" as the partition column)\n",
    "\n",
    "spark.table(\"loan_db.loans_by_state_iceberg_partitioned.partitions\").show(truncate=False)"
   ]
  },
  {
   "cell_type": "markdown",
   "id": "b86593ab-c082-4067-8f45-4d7f1836fef4",
   "metadata": {},
   "source": [
    "### THIS CONCLUDES THIS UNIT. PROCEED TO THE NEXT NOTEBOOK"
   ]
  }
 ],
 "metadata": {
  "language_info": {
   "codemirror_mode": {
    "name": "ipython",
    "version": 3
   },
   "file_extension": ".py",
   "mimetype": "text/x-python",
   "name": "python",
   "nbconvert_exporter": "python",
   "pygments_lexer": "ipython3",
   "version": "3.10.9"
  },
  "serverless_spark": "{\"name\":\"projects/delta-lake-diy-lab/locations/us-central1/sessions/iceberg-lab-20370\",\"uuid\":\"754ac0c4-c3f1-48db-89cd-248d9a912f37\",\"createTime\":\"2024-05-13T15:06:31.890972Z\",\"jupyterSession\":{},\"runtimeInfo\":{},\"state\":\"ACTIVE\",\"stateTime\":\"2024-05-13T15:08:49.396022Z\",\"creator\":\"admin@akhanolkar.altostrat.com\",\"runtimeConfig\":{\"version\":\"2.0.69\",\"properties\":{\"spark:spark.jars.packages\":\"org.apache.iceberg:iceberg-spark-runtime-3.3_2.13:1.5.0\",\"spark:spark.sql.catalog.hdp_ctlg\":\"org.apache.iceberg.spark.SparkCatalog\",\"spark:spark.sql.catalog.hdp_ctlg.type\":\"hadoop\",\"spark:spark.sql.catalog.hdp_ctlg.warehouse\":\"gs://iceberg-spark-bucket-11002190840/iceberg-warehouse-dir\",\"spark:spark.sql.catalog.spark_catalog\":\"org.apache.iceberg.spark.SparkSessionCatalog\",\"spark:spark.sql.catalog.spark_catalog.type\":\"hive\",\"spark:spark.sql.extensions\":\"org.apache.iceberg.spark.extensions.IcebergSparkSessionExtensions\",\"spark:spark.executor.instances\":\"2\",\"spark:spark.driver.cores\":\"4\",\"spark:spark.executor.cores\":\"4\",\"spark:spark.dynamicAllocation.executorAllocationRatio\":\"0.3\",\"spark:spark.eventLog.dir\":\"gs://dll-sphs-bucket-11002190840/754ac0c4-c3f1-48db-89cd-248d9a912f37/spark-job-history\",\"spark:spark.dataproc.scaling.version\":\"1\"}},\"environmentConfig\":{\"executionConfig\":{\"serviceAccount\":\"dll-lab-sa@delta-lake-diy-lab.iam.gserviceaccount.com\",\"subnetworkUri\":\"projects/delta-lake-diy-lab/regions/us-central1/subnetworks/spark-snet\",\"idleTtl\":\"3600s\",\"ttl\":\"86400s\"},\"peripheralsConfig\":{\"metastoreService\":\"projects/delta-lake-diy-lab/locations/us-central1/services/dll-hms-11002190840\",\"sparkHistoryServerConfig\":{\"dataprocCluster\":\"projects/delta-lake-diy-lab/regions/us-central1/clusters/dll-sphs-11002190840\"}}},\"stateHistory\":[{\"state\":\"CREATING\",\"stateStartTime\":\"2024-05-13T15:06:31.890972Z\"}]}",
  "serverless_spark_kernel_name": "remote-70589e41fdd6b67da8515900-pyspark",
  "vscode": {
   "interpreter": {
    "hash": "aee8b7b246df8f9039afb4144a1f6fd8d2ca17a180786b69acc140d282b71a49"
   }
  }
 },
 "nbformat": 4,
 "nbformat_minor": 5
}
