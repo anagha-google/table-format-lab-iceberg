{
 "cells": [
  {
   "cell_type": "markdown",
   "id": "4529a790-8425-4600-841a-4b094b82eaa8",
   "metadata": {},
   "source": [
    "# Iceberg Lab \n",
    "## Unit 5: Table Inspection\n",
    "\n",
    "In the previous unit, we-\n",
    "1. Learned how Schema is enforced in Iceberg\n",
    "2. Learned how to perform Schema Evolution and how Iceberg keeps track of it\n",
    "\n",
    "In this unit, we will-\n",
    "1. Explore metadata inspection tables that iceberg provides"
   ]
  },
  {
   "cell_type": "markdown",
   "id": "1a31c4fd-d465-4f52-8e56-3775bf499abc",
   "metadata": {},
   "source": [
    "### 1. Imports"
   ]
  },
  {
   "cell_type": "code",
   "execution_count": 1,
   "id": "1321bce9-178c-4065-8187-0a5728c1a370",
   "metadata": {},
   "outputs": [],
   "source": [
    "from pyspark.sql import SparkSession\n",
    "from pyspark.sql.functions import col\n",
    "\n",
    "\n",
    "import warnings\n",
    "warnings.filterwarnings('ignore')"
   ]
  },
  {
   "cell_type": "markdown",
   "id": "ed295a74-ed1d-4b5d-831a-1b5dcf73c36f",
   "metadata": {},
   "source": [
    "### 2. Create a Spark session powered by Cloud Dataproc "
   ]
  },
  {
   "cell_type": "code",
   "execution_count": 2,
   "id": "b383d5ab-a0b9-45ab-a232-34d88f2a0065",
   "metadata": {},
   "outputs": [
    {
     "data": {
      "text/html": [
       "\n",
       "            <div>\n",
       "                <p><b>SparkSession - hive</b></p>\n",
       "                \n",
       "        <div>\n",
       "            <p><b>SparkContext</b></p>\n",
       "\n",
       "            <p><a href=\"http://gdpic-srvls-session-6f0318c1-a7df-4fe3-94cf-9975cfbf72e0-m.c.nikhim-iceberg-lab.internal:4040\">Spark UI</a></p>\n",
       "\n",
       "            <dl>\n",
       "              <dt>Version</dt>\n",
       "                <dd><code>v3.2.3</code></dd>\n",
       "              <dt>Master</dt>\n",
       "                <dd><code>spark://gdpic-srvls-session-6f0318c1-a7df-4fe3-94cf-9975cfbf72e0-m:7077</code></dd>\n",
       "              <dt>AppName</dt>\n",
       "                <dd><code>PySparkShell</code></dd>\n",
       "            </dl>\n",
       "        </div>\n",
       "        \n",
       "            </div>\n",
       "        "
      ],
      "text/plain": [
       "<pyspark.sql.session.SparkSession at 0x7f5aa68b8880>"
      ]
     },
     "execution_count": 2,
     "metadata": {},
     "output_type": "execute_result"
    }
   ],
   "source": [
    "spark = SparkSession.builder.appName('Loan Analysis').getOrCreate()\n",
    "spark.sparkContext.setLogLevel(\"WARN\")\n",
    "spark"
   ]
  },
  {
   "cell_type": "markdown",
   "id": "63cd13e6-f3f5-4f2c-b4fc-d7e2660c6206",
   "metadata": {},
   "source": [
    "### 3. Declare variables"
   ]
  },
  {
   "cell_type": "code",
   "execution_count": 3,
   "id": "5596e31b-749a-4702-8879-6f05f9ff0c2d",
   "metadata": {},
   "outputs": [
    {
     "name": "stdout",
     "output_type": "stream",
     "text": [
      "PROJECT_ID:  nikhim-iceberg-lab\n"
     ]
    }
   ],
   "source": [
    "project_id_output = !gcloud config list --format \"value(core.project)\" 2>/dev/null\n",
    "PROJECT_ID = project_id_output[0]\n",
    "print(\"PROJECT_ID: \", PROJECT_ID)"
   ]
  },
  {
   "cell_type": "code",
   "execution_count": 4,
   "id": "471c6743-a058-462b-851a-f34323f36243",
   "metadata": {},
   "outputs": [
    {
     "name": "stdout",
     "output_type": "stream",
     "text": [
      "PROJECT_NAME:  nikhim-iceberg-lab\n"
     ]
    }
   ],
   "source": [
    "project_name_output = !gcloud projects describe $PROJECT_ID | grep name | cut -d':' -f2 | xargs\n",
    "PROJECT_NAME = project_name_output[0]\n",
    "print(\"PROJECT_NAME: \", PROJECT_NAME)"
   ]
  },
  {
   "cell_type": "code",
   "execution_count": 5,
   "id": "61929dc6-a083-433c-8a13-3d39d9c4a4a1",
   "metadata": {},
   "outputs": [
    {
     "name": "stdout",
     "output_type": "stream",
     "text": [
      "PROJECT_NUMBER:  928505941962\n"
     ]
    }
   ],
   "source": [
    "project_number_output = !gcloud projects describe $PROJECT_ID | grep projectNumber | cut -d':' -f2 | xargs\n",
    "PROJECT_NUMBER = project_number_output[0]\n",
    "print(\"PROJECT_NUMBER: \", PROJECT_NUMBER)"
   ]
  },
  {
   "cell_type": "code",
   "execution_count": 6,
   "id": "f8b79fd2-5243-41a4-ae87-e7f9dd87cf20",
   "metadata": {},
   "outputs": [
    {
     "name": "stdout",
     "output_type": "stream",
     "text": [
      "HIVE_METASTORE_WAREHOUSE_DIR gs://gcs-bucket-iceberg-hms-928505941962-71d67f3e-cf27-4b25-a996-86a/hive-warehouse\n"
     ]
    }
   ],
   "source": [
    "DPMS_NAME=f\"iceberg-hms-{PROJECT_NUMBER}\"\n",
    "LOCATION=\"us-central1\"\n",
    "\n",
    "metastore_dir = !gcloud metastore services describe $DPMS_NAME --location $LOCATION |grep 'hive.metastore.warehouse.dir'| cut -d':' -f2- | xargs \n",
    "HIVE_METASTORE_WAREHOUSE_DIR = metastore_dir[0]\n",
    "print(\"HIVE_METASTORE_WAREHOUSE_DIR\",HIVE_METASTORE_WAREHOUSE_DIR)"
   ]
  },
  {
   "cell_type": "code",
   "execution_count": 7,
   "id": "e00cb418-a3a0-4c7f-9686-398322afa963",
   "metadata": {},
   "outputs": [
    {
     "name": "stdout",
     "output_type": "stream",
     "text": [
      "Fully quailified table name : loan_db.loans_by_state_iceberg\n"
     ]
    }
   ],
   "source": [
    "TABLE_NAME=\"loans_by_state_iceberg\"\n",
    "DB_NAME=\"loan_db\"\n",
    "\n",
    "#fully qualified table name\n",
    "FQTN=f\"{DB_NAME}.{TABLE_NAME}\"\n",
    "\n",
    "print(\"Fully quailified table name :\",FQTN)"
   ]
  },
  {
   "cell_type": "markdown",
   "id": "ed74d358-e90b-46d0-b81c-1e29c25ccac5",
   "metadata": {},
   "source": [
    "### 4. Table Inspection\n",
    "Iceberg provides a set of metadata tables that makes it easier to read the files from Metadata folders and the information from these tables can be used to perform time_travel, rollback, snapshot correction or maintenance.\n"
   ]
  },
  {
   "cell_type": "markdown",
   "id": "03d08913-bac9-4eb6-beeb-322a75680d64",
   "metadata": {},
   "source": [
    "#### a. history"
   ]
  },
  {
   "cell_type": "code",
   "execution_count": 8,
   "id": "0bcc3cf8-6ecf-4efe-855d-b564401317bc",
   "metadata": {},
   "outputs": [
    {
     "name": "stderr",
     "output_type": "stream",
     "text": [
      "[Stage 0:>                                                          (0 + 1) / 1]\r"
     ]
    },
    {
     "name": "stdout",
     "output_type": "stream",
     "text": [
      "+-----------------------+-------------------+-------------------+-------------------+\n",
      "|made_current_at        |snapshot_id        |parent_id          |is_current_ancestor|\n",
      "+-----------------------+-------------------+-------------------+-------------------+\n",
      "|2023-02-10 15:26:16.364|3648627921780331930|null               |true               |\n",
      "|2023-02-10 22:29:45.022|5222601969543758311|3648627921780331930|true               |\n",
      "|2023-02-10 22:33:06.455|9145457862466461068|5222601969543758311|true               |\n",
      "|2023-02-10 22:35:11.244|8627182030940064924|9145457862466461068|true               |\n",
      "|2023-02-10 22:36:30.093|2697368997376323351|8627182030940064924|true               |\n",
      "|2023-02-10 22:44:01.95 |5865803199727045458|2697368997376323351|true               |\n",
      "+-----------------------+-------------------+-------------------+-------------------+\n",
      "\n"
     ]
    },
    {
     "name": "stderr",
     "output_type": "stream",
     "text": [
      "                                                                                \r"
     ]
    }
   ],
   "source": [
    "# Shows a history of snapshot updates on the table\n",
    "spark.table(\"loan_db.loans_by_state_iceberg.history\").show(truncate=False)"
   ]
  },
  {
   "cell_type": "markdown",
   "id": "17581b81-035f-43b6-a4fa-48b55ce28c8c",
   "metadata": {},
   "source": [
    "#### b. metadata_log_entries"
   ]
  },
  {
   "cell_type": "code",
   "execution_count": 9,
   "id": "e87b9d79-dd75-490b-ac26-05724c9b26c1",
   "metadata": {},
   "outputs": [
    {
     "name": "stderr",
     "output_type": "stream",
     "text": [
      "[Stage 1:>                                                          (0 + 1) / 1]\r"
     ]
    },
    {
     "name": "stdout",
     "output_type": "stream",
     "text": [
      "+-----------------------+---------------------------------------------------------------------------------------------------------------------------------------------------------------------------------------+-------------------+----------------+----------------------+\n",
      "|timestamp              |file                                                                                                                                                                                   |latest_snapshot_id |latest_schema_id|latest_sequence_number|\n",
      "+-----------------------+---------------------------------------------------------------------------------------------------------------------------------------------------------------------------------------+-------------------+----------------+----------------------+\n",
      "|2023-02-10 15:26:16.364|gs://gcs-bucket-iceberg-hms-928505941962-71d67f3e-cf27-4b25-a996-86a/hive-warehouse/loan_db.db/loans_by_state_iceberg/metadata/00000-e9f97377-9cf7-4d6b-a97f-cde34a16cb51.metadata.json|3648627921780331930|0               |0                     |\n",
      "|2023-02-10 22:29:45.022|gs://gcs-bucket-iceberg-hms-928505941962-71d67f3e-cf27-4b25-a996-86a/hive-warehouse/loan_db.db/loans_by_state_iceberg/metadata/00001-3278c0db-1d9d-4483-9b6f-e6fe9bc799c1.metadata.json|5222601969543758311|0               |0                     |\n",
      "|2023-02-10 22:33:06.455|gs://gcs-bucket-iceberg-hms-928505941962-71d67f3e-cf27-4b25-a996-86a/hive-warehouse/loan_db.db/loans_by_state_iceberg/metadata/00002-bc68f99b-7d12-4b18-a2b2-e9c9e745cbfe.metadata.json|9145457862466461068|0               |0                     |\n",
      "|2023-02-10 22:35:11.244|gs://gcs-bucket-iceberg-hms-928505941962-71d67f3e-cf27-4b25-a996-86a/hive-warehouse/loan_db.db/loans_by_state_iceberg/metadata/00003-b3d4f2b7-aa02-4b21-b475-9b2dc02441e7.metadata.json|8627182030940064924|0               |0                     |\n",
      "|2023-02-10 22:36:30.093|gs://gcs-bucket-iceberg-hms-928505941962-71d67f3e-cf27-4b25-a996-86a/hive-warehouse/loan_db.db/loans_by_state_iceberg/metadata/00004-1f15486a-5485-4bdf-aefb-e1b7a9da220f.metadata.json|2697368997376323351|0               |0                     |\n",
      "|2023-02-10 22:44:01.95 |gs://gcs-bucket-iceberg-hms-928505941962-71d67f3e-cf27-4b25-a996-86a/hive-warehouse/loan_db.db/loans_by_state_iceberg/metadata/00005-11ccc425-46bd-4e46-a9e8-8606b7dbc16a.metadata.json|5865803199727045458|0               |0                     |\n",
      "|2023-02-10 22:55:29.683|gs://gcs-bucket-iceberg-hms-928505941962-71d67f3e-cf27-4b25-a996-86a/hive-warehouse/loan_db.db/loans_by_state_iceberg/metadata/00006-7a8cd0dd-ceaf-44e4-bc68-2da1a0ad5845.metadata.json|5865803199727045458|0               |0                     |\n",
      "|2023-02-10 22:55:38.626|gs://gcs-bucket-iceberg-hms-928505941962-71d67f3e-cf27-4b25-a996-86a/hive-warehouse/loan_db.db/loans_by_state_iceberg/metadata/00007-27838306-ac0b-4958-bd31-9fb632eb04ca.metadata.json|5865803199727045458|0               |0                     |\n",
      "|2023-02-10 22:55:46.657|gs://gcs-bucket-iceberg-hms-928505941962-71d67f3e-cf27-4b25-a996-86a/hive-warehouse/loan_db.db/loans_by_state_iceberg/metadata/00008-e22e9032-f45b-41ba-a815-c7fbbb913536.metadata.json|5865803199727045458|0               |0                     |\n",
      "+-----------------------+---------------------------------------------------------------------------------------------------------------------------------------------------------------------------------------+-------------------+----------------+----------------------+\n",
      "\n"
     ]
    },
    {
     "name": "stderr",
     "output_type": "stream",
     "text": [
      "                                                                                \r"
     ]
    }
   ],
   "source": [
    "# Keeps a track of metadata log entries and their current snapshot at the time of metadata file update\n",
    "spark.table(\"loan_db.loans_by_state_iceberg.metadata_log_entries\").show(truncate=False)"
   ]
  },
  {
   "cell_type": "markdown",
   "id": "8130b0f6-44d8-4bad-a0cb-029b7a5d0c8a",
   "metadata": {},
   "source": [
    "#### c. snapshots"
   ]
  },
  {
   "cell_type": "code",
   "execution_count": 12,
   "id": "da4f7939-4668-4015-83eb-90209251ea03",
   "metadata": {},
   "outputs": [
    {
     "name": "stdout",
     "output_type": "stream",
     "text": [
      "+--------------------+-------------------+-------------------+---------+--------------------+--------------------+\n",
      "|        committed_at|        snapshot_id|          parent_id|operation|       manifest_list|             summary|\n",
      "+--------------------+-------------------+-------------------+---------+--------------------+--------------------+\n",
      "|2023-02-10 15:26:...|3648627921780331930|               null|   append|gs://gcs-bucket-i...|{spark.app.id -> ...|\n",
      "|2023-02-10 22:29:...|5222601969543758311|3648627921780331930|overwrite|gs://gcs-bucket-i...|{spark.app.id -> ...|\n",
      "|2023-02-10 22:33:...|9145457862466461068|5222601969543758311|   append|gs://gcs-bucket-i...|{spark.app.id -> ...|\n",
      "|2023-02-10 22:35:...|8627182030940064924|9145457862466461068|overwrite|gs://gcs-bucket-i...|{spark.app.id -> ...|\n",
      "|2023-02-10 22:36:...|2697368997376323351|8627182030940064924|overwrite|gs://gcs-bucket-i...|{spark.app.id -> ...|\n",
      "|2023-02-10 22:44:...|5865803199727045458|2697368997376323351|overwrite|gs://gcs-bucket-i...|{spark.app.id -> ...|\n",
      "+--------------------+-------------------+-------------------+---------+--------------------+--------------------+\n",
      "\n"
     ]
    }
   ],
   "source": [
    "# Reads data from snapshot avro file that keeps a track of snapshot updates, operations performed, partition and table statistics and parent snapshots\n",
    "# The entry with \"null\" parent_id is the first snapshot created \n",
    "spark.table(\"loan_db.loans_by_state_iceberg.snapshots\").show()"
   ]
  },
  {
   "cell_type": "markdown",
   "id": "75c09c13-8019-4108-8695-fcf7617a3010",
   "metadata": {},
   "source": [
    "#### c. files"
   ]
  },
  {
   "cell_type": "code",
   "execution_count": 14,
   "id": "e98a313e-98cf-43a6-b000-626c5f3672e1",
   "metadata": {},
   "outputs": [
    {
     "name": "stderr",
     "output_type": "stream",
     "text": [
      "[Stage 6:>                                                          (0 + 1) / 1]\r"
     ]
    },
    {
     "name": "stdout",
     "output_type": "stream",
     "text": [
      "+-------+--------------------+-----------+-------+------------+------------------+--------------------+------------------+-----------------+----------------+--------------------+--------------------+------------+-------------+------------+-------------+\n",
      "|content|           file_path|file_format|spec_id|record_count|file_size_in_bytes|        column_sizes|      value_counts|null_value_counts|nan_value_counts|        lower_bounds|        upper_bounds|key_metadata|split_offsets|equality_ids|sort_order_id|\n",
      "+-------+--------------------+-----------+-------+------------+------------------+--------------------+------------------+-----------------+----------------+--------------------+--------------------+------------+-------------+------------+-------------+\n",
      "|      0|gs://gcs-bucket-i...|    PARQUET|      0|          51|               998|{1 -> 175, 2 -> 220}|{1 -> 51, 2 -> 51}| {1 -> 0, 2 -> 0}|              {}|{1 -> AK, 2 -> \\n...|{1 -> WY, 2 -> ��...|        null|          [4]|        null|            0|\n",
      "+-------+--------------------+-----------+-------+------------+------------------+--------------------+------------------+-----------------+----------------+--------------------+--------------------+------------+-------------+------------+-------------+\n",
      "\n"
     ]
    },
    {
     "name": "stderr",
     "output_type": "stream",
     "text": [
      "                                                                                \r"
     ]
    }
   ],
   "source": [
    "# Shows details of current data files only, their respective metadata and statistics for efficient querying\n",
    "\n",
    "spark.table(\"loan_db.loans_by_state_iceberg.files\").show(truncate=True)"
   ]
  },
  {
   "cell_type": "markdown",
   "id": "ecfc275f-8c2e-4a97-add7-37572e0c820c",
   "metadata": {},
   "source": [
    "#### d. all_files"
   ]
  },
  {
   "cell_type": "code",
   "execution_count": 15,
   "id": "3f2393d3-79ba-426a-b087-c39e54770832",
   "metadata": {},
   "outputs": [
    {
     "name": "stderr",
     "output_type": "stream",
     "text": [
      "                                                                                \r"
     ]
    },
    {
     "name": "stdout",
     "output_type": "stream",
     "text": [
      "+-------+---------------------------------------------------------------------------------------------------------------------------------------------------------------------------------------+-----------+-------+------------+------------------+--------------------+------------------+-----------------+----------------+-------------------------+------------------------+------------+-------------+------------+-------------+\n",
      "|content|file_path                                                                                                                                                                              |file_format|spec_id|record_count|file_size_in_bytes|column_sizes        |value_counts      |null_value_counts|nan_value_counts|lower_bounds             |upper_bounds            |key_metadata|split_offsets|equality_ids|sort_order_id|\n",
      "+-------+---------------------------------------------------------------------------------------------------------------------------------------------------------------------------------------+-----------+-------+------------+------------------+--------------------+------------------+-----------------+----------------+-------------------------+------------------------+------------+-------------+------------+-------------+\n",
      "|0      |gs://gcs-bucket-iceberg-hms-928505941962-71d67f3e-cf27-4b25-a996-86a/hive-warehouse/loan_db.db/loans_by_state_iceberg/data/00054-4-595dbb6c-4517-4463-91be-a1b513cf82f2-00001.parquet  |PARQUET    |0      |50          |998               |{1 -> 172, 2 -> 223}|{1 -> 50, 2 -> 50}|{1 -> 0, 2 -> 0} |{}              |{1 -> AK, 2 -> \u0001\u0000\u0000\u0000\u0000\u0000\u0000\u0000} |{1 -> WY, 2 -> ��\u0000\u0000\u0000\u0000\u0000\u0000}|null        |[4]          |null        |0            |\n",
      "|0      |gs://gcs-bucket-iceberg-hms-928505941962-71d67f3e-cf27-4b25-a996-86a/hive-warehouse/loan_db.db/loans_by_state_iceberg/data/00000-410-3265a2ac-0164-4598-a86e-03a63e191071-00001.parquet|PARQUET    |0      |49          |994               |{1 -> 171, 2 -> 220}|{1 -> 49, 2 -> 49}|{1 -> 0, 2 -> 0} |{}              |{1 -> AK, 2 -> \\n\u0002\u0000\u0000\u0000\u0000\u0000\u0000}|{1 -> WY, 2 -> ��\u0000\u0000\u0000\u0000\u0000\u0000}|null        |[4]          |null        |0            |\n",
      "|0      |gs://gcs-bucket-iceberg-hms-928505941962-71d67f3e-cf27-4b25-a996-86a/hive-warehouse/loan_db.db/loans_by_state_iceberg/data/00000-457-db97e1c8-4cc1-4098-94d7-a1172491a65c-00001.parquet|PARQUET    |0      |51          |998               |{1 -> 175, 2 -> 220}|{1 -> 51, 2 -> 51}|{1 -> 0, 2 -> 0} |{}              |{1 -> AK, 2 -> \\n\u0002\u0000\u0000\u0000\u0000\u0000\u0000}|{1 -> WY, 2 -> ��\u0000\u0000\u0000\u0000\u0000\u0000}|null        |[4]          |null        |0            |\n",
      "|0      |gs://gcs-bucket-iceberg-hms-928505941962-71d67f3e-cf27-4b25-a996-86a/hive-warehouse/loan_db.db/loans_by_state_iceberg/data/00130-209-e5d9f868-2616-41fc-9233-464482068f34-00001.parquet|PARQUET    |0      |1           |708               |{1 -> 53, 2 -> 53}  |{1 -> 1, 2 -> 1}  |{1 -> 0, 2 -> 0} |{}              |{1 -> AZ, 2 -> g+\u0000\u0000\u0000\u0000\u0000\u0000} |{1 -> AZ, 2 -> g+\u0000\u0000\u0000\u0000\u0000\u0000}|null        |[4]          |null        |0            |\n",
      "|0      |gs://gcs-bucket-iceberg-hms-928505941962-71d67f3e-cf27-4b25-a996-86a/hive-warehouse/loan_db.db/loans_by_state_iceberg/data/00000-2-b2d1021e-d3ad-4aff-baa7-1c740e8a3144-00001.parquet  |PARQUET    |0      |51          |1005              |{1 -> 175, 2 -> 227}|{1 -> 51, 2 -> 51}|{1 -> 0, 2 -> 0} |{}              |{1 -> AK, 2 -> \u0001\u0000\u0000\u0000\u0000\u0000\u0000\u0000} |{1 -> WY, 2 -> ��\u0000\u0000\u0000\u0000\u0000\u0000}|null        |[4]          |null        |0            |\n",
      "|0      |gs://gcs-bucket-iceberg-hms-928505941962-71d67f3e-cf27-4b25-a996-86a/hive-warehouse/loan_db.db/loans_by_state_iceberg/data/00000-205-c4327bde-de7b-4bb7-a2fe-cb90b1c77623-00001.parquet|PARQUET    |0      |1           |693               |{1 -> 49, 2 -> 47}  |{1 -> 1, 2 -> 1}  |{1 -> 0, 2 -> 0} |{}              |{1 -> AZ, 2 -> P�\u0000\u0000\u0000\u0000\u0000\u0000} |{1 -> AZ, 2 -> P�\u0000\u0000\u0000\u0000\u0000\u0000}|null        |[4]          |null        |0            |\n",
      "+-------+---------------------------------------------------------------------------------------------------------------------------------------------------------------------------------------+-----------+-------+------------+------------------+--------------------+------------------+-----------------+----------------+-------------------------+------------------------+------------+-------------+------------+-------------+\n",
      "\n"
     ]
    }
   ],
   "source": [
    "# Similar to \"files\" above but gives details of all files for a given table\n",
    "\n",
    "spark.table(\"loan_db.loans_by_state_iceberg.all_files\").show(truncate=False)"
   ]
  },
  {
   "cell_type": "markdown",
   "id": "ef28dabb-bed5-4cff-846d-68b92b56cc08",
   "metadata": {},
   "source": [
    "#### e. manifests"
   ]
  },
  {
   "cell_type": "code",
   "execution_count": 16,
   "id": "8f079bb0-6881-49bf-99ca-3521ae384759",
   "metadata": {},
   "outputs": [
    {
     "name": "stdout",
     "output_type": "stream",
     "text": [
      "+-------+---------------------------------------------------------------------------------------------------------------------------------------------------------------------------+------+-----------------+-------------------+----------------------+-------------------------+------------------------+------------------------+---------------------------+--------------------------+-------------------+\n",
      "|content|path                                                                                                                                                                       |length|partition_spec_id|added_snapshot_id  |added_data_files_count|existing_data_files_count|deleted_data_files_count|added_delete_files_count|existing_delete_files_count|deleted_delete_files_count|partition_summaries|\n",
      "+-------+---------------------------------------------------------------------------------------------------------------------------------------------------------------------------+------+-----------------+-------------------+----------------------+-------------------------+------------------------+------------------------+---------------------------+--------------------------+-------------------+\n",
      "|0      |gs://gcs-bucket-iceberg-hms-928505941962-71d67f3e-cf27-4b25-a996-86a/hive-warehouse/loan_db.db/loans_by_state_iceberg/metadata/60274643-cd8c-4f7c-b037-4ada16053ca9-m1.avro|5871  |0                |5865803199727045458|1                     |0                        |0                       |0                       |0                          |0                         |[]                 |\n",
      "|0      |gs://gcs-bucket-iceberg-hms-928505941962-71d67f3e-cf27-4b25-a996-86a/hive-warehouse/loan_db.db/loans_by_state_iceberg/metadata/60274643-cd8c-4f7c-b037-4ada16053ca9-m0.avro|5872  |0                |5865803199727045458|0                     |0                        |1                       |0                       |0                          |0                         |[]                 |\n",
      "+-------+---------------------------------------------------------------------------------------------------------------------------------------------------------------------------+------+-----------------+-------------------+----------------------+-------------------------+------------------------+------------------------+---------------------------+--------------------------+-------------------+\n",
      "\n"
     ]
    }
   ],
   "source": [
    "# Shows details of manifest files for current snapshot only. Reads data from the manifest avro file in metadata folder\n",
    "\n",
    "spark.table(\"loan_db.loans_by_state_iceberg.manifests\").show(truncate=False)"
   ]
  },
  {
   "cell_type": "markdown",
   "id": "c4b53549-6d55-4abe-929f-d6857d87aff8",
   "metadata": {},
   "source": [
    "#### e. all_manifests"
   ]
  },
  {
   "cell_type": "code",
   "execution_count": 17,
   "id": "8ee32478-4d18-4fc1-b4c3-33d3cae114c9",
   "metadata": {},
   "outputs": [
    {
     "name": "stderr",
     "output_type": "stream",
     "text": [
      "[Stage 10:>                                                         (0 + 1) / 1]\r"
     ]
    },
    {
     "name": "stdout",
     "output_type": "stream",
     "text": [
      "+-------+---------------------------------------------------------------------------------------------------------------------------------------------------------------------------+------+-----------------+-------------------+----------------------+-------------------------+------------------------+------------------------+---------------------------+--------------------------+-------------------+---------------------+\n",
      "|content|path                                                                                                                                                                       |length|partition_spec_id|added_snapshot_id  |added_data_files_count|existing_data_files_count|deleted_data_files_count|added_delete_files_count|existing_delete_files_count|deleted_delete_files_count|partition_summaries|reference_snapshot_id|\n",
      "+-------+---------------------------------------------------------------------------------------------------------------------------------------------------------------------------+------+-----------------+-------------------+----------------------+-------------------------+------------------------+------------------------+---------------------------+--------------------------+-------------------+---------------------+\n",
      "|0      |gs://gcs-bucket-iceberg-hms-928505941962-71d67f3e-cf27-4b25-a996-86a/hive-warehouse/loan_db.db/loans_by_state_iceberg/metadata/d37b2f20-215b-4690-9fdf-1e59a8e68f24-m0.avro|5867  |0                |3648627921780331930|1                     |0                        |0                       |0                       |0                          |0                         |[]                 |3648627921780331930  |\n",
      "|0      |gs://gcs-bucket-iceberg-hms-928505941962-71d67f3e-cf27-4b25-a996-86a/hive-warehouse/loan_db.db/loans_by_state_iceberg/metadata/b4bce2b6-d0e0-440f-a879-f2cc876fe580-m1.avro|5870  |0                |5222601969543758311|1                     |0                        |0                       |0                       |0                          |0                         |[]                 |5222601969543758311  |\n",
      "|0      |gs://gcs-bucket-iceberg-hms-928505941962-71d67f3e-cf27-4b25-a996-86a/hive-warehouse/loan_db.db/loans_by_state_iceberg/metadata/b4bce2b6-d0e0-440f-a879-f2cc876fe580-m0.avro|5870  |0                |5222601969543758311|0                     |0                        |1                       |0                       |0                          |0                         |[]                 |5222601969543758311  |\n",
      "|0      |gs://gcs-bucket-iceberg-hms-928505941962-71d67f3e-cf27-4b25-a996-86a/hive-warehouse/loan_db.db/loans_by_state_iceberg/metadata/bbe9674b-8463-4473-9361-7cff8e15023e-m0.avro|5859  |0                |9145457862466461068|1                     |0                        |0                       |0                       |0                          |0                         |[]                 |9145457862466461068  |\n",
      "|0      |gs://gcs-bucket-iceberg-hms-928505941962-71d67f3e-cf27-4b25-a996-86a/hive-warehouse/loan_db.db/loans_by_state_iceberg/metadata/b4bce2b6-d0e0-440f-a879-f2cc876fe580-m1.avro|5870  |0                |5222601969543758311|1                     |0                        |0                       |0                       |0                          |0                         |[]                 |9145457862466461068  |\n",
      "|0      |gs://gcs-bucket-iceberg-hms-928505941962-71d67f3e-cf27-4b25-a996-86a/hive-warehouse/loan_db.db/loans_by_state_iceberg/metadata/6d82bf31-6b44-4f47-bdf1-6567080cbaa4-m1.avro|5862  |0                |8627182030940064924|1                     |0                        |0                       |0                       |0                          |0                         |[]                 |8627182030940064924  |\n",
      "|0      |gs://gcs-bucket-iceberg-hms-928505941962-71d67f3e-cf27-4b25-a996-86a/hive-warehouse/loan_db.db/loans_by_state_iceberg/metadata/6d82bf31-6b44-4f47-bdf1-6567080cbaa4-m0.avro|5861  |0                |8627182030940064924|0                     |0                        |1                       |0                       |0                          |0                         |[]                 |8627182030940064924  |\n",
      "|0      |gs://gcs-bucket-iceberg-hms-928505941962-71d67f3e-cf27-4b25-a996-86a/hive-warehouse/loan_db.db/loans_by_state_iceberg/metadata/b4bce2b6-d0e0-440f-a879-f2cc876fe580-m1.avro|5870  |0                |5222601969543758311|1                     |0                        |0                       |0                       |0                          |0                         |[]                 |8627182030940064924  |\n",
      "|0      |gs://gcs-bucket-iceberg-hms-928505941962-71d67f3e-cf27-4b25-a996-86a/hive-warehouse/loan_db.db/loans_by_state_iceberg/metadata/cf61b81b-a797-4f85-9b06-81472ed49468-m2.avro|5872  |0                |2697368997376323351|1                     |0                        |0                       |0                       |0                          |0                         |[]                 |2697368997376323351  |\n",
      "|0      |gs://gcs-bucket-iceberg-hms-928505941962-71d67f3e-cf27-4b25-a996-86a/hive-warehouse/loan_db.db/loans_by_state_iceberg/metadata/cf61b81b-a797-4f85-9b06-81472ed49468-m0.avro|5862  |0                |2697368997376323351|0                     |0                        |1                       |0                       |0                          |0                         |[]                 |2697368997376323351  |\n",
      "|0      |gs://gcs-bucket-iceberg-hms-928505941962-71d67f3e-cf27-4b25-a996-86a/hive-warehouse/loan_db.db/loans_by_state_iceberg/metadata/cf61b81b-a797-4f85-9b06-81472ed49468-m1.avro|5870  |0                |2697368997376323351|0                     |0                        |1                       |0                       |0                          |0                         |[]                 |2697368997376323351  |\n",
      "|0      |gs://gcs-bucket-iceberg-hms-928505941962-71d67f3e-cf27-4b25-a996-86a/hive-warehouse/loan_db.db/loans_by_state_iceberg/metadata/60274643-cd8c-4f7c-b037-4ada16053ca9-m1.avro|5871  |0                |5865803199727045458|1                     |0                        |0                       |0                       |0                          |0                         |[]                 |5865803199727045458  |\n",
      "|0      |gs://gcs-bucket-iceberg-hms-928505941962-71d67f3e-cf27-4b25-a996-86a/hive-warehouse/loan_db.db/loans_by_state_iceberg/metadata/60274643-cd8c-4f7c-b037-4ada16053ca9-m0.avro|5872  |0                |5865803199727045458|0                     |0                        |1                       |0                       |0                          |0                         |[]                 |5865803199727045458  |\n",
      "+-------+---------------------------------------------------------------------------------------------------------------------------------------------------------------------------+------+-----------------+-------------------+----------------------+-------------------------+------------------------+------------------------+---------------------------+--------------------------+-------------------+---------------------+\n",
      "\n"
     ]
    },
    {
     "name": "stderr",
     "output_type": "stream",
     "text": [
      "                                                                                \r"
     ]
    }
   ],
   "source": [
    "# Similar to \"manifests\" above but gives details of all manifest files for a given table\n",
    "\n",
    "spark.table(\"loan_db.loans_by_state_iceberg.all_manifests\").show(truncate=False)"
   ]
  },
  {
   "cell_type": "markdown",
   "id": "780032e7-cabd-440b-906d-095e47e5c494",
   "metadata": {},
   "source": [
    "#### f. partitions"
   ]
  },
  {
   "cell_type": "code",
   "execution_count": 19,
   "id": "616f1759-57ec-4b33-8ee3-d95190170ca6",
   "metadata": {},
   "outputs": [
    {
     "name": "stdout",
     "output_type": "stream",
     "text": [
      "+------------+----------+\n",
      "|record_count|file_count|\n",
      "+------------+----------+\n",
      "|51          |1         |\n",
      "+------------+----------+\n",
      "\n"
     ]
    }
   ],
   "source": [
    "# Below is the output for an unpartitioned table\n",
    "spark.table(\"loan_db.loans_by_state_iceberg.partitions\").show(truncate=False)"
   ]
  },
  {
   "cell_type": "code",
   "execution_count": 20,
   "id": "d5e9e5a3-53cc-4536-a04f-5456b75ba3e7",
   "metadata": {},
   "outputs": [
    {
     "name": "stdout",
     "output_type": "stream",
     "text": [
      "+---------+------------+----------+-------+\n",
      "|partition|record_count|file_count|spec_id|\n",
      "+---------+------------+----------+-------+\n",
      "|{NE}     |1           |1         |0      |\n",
      "|{ND}     |1           |1         |0      |\n",
      "|{VA}     |1           |1         |0      |\n",
      "|{DE}     |1           |1         |0      |\n",
      "|{AR}     |1           |1         |0      |\n",
      "|{KY}     |1           |1         |0      |\n",
      "|{MI}     |1           |1         |0      |\n",
      "|{RI}     |1           |1         |0      |\n",
      "|{NM}     |1           |1         |0      |\n",
      "|{MN}     |1           |1         |0      |\n",
      "|{UT}     |1           |1         |0      |\n",
      "|{NJ}     |1           |1         |0      |\n",
      "|{WY}     |1           |1         |0      |\n",
      "|{DC}     |1           |1         |0      |\n",
      "|{GA}     |1           |1         |0      |\n",
      "|{KS}     |1           |1         |0      |\n",
      "|{WI}     |1           |1         |0      |\n",
      "|{NV}     |1           |1         |0      |\n",
      "|{OH}     |1           |1         |0      |\n",
      "|{ID}     |1           |1         |0      |\n",
      "+---------+------------+----------+-------+\n",
      "only showing top 20 rows\n",
      "\n"
     ]
    }
   ],
   "source": [
    "# Below statement shows a much descriptive output on a partitioned table indicating record count in each partition, files in each partition and spec_id\n",
    "#( In our case the spec_id = 0 indicating the first column \"addr_state\" as the partition column)\n",
    "\n",
    "spark.table(\"loan_db.loans_by_state_iceberg_partitioned.partitions\").show(truncate=False)"
   ]
  },
  {
   "cell_type": "markdown",
   "id": "b86593ab-c082-4067-8f45-4d7f1836fef4",
   "metadata": {},
   "source": [
    "### THIS CONCLUDES THIS UNIT. PROCEED TO THE NEXT NOTEBOOK"
   ]
  }
 ],
 "metadata": {
  "language_info": {
   "codemirror_mode": {
    "name": "ipython",
    "version": 3
   },
   "file_extension": ".py",
   "mimetype": "text/x-python",
   "name": "python",
   "nbconvert_exporter": "python",
   "pygments_lexer": "ipython3",
   "version": "3.9.15"
  },
  "serverless_spark": "{\"name\":\"projects/nikhim-iceberg-lab/locations/us-central1/sessions/iceberg-lab-21148\",\"uuid\":\"6f0318c1-a7df-4fe3-94cf-9975cfbf72e0\",\"createTime\":\"2023-02-10T22:23:37.228833Z\",\"jupyterSession\":{},\"spark\":{},\"runtimeInfo\":{\"endpoints\":{\"Spark History Server\":\"https://7suwyw62lfbjhcvtckfaxhuxcm-dot-us-central1.dataproc.googleusercontent.com/sparkhistory/?eventLogDirFilter=6f0318c1-a7df-4fe3-94cf-9975cfbf72e0\"}},\"state\":\"ACTIVE\",\"stateTime\":\"2023-02-10T22:24:33.846420Z\",\"creator\":\"nikhim@google.com\",\"runtimeConfig\":{\"version\":\"1.0.29\",\"properties\":{\"spark:spark.jars.packages\":\"org.apache.iceberg:iceberg-spark-runtime-3.2_2.12:1.1.0\",\"spark:spark.sql.catalog.hdp_ctlg\":\"org.apache.iceberg.spark.SparkCatalog\",\"spark:spark.sql.catalog.hdp_ctlg.type\":\"hadoop\",\"spark:spark.sql.catalog.hdp_ctlg.warehouse\":\"gs://iceberg-spark-bucket-928505941962/iceberg-warehouse-dir\",\"spark:spark.sql.catalog.spark_catalog\":\"org.apache.iceberg.spark.SparkSessionCatalog\",\"spark:spark.sql.catalog.spark_catalog.type\":\"hive\",\"spark:spark.sql.extensions\":\"org.apache.iceberg.spark.extensions.IcebergSparkSessionExtensions\",\"spark:spark.executor.instances\":\"2\",\"spark:spark.driver.cores\":\"4\",\"spark:spark.executor.cores\":\"4\",\"spark:spark.dynamicAllocation.executorAllocationRatio\":\"0.3\",\"spark:spark.eventLog.dir\":\"gs://iceberg-sphs-bucket-928505941962/6f0318c1-a7df-4fe3-94cf-9975cfbf72e0/spark-job-history\"}},\"environmentConfig\":{\"executionConfig\":{\"serviceAccount\":\"iceberg-lab-sa@nikhim-iceberg-lab.iam.gserviceaccount.com\",\"subnetworkUri\":\"spark-subnet\",\"idleTtl\":\"14400s\"},\"peripheralsConfig\":{\"metastoreService\":\"projects/nikhim-iceberg-lab/locations/us-central1/services/iceberg-hms-928505941962\",\"sparkHistoryServerConfig\":{\"dataprocCluster\":\"projects/nikhim-iceberg-lab/regions/us-central1/clusters/iceberg-sphs-928505941962\"}}},\"stateHistory\":[{\"state\":\"CREATING\",\"stateStartTime\":\"2023-02-10T22:23:37.228833Z\"}]}",
  "serverless_spark_kernel_name": "remote-54476d9b9a4e3729c940cef9-pyspark",
  "vscode": {
   "interpreter": {
    "hash": "aee8b7b246df8f9039afb4144a1f6fd8d2ca17a180786b69acc140d282b71a49"
   }
  }
 },
 "nbformat": 4,
 "nbformat_minor": 5
}
