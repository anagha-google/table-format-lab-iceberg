{
 "cells": [
  {
   "cell_type": "markdown",
   "id": "4529a790-8425-4600-841a-4b094b82eaa8",
   "metadata": {},
   "source": [
    "# Iceberg Lab \n",
    "## Unit 6: Time Travel\n",
    "\n",
    "In the previous unit, we-\n",
    "1. Explore metadata inspection tables that iceberg provides\n",
    "\n",
    "\n",
    "In this unit, we will-\n",
    "1. Explore Time Travel feature of Iceberg Tables"
   ]
  },
  {
   "cell_type": "markdown",
   "id": "1a31c4fd-d465-4f52-8e56-3775bf499abc",
   "metadata": {},
   "source": [
    "### 1. Imports"
   ]
  },
  {
   "cell_type": "code",
   "execution_count": 1,
   "id": "1321bce9-178c-4065-8187-0a5728c1a370",
   "metadata": {},
   "outputs": [],
   "source": [
    "from datetime import datetime\n",
    "from pyspark.sql import SparkSession\n",
    "from pyspark.sql.functions import col\n",
    "\n",
    "import warnings\n",
    "warnings.filterwarnings('ignore')"
   ]
  },
  {
   "cell_type": "markdown",
   "id": "ed295a74-ed1d-4b5d-831a-1b5dcf73c36f",
   "metadata": {},
   "source": [
    "### 2. Create a Spark session powered by Cloud Dataproc "
   ]
  },
  {
   "cell_type": "code",
   "execution_count": 2,
   "id": "b383d5ab-a0b9-45ab-a232-34d88f2a0065",
   "metadata": {},
   "outputs": [
    {
     "name": "stderr",
     "output_type": "stream",
     "text": [
      "24/05/13 17:04:41 WARN SparkSession: Using an existing Spark session; only runtime SQL configurations will take effect.\n"
     ]
    },
    {
     "data": {
      "text/html": [
       "\n",
       "            <div>\n",
       "                <p><b>SparkSession - hive</b></p>\n",
       "                \n",
       "        <div>\n",
       "            <p><b>SparkContext</b></p>\n",
       "\n",
       "            <p><a href=\"http://gdpic-srvls-session-0d0ce882-9f5b-439e-bbb8-5879459b71b9-m.us-central1-a.c.delta-lake-diy-lab.internal:4040\">Spark UI</a></p>\n",
       "\n",
       "            <dl>\n",
       "              <dt>Version</dt>\n",
       "                <dd><code>v3.3.4</code></dd>\n",
       "              <dt>Master</dt>\n",
       "                <dd><code>spark://gdpic-srvls-session-0d0ce882-9f5b-439e-bbb8-5879459b71b9-m:7077</code></dd>\n",
       "              <dt>AppName</dt>\n",
       "                <dd><code>PySparkShell</code></dd>\n",
       "            </dl>\n",
       "        </div>\n",
       "        \n",
       "            </div>\n",
       "        "
      ],
      "text/plain": [
       "<pyspark.sql.session.SparkSession at 0x7fa910551330>"
      ]
     },
     "execution_count": 2,
     "metadata": {},
     "output_type": "execute_result"
    }
   ],
   "source": [
    "spark = SparkSession.builder.appName('Loan Analysis').getOrCreate()\n",
    "spark.sparkContext.setLogLevel(\"WARN\")\n",
    "spark"
   ]
  },
  {
   "cell_type": "markdown",
   "id": "63cd13e6-f3f5-4f2c-b4fc-d7e2660c6206",
   "metadata": {},
   "source": [
    "### 3. Declare variables"
   ]
  },
  {
   "cell_type": "code",
   "execution_count": 3,
   "id": "5596e31b-749a-4702-8879-6f05f9ff0c2d",
   "metadata": {},
   "outputs": [
    {
     "name": "stdout",
     "output_type": "stream",
     "text": [
      "PROJECT_ID:  delta-lake-diy-lab\n"
     ]
    }
   ],
   "source": [
    "project_id_output = !gcloud config list --format \"value(core.project)\" 2>/dev/null\n",
    "PROJECT_ID = project_id_output[0]\n",
    "print(\"PROJECT_ID: \", PROJECT_ID)"
   ]
  },
  {
   "cell_type": "code",
   "execution_count": 4,
   "id": "471c6743-a058-462b-851a-f34323f36243",
   "metadata": {},
   "outputs": [
    {
     "name": "stdout",
     "output_type": "stream",
     "text": [
      "PROJECT_NAME:  delta-lake-diy-lab\n"
     ]
    }
   ],
   "source": [
    "project_name_output = !gcloud projects describe $PROJECT_ID | grep name | cut -d':' -f2 | xargs\n",
    "PROJECT_NAME = project_name_output[0]\n",
    "print(\"PROJECT_NAME: \", PROJECT_NAME)"
   ]
  },
  {
   "cell_type": "code",
   "execution_count": 5,
   "id": "61929dc6-a083-433c-8a13-3d39d9c4a4a1",
   "metadata": {},
   "outputs": [
    {
     "name": "stdout",
     "output_type": "stream",
     "text": [
      "PROJECT_NUMBER:  11002190840\n"
     ]
    }
   ],
   "source": [
    "project_number_output = !gcloud projects describe $PROJECT_ID | grep projectNumber | cut -d':' -f2 | xargs\n",
    "PROJECT_NUMBER = project_number_output[0]\n",
    "print(\"PROJECT_NUMBER: \", PROJECT_NUMBER)"
   ]
  },
  {
   "cell_type": "code",
   "execution_count": 6,
   "id": "f8b79fd2-5243-41a4-ae87-e7f9dd87cf20",
   "metadata": {},
   "outputs": [
    {
     "name": "stdout",
     "output_type": "stream",
     "text": [
      "HIVE_METASTORE_WAREHOUSE_DIR gs://gcs-bucket-dll-hms-11002190840-e1664035-a2d9-4215-be46-45c40712/hive-warehouse\n"
     ]
    }
   ],
   "source": [
    "DPMS_NAME=f\"dll-hms-{PROJECT_NUMBER}\"\n",
    "LOCATION=\"us-central1\"\n",
    "\n",
    "metastore_dir = !gcloud metastore services describe $DPMS_NAME --location $LOCATION |grep 'hive.metastore.warehouse.dir'| cut -d':' -f2- | xargs \n",
    "HIVE_METASTORE_WAREHOUSE_DIR = metastore_dir[0]\n",
    "print(\"HIVE_METASTORE_WAREHOUSE_DIR\",HIVE_METASTORE_WAREHOUSE_DIR)"
   ]
  },
  {
   "cell_type": "code",
   "execution_count": 7,
   "id": "e00cb418-a3a0-4c7f-9686-398322afa963",
   "metadata": {},
   "outputs": [
    {
     "name": "stdout",
     "output_type": "stream",
     "text": [
      "Fully quailified table name : loan_db.loans_by_state_iceberg\n"
     ]
    }
   ],
   "source": [
    "TABLE_NAME=\"loans_by_state_iceberg\"\n",
    "DB_NAME=\"loan_db\"\n",
    "#fully qualified table name\n",
    "FQTN=f\"{DB_NAME}.{TABLE_NAME}\"\n",
    "print(\"Fully quailified table name :\",FQTN)"
   ]
  },
  {
   "cell_type": "markdown",
   "id": "423a215e-0a4c-4078-8711-19d20395993d",
   "metadata": {},
   "source": [
    "### 4. Time Travel"
   ]
  },
  {
   "cell_type": "markdown",
   "id": "130ba1d6-dbb2-4656-82f8-216eca8e9a32",
   "metadata": {},
   "source": [
    "#### a. Time Travel with Snapshots"
   ]
  },
  {
   "cell_type": "code",
   "execution_count": 8,
   "id": "5791e029-db63-4923-9749-c66fc10c80fa",
   "metadata": {},
   "outputs": [
    {
     "name": "stderr",
     "output_type": "stream",
     "text": [
      "[Stage 0:>                                                          (0 + 1) / 1]\r"
     ]
    },
    {
     "name": "stdout",
     "output_type": "stream",
     "text": [
      "+-----------------------+-------------------+---------+\n",
      "|committed_at           |snapshot_id        |operation|\n",
      "+-----------------------+-------------------+---------+\n",
      "|2024-05-13 16:40:13.336|9176687385630465169|append   |\n",
      "|2024-05-13 16:48:45.421|5233765456160638845|overwrite|\n",
      "|2024-05-13 16:50:19.235|7272046516454809414|append   |\n",
      "|2024-05-13 16:51:36.457|6697245229602575300|overwrite|\n",
      "|2024-05-13 16:52:33.693|1795098683837972174|overwrite|\n",
      "|2024-05-13 16:54:50.592|4282559450411521188|overwrite|\n",
      "+-----------------------+-------------------+---------+\n",
      "\n"
     ]
    },
    {
     "name": "stderr",
     "output_type": "stream",
     "text": [
      "                                                                                \r"
     ]
    }
   ],
   "source": [
    "spark.sql(f\"select committed_at, snapshot_id, operation from {FQTN}.snapshots\").show(truncate=False)"
   ]
  },
  {
   "cell_type": "markdown",
   "id": "b44461f6-3df5-4f41-a2b6-81f556e13d2a",
   "metadata": {},
   "source": [
    "**Note: Please replace the Snapshot-id value in below statements based on your result from the above query at the time of execution**"
   ]
  },
  {
   "cell_type": "code",
   "execution_count": 9,
   "id": "8d403fe6-437b-4997-ae9a-c3761afbad55",
   "metadata": {},
   "outputs": [
    {
     "name": "stdout",
     "output_type": "stream",
     "text": [
      "Table state at snapshot-id '5233765456160638845'\n"
     ]
    },
    {
     "name": "stderr",
     "output_type": "stream",
     "text": [
      "                                                                                \r"
     ]
    },
    {
     "name": "stdout",
     "output_type": "stream",
     "text": [
      "+----------+----------+\n",
      "|addr_state|loan_count|\n",
      "+----------+----------+\n",
      "|CA        |62090     |\n",
      "|IN        |7511      |\n",
      "|IA        |1         |\n",
      "+----------+----------+\n",
      "\n",
      "Table state at snapshot-id '7272046516454809414'\n"
     ]
    },
    {
     "name": "stderr",
     "output_type": "stream",
     "text": [
      "                                                                                \r"
     ]
    },
    {
     "name": "stdout",
     "output_type": "stream",
     "text": [
      "+----------+----------+\n",
      "|addr_state|loan_count|\n",
      "+----------+----------+\n",
      "|CA        |62090     |\n",
      "|IN        |7511      |\n",
      "|IA        |1         |\n",
      "|AZ        |50000     |\n",
      "+----------+----------+\n",
      "\n",
      "Table state at latest snapshot\n",
      "+----------+----------+\n",
      "|addr_state|loan_count|\n",
      "+----------+----------+\n",
      "|AZ        |11111     |\n",
      "|CA        |11111     |\n",
      "|IA        |11111     |\n",
      "|IN        |11111     |\n",
      "+----------+----------+\n",
      "\n"
     ]
    }
   ],
   "source": [
    "print(\"Table state at snapshot-id '5233765456160638845'\")\n",
    "spark.read.option(\"snapshot-id\",\"5233765456160638845\").format(\"iceberg\").load(f\"{FQTN}\").filter(col('addr_state').isin('IA','AZ','CA','IN')).show(truncate=False)\n",
    "      \n",
    "\n",
    "print(\"Table state at snapshot-id '7272046516454809414'\")\n",
    "spark.read.option(\"snapshot-id\",\"7272046516454809414\").format(\"iceberg\").load(f\"{FQTN}\").filter(col('addr_state').isin('IA','AZ','CA','IN')).show(truncate=False)\n",
    "   \n",
    "print(\"Table state at latest snapshot\")\n",
    "spark.read.format(\"iceberg\").load(f\"{FQTN}\").filter(col('addr_state').isin('IA','AZ','CA','IN')).show(truncate=False)"
   ]
  },
  {
   "cell_type": "markdown",
   "id": "d697b53e-63a7-4bea-9bb8-0b0938749135",
   "metadata": {},
   "source": [
    "#### b. Time Travel with Timestamps"
   ]
  },
  {
   "cell_type": "code",
   "execution_count": 10,
   "id": "d41c8c07-3530-4c24-a425-f04324e92a00",
   "metadata": {},
   "outputs": [
    {
     "name": "stdout",
     "output_type": "stream",
     "text": [
      "+-----------------------+-------------------+-------------------+-------------------+\n",
      "|made_current_at        |snapshot_id        |parent_id          |is_current_ancestor|\n",
      "+-----------------------+-------------------+-------------------+-------------------+\n",
      "|2024-05-13 16:40:13.336|9176687385630465169|null               |true               |\n",
      "|2024-05-13 16:48:45.421|5233765456160638845|9176687385630465169|true               |\n",
      "|2024-05-13 16:50:19.235|7272046516454809414|5233765456160638845|true               |\n",
      "|2024-05-13 16:51:36.457|6697245229602575300|7272046516454809414|true               |\n",
      "|2024-05-13 16:52:33.693|1795098683837972174|6697245229602575300|true               |\n",
      "|2024-05-13 16:54:50.592|4282559450411521188|1795098683837972174|true               |\n",
      "+-----------------------+-------------------+-------------------+-------------------+\n",
      "\n"
     ]
    }
   ],
   "source": [
    "#checking all updates to table\n",
    "spark.table(f\"{FQTN}.history\").show(truncate=False)"
   ]
  },
  {
   "cell_type": "markdown",
   "id": "5eb5d257-e14f-4969-9c85-7c1cd64a7b4a",
   "metadata": {},
   "source": [
    "**Note: Please replace the timestamp values for _'dt1'_ and _'dt2'_  in below statements based on your result from the above query at the time of execution**"
   ]
  },
  {
   "cell_type": "code",
   "execution_count": 11,
   "id": "505cc139-006f-4870-a9d7-ca90181d06f8",
   "metadata": {},
   "outputs": [
    {
     "name": "stdout",
     "output_type": "stream",
     "text": [
      "Table state at timestamp  2024-05-13 16:48:45\n",
      "+----------+----------+\n",
      "|addr_state|loan_count|\n",
      "+----------+----------+\n",
      "|AZ        |10318     |\n",
      "|CA        |62090     |\n",
      "|IN        |7511      |\n",
      "|IA        |1         |\n",
      "+----------+----------+\n",
      "\n",
      "Table state at timestamp  2024-05-13 16:50:19\n",
      "+----------+----------+\n",
      "|addr_state|loan_count|\n",
      "+----------+----------+\n",
      "|CA        |62090     |\n",
      "|IN        |7511      |\n",
      "|IA        |1         |\n",
      "+----------+----------+\n",
      "\n",
      "Table state at latest timestamp\n",
      "+----------+----------+\n",
      "|addr_state|loan_count|\n",
      "+----------+----------+\n",
      "|AZ        |11111     |\n",
      "|CA        |11111     |\n",
      "|IA        |11111     |\n",
      "|IN        |11111     |\n",
      "+----------+----------+\n",
      "\n"
     ]
    }
   ],
   "source": [
    "\n",
    "dt_fmt = \"%Y-%m-%d %H:%M:%S\"\n",
    "\n",
    "dt1 = '2024-05-13 16:48:45'\n",
    "dt1_millis = int(datetime.strptime(dt1,dt_fmt).strftime(\"%s\"))*1000\n",
    "print(\"Table state at timestamp \",dt1)\n",
    "spark.read.option(\"as-of-timestamp\",dt1_millis).format(\"iceberg\").load(f\"{FQTN}\").filter(col('addr_state').isin('IA','AZ','CA','IN')).show(truncate=False)\n",
    "      \n",
    "\n",
    "dt2 = '2024-05-13 16:50:19'\n",
    "dt2_millis = int(datetime.strptime(dt2,dt_fmt).strftime(\"%s\"))*1000\n",
    "print(\"Table state at timestamp \",dt2)\n",
    "spark.read.option(\"as-of-timestamp\",dt2_millis).format(\"iceberg\").load(f\"{FQTN}\").filter(col('addr_state').isin('IA','AZ','CA','IN')).show(truncate=False)\n",
    "   \n",
    "    \n",
    "print(\"Table state at latest timestamp\")\n",
    "spark.read.format(\"iceberg\").load(f\"{FQTN}\").filter(col('addr_state').isin('IA','AZ','CA','IN')).show(truncate=False)\n"
   ]
  },
  {
   "cell_type": "code",
   "execution_count": 14,
   "id": "45115a00-3121-40e3-8571-2f2490a2154d",
   "metadata": {},
   "outputs": [
    {
     "name": "stdout",
     "output_type": "stream",
     "text": [
      "+----------+----------+\n",
      "|addr_state|loan_count|\n",
      "+----------+----------+\n",
      "|AZ        |11111     |\n",
      "|SC        |5460      |\n",
      "|LA        |5284      |\n",
      "|MN        |8031      |\n",
      "|NJ        |16367     |\n",
      "|DC        |1059      |\n",
      "|OR        |5258      |\n",
      "|VA        |12775     |\n",
      "|RI        |1968      |\n",
      "|KY        |4287      |\n",
      "|WY        |964       |\n",
      "|NH        |2148      |\n",
      "|MI        |11638     |\n",
      "|NV        |6309      |\n",
      "|WI        |5798      |\n",
      "|ID        |522       |\n",
      "|CA        |62090     |\n",
      "|CT        |6767      |\n",
      "|NE        |1299      |\n",
      "|MT        |1220      |\n",
      "+----------+----------+\n",
      "only showing top 20 rows\n",
      "\n"
     ]
    }
   ],
   "source": [
    "spark.sql(\"SELECT * FROM loan_db.loans_by_state_iceberg TIMESTAMP AS OF '2024-05-13 16:52:33'\").show(truncate=False)"
   ]
  },
  {
   "cell_type": "code",
   "execution_count": 15,
   "id": "0fd9e0b2-2f50-4bb4-8a78-4e7dd91044b0",
   "metadata": {},
   "outputs": [
    {
     "name": "stdout",
     "output_type": "stream",
     "text": [
      "+----------+----------+\n",
      "|addr_state|loan_count|\n",
      "+----------+----------+\n",
      "|SC        |5460      |\n",
      "|LA        |5284      |\n",
      "|MN        |8031      |\n",
      "|NJ        |16367     |\n",
      "|DC        |1059      |\n",
      "|OR        |5258      |\n",
      "|VA        |12775     |\n",
      "|RI        |1968      |\n",
      "|KY        |4287      |\n",
      "|WY        |964       |\n",
      "|NH        |2148      |\n",
      "|MI        |11638     |\n",
      "|NV        |6309      |\n",
      "|WI        |5798      |\n",
      "|ID        |522       |\n",
      "|CT        |6767      |\n",
      "|NE        |1299      |\n",
      "|MT        |1220      |\n",
      "|NC        |12612     |\n",
      "|VT        |931       |\n",
      "+----------+----------+\n",
      "only showing top 20 rows\n",
      "\n"
     ]
    }
   ],
   "source": [
    "spark.sql(\"SELECT * FROM loan_db.loans_by_state_iceberg VERSION AS OF '1795098683837972174'\").show(truncate=False)"
   ]
  },
  {
   "cell_type": "markdown",
   "id": "b86593ab-c082-4067-8f45-4d7f1836fef4",
   "metadata": {},
   "source": [
    "### THIS CONCLUDES THIS UNIT. PROCEED TO THE NEXT NOTEBOOK"
   ]
  }
 ],
 "metadata": {
  "language_info": {
   "codemirror_mode": {
    "name": "ipython",
    "version": 3
   },
   "file_extension": ".py",
   "mimetype": "text/x-python",
   "name": "python",
   "nbconvert_exporter": "python",
   "pygments_lexer": "ipython3",
   "version": "3.10.9"
  },
  "serverless_spark": "{\"name\":\"projects/delta-lake-diy-lab/locations/us-central1/sessions/iceberg-lab-10866\",\"uuid\":\"0d0ce882-9f5b-439e-bbb8-5879459b71b9\",\"createTime\":\"2024-05-13T15:48:08.648503Z\",\"jupyterSession\":{},\"runtimeInfo\":{},\"state\":\"ACTIVE\",\"stateTime\":\"2024-05-13T15:50:25.744996Z\",\"creator\":\"admin@akhanolkar.altostrat.com\",\"runtimeConfig\":{\"version\":\"2.0.69\",\"properties\":{\"spark:spark.jars.packages\":\"org.apache.iceberg:iceberg-spark-runtime-3.3_2.13:1.5.0\",\"spark:spark.sql.catalog.hdp_ctlg\":\"org.apache.iceberg.spark.SparkCatalog\",\"spark:spark.sql.catalog.hdp_ctlg.type\":\"hadoop\",\"spark:spark.sql.catalog.hdp_ctlg.warehouse\":\"gs://iceberg-spark-bucket-11002190840/iceberg-warehouse-dir\",\"spark:spark.sql.catalog.spark_catalog\":\"org.apache.iceberg.spark.SparkSessionCatalog\",\"spark:spark.sql.catalog.spark_catalog.type\":\"hive\",\"spark:spark.sql.extensions\":\"org.apache.iceberg.spark.extensions.IcebergSparkSessionExtensions\",\"spark:spark.executor.instances\":\"2\",\"spark:spark.driver.cores\":\"4\",\"spark:spark.executor.cores\":\"4\",\"spark:spark.dynamicAllocation.executorAllocationRatio\":\"0.3\",\"spark:spark.eventLog.dir\":\"gs://dll-sphs-bucket-11002190840/0d0ce882-9f5b-439e-bbb8-5879459b71b9/spark-job-history\",\"spark:spark.dataproc.scaling.version\":\"1\"}},\"environmentConfig\":{\"executionConfig\":{\"serviceAccount\":\"dll-lab-sa@delta-lake-diy-lab.iam.gserviceaccount.com\",\"subnetworkUri\":\"projects/delta-lake-diy-lab/regions/us-central1/subnetworks/spark-snet\",\"idleTtl\":\"3600s\",\"ttl\":\"86400s\"},\"peripheralsConfig\":{\"metastoreService\":\"projects/delta-lake-diy-lab/locations/us-central1/services/dll-hms-11002190840\",\"sparkHistoryServerConfig\":{\"dataprocCluster\":\"projects/delta-lake-diy-lab/regions/us-central1/clusters/dll-sphs-11002190840\"}}},\"stateHistory\":[{\"state\":\"CREATING\",\"stateStartTime\":\"2024-05-13T15:48:08.648503Z\"}]}",
  "serverless_spark_kernel_name": "remote-ce1d891cea45e23d1b066316-pyspark",
  "vscode": {
   "interpreter": {
    "hash": "aee8b7b246df8f9039afb4144a1f6fd8d2ca17a180786b69acc140d282b71a49"
   }
  }
 },
 "nbformat": 4,
 "nbformat_minor": 5
}
