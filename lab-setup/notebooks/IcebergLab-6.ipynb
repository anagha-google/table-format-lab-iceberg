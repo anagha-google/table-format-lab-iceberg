{
 "cells": [
  {
   "cell_type": "markdown",
   "id": "4529a790-8425-4600-841a-4b094b82eaa8",
   "metadata": {},
   "source": [
    "# Iceberg Lab \n",
    "## Unit 6: Time Travel\n",
    "\n",
    "In the previous unit, we-\n",
    "1. Explore metadata inspection tables that iceberg provides\n",
    "\n",
    "\n",
    "In this unit, we will-\n",
    "1. Explore Time Travel feature of Iceberg Tables"
   ]
  },
  {
   "cell_type": "markdown",
   "id": "1a31c4fd-d465-4f52-8e56-3775bf499abc",
   "metadata": {},
   "source": [
    "### 1. Imports"
   ]
  },
  {
   "cell_type": "code",
   "execution_count": 16,
   "id": "1321bce9-178c-4065-8187-0a5728c1a370",
   "metadata": {},
   "outputs": [],
   "source": [
    "from datetime import datetime\n",
    "from pyspark.sql import SparkSession\n",
    "from pyspark.sql.functions import col\n",
    "\n",
    "import warnings\n",
    "warnings.filterwarnings('ignore')"
   ]
  },
  {
   "cell_type": "markdown",
   "id": "ed295a74-ed1d-4b5d-831a-1b5dcf73c36f",
   "metadata": {},
   "source": [
    "### 2. Create a Spark session powered by Cloud Dataproc "
   ]
  },
  {
   "cell_type": "code",
   "execution_count": 1,
   "id": "b383d5ab-a0b9-45ab-a232-34d88f2a0065",
   "metadata": {},
   "outputs": [
    {
     "data": {
      "text/html": [
       "\n",
       "            <div>\n",
       "                <p><b>SparkSession - hive</b></p>\n",
       "                \n",
       "        <div>\n",
       "            <p><b>SparkContext</b></p>\n",
       "\n",
       "            <p><a href=\"http://gdpic-srvls-session-6f0318c1-a7df-4fe3-94cf-9975cfbf72e0-m.c.nikhim-iceberg-lab.internal:4040\">Spark UI</a></p>\n",
       "\n",
       "            <dl>\n",
       "              <dt>Version</dt>\n",
       "                <dd><code>v3.2.3</code></dd>\n",
       "              <dt>Master</dt>\n",
       "                <dd><code>spark://gdpic-srvls-session-6f0318c1-a7df-4fe3-94cf-9975cfbf72e0-m:7077</code></dd>\n",
       "              <dt>AppName</dt>\n",
       "                <dd><code>PySparkShell</code></dd>\n",
       "            </dl>\n",
       "        </div>\n",
       "        \n",
       "            </div>\n",
       "        "
      ],
      "text/plain": [
       "<pyspark.sql.session.SparkSession at 0x7f931abb8880>"
      ]
     },
     "execution_count": 1,
     "metadata": {},
     "output_type": "execute_result"
    }
   ],
   "source": [
    "spark = SparkSession.builder.appName('Loan Analysis').getOrCreate()\n",
    "spark.sparkContext.setLogLevel(\"WARN\")\n",
    "spark"
   ]
  },
  {
   "cell_type": "markdown",
   "id": "63cd13e6-f3f5-4f2c-b4fc-d7e2660c6206",
   "metadata": {},
   "source": [
    "### 3. Declare variables"
   ]
  },
  {
   "cell_type": "code",
   "execution_count": 2,
   "id": "5596e31b-749a-4702-8879-6f05f9ff0c2d",
   "metadata": {},
   "outputs": [
    {
     "name": "stdout",
     "output_type": "stream",
     "text": [
      "PROJECT_ID:  nikhim-iceberg-lab\n"
     ]
    }
   ],
   "source": [
    "project_id_output = !gcloud config list --format \"value(core.project)\" 2>/dev/null\n",
    "PROJECT_ID = project_id_output[0]\n",
    "print(\"PROJECT_ID: \", PROJECT_ID)"
   ]
  },
  {
   "cell_type": "code",
   "execution_count": 3,
   "id": "471c6743-a058-462b-851a-f34323f36243",
   "metadata": {},
   "outputs": [
    {
     "name": "stdout",
     "output_type": "stream",
     "text": [
      "PROJECT_NAME:  nikhim-iceberg-lab\n"
     ]
    }
   ],
   "source": [
    "project_name_output = !gcloud projects describe $PROJECT_ID | grep name | cut -d':' -f2 | xargs\n",
    "PROJECT_NAME = project_name_output[0]\n",
    "print(\"PROJECT_NAME: \", PROJECT_NAME)"
   ]
  },
  {
   "cell_type": "code",
   "execution_count": 4,
   "id": "61929dc6-a083-433c-8a13-3d39d9c4a4a1",
   "metadata": {},
   "outputs": [
    {
     "name": "stdout",
     "output_type": "stream",
     "text": [
      "PROJECT_NUMBER:  928505941962\n"
     ]
    }
   ],
   "source": [
    "project_number_output = !gcloud projects describe $PROJECT_ID | grep projectNumber | cut -d':' -f2 | xargs\n",
    "PROJECT_NUMBER = project_number_output[0]\n",
    "print(\"PROJECT_NUMBER: \", PROJECT_NUMBER)"
   ]
  },
  {
   "cell_type": "code",
   "execution_count": 5,
   "id": "f8b79fd2-5243-41a4-ae87-e7f9dd87cf20",
   "metadata": {},
   "outputs": [
    {
     "name": "stdout",
     "output_type": "stream",
     "text": [
      "HIVE_METASTORE_WAREHOUSE_DIR gs://gcs-bucket-iceberg-hms-928505941962-71d67f3e-cf27-4b25-a996-86a/hive-warehouse\n"
     ]
    }
   ],
   "source": [
    "DPMS_NAME=f\"iceberg-hms-{PROJECT_NUMBER}\"\n",
    "LOCATION=\"us-central1\"\n",
    "\n",
    "metastore_dir = !gcloud metastore services describe $DPMS_NAME --location $LOCATION |grep 'hive.metastore.warehouse.dir'| cut -d':' -f2- | xargs \n",
    "HIVE_METASTORE_WAREHOUSE_DIR = metastore_dir[0]\n",
    "print(\"HIVE_METASTORE_WAREHOUSE_DIR\",HIVE_METASTORE_WAREHOUSE_DIR)"
   ]
  },
  {
   "cell_type": "code",
   "execution_count": 7,
   "id": "e00cb418-a3a0-4c7f-9686-398322afa963",
   "metadata": {},
   "outputs": [
    {
     "name": "stdout",
     "output_type": "stream",
     "text": [
      "Fully quailified table name : loan_db.loans_by_state_iceberg\n"
     ]
    }
   ],
   "source": [
    "TABLE_NAME=\"loans_by_state_iceberg\"\n",
    "DB_NAME=\"loan_db\"\n",
    "#fully qualified table name\n",
    "FQTN=f\"{DB_NAME}.{TABLE_NAME}\"\n",
    "print(\"Fully quailified table name :\",FQTN)"
   ]
  },
  {
   "cell_type": "markdown",
   "id": "423a215e-0a4c-4078-8711-19d20395993d",
   "metadata": {},
   "source": [
    "### 4. Time Travel"
   ]
  },
  {
   "cell_type": "markdown",
   "id": "130ba1d6-dbb2-4656-82f8-216eca8e9a32",
   "metadata": {},
   "source": [
    "#### a. Time Travel with Snapshots"
   ]
  },
  {
   "cell_type": "code",
   "execution_count": 8,
   "id": "5791e029-db63-4923-9749-c66fc10c80fa",
   "metadata": {},
   "outputs": [
    {
     "name": "stderr",
     "output_type": "stream",
     "text": [
      "[Stage 0:>                                                          (0 + 1) / 1]\r"
     ]
    },
    {
     "name": "stdout",
     "output_type": "stream",
     "text": [
      "+-----------------------+-------------------+---------+\n",
      "|committed_at           |snapshot_id        |operation|\n",
      "+-----------------------+-------------------+---------+\n",
      "|2023-02-10 15:26:16.364|3648627921780331930|append   |\n",
      "|2023-02-10 22:29:45.022|5222601969543758311|overwrite|\n",
      "|2023-02-10 22:33:06.455|9145457862466461068|append   |\n",
      "|2023-02-10 22:35:11.244|8627182030940064924|overwrite|\n",
      "|2023-02-10 22:36:30.093|2697368997376323351|overwrite|\n",
      "|2023-02-10 22:44:01.95 |5865803199727045458|overwrite|\n",
      "+-----------------------+-------------------+---------+\n",
      "\n"
     ]
    },
    {
     "name": "stderr",
     "output_type": "stream",
     "text": [
      "                                                                                \r"
     ]
    }
   ],
   "source": [
    "spark.sql(f\"select committed_at, snapshot_id, operation from {FQTN}.snapshots\").show(truncate=False)"
   ]
  },
  {
   "cell_type": "markdown",
   "id": "b44461f6-3df5-4f41-a2b6-81f556e13d2a",
   "metadata": {},
   "source": [
    "**Note: Please replace the Snapshot-id value in below statements based on your result from the above query at the time of execution**"
   ]
  },
  {
   "cell_type": "code",
   "execution_count": 11,
   "id": "8d403fe6-437b-4997-ae9a-c3761afbad55",
   "metadata": {},
   "outputs": [
    {
     "name": "stdout",
     "output_type": "stream",
     "text": [
      "Table state at snapshot-id '2697368997376323351'\n"
     ]
    },
    {
     "name": "stderr",
     "output_type": "stream",
     "text": [
      "                                                                                \r"
     ]
    },
    {
     "name": "stdout",
     "output_type": "stream",
     "text": [
      "+----------+----------+\n",
      "|addr_state|loan_count|\n",
      "+----------+----------+\n",
      "|IN        |7511      |\n",
      "|AZ        |11111     |\n",
      "+----------+----------+\n",
      "\n",
      "Table state at snapshot-id '3648627921780331930'\n"
     ]
    },
    {
     "name": "stderr",
     "output_type": "stream",
     "text": [
      "                                                                                \r"
     ]
    },
    {
     "name": "stdout",
     "output_type": "stream",
     "text": [
      "+----------+----------+\n",
      "|addr_state|loan_count|\n",
      "+----------+----------+\n",
      "|AZ        |10318     |\n",
      "|CA        |62090     |\n",
      "|IN        |7511      |\n",
      "|IA        |1         |\n",
      "+----------+----------+\n",
      "\n",
      "Table state at latest snapshot\n",
      "+----------+----------+\n",
      "|addr_state|loan_count|\n",
      "+----------+----------+\n",
      "|CA        |11111     |\n",
      "|IA        |11111     |\n",
      "|IN        |11111     |\n",
      "|AZ        |11111     |\n",
      "+----------+----------+\n",
      "\n"
     ]
    }
   ],
   "source": [
    "print(\"Table state at snapshot-id '2697368997376323351'\")\n",
    "spark.read.option(\"snapshot-id\",\"2697368997376323351\").format(\"iceberg\").load(f\"{FQTN}\").filter(col('addr_state').isin('IA','AZ','CA','IN')).show(truncate=False)\n",
    "      \n",
    "\n",
    "print(\"Table state at snapshot-id '3648627921780331930'\")\n",
    "spark.read.option(\"snapshot-id\",\"3648627921780331930\").format(\"iceberg\").load(f\"{FQTN}\").filter(col('addr_state').isin('IA','AZ','CA','IN')).show(truncate=False)\n",
    "   \n",
    "print(\"Table state at latest snapshot\")\n",
    "spark.read.format(\"iceberg\").load(f\"{FQTN}\").filter(col('addr_state').isin('IA','AZ','CA','IN')).show(truncate=False)\n"
   ]
  },
  {
   "cell_type": "markdown",
   "id": "d697b53e-63a7-4bea-9bb8-0b0938749135",
   "metadata": {},
   "source": [
    "#### b. Time Travel with Timestamps"
   ]
  },
  {
   "cell_type": "code",
   "execution_count": 14,
   "id": "d41c8c07-3530-4c24-a425-f04324e92a00",
   "metadata": {},
   "outputs": [
    {
     "name": "stdout",
     "output_type": "stream",
     "text": [
      "+-----------------------+-------------------+-------------------+-------------------+\n",
      "|made_current_at        |snapshot_id        |parent_id          |is_current_ancestor|\n",
      "+-----------------------+-------------------+-------------------+-------------------+\n",
      "|2023-02-10 15:26:16.364|3648627921780331930|null               |true               |\n",
      "|2023-02-10 22:29:45.022|5222601969543758311|3648627921780331930|true               |\n",
      "|2023-02-10 22:33:06.455|9145457862466461068|5222601969543758311|true               |\n",
      "|2023-02-10 22:35:11.244|8627182030940064924|9145457862466461068|true               |\n",
      "|2023-02-10 22:36:30.093|2697368997376323351|8627182030940064924|true               |\n",
      "|2023-02-10 22:44:01.95 |5865803199727045458|2697368997376323351|true               |\n",
      "+-----------------------+-------------------+-------------------+-------------------+\n",
      "\n"
     ]
    }
   ],
   "source": [
    "#checking all updates to table\n",
    "spark.table(f\"{FQTN}.history\").show(truncate=False)"
   ]
  },
  {
   "cell_type": "markdown",
   "id": "5eb5d257-e14f-4969-9c85-7c1cd64a7b4a",
   "metadata": {},
   "source": [
    "**Note: Please replace the timestamp values for _'dt1'_ and _'dt2'_  in below statements based on your result from the above query at the time of execution**"
   ]
  },
  {
   "cell_type": "code",
   "execution_count": 17,
   "id": "505cc139-006f-4870-a9d7-ca90181d06f8",
   "metadata": {},
   "outputs": [
    {
     "name": "stdout",
     "output_type": "stream",
     "text": [
      "Table state at timestamp  2023-02-10 22:35:11\n",
      "+----------+----------+\n",
      "|addr_state|loan_count|\n",
      "+----------+----------+\n",
      "|CA        |62090     |\n",
      "|IN        |7511      |\n",
      "|IA        |1         |\n",
      "|AZ        |50000     |\n",
      "+----------+----------+\n",
      "\n",
      "Table state at timestamp  2023-02-10 22:29:45\n",
      "+----------+----------+\n",
      "|addr_state|loan_count|\n",
      "+----------+----------+\n",
      "|AZ        |10318     |\n",
      "|CA        |62090     |\n",
      "|IN        |7511      |\n",
      "|IA        |1         |\n",
      "+----------+----------+\n",
      "\n",
      "Table state at latest timestamp\n",
      "+----------+----------+\n",
      "|addr_state|loan_count|\n",
      "+----------+----------+\n",
      "|CA        |11111     |\n",
      "|IA        |11111     |\n",
      "|IN        |11111     |\n",
      "|AZ        |11111     |\n",
      "+----------+----------+\n",
      "\n"
     ]
    }
   ],
   "source": [
    "\n",
    "dt_fmt = \"%Y-%m-%d %H:%M:%S\"\n",
    "\n",
    "dt1 = '2023-02-10 22:35:11'\n",
    "dt1_millis = int(datetime.strptime(dt1,dt_fmt).strftime(\"%s\"))*1000\n",
    "print(\"Table state at timestamp \",dt1)\n",
    "spark.read.option(\"as-of-timestamp\",dt1_millis).format(\"iceberg\").load(f\"{FQTN}\").filter(col('addr_state').isin('IA','AZ','CA','IN')).show(truncate=False)\n",
    "      \n",
    "\n",
    "dt2 = '2023-02-10 22:29:45'\n",
    "dt2_millis = int(datetime.strptime(dt2,dt_fmt).strftime(\"%s\"))*1000\n",
    "print(\"Table state at timestamp \",dt2)\n",
    "spark.read.option(\"as-of-timestamp\",dt2_millis).format(\"iceberg\").load(f\"{FQTN}\").filter(col('addr_state').isin('IA','AZ','CA','IN')).show(truncate=False)\n",
    "   \n",
    "    \n",
    "print(\"Table state at latest timestamp\")\n",
    "spark.read.format(\"iceberg\").load(f\"{FQTN}\").filter(col('addr_state').isin('IA','AZ','CA','IN')).show(truncate=False)\n"
   ]
  },
  {
   "cell_type": "markdown",
   "id": "c0042990-df24-48cd-83bf-67883e3852c6",
   "metadata": {},
   "source": [
    "**NOTE:** \n",
    "\n",
    "For Spark version 3.3 and above Iceberg has introduced new clauses to make it easier to time travel.\n",
    "If your Kernel is running on **spark 3.3** make sure to try out the below statements\n",
    "\n",
    "\n",
    "_1. spark.sql(\"SELECT * FROM loan_db.loans_by_state_iceberg TIMESTAMP AS OF '2023-02-09 04:51:39'\")_\n",
    "\n",
    "_2. spark.sql(\"SELECT * FROM loan_db.loans_by_state_iceberg VERSION AS OF '7858592723528865925'\")_\n"
   ]
  },
  {
   "cell_type": "markdown",
   "id": "b86593ab-c082-4067-8f45-4d7f1836fef4",
   "metadata": {},
   "source": [
    "### THIS CONCLUDES THIS UNIT. PROCEED TO THE NEXT NOTEBOOK"
   ]
  }
 ],
 "metadata": {
  "language_info": {
   "codemirror_mode": {
    "name": "ipython",
    "version": 3
   },
   "file_extension": ".py",
   "mimetype": "text/x-python",
   "name": "python",
   "nbconvert_exporter": "python",
   "pygments_lexer": "ipython3",
   "version": "3.9.15"
  },
  "serverless_spark": "{\"name\":\"projects/nikhim-iceberg-lab/locations/us-central1/sessions/iceberg-lab-21148\",\"uuid\":\"6f0318c1-a7df-4fe3-94cf-9975cfbf72e0\",\"createTime\":\"2023-02-10T22:23:37.228833Z\",\"jupyterSession\":{},\"spark\":{},\"runtimeInfo\":{\"endpoints\":{\"Spark History Server\":\"https://7suwyw62lfbjhcvtckfaxhuxcm-dot-us-central1.dataproc.googleusercontent.com/sparkhistory/?eventLogDirFilter=6f0318c1-a7df-4fe3-94cf-9975cfbf72e0\"}},\"state\":\"ACTIVE\",\"stateTime\":\"2023-02-10T22:24:33.846420Z\",\"creator\":\"nikhim@google.com\",\"runtimeConfig\":{\"version\":\"1.0.29\",\"properties\":{\"spark:spark.jars.packages\":\"org.apache.iceberg:iceberg-spark-runtime-3.2_2.12:1.1.0\",\"spark:spark.sql.catalog.hdp_ctlg\":\"org.apache.iceberg.spark.SparkCatalog\",\"spark:spark.sql.catalog.hdp_ctlg.type\":\"hadoop\",\"spark:spark.sql.catalog.hdp_ctlg.warehouse\":\"gs://iceberg-spark-bucket-928505941962/iceberg-warehouse-dir\",\"spark:spark.sql.catalog.spark_catalog\":\"org.apache.iceberg.spark.SparkSessionCatalog\",\"spark:spark.sql.catalog.spark_catalog.type\":\"hive\",\"spark:spark.sql.extensions\":\"org.apache.iceberg.spark.extensions.IcebergSparkSessionExtensions\",\"spark:spark.executor.instances\":\"2\",\"spark:spark.driver.cores\":\"4\",\"spark:spark.executor.cores\":\"4\",\"spark:spark.dynamicAllocation.executorAllocationRatio\":\"0.3\",\"spark:spark.eventLog.dir\":\"gs://iceberg-sphs-bucket-928505941962/6f0318c1-a7df-4fe3-94cf-9975cfbf72e0/spark-job-history\"}},\"environmentConfig\":{\"executionConfig\":{\"serviceAccount\":\"iceberg-lab-sa@nikhim-iceberg-lab.iam.gserviceaccount.com\",\"subnetworkUri\":\"spark-subnet\",\"idleTtl\":\"14400s\"},\"peripheralsConfig\":{\"metastoreService\":\"projects/nikhim-iceberg-lab/locations/us-central1/services/iceberg-hms-928505941962\",\"sparkHistoryServerConfig\":{\"dataprocCluster\":\"projects/nikhim-iceberg-lab/regions/us-central1/clusters/iceberg-sphs-928505941962\"}}},\"stateHistory\":[{\"state\":\"CREATING\",\"stateStartTime\":\"2023-02-10T22:23:37.228833Z\"}]}",
  "serverless_spark_kernel_name": "remote-54476d9b9a4e3729c940cef9-pyspark",
  "vscode": {
   "interpreter": {
    "hash": "aee8b7b246df8f9039afb4144a1f6fd8d2ca17a180786b69acc140d282b71a49"
   }
  }
 },
 "nbformat": 4,
 "nbformat_minor": 5
}
