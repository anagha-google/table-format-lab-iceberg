{
 "cells": [
  {
   "cell_type": "markdown",
   "id": "4529a790-8425-4600-841a-4b094b82eaa8",
   "metadata": {},
   "source": [
    "# Iceberg Lab \n",
    "## Unit 8: Table Maintenance Procedures \n",
    "\n",
    "In the previous unit, we -\n",
    "1. Learned about Snapshot Management\n",
    "\n",
    "In this unit, we will-\n",
    "1. Learn about Spark Procedures provided by Iceberg for Table Maintenance \n"
   ]
  },
  {
   "cell_type": "markdown",
   "id": "1a31c4fd-d465-4f52-8e56-3775bf499abc",
   "metadata": {},
   "source": [
    "### 1. Imports"
   ]
  },
  {
   "cell_type": "code",
   "execution_count": 1,
   "id": "1321bce9-178c-4065-8187-0a5728c1a370",
   "metadata": {},
   "outputs": [],
   "source": [
    "from pyspark.sql import SparkSession\n",
    "from pyspark.sql.functions import col \n",
    "\n",
    "import warnings\n",
    "warnings.filterwarnings('ignore')"
   ]
  },
  {
   "cell_type": "markdown",
   "id": "ed295a74-ed1d-4b5d-831a-1b5dcf73c36f",
   "metadata": {},
   "source": [
    "### 2. Create a Spark session powered by Cloud Dataproc "
   ]
  },
  {
   "cell_type": "code",
   "execution_count": 2,
   "id": "b383d5ab-a0b9-45ab-a232-34d88f2a0065",
   "metadata": {},
   "outputs": [
    {
     "name": "stderr",
     "output_type": "stream",
     "text": [
      "24/05/13 17:15:41 WARN SparkSession: Using an existing Spark session; only runtime SQL configurations will take effect.\n"
     ]
    },
    {
     "data": {
      "text/html": [
       "\n",
       "            <div>\n",
       "                <p><b>SparkSession - hive</b></p>\n",
       "                \n",
       "        <div>\n",
       "            <p><b>SparkContext</b></p>\n",
       "\n",
       "            <p><a href=\"http://gdpic-srvls-session-0d0ce882-9f5b-439e-bbb8-5879459b71b9-m.us-central1-a.c.delta-lake-diy-lab.internal:4040\">Spark UI</a></p>\n",
       "\n",
       "            <dl>\n",
       "              <dt>Version</dt>\n",
       "                <dd><code>v3.3.4</code></dd>\n",
       "              <dt>Master</dt>\n",
       "                <dd><code>spark://gdpic-srvls-session-0d0ce882-9f5b-439e-bbb8-5879459b71b9-m:7077</code></dd>\n",
       "              <dt>AppName</dt>\n",
       "                <dd><code>PySparkShell</code></dd>\n",
       "            </dl>\n",
       "        </div>\n",
       "        \n",
       "            </div>\n",
       "        "
      ],
      "text/plain": [
       "<pyspark.sql.session.SparkSession at 0x7fa0dee29330>"
      ]
     },
     "execution_count": 2,
     "metadata": {},
     "output_type": "execute_result"
    }
   ],
   "source": [
    "spark = SparkSession.builder.appName('Loan Analysis').getOrCreate()\n",
    "spark.sparkContext.setLogLevel(\"WARN\")\n",
    "spark"
   ]
  },
  {
   "cell_type": "markdown",
   "id": "63cd13e6-f3f5-4f2c-b4fc-d7e2660c6206",
   "metadata": {},
   "source": [
    "### 3. Declare variables"
   ]
  },
  {
   "cell_type": "code",
   "execution_count": 3,
   "id": "5596e31b-749a-4702-8879-6f05f9ff0c2d",
   "metadata": {},
   "outputs": [
    {
     "name": "stdout",
     "output_type": "stream",
     "text": [
      "PROJECT_ID:  delta-lake-diy-lab\n"
     ]
    }
   ],
   "source": [
    "project_id_output = !gcloud config list --format \"value(core.project)\" 2>/dev/null\n",
    "PROJECT_ID = project_id_output[0]\n",
    "print(\"PROJECT_ID: \", PROJECT_ID)"
   ]
  },
  {
   "cell_type": "code",
   "execution_count": 4,
   "id": "471c6743-a058-462b-851a-f34323f36243",
   "metadata": {},
   "outputs": [
    {
     "name": "stdout",
     "output_type": "stream",
     "text": [
      "PROJECT_NAME:  delta-lake-diy-lab\n"
     ]
    }
   ],
   "source": [
    "project_name_output = !gcloud projects describe $PROJECT_ID | grep name | cut -d':' -f2 | xargs\n",
    "PROJECT_NAME = project_name_output[0]\n",
    "print(\"PROJECT_NAME: \", PROJECT_NAME)"
   ]
  },
  {
   "cell_type": "code",
   "execution_count": 5,
   "id": "61929dc6-a083-433c-8a13-3d39d9c4a4a1",
   "metadata": {},
   "outputs": [
    {
     "name": "stdout",
     "output_type": "stream",
     "text": [
      "PROJECT_NUMBER:  11002190840\n"
     ]
    }
   ],
   "source": [
    "project_number_output = !gcloud projects describe $PROJECT_ID | grep projectNumber | cut -d':' -f2 | xargs\n",
    "PROJECT_NUMBER = project_number_output[0]\n",
    "print(\"PROJECT_NUMBER: \", PROJECT_NUMBER)"
   ]
  },
  {
   "cell_type": "code",
   "execution_count": 6,
   "id": "f8b79fd2-5243-41a4-ae87-e7f9dd87cf20",
   "metadata": {},
   "outputs": [
    {
     "name": "stdout",
     "output_type": "stream",
     "text": [
      "HIVE_METASTORE_WAREHOUSE_DIR gs://gcs-bucket-dll-hms-11002190840-e1664035-a2d9-4215-be46-45c40712/hive-warehouse\n"
     ]
    }
   ],
   "source": [
    "DPMS_NAME=f\"dll-hms-{PROJECT_NUMBER}\"\n",
    "LOCATION=\"us-central1\"\n",
    "\n",
    "metastore_dir = !gcloud metastore services describe $DPMS_NAME --location $LOCATION |grep 'hive.metastore.warehouse.dir'| cut -d':' -f2- | xargs \n",
    "HIVE_METASTORE_WAREHOUSE_DIR = metastore_dir[0]\n",
    "print(\"HIVE_METASTORE_WAREHOUSE_DIR\",HIVE_METASTORE_WAREHOUSE_DIR)"
   ]
  },
  {
   "cell_type": "code",
   "execution_count": 7,
   "id": "68ed1c03-17ba-4de8-97a6-b04edfa15b5a",
   "metadata": {},
   "outputs": [
    {
     "name": "stdout",
     "output_type": "stream",
     "text": [
      "Fully quailified table name : loan_db.loans_by_state_iceberg\n"
     ]
    }
   ],
   "source": [
    "TABLE_NAME=\"loans_by_state_iceberg\"\n",
    "DB_NAME=\"loan_db\"\n",
    "\n",
    "#fully qualified table name\n",
    "FQTN=f\"{DB_NAME}.{TABLE_NAME}\"\n",
    "\n",
    "print(\"Fully quailified table name :\",FQTN)"
   ]
  },
  {
   "cell_type": "markdown",
   "id": "80039562-cc9d-48fb-b3b3-17badc5ca3f3",
   "metadata": {},
   "source": [
    "### 4. Table Maintenance"
   ]
  },
  {
   "cell_type": "code",
   "execution_count": 8,
   "id": "3ede8b12-5f89-4fd0-aa3c-4f6ded7a27be",
   "metadata": {},
   "outputs": [
    {
     "name": "stdout",
     "output_type": "stream",
     "text": [
      "DATA_FILE_COUNT ['6']\n",
      "METADATA_FILE_COUNT ['11']\n",
      "MANIFEST_FILE_COUNT ['11']\n",
      "MANIFEST_LIST_COUNT ['6']\n"
     ]
    }
   ],
   "source": [
    "#Get base file counts from the table folder\n",
    "\n",
    "DATA_FILE_COUNT= !gsutil ls -r {HIVE_METASTORE_WAREHOUSE_DIR}/loan_db.db/{TABLE_NAME}/data/*.parquet | wc -l\n",
    "print(\"DATA_FILE_COUNT\",DATA_FILE_COUNT)\n",
    "\n",
    "METADATA_FILE_COUNT= !gsutil ls -r {HIVE_METASTORE_WAREHOUSE_DIR}/loan_db.db/{TABLE_NAME}/metadata/*.json | wc -l\n",
    "print(\"METADATA_FILE_COUNT\",METADATA_FILE_COUNT)\n",
    "\n",
    "MANIFEST_FILE_COUNT= !gsutil ls -r {HIVE_METASTORE_WAREHOUSE_DIR}/loan_db.db/{TABLE_NAME}/metadata/*m[0-9].avro | wc -l\n",
    "print(\"MANIFEST_FILE_COUNT\",MANIFEST_FILE_COUNT)\n",
    "\n",
    "MANIFEST_LIST_COUNT= !gsutil ls -r {HIVE_METASTORE_WAREHOUSE_DIR}/loan_db.db/{TABLE_NAME}/metadata/snap*.avro | wc -l\n",
    "print(\"MANIFEST_LIST_COUNT\",MANIFEST_LIST_COUNT)"
   ]
  },
  {
   "cell_type": "markdown",
   "id": "7f10add5-3a33-42cd-b341-2601dd06f914",
   "metadata": {},
   "source": [
    "#### a. expire_snapshots"
   ]
  },
  {
   "cell_type": "code",
   "execution_count": 9,
   "id": "605ac03f-89d9-429a-88f5-39449e00f1a9",
   "metadata": {},
   "outputs": [
    {
     "name": "stderr",
     "output_type": "stream",
     "text": [
      "24/05/13 17:16:06 WARN WindowExec: No Partition Defined for Window operation! Moving all data to a single partition, this can cause serious performance degradation.\n",
      "24/05/13 17:16:06 WARN WindowExec: No Partition Defined for Window operation! Moving all data to a single partition, this can cause serious performance degradation.\n",
      "24/05/13 17:16:06 WARN WindowExec: No Partition Defined for Window operation! Moving all data to a single partition, this can cause serious performance degradation.\n",
      "[Stage 0:>                                                          (0 + 1) / 1]\r"
     ]
    },
    {
     "name": "stdout",
     "output_type": "stream",
     "text": [
      "Expiration Timestamp= 2024-05-13 16:50:19.235000\n"
     ]
    },
    {
     "name": "stderr",
     "output_type": "stream",
     "text": [
      "                                                                                \r"
     ]
    }
   ],
   "source": [
    "#Fetch an expiration timestamp or input value manually \n",
    "\n",
    "#EXP_TS=<enter timestamp manually here>\n",
    "\n",
    "from pyspark.sql.functions import col,lit\n",
    "\n",
    "EXP_TS = spark.sql(\"select committed_at from (SELECT committed_at, ROW_NUMBER() OVER(ORDER BY committed_at ASC) rownum from loan_db.loans_by_state_iceberg.snapshots) a where a.rownum =3\").collect()[0][0]\n",
    "print(\"Expiration Timestamp=\", EXP_TS)"
   ]
  },
  {
   "cell_type": "code",
   "execution_count": 10,
   "id": "8b486723-8aea-4aa8-a2e8-26e16575c68a",
   "metadata": {},
   "outputs": [
    {
     "name": "stderr",
     "output_type": "stream",
     "text": [
      "                                                                                \r"
     ]
    },
    {
     "name": "stdout",
     "output_type": "stream",
     "text": [
      "+------------------------+-----------------------------------+-----------------------------------+----------------------------+----------------------------+------------------------------+\n",
      "|deleted_data_files_count|deleted_position_delete_files_count|deleted_equality_delete_files_count|deleted_manifest_files_count|deleted_manifest_lists_count|deleted_statistics_files_count|\n",
      "+------------------------+-----------------------------------+-----------------------------------+----------------------------+----------------------------+------------------------------+\n",
      "|1                       |0                                  |0                                  |1                           |1                           |0                             |\n",
      "+------------------------+-----------------------------------+-----------------------------------+----------------------------+----------------------------+------------------------------+\n",
      "\n"
     ]
    }
   ],
   "source": [
    "spark.sql(f\"CALL spark_catalog.system.expire_snapshots('loan_db.loans_by_state_iceberg',TIMESTAMP '{EXP_TS}', 5)\").show(truncate=False)"
   ]
  },
  {
   "cell_type": "code",
   "execution_count": 11,
   "id": "af447170-6bad-4d66-87a6-5180c76114f2",
   "metadata": {},
   "outputs": [
    {
     "name": "stdout",
     "output_type": "stream",
     "text": [
      "DATA_FILE_COUNT ['5']\n",
      "METADATA_FILE_COUNT ['12']\n",
      "MANIFEST_FILE_COUNT ['10']\n",
      "MANIFEST_LIST_COUNT ['5']\n"
     ]
    }
   ],
   "source": [
    "#Get file counts from the table folder after expiring old snapshots\n",
    "\n",
    "DATA_FILE_COUNT= !gsutil ls -r {HIVE_METASTORE_WAREHOUSE_DIR}/loan_db.db/{TABLE_NAME}/data/*.parquet | wc -l\n",
    "print(\"DATA_FILE_COUNT\",DATA_FILE_COUNT)\n",
    "\n",
    "METADATA_FILE_COUNT= !gsutil ls -r {HIVE_METASTORE_WAREHOUSE_DIR}/loan_db.db/{TABLE_NAME}/metadata/*.json | wc -l\n",
    "print(\"METADATA_FILE_COUNT\",METADATA_FILE_COUNT)\n",
    "\n",
    "MANIFEST_FILE_COUNT= !gsutil ls -r {HIVE_METASTORE_WAREHOUSE_DIR}/loan_db.db/{TABLE_NAME}/metadata/*m[0-9].avro | wc -l\n",
    "print(\"MANIFEST_FILE_COUNT\",MANIFEST_FILE_COUNT)\n",
    "\n",
    "MANIFEST_LIST_COUNT= !gsutil ls -r {HIVE_METASTORE_WAREHOUSE_DIR}/loan_db.db/{TABLE_NAME}/metadata/snap*.avro | wc -l\n",
    "print(\"MANIFEST_LIST_COUNT\",MANIFEST_LIST_COUNT)"
   ]
  },
  {
   "cell_type": "markdown",
   "id": "e99eb542-fa63-41c8-a5bd-578b84aacef0",
   "metadata": {},
   "source": [
    "**NOTE:**\n",
    "1. Iceberg identifies the snapshots it can delete safely and deletes the corresponding data files, manifests and manifest lists\n",
    "2. Also a new metadata file is added and this file will not maintain information about the expired snapshots so they are no longer available for time travel queries.\n",
    "\n"
   ]
  },
  {
   "cell_type": "code",
   "execution_count": 12,
   "id": "64adf2f3-867b-4fa5-b0d0-413abd3a9561",
   "metadata": {},
   "outputs": [
    {
     "name": "stdout",
     "output_type": "stream",
     "text": [
      "+--------------------+-------------------+-------------------+---------+--------------------+--------------------+\n",
      "|        committed_at|        snapshot_id|          parent_id|operation|       manifest_list|             summary|\n",
      "+--------------------+-------------------+-------------------+---------+--------------------+--------------------+\n",
      "|2024-05-13 16:48:...|5233765456160638845|9176687385630465169|overwrite|gs://gcs-bucket-d...|{spark.app.id -> ...|\n",
      "|2024-05-13 16:50:...|7272046516454809414|5233765456160638845|   append|gs://gcs-bucket-d...|{spark.app.id -> ...|\n",
      "|2024-05-13 16:51:...|6697245229602575300|7272046516454809414|overwrite|gs://gcs-bucket-d...|{spark.app.id -> ...|\n",
      "|2024-05-13 16:52:...|1795098683837972174|6697245229602575300|overwrite|gs://gcs-bucket-d...|{spark.app.id -> ...|\n",
      "|2024-05-13 16:54:...|4282559450411521188|1795098683837972174|overwrite|gs://gcs-bucket-d...|{spark.app.id -> ...|\n",
      "+--------------------+-------------------+-------------------+---------+--------------------+--------------------+\n",
      "\n"
     ]
    }
   ],
   "source": [
    "spark.table(\"loan_db.loans_by_state_iceberg.snapshots\").show()"
   ]
  },
  {
   "cell_type": "markdown",
   "id": "447fdf91-ed8c-40f6-885d-e682b5cfe0dd",
   "metadata": {},
   "source": [
    "#### b. rewrite_manifests"
   ]
  },
  {
   "cell_type": "code",
   "execution_count": 13,
   "id": "2ab7e9fa-79e0-46d1-9e4b-0c4ee7680138",
   "metadata": {},
   "outputs": [
    {
     "name": "stderr",
     "output_type": "stream",
     "text": [
      "24/05/13 17:16:43 WARN package: Truncated the string representation of a plan since it was too large. This behavior can be adjusted by setting 'spark.sql.debug.maxToStringFields'.\n",
      "                                                                                \r"
     ]
    },
    {
     "name": "stdout",
     "output_type": "stream",
     "text": [
      "+-------------------------+---------------------+\n",
      "|rewritten_manifests_count|added_manifests_count|\n",
      "+-------------------------+---------------------+\n",
      "|2                        |1                    |\n",
      "+-------------------------+---------------------+\n",
      "\n"
     ]
    }
   ],
   "source": [
    "#Rewrite manifests for a table to optimize scan planning.\n",
    "spark.sql(\"CALL spark_catalog.system.rewrite_manifests('loan_db.loans_by_state_iceberg')\").show(truncate=False)"
   ]
  },
  {
   "cell_type": "code",
   "execution_count": 14,
   "id": "74d0f64e-5b40-4ee2-b5e0-de7eee565ee1",
   "metadata": {},
   "outputs": [
    {
     "name": "stdout",
     "output_type": "stream",
     "text": [
      "DATA_FILE_COUNT ['5']\n",
      "METADATA_FILE_COUNT ['13']\n",
      "MANIFEST_FILE_COUNT ['10']\n",
      "SNAPSHOT_FILE_COUNT ['6']\n"
     ]
    }
   ],
   "source": [
    "#Get file counts from the table folder after rewriting manifests\n",
    "\n",
    "DATA_FILE_COUNT= !gsutil ls -r {HIVE_METASTORE_WAREHOUSE_DIR}/loan_db.db/{TABLE_NAME}/data/*.parquet | wc -l\n",
    "print(\"DATA_FILE_COUNT\",DATA_FILE_COUNT)\n",
    "\n",
    "METADATA_FILE_COUNT= !gsutil ls -r {HIVE_METASTORE_WAREHOUSE_DIR}/loan_db.db/{TABLE_NAME}/metadata/*.json | wc -l\n",
    "print(\"METADATA_FILE_COUNT\",METADATA_FILE_COUNT)\n",
    "\n",
    "MANIFEST_FILE_COUNT= !gsutil ls -r {HIVE_METASTORE_WAREHOUSE_DIR}/loan_db.db/{TABLE_NAME}/metadata/*m[0-9].avro | wc -l\n",
    "print(\"MANIFEST_FILE_COUNT\",MANIFEST_FILE_COUNT)\n",
    "\n",
    "SNAPSHOT_FILE_COUNT= !gsutil ls -r {HIVE_METASTORE_WAREHOUSE_DIR}/loan_db.db/{TABLE_NAME}/metadata/snap*.avro | wc -l\n",
    "print(\"SNAPSHOT_FILE_COUNT\",SNAPSHOT_FILE_COUNT)"
   ]
  },
  {
   "cell_type": "markdown",
   "id": "c1e3ae76-788e-4866-afef-e7266bbd0c51",
   "metadata": {},
   "source": [
    "**NOTE:**\n",
    "1. Rewriting manifests performs below operations <br>\n",
    "    i. Align manifest files with table partitioning <br>\n",
    "    ii. Sort data files in manifest based on partition spec fields <br>\n",
    "    iii. Optimize scan planning <br>\n",
    "\n",
    "2. Adds new snapshot and manifest list to indicate changes to manifests"
   ]
  },
  {
   "cell_type": "markdown",
   "id": "10879741-4d12-4c31-b30a-2178ad7eac32",
   "metadata": {},
   "source": [
    "#### c. rewrite_data_files"
   ]
  },
  {
   "cell_type": "code",
   "execution_count": 15,
   "id": "84ed3031-bd57-4e3c-9352-2a9d9566d698",
   "metadata": {},
   "outputs": [
    {
     "name": "stdout",
     "output_type": "stream",
     "text": [
      "+--------------------------+----------------------+---------------------+\n",
      "|rewritten_data_files_count|added_data_files_count|rewritten_bytes_count|\n",
      "+--------------------------+----------------------+---------------------+\n",
      "|0                         |0                     |0                    |\n",
      "+--------------------------+----------------------+---------------------+\n",
      "\n"
     ]
    }
   ],
   "source": [
    "#rewrite data file using lexicographical sort order compaction strategy \n",
    "spark.sql(f\"CALL spark_catalog.system.rewrite_data_files(table => '{FQTN}',strategy => 'sort', sort_order => 'addr_state ASC NULLS LAST' )\").show(truncate=False)"
   ]
  },
  {
   "cell_type": "code",
   "execution_count": 16,
   "id": "c59cfcc4-42ce-42fb-8296-c51689074475",
   "metadata": {},
   "outputs": [
    {
     "name": "stdout",
     "output_type": "stream",
     "text": [
      "+--------------------------+----------------------+---------------------+\n",
      "|rewritten_data_files_count|added_data_files_count|rewritten_bytes_count|\n",
      "+--------------------------+----------------------+---------------------+\n",
      "|0                         |0                     |0                    |\n",
      "+--------------------------+----------------------+---------------------+\n",
      "\n"
     ]
    }
   ],
   "source": [
    "#rewrite data file using zorder sort compaction strategy \n",
    "spark.sql(f\"CALL spark_catalog.system.rewrite_data_files(table => '{FQTN}',strategy => 'sort', sort_order => 'zorder(addr_state,loan_count)')\").show(truncate=False)"
   ]
  },
  {
   "cell_type": "markdown",
   "id": "27be5848-03b8-401f-8300-616f5b222d84",
   "metadata": {},
   "source": [
    "**NOTE:**\n",
    "1. If the data files are already compacted then rewriting data files does not impact the files\n",
    "2. If no strategy is specified then binpacking is used as compaction strategy by default"
   ]
  },
  {
   "cell_type": "markdown",
   "id": "9b327325-8fe4-4b4c-a1b9-94636c759662",
   "metadata": {},
   "source": [
    "#### d. Clear old metadata files"
   ]
  },
  {
   "cell_type": "code",
   "execution_count": 17,
   "id": "58a46011-9109-4ed6-b2bb-a3411c12a241",
   "metadata": {},
   "outputs": [
    {
     "name": "stderr",
     "output_type": "stream",
     "text": [
      "ivysettings.xml file not found in HIVE_HOME or HIVE_CONF_DIR,/etc/spark/conf/ivysettings.xml will be used\n"
     ]
    },
    {
     "name": "stdout",
     "output_type": "stream",
     "text": [
      "++\n",
      "||\n",
      "++\n",
      "++\n",
      "\n",
      "++\n",
      "||\n",
      "++\n",
      "++\n",
      "\n"
     ]
    }
   ],
   "source": [
    "#Set auto metadata cleanup to true\n",
    "spark.sql(f'ALTER TABLE {FQTN} SET TBLPROPERTIES(\"write.metadata.delete-after-commit.enabled\"=true)').show(truncate=False)\n",
    "\n",
    "#Set max versions of metadata files to be retained\n",
    "spark.sql(f'ALTER TABLE {FQTN} SET TBLPROPERTIES(\"write.metadata.previous-versions-max\"=5)').show(truncate=False)"
   ]
  },
  {
   "cell_type": "code",
   "execution_count": 18,
   "id": "156a5d80-0215-4f31-b2e6-addf7908edd1",
   "metadata": {},
   "outputs": [
    {
     "name": "stdout",
     "output_type": "stream",
     "text": [
      "DATA_FILE_COUNT ['5']\n",
      "METADATA_FILE_COUNT ['6']\n",
      "MANIFEST_FILE_COUNT ['10']\n",
      "SNAPSHOT_FILE_COUNT ['6']\n"
     ]
    }
   ],
   "source": [
    "#Get base file counts from the table folder\n",
    "\n",
    "DATA_FILE_COUNT= !gsutil ls -r {HIVE_METASTORE_WAREHOUSE_DIR}/loan_db.db/{TABLE_NAME}/data/*.parquet | wc -l\n",
    "print(\"DATA_FILE_COUNT\",DATA_FILE_COUNT)\n",
    "\n",
    "METADATA_FILE_COUNT= !gsutil ls -r {HIVE_METASTORE_WAREHOUSE_DIR}/loan_db.db/{TABLE_NAME}/metadata/*.json | wc -l\n",
    "print(\"METADATA_FILE_COUNT\",METADATA_FILE_COUNT)\n",
    "\n",
    "MANIFEST_FILE_COUNT= !gsutil ls -r {HIVE_METASTORE_WAREHOUSE_DIR}/loan_db.db/{TABLE_NAME}/metadata/*m[0-9].avro | wc -l\n",
    "print(\"MANIFEST_FILE_COUNT\",MANIFEST_FILE_COUNT)\n",
    "\n",
    "SNAPSHOT_FILE_COUNT= !gsutil ls -r {HIVE_METASTORE_WAREHOUSE_DIR}/loan_db.db/{TABLE_NAME}/metadata/snap*.avro | wc -l\n",
    "print(\"SNAPSHOT_FILE_COUNT\",SNAPSHOT_FILE_COUNT)"
   ]
  },
  {
   "cell_type": "code",
   "execution_count": 19,
   "id": "e1bf15ad-1a04-4610-bf97-61d047ec0781",
   "metadata": {},
   "outputs": [
    {
     "name": "stdout",
     "output_type": "stream",
     "text": [
      "gs://gcs-bucket-dll-hms-11002190840-e1664035-a2d9-4215-be46-45c40712/hive-warehouse/loan_db.db/loans_by_state_iceberg/metadata/00009-adcf98fc-d438-4d60-869b-058ed138dba6.metadata.json\n",
      "gs://gcs-bucket-dll-hms-11002190840-e1664035-a2d9-4215-be46-45c40712/hive-warehouse/loan_db.db/loans_by_state_iceberg/metadata/00010-6777e6cd-e522-47d3-ac68-35c307f44542.metadata.json\n",
      "gs://gcs-bucket-dll-hms-11002190840-e1664035-a2d9-4215-be46-45c40712/hive-warehouse/loan_db.db/loans_by_state_iceberg/metadata/00011-4b07c1d9-8a6f-4f70-b260-569027d7db9f.metadata.json\n",
      "gs://gcs-bucket-dll-hms-11002190840-e1664035-a2d9-4215-be46-45c40712/hive-warehouse/loan_db.db/loans_by_state_iceberg/metadata/00012-b9b6b628-ed32-47e9-95cc-5904524cd3ca.metadata.json\n",
      "gs://gcs-bucket-dll-hms-11002190840-e1664035-a2d9-4215-be46-45c40712/hive-warehouse/loan_db.db/loans_by_state_iceberg/metadata/00013-b31ebdc2-0199-492c-883f-ed145a2d3c95.metadata.json\n",
      "gs://gcs-bucket-dll-hms-11002190840-e1664035-a2d9-4215-be46-45c40712/hive-warehouse/loan_db.db/loans_by_state_iceberg/metadata/00014-44087830-f879-48b6-9ad1-998a4e52b3ff.metadata.json\n"
     ]
    }
   ],
   "source": [
    "!gsutil ls -r  {HIVE_METASTORE_WAREHOUSE_DIR}/loan_db.db/{TABLE_NAME}/metadata/*.json"
   ]
  },
  {
   "cell_type": "markdown",
   "id": "b110d4eb-39c2-4528-8dc4-4ecc1f41862d",
   "metadata": {},
   "source": [
    "**NOTE:**\n",
    "1. Iceberg clears all older metadata files and retains only 5 previous versions\n",
    "2. It adds one new metadata file to commit the transaction of clearing older metadata files, hence we have 6 metadata files"
   ]
  },
  {
   "cell_type": "markdown",
   "id": "841a628f-a781-4939-8658-7312a252c440",
   "metadata": {},
   "source": [
    "#### e. remove_orphan_files"
   ]
  },
  {
   "cell_type": "code",
   "execution_count": 20,
   "id": "79718760-920a-434f-9423-c7ecd1feb100",
   "metadata": {},
   "outputs": [
    {
     "name": "stderr",
     "output_type": "stream",
     "text": [
      "                                                                                \r"
     ]
    },
    {
     "name": "stdout",
     "output_type": "stream",
     "text": [
      "+--------------------+\n",
      "|orphan_file_location|\n",
      "+--------------------+\n",
      "+--------------------+\n",
      "\n"
     ]
    }
   ],
   "source": [
    "# Clearing any orphaned (untracked) data files from the data folder\n",
    "spark.sql(f\"CALL spark_catalog.system.remove_orphan_files('{FQTN}')\").show(truncate=False)"
   ]
  },
  {
   "cell_type": "markdown",
   "id": "1e5f5b8a-178c-4cbc-aab9-e51a7c83d4cb",
   "metadata": {},
   "source": [
    "**NOTE:** If the procedure finds any orphaned files it will clear them and print the file location of deleted files"
   ]
  },
  {
   "cell_type": "code",
   "execution_count": 21,
   "id": "3b49c38f-9316-4fd2-bb8e-8135e4c08cc0",
   "metadata": {},
   "outputs": [
    {
     "name": "stdout",
     "output_type": "stream",
     "text": [
      "DATA_FILE_COUNT ['5']\n",
      "METADATA_FILE_COUNT ['6']\n",
      "MANIFEST_FILE_COUNT ['10']\n",
      "SNAPSHOT_FILE_COUNT ['6']\n"
     ]
    }
   ],
   "source": [
    "#Get base file counts from the table folder\n",
    "\n",
    "DATA_FILE_COUNT= !gsutil ls -r {HIVE_METASTORE_WAREHOUSE_DIR}/loan_db.db/{TABLE_NAME}/data/*.parquet | wc -l\n",
    "print(\"DATA_FILE_COUNT\",DATA_FILE_COUNT)\n",
    "\n",
    "METADATA_FILE_COUNT= !gsutil ls -r {HIVE_METASTORE_WAREHOUSE_DIR}/loan_db.db/{TABLE_NAME}/metadata/*.json | wc -l\n",
    "print(\"METADATA_FILE_COUNT\",METADATA_FILE_COUNT)\n",
    "\n",
    "MANIFEST_FILE_COUNT= !gsutil ls -r {HIVE_METASTORE_WAREHOUSE_DIR}/loan_db.db/{TABLE_NAME}/metadata/*m[0-9].avro | wc -l\n",
    "print(\"MANIFEST_FILE_COUNT\",MANIFEST_FILE_COUNT)\n",
    "\n",
    "SNAPSHOT_FILE_COUNT= !gsutil ls -r {HIVE_METASTORE_WAREHOUSE_DIR}/loan_db.db/{TABLE_NAME}/metadata/snap*.avro | wc -l\n",
    "print(\"SNAPSHOT_FILE_COUNT\",SNAPSHOT_FILE_COUNT)"
   ]
  },
  {
   "cell_type": "markdown",
   "id": "b86593ab-c082-4067-8f45-4d7f1836fef4",
   "metadata": {},
   "source": [
    "### THIS CONCLUDES THE ICEBERG LAB. DONT FORGET TO SHUT DOWN THE LAB RESOURCES."
   ]
  }
 ],
 "metadata": {
  "language_info": {
   "codemirror_mode": {
    "name": "ipython",
    "version": 3
   },
   "file_extension": ".py",
   "mimetype": "text/x-python",
   "name": "python",
   "nbconvert_exporter": "python",
   "pygments_lexer": "ipython3",
   "version": "3.10.9"
  },
  "serverless_spark": "{\"name\":\"projects/delta-lake-diy-lab/locations/us-central1/sessions/iceberg-lab-10866\",\"uuid\":\"0d0ce882-9f5b-439e-bbb8-5879459b71b9\",\"createTime\":\"2024-05-13T15:48:08.648503Z\",\"jupyterSession\":{},\"runtimeInfo\":{},\"state\":\"ACTIVE\",\"stateTime\":\"2024-05-13T15:50:25.744996Z\",\"creator\":\"admin@akhanolkar.altostrat.com\",\"runtimeConfig\":{\"version\":\"2.0.69\",\"properties\":{\"spark:spark.jars.packages\":\"org.apache.iceberg:iceberg-spark-runtime-3.3_2.13:1.5.0\",\"spark:spark.sql.catalog.hdp_ctlg\":\"org.apache.iceberg.spark.SparkCatalog\",\"spark:spark.sql.catalog.hdp_ctlg.type\":\"hadoop\",\"spark:spark.sql.catalog.hdp_ctlg.warehouse\":\"gs://iceberg-spark-bucket-11002190840/iceberg-warehouse-dir\",\"spark:spark.sql.catalog.spark_catalog\":\"org.apache.iceberg.spark.SparkSessionCatalog\",\"spark:spark.sql.catalog.spark_catalog.type\":\"hive\",\"spark:spark.sql.extensions\":\"org.apache.iceberg.spark.extensions.IcebergSparkSessionExtensions\",\"spark:spark.executor.instances\":\"2\",\"spark:spark.driver.cores\":\"4\",\"spark:spark.executor.cores\":\"4\",\"spark:spark.dynamicAllocation.executorAllocationRatio\":\"0.3\",\"spark:spark.eventLog.dir\":\"gs://dll-sphs-bucket-11002190840/0d0ce882-9f5b-439e-bbb8-5879459b71b9/spark-job-history\",\"spark:spark.dataproc.scaling.version\":\"1\"}},\"environmentConfig\":{\"executionConfig\":{\"serviceAccount\":\"dll-lab-sa@delta-lake-diy-lab.iam.gserviceaccount.com\",\"subnetworkUri\":\"projects/delta-lake-diy-lab/regions/us-central1/subnetworks/spark-snet\",\"idleTtl\":\"3600s\",\"ttl\":\"86400s\"},\"peripheralsConfig\":{\"metastoreService\":\"projects/delta-lake-diy-lab/locations/us-central1/services/dll-hms-11002190840\",\"sparkHistoryServerConfig\":{\"dataprocCluster\":\"projects/delta-lake-diy-lab/regions/us-central1/clusters/dll-sphs-11002190840\"}}},\"stateHistory\":[{\"state\":\"CREATING\",\"stateStartTime\":\"2024-05-13T15:48:08.648503Z\"}]}",
  "serverless_spark_kernel_name": "remote-ce1d891cea45e23d1b066316-pyspark",
  "vscode": {
   "interpreter": {
    "hash": "aee8b7b246df8f9039afb4144a1f6fd8d2ca17a180786b69acc140d282b71a49"
   }
  }
 },
 "nbformat": 4,
 "nbformat_minor": 5
}
