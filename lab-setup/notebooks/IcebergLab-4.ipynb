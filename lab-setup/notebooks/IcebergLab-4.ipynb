{
 "cells": [
  {
   "cell_type": "markdown",
   "id": "4529a790-8425-4600-841a-4b094b82eaa8",
   "metadata": {},
   "source": [
    "# Iceberg Lab \n",
    "## Unit 4: Schema Enforcement & Evolution\n",
    "\n",
    "In the previous unit, we performed below operations and viewed the corresponding changes to **data** and **metadata** folder of the table\n",
    "1. Deleted a record  \n",
    "2. Inserted a record \n",
    "3. Update a record \n",
    "4. Insert Overwrite from a source table\n",
    "5. Merged from a source table \n",
    "\n",
    "In this unit, we will -\n",
    "1. Explore Schema enforcement\n",
    "2. How schema evolution is supported in Iceberg\n"
   ]
  },
  {
   "cell_type": "markdown",
   "id": "1a31c4fd-d465-4f52-8e56-3775bf499abc",
   "metadata": {},
   "source": [
    "### 1. Imports"
   ]
  },
  {
   "cell_type": "code",
   "execution_count": 2,
   "id": "1321bce9-178c-4065-8187-0a5728c1a370",
   "metadata": {},
   "outputs": [],
   "source": [
    "from pyspark.sql import SparkSession\n",
    "\n",
    "\n",
    "import warnings\n",
    "warnings.filterwarnings('ignore')"
   ]
  },
  {
   "cell_type": "markdown",
   "id": "ed295a74-ed1d-4b5d-831a-1b5dcf73c36f",
   "metadata": {},
   "source": [
    "### 2. Create a Spark session powered by Cloud Dataproc "
   ]
  },
  {
   "cell_type": "code",
   "execution_count": 3,
   "id": "b383d5ab-a0b9-45ab-a232-34d88f2a0065",
   "metadata": {},
   "outputs": [
    {
     "data": {
      "text/html": [
       "\n",
       "            <div>\n",
       "                <p><b>SparkSession - hive</b></p>\n",
       "                \n",
       "        <div>\n",
       "            <p><b>SparkContext</b></p>\n",
       "\n",
       "            <p><a href=\"http://gdpic-srvls-session-6f0318c1-a7df-4fe3-94cf-9975cfbf72e0-m.c.nikhim-iceberg-lab.internal:4040\">Spark UI</a></p>\n",
       "\n",
       "            <dl>\n",
       "              <dt>Version</dt>\n",
       "                <dd><code>v3.2.3</code></dd>\n",
       "              <dt>Master</dt>\n",
       "                <dd><code>spark://gdpic-srvls-session-6f0318c1-a7df-4fe3-94cf-9975cfbf72e0-m:7077</code></dd>\n",
       "              <dt>AppName</dt>\n",
       "                <dd><code>PySparkShell</code></dd>\n",
       "            </dl>\n",
       "        </div>\n",
       "        \n",
       "            </div>\n",
       "        "
      ],
      "text/plain": [
       "<pyspark.sql.session.SparkSession at 0x7efd5fdb8880>"
      ]
     },
     "execution_count": 3,
     "metadata": {},
     "output_type": "execute_result"
    }
   ],
   "source": [
    "spark = SparkSession.builder.appName('Loan Analysis').getOrCreate()\n",
    "spark.sparkContext.setLogLevel(\"WARN\")\n",
    "spark"
   ]
  },
  {
   "cell_type": "markdown",
   "id": "63cd13e6-f3f5-4f2c-b4fc-d7e2660c6206",
   "metadata": {},
   "source": [
    "### 3. Declare variables"
   ]
  },
  {
   "cell_type": "code",
   "execution_count": 4,
   "id": "5596e31b-749a-4702-8879-6f05f9ff0c2d",
   "metadata": {},
   "outputs": [
    {
     "name": "stdout",
     "output_type": "stream",
     "text": [
      "PROJECT_ID:  nikhim-iceberg-lab\n"
     ]
    }
   ],
   "source": [
    "project_id_output = !gcloud config list --format \"value(core.project)\" 2>/dev/null\n",
    "PROJECT_ID = project_id_output[0]\n",
    "print(\"PROJECT_ID: \", PROJECT_ID)"
   ]
  },
  {
   "cell_type": "code",
   "execution_count": 5,
   "id": "471c6743-a058-462b-851a-f34323f36243",
   "metadata": {},
   "outputs": [
    {
     "name": "stdout",
     "output_type": "stream",
     "text": [
      "PROJECT_NAME:  nikhim-iceberg-lab\n"
     ]
    }
   ],
   "source": [
    "project_name_output = !gcloud projects describe $PROJECT_ID | grep name | cut -d':' -f2 | xargs\n",
    "PROJECT_NAME = project_name_output[0]\n",
    "print(\"PROJECT_NAME: \", PROJECT_NAME)"
   ]
  },
  {
   "cell_type": "code",
   "execution_count": 6,
   "id": "61929dc6-a083-433c-8a13-3d39d9c4a4a1",
   "metadata": {},
   "outputs": [
    {
     "name": "stdout",
     "output_type": "stream",
     "text": [
      "PROJECT_NUMBER:  928505941962\n"
     ]
    }
   ],
   "source": [
    "project_number_output = !gcloud projects describe $PROJECT_ID | grep projectNumber | cut -d':' -f2 | xargs\n",
    "PROJECT_NUMBER = project_number_output[0]\n",
    "print(\"PROJECT_NUMBER: \", PROJECT_NUMBER)"
   ]
  },
  {
   "cell_type": "code",
   "execution_count": 7,
   "id": "f8b79fd2-5243-41a4-ae87-e7f9dd87cf20",
   "metadata": {},
   "outputs": [
    {
     "name": "stdout",
     "output_type": "stream",
     "text": [
      "HIVE_METASTORE_WAREHOUSE_DIR gs://gcs-bucket-iceberg-hms-928505941962-71d67f3e-cf27-4b25-a996-86a/hive-warehouse\n"
     ]
    }
   ],
   "source": [
    "DPMS_NAME=f\"iceberg-hms-{PROJECT_NUMBER}\"\n",
    "LOCATION=\"us-central1\"\n",
    "\n",
    "metastore_dir = !gcloud metastore services describe $DPMS_NAME --location $LOCATION |grep 'hive.metastore.warehouse.dir'| cut -d':' -f2- | xargs \n",
    "HIVE_METASTORE_WAREHOUSE_DIR = metastore_dir[0]\n",
    "print(\"HIVE_METASTORE_WAREHOUSE_DIR\",HIVE_METASTORE_WAREHOUSE_DIR)"
   ]
  },
  {
   "cell_type": "code",
   "execution_count": 9,
   "id": "846662d1-4b57-4086-bbc1-07c653b5dacf",
   "metadata": {},
   "outputs": [
    {
     "name": "stdout",
     "output_type": "stream",
     "text": [
      "Fully quailified table name : loan_db.loans_by_state_iceberg\n"
     ]
    }
   ],
   "source": [
    "TABLE_NAME=\"loans_by_state_iceberg\"\n",
    "DB_NAME=\"loan_db\"\n",
    "#fully qualified table name\n",
    "FQTN=f\"{DB_NAME}.{TABLE_NAME}\"\n",
    "print(\"Fully quailified table name :\",FQTN)"
   ]
  },
  {
   "cell_type": "code",
   "execution_count": 10,
   "id": "97b70135-a0e3-4f5b-a917-086775bc2d49",
   "metadata": {},
   "outputs": [
    {
     "name": "stdout",
     "output_type": "stream",
     "text": [
      "gs://gcs-bucket-iceberg-hms-928505941962-71d67f3e-cf27-4b25-a996-86a/hive-warehouse/loan_db.db/loans_by_state_iceberg/:\n",
      "\n",
      "gs://gcs-bucket-iceberg-hms-928505941962-71d67f3e-cf27-4b25-a996-86a/hive-warehouse/loan_db.db/loans_by_state_iceberg/data/:\n",
      "gs://gcs-bucket-iceberg-hms-928505941962-71d67f3e-cf27-4b25-a996-86a/hive-warehouse/loan_db.db/loans_by_state_iceberg/data/00000-2-b2d1021e-d3ad-4aff-baa7-1c740e8a3144-00001.parquet\n",
      "gs://gcs-bucket-iceberg-hms-928505941962-71d67f3e-cf27-4b25-a996-86a/hive-warehouse/loan_db.db/loans_by_state_iceberg/data/00000-205-c4327bde-de7b-4bb7-a2fe-cb90b1c77623-00001.parquet\n",
      "gs://gcs-bucket-iceberg-hms-928505941962-71d67f3e-cf27-4b25-a996-86a/hive-warehouse/loan_db.db/loans_by_state_iceberg/data/00000-410-3265a2ac-0164-4598-a86e-03a63e191071-00001.parquet\n",
      "gs://gcs-bucket-iceberg-hms-928505941962-71d67f3e-cf27-4b25-a996-86a/hive-warehouse/loan_db.db/loans_by_state_iceberg/data/00000-457-db97e1c8-4cc1-4098-94d7-a1172491a65c-00001.parquet\n",
      "gs://gcs-bucket-iceberg-hms-928505941962-71d67f3e-cf27-4b25-a996-86a/hive-warehouse/loan_db.db/loans_by_state_iceberg/data/00054-4-595dbb6c-4517-4463-91be-a1b513cf82f2-00001.parquet\n",
      "gs://gcs-bucket-iceberg-hms-928505941962-71d67f3e-cf27-4b25-a996-86a/hive-warehouse/loan_db.db/loans_by_state_iceberg/data/00130-209-e5d9f868-2616-41fc-9233-464482068f34-00001.parquet\n",
      "\n",
      "gs://gcs-bucket-iceberg-hms-928505941962-71d67f3e-cf27-4b25-a996-86a/hive-warehouse/loan_db.db/loans_by_state_iceberg/metadata/:\n",
      "gs://gcs-bucket-iceberg-hms-928505941962-71d67f3e-cf27-4b25-a996-86a/hive-warehouse/loan_db.db/loans_by_state_iceberg/metadata/00000-e9f97377-9cf7-4d6b-a97f-cde34a16cb51.metadata.json\n",
      "gs://gcs-bucket-iceberg-hms-928505941962-71d67f3e-cf27-4b25-a996-86a/hive-warehouse/loan_db.db/loans_by_state_iceberg/metadata/00001-3278c0db-1d9d-4483-9b6f-e6fe9bc799c1.metadata.json\n",
      "gs://gcs-bucket-iceberg-hms-928505941962-71d67f3e-cf27-4b25-a996-86a/hive-warehouse/loan_db.db/loans_by_state_iceberg/metadata/00002-bc68f99b-7d12-4b18-a2b2-e9c9e745cbfe.metadata.json\n",
      "gs://gcs-bucket-iceberg-hms-928505941962-71d67f3e-cf27-4b25-a996-86a/hive-warehouse/loan_db.db/loans_by_state_iceberg/metadata/00003-b3d4f2b7-aa02-4b21-b475-9b2dc02441e7.metadata.json\n",
      "gs://gcs-bucket-iceberg-hms-928505941962-71d67f3e-cf27-4b25-a996-86a/hive-warehouse/loan_db.db/loans_by_state_iceberg/metadata/00004-1f15486a-5485-4bdf-aefb-e1b7a9da220f.metadata.json\n",
      "gs://gcs-bucket-iceberg-hms-928505941962-71d67f3e-cf27-4b25-a996-86a/hive-warehouse/loan_db.db/loans_by_state_iceberg/metadata/00005-11ccc425-46bd-4e46-a9e8-8606b7dbc16a.metadata.json\n",
      "gs://gcs-bucket-iceberg-hms-928505941962-71d67f3e-cf27-4b25-a996-86a/hive-warehouse/loan_db.db/loans_by_state_iceberg/metadata/60274643-cd8c-4f7c-b037-4ada16053ca9-m0.avro\n",
      "gs://gcs-bucket-iceberg-hms-928505941962-71d67f3e-cf27-4b25-a996-86a/hive-warehouse/loan_db.db/loans_by_state_iceberg/metadata/60274643-cd8c-4f7c-b037-4ada16053ca9-m1.avro\n",
      "gs://gcs-bucket-iceberg-hms-928505941962-71d67f3e-cf27-4b25-a996-86a/hive-warehouse/loan_db.db/loans_by_state_iceberg/metadata/6d82bf31-6b44-4f47-bdf1-6567080cbaa4-m0.avro\n",
      "gs://gcs-bucket-iceberg-hms-928505941962-71d67f3e-cf27-4b25-a996-86a/hive-warehouse/loan_db.db/loans_by_state_iceberg/metadata/6d82bf31-6b44-4f47-bdf1-6567080cbaa4-m1.avro\n",
      "gs://gcs-bucket-iceberg-hms-928505941962-71d67f3e-cf27-4b25-a996-86a/hive-warehouse/loan_db.db/loans_by_state_iceberg/metadata/b4bce2b6-d0e0-440f-a879-f2cc876fe580-m0.avro\n",
      "gs://gcs-bucket-iceberg-hms-928505941962-71d67f3e-cf27-4b25-a996-86a/hive-warehouse/loan_db.db/loans_by_state_iceberg/metadata/b4bce2b6-d0e0-440f-a879-f2cc876fe580-m1.avro\n",
      "gs://gcs-bucket-iceberg-hms-928505941962-71d67f3e-cf27-4b25-a996-86a/hive-warehouse/loan_db.db/loans_by_state_iceberg/metadata/bbe9674b-8463-4473-9361-7cff8e15023e-m0.avro\n",
      "gs://gcs-bucket-iceberg-hms-928505941962-71d67f3e-cf27-4b25-a996-86a/hive-warehouse/loan_db.db/loans_by_state_iceberg/metadata/cf61b81b-a797-4f85-9b06-81472ed49468-m0.avro\n",
      "gs://gcs-bucket-iceberg-hms-928505941962-71d67f3e-cf27-4b25-a996-86a/hive-warehouse/loan_db.db/loans_by_state_iceberg/metadata/cf61b81b-a797-4f85-9b06-81472ed49468-m1.avro\n",
      "gs://gcs-bucket-iceberg-hms-928505941962-71d67f3e-cf27-4b25-a996-86a/hive-warehouse/loan_db.db/loans_by_state_iceberg/metadata/cf61b81b-a797-4f85-9b06-81472ed49468-m2.avro\n",
      "gs://gcs-bucket-iceberg-hms-928505941962-71d67f3e-cf27-4b25-a996-86a/hive-warehouse/loan_db.db/loans_by_state_iceberg/metadata/d37b2f20-215b-4690-9fdf-1e59a8e68f24-m0.avro\n",
      "gs://gcs-bucket-iceberg-hms-928505941962-71d67f3e-cf27-4b25-a996-86a/hive-warehouse/loan_db.db/loans_by_state_iceberg/metadata/snap-2697368997376323351-1-cf61b81b-a797-4f85-9b06-81472ed49468.avro\n",
      "gs://gcs-bucket-iceberg-hms-928505941962-71d67f3e-cf27-4b25-a996-86a/hive-warehouse/loan_db.db/loans_by_state_iceberg/metadata/snap-3648627921780331930-1-d37b2f20-215b-4690-9fdf-1e59a8e68f24.avro\n",
      "gs://gcs-bucket-iceberg-hms-928505941962-71d67f3e-cf27-4b25-a996-86a/hive-warehouse/loan_db.db/loans_by_state_iceberg/metadata/snap-5222601969543758311-1-b4bce2b6-d0e0-440f-a879-f2cc876fe580.avro\n",
      "gs://gcs-bucket-iceberg-hms-928505941962-71d67f3e-cf27-4b25-a996-86a/hive-warehouse/loan_db.db/loans_by_state_iceberg/metadata/snap-5865803199727045458-1-60274643-cd8c-4f7c-b037-4ada16053ca9.avro\n",
      "gs://gcs-bucket-iceberg-hms-928505941962-71d67f3e-cf27-4b25-a996-86a/hive-warehouse/loan_db.db/loans_by_state_iceberg/metadata/snap-8627182030940064924-1-6d82bf31-6b44-4f47-bdf1-6567080cbaa4.avro\n",
      "gs://gcs-bucket-iceberg-hms-928505941962-71d67f3e-cf27-4b25-a996-86a/hive-warehouse/loan_db.db/loans_by_state_iceberg/metadata/snap-9145457862466461068-1-bbe9674b-8463-4473-9361-7cff8e15023e.avro\n"
     ]
    }
   ],
   "source": [
    "!gsutil ls -r $HIVE_METASTORE_WAREHOUSE_DIR/loan_db.db/{TABLE_NAME}/"
   ]
  },
  {
   "cell_type": "code",
   "execution_count": 12,
   "id": "4eaf2c6a-128e-4d7d-824d-6a53f2483672",
   "metadata": {},
   "outputs": [
    {
     "name": "stdout",
     "output_type": "stream",
     "text": [
      "DATA_FILE_COUNT ['6']\n",
      "METADATA_FILE_COUNT ['6']\n",
      "MANIFEST_FILE_COUNT ['11']\n",
      "MANIFEST_LIST_COUNT ['6']\n"
     ]
    }
   ],
   "source": [
    "#Get base file counts from the table folder\n",
    "\n",
    "DATA_FILE_COUNT= !gsutil ls -r {HIVE_METASTORE_WAREHOUSE_DIR}/loan_db.db/{TABLE_NAME}/data/*.parquet | wc -l\n",
    "print(\"DATA_FILE_COUNT\",DATA_FILE_COUNT)\n",
    "\n",
    "METADATA_FILE_COUNT= !gsutil ls -r {HIVE_METASTORE_WAREHOUSE_DIR}/loan_db.db/{TABLE_NAME}/metadata/*.json | wc -l\n",
    "print(\"METADATA_FILE_COUNT\",METADATA_FILE_COUNT)\n",
    "\n",
    "MANIFEST_FILE_COUNT= !gsutil ls -r {HIVE_METASTORE_WAREHOUSE_DIR}/loan_db.db/{TABLE_NAME}/metadata/*m[0-9].avro | wc -l\n",
    "print(\"MANIFEST_FILE_COUNT\",MANIFEST_FILE_COUNT)\n",
    "\n",
    "MANIFEST_LIST_COUNT= !gsutil ls -r {HIVE_METASTORE_WAREHOUSE_DIR}/loan_db.db/{TABLE_NAME}/metadata/snap*.avro | wc -l\n",
    "print(\"MANIFEST_LIST_COUNT\",MANIFEST_LIST_COUNT)"
   ]
  },
  {
   "cell_type": "markdown",
   "id": "ed74d358-e90b-46d0-b81c-1e29c25ccac5",
   "metadata": {},
   "source": [
    "### 4. Existing schema"
   ]
  },
  {
   "cell_type": "code",
   "execution_count": 11,
   "id": "0bcc3cf8-6ecf-4efe-855d-b564401317bc",
   "metadata": {},
   "outputs": [
    {
     "name": "stderr",
     "output_type": "stream",
     "text": [
      "ivysettings.xml file not found in HIVE_HOME or HIVE_CONF_DIR,/etc/spark/conf/ivysettings.xml will be used\n"
     ]
    },
    {
     "name": "stdout",
     "output_type": "stream",
     "text": [
      "+----------------------------+---------------------------------------------------------------------------------------------------------------------+-------+\n",
      "|col_name                    |data_type                                                                                                            |comment|\n",
      "+----------------------------+---------------------------------------------------------------------------------------------------------------------+-------+\n",
      "|addr_state                  |string                                                                                                               |       |\n",
      "|loan_count                  |bigint                                                                                                               |       |\n",
      "|                            |                                                                                                                     |       |\n",
      "|# Partitioning              |                                                                                                                     |       |\n",
      "|Not partitioned             |                                                                                                                     |       |\n",
      "|                            |                                                                                                                     |       |\n",
      "|# Metadata Columns          |                                                                                                                     |       |\n",
      "|_spec_id                    |int                                                                                                                  |       |\n",
      "|_partition                  |struct<>                                                                                                             |       |\n",
      "|_file                       |string                                                                                                               |       |\n",
      "|_pos                        |bigint                                                                                                               |       |\n",
      "|_deleted                    |boolean                                                                                                              |       |\n",
      "|                            |                                                                                                                     |       |\n",
      "|# Detailed Table Information|                                                                                                                     |       |\n",
      "|Name                        |spark_catalog.loan_db.loans_by_state_iceberg                                                                         |       |\n",
      "|Location                    |gs://gcs-bucket-iceberg-hms-928505941962-71d67f3e-cf27-4b25-a996-86a/hive-warehouse/loan_db.db/loans_by_state_iceberg|       |\n",
      "|Provider                    |iceberg                                                                                                              |       |\n",
      "|Owner                       |spark                                                                                                                |       |\n",
      "|Table Properties            |[current-snapshot-id=5865803199727045458,format=iceberg/parquet,format-version=1]                                    |       |\n",
      "+----------------------------+---------------------------------------------------------------------------------------------------------------------+-------+\n",
      "\n"
     ]
    }
   ],
   "source": [
    "spark.sql(f\"DESCRIBE FORMATTED {FQTN}\").show(truncate=False)"
   ]
  },
  {
   "cell_type": "markdown",
   "id": "17581b81-035f-43b6-a4fa-48b55ce28c8c",
   "metadata": {},
   "source": [
    "### 5. Schema Enforcement"
   ]
  },
  {
   "cell_type": "markdown",
   "id": "df16af1f-dd1e-4406-b379-cb1f0b3a7d65",
   "metadata": {},
   "source": [
    "#### a. Appending Extra Columns"
   ]
  },
  {
   "cell_type": "code",
   "execution_count": 16,
   "id": "da4f7939-4668-4015-83eb-90209251ea03",
   "metadata": {},
   "outputs": [
    {
     "name": "stdout",
     "output_type": "stream",
     "text": [
      "+----------+----------+------------------+\n",
      "|addr_state|loan_count|           new_col|\n",
      "+----------+----------+------------------+\n",
      "|        CA|     11111|1899.4222699824315|\n",
      "|        IA|     11111| 8945.626051739866|\n",
      "|        SC|      5460| 3153.655364817604|\n",
      "+----------+----------+------------------+\n",
      "only showing top 3 rows\n",
      "\n"
     ]
    }
   ],
   "source": [
    "# Create a new DF with more columns than out base Iceberg table\n",
    "additionalColumnsDF = spark.sql(f\"select addr_state,loan_count, rand(10)*loan_count as new_col from {FQTN}\")\n",
    "additionalColumnsDF.show(3)"
   ]
  },
  {
   "cell_type": "code",
   "execution_count": 17,
   "id": "e98a313e-98cf-43a6-b000-626c5f3672e1",
   "metadata": {},
   "outputs": [
    {
     "ename": "AnalysisException",
     "evalue": "\nCannot write to 'spark_catalog.loan_db.loans_by_state_iceberg', too many data columns:\nTable columns: 'addr_state', 'loan_count'\nData columns: 'addr_state', 'loan_count', 'new_col'\n       ",
     "output_type": "error",
     "traceback": [
      "\u001b[0;31m---------------------------------------------------------------------------\u001b[0m",
      "\u001b[0;31mAnalysisException\u001b[0m                         Traceback (most recent call last)",
      "Cell \u001b[0;32mIn[17], line 2\u001b[0m\n\u001b[1;32m      1\u001b[0m \u001b[38;5;66;03m# Attempt to append to the table\u001b[39;00m\n\u001b[0;32m----> 2\u001b[0m \u001b[43madditionalColumnsDF\u001b[49m\u001b[38;5;241;43m.\u001b[39;49m\u001b[43mwriteTo\u001b[49m\u001b[43m(\u001b[49m\u001b[38;5;124;43mf\u001b[39;49m\u001b[38;5;124;43m\"\u001b[39;49m\u001b[38;5;132;43;01m{\u001b[39;49;00m\u001b[43mFQTN\u001b[49m\u001b[38;5;132;43;01m}\u001b[39;49;00m\u001b[38;5;124;43m\"\u001b[39;49m\u001b[43m)\u001b[49m\u001b[38;5;241;43m.\u001b[39;49m\u001b[43mappend\u001b[49m\u001b[43m(\u001b[49m\u001b[43m)\u001b[49m\n",
      "File \u001b[0;32m/usr/lib/spark/python/pyspark/sql/readwriter.py:1158\u001b[0m, in \u001b[0;36mDataFrameWriterV2.append\u001b[0;34m(self)\u001b[0m\n\u001b[1;32m   1153\u001b[0m \u001b[38;5;129m@since\u001b[39m(\u001b[38;5;241m3.1\u001b[39m)\n\u001b[1;32m   1154\u001b[0m \u001b[38;5;28;01mdef\u001b[39;00m \u001b[38;5;21mappend\u001b[39m(\u001b[38;5;28mself\u001b[39m):\n\u001b[1;32m   1155\u001b[0m \u001b[38;5;250m    \u001b[39m\u001b[38;5;124;03m\"\"\"\u001b[39;00m\n\u001b[1;32m   1156\u001b[0m \u001b[38;5;124;03m    Append the contents of the data frame to the output table.\u001b[39;00m\n\u001b[1;32m   1157\u001b[0m \u001b[38;5;124;03m    \"\"\"\u001b[39;00m\n\u001b[0;32m-> 1158\u001b[0m     \u001b[38;5;28;43mself\u001b[39;49m\u001b[38;5;241;43m.\u001b[39;49m\u001b[43m_jwriter\u001b[49m\u001b[38;5;241;43m.\u001b[39;49m\u001b[43mappend\u001b[49m\u001b[43m(\u001b[49m\u001b[43m)\u001b[49m\n",
      "File \u001b[0;32m/usr/lib/spark/python/lib/py4j-0.10.9.5-src.zip/py4j/java_gateway.py:1321\u001b[0m, in \u001b[0;36mJavaMember.__call__\u001b[0;34m(self, *args)\u001b[0m\n\u001b[1;32m   1315\u001b[0m command \u001b[38;5;241m=\u001b[39m proto\u001b[38;5;241m.\u001b[39mCALL_COMMAND_NAME \u001b[38;5;241m+\u001b[39m\\\n\u001b[1;32m   1316\u001b[0m     \u001b[38;5;28mself\u001b[39m\u001b[38;5;241m.\u001b[39mcommand_header \u001b[38;5;241m+\u001b[39m\\\n\u001b[1;32m   1317\u001b[0m     args_command \u001b[38;5;241m+\u001b[39m\\\n\u001b[1;32m   1318\u001b[0m     proto\u001b[38;5;241m.\u001b[39mEND_COMMAND_PART\n\u001b[1;32m   1320\u001b[0m answer \u001b[38;5;241m=\u001b[39m \u001b[38;5;28mself\u001b[39m\u001b[38;5;241m.\u001b[39mgateway_client\u001b[38;5;241m.\u001b[39msend_command(command)\n\u001b[0;32m-> 1321\u001b[0m return_value \u001b[38;5;241m=\u001b[39m \u001b[43mget_return_value\u001b[49m\u001b[43m(\u001b[49m\n\u001b[1;32m   1322\u001b[0m \u001b[43m    \u001b[49m\u001b[43manswer\u001b[49m\u001b[43m,\u001b[49m\u001b[43m \u001b[49m\u001b[38;5;28;43mself\u001b[39;49m\u001b[38;5;241;43m.\u001b[39;49m\u001b[43mgateway_client\u001b[49m\u001b[43m,\u001b[49m\u001b[43m \u001b[49m\u001b[38;5;28;43mself\u001b[39;49m\u001b[38;5;241;43m.\u001b[39;49m\u001b[43mtarget_id\u001b[49m\u001b[43m,\u001b[49m\u001b[43m \u001b[49m\u001b[38;5;28;43mself\u001b[39;49m\u001b[38;5;241;43m.\u001b[39;49m\u001b[43mname\u001b[49m\u001b[43m)\u001b[49m\n\u001b[1;32m   1324\u001b[0m \u001b[38;5;28;01mfor\u001b[39;00m temp_arg \u001b[38;5;129;01min\u001b[39;00m temp_args:\n\u001b[1;32m   1325\u001b[0m     temp_arg\u001b[38;5;241m.\u001b[39m_detach()\n",
      "File \u001b[0;32m/usr/lib/spark/python/pyspark/sql/utils.py:117\u001b[0m, in \u001b[0;36mcapture_sql_exception.<locals>.deco\u001b[0;34m(*a, **kw)\u001b[0m\n\u001b[1;32m    113\u001b[0m converted \u001b[38;5;241m=\u001b[39m convert_exception(e\u001b[38;5;241m.\u001b[39mjava_exception)\n\u001b[1;32m    114\u001b[0m \u001b[38;5;28;01mif\u001b[39;00m \u001b[38;5;129;01mnot\u001b[39;00m \u001b[38;5;28misinstance\u001b[39m(converted, UnknownException):\n\u001b[1;32m    115\u001b[0m     \u001b[38;5;66;03m# Hide where the exception came from that shows a non-Pythonic\u001b[39;00m\n\u001b[1;32m    116\u001b[0m     \u001b[38;5;66;03m# JVM exception message.\u001b[39;00m\n\u001b[0;32m--> 117\u001b[0m     \u001b[38;5;28;01mraise\u001b[39;00m converted \u001b[38;5;28;01mfrom\u001b[39;00m \u001b[38;5;28mNone\u001b[39m\n\u001b[1;32m    118\u001b[0m \u001b[38;5;28;01melse\u001b[39;00m:\n\u001b[1;32m    119\u001b[0m     \u001b[38;5;28;01mraise\u001b[39;00m\n",
      "\u001b[0;31mAnalysisException\u001b[0m: \nCannot write to 'spark_catalog.loan_db.loans_by_state_iceberg', too many data columns:\nTable columns: 'addr_state', 'loan_count'\nData columns: 'addr_state', 'loan_count', 'new_col'\n       "
     ]
    }
   ],
   "source": [
    "# Attempt to append to the table\n",
    "additionalColumnsDF.writeTo(f\"{FQTN}\").append()"
   ]
  },
  {
   "cell_type": "markdown",
   "id": "54857dba-cbfb-4a91-9252-83c502353019",
   "metadata": {},
   "source": [
    "**NOTE:** Spark validates Iceberg table schema prevents writing additional columns to the table"
   ]
  },
  {
   "cell_type": "markdown",
   "id": "4ffaa6c1-d7a7-4b97-94bd-b62a64da69ef",
   "metadata": {},
   "source": [
    "#### b. Fewer Columns"
   ]
  },
  {
   "cell_type": "code",
   "execution_count": 18,
   "id": "0b4f2b81-267b-4ba3-986d-e49aba2850f6",
   "metadata": {},
   "outputs": [
    {
     "name": "stderr",
     "output_type": "stream",
     "text": [
      "[Stage 2:>                                                          (0 + 1) / 1]\r"
     ]
    },
    {
     "name": "stdout",
     "output_type": "stream",
     "text": [
      "+----------+\n",
      "|addr_state|\n",
      "+----------+\n",
      "|        CA|\n",
      "|        IA|\n",
      "|        SC|\n",
      "+----------+\n",
      "only showing top 3 rows\n",
      "\n"
     ]
    },
    {
     "name": "stderr",
     "output_type": "stream",
     "text": [
      "                                                                                \r"
     ]
    }
   ],
   "source": [
    "lessColumnsDF= spark.sql(f\"SELECT addr_state FROM {FQTN}\")\n",
    "lessColumnsDF.show(3)"
   ]
  },
  {
   "cell_type": "code",
   "execution_count": 19,
   "id": "749fd369-d836-4625-afcb-b5a93a4f2fb2",
   "metadata": {},
   "outputs": [
    {
     "ename": "AnalysisException",
     "evalue": "Cannot write incompatible data to table 'spark_catalog.loan_db.loans_by_state_iceberg':\n- Cannot find data for output column 'loan_count'",
     "output_type": "error",
     "traceback": [
      "\u001b[0;31m---------------------------------------------------------------------------\u001b[0m",
      "\u001b[0;31mAnalysisException\u001b[0m                         Traceback (most recent call last)",
      "Cell \u001b[0;32mIn[19], line 2\u001b[0m\n\u001b[1;32m      1\u001b[0m \u001b[38;5;66;03m# Attempt to append to the table\u001b[39;00m\n\u001b[0;32m----> 2\u001b[0m \u001b[43mlessColumnsDF\u001b[49m\u001b[38;5;241;43m.\u001b[39;49m\u001b[43mwriteTo\u001b[49m\u001b[43m(\u001b[49m\u001b[38;5;124;43mf\u001b[39;49m\u001b[38;5;124;43m\"\u001b[39;49m\u001b[38;5;132;43;01m{\u001b[39;49;00m\u001b[43mFQTN\u001b[49m\u001b[38;5;132;43;01m}\u001b[39;49;00m\u001b[38;5;124;43m\"\u001b[39;49m\u001b[43m)\u001b[49m\u001b[38;5;241;43m.\u001b[39;49m\u001b[43mappend\u001b[49m\u001b[43m(\u001b[49m\u001b[43m)\u001b[49m\n",
      "File \u001b[0;32m/usr/lib/spark/python/pyspark/sql/readwriter.py:1158\u001b[0m, in \u001b[0;36mDataFrameWriterV2.append\u001b[0;34m(self)\u001b[0m\n\u001b[1;32m   1153\u001b[0m \u001b[38;5;129m@since\u001b[39m(\u001b[38;5;241m3.1\u001b[39m)\n\u001b[1;32m   1154\u001b[0m \u001b[38;5;28;01mdef\u001b[39;00m \u001b[38;5;21mappend\u001b[39m(\u001b[38;5;28mself\u001b[39m):\n\u001b[1;32m   1155\u001b[0m \u001b[38;5;250m    \u001b[39m\u001b[38;5;124;03m\"\"\"\u001b[39;00m\n\u001b[1;32m   1156\u001b[0m \u001b[38;5;124;03m    Append the contents of the data frame to the output table.\u001b[39;00m\n\u001b[1;32m   1157\u001b[0m \u001b[38;5;124;03m    \"\"\"\u001b[39;00m\n\u001b[0;32m-> 1158\u001b[0m     \u001b[38;5;28;43mself\u001b[39;49m\u001b[38;5;241;43m.\u001b[39;49m\u001b[43m_jwriter\u001b[49m\u001b[38;5;241;43m.\u001b[39;49m\u001b[43mappend\u001b[49m\u001b[43m(\u001b[49m\u001b[43m)\u001b[49m\n",
      "File \u001b[0;32m/usr/lib/spark/python/lib/py4j-0.10.9.5-src.zip/py4j/java_gateway.py:1321\u001b[0m, in \u001b[0;36mJavaMember.__call__\u001b[0;34m(self, *args)\u001b[0m\n\u001b[1;32m   1315\u001b[0m command \u001b[38;5;241m=\u001b[39m proto\u001b[38;5;241m.\u001b[39mCALL_COMMAND_NAME \u001b[38;5;241m+\u001b[39m\\\n\u001b[1;32m   1316\u001b[0m     \u001b[38;5;28mself\u001b[39m\u001b[38;5;241m.\u001b[39mcommand_header \u001b[38;5;241m+\u001b[39m\\\n\u001b[1;32m   1317\u001b[0m     args_command \u001b[38;5;241m+\u001b[39m\\\n\u001b[1;32m   1318\u001b[0m     proto\u001b[38;5;241m.\u001b[39mEND_COMMAND_PART\n\u001b[1;32m   1320\u001b[0m answer \u001b[38;5;241m=\u001b[39m \u001b[38;5;28mself\u001b[39m\u001b[38;5;241m.\u001b[39mgateway_client\u001b[38;5;241m.\u001b[39msend_command(command)\n\u001b[0;32m-> 1321\u001b[0m return_value \u001b[38;5;241m=\u001b[39m \u001b[43mget_return_value\u001b[49m\u001b[43m(\u001b[49m\n\u001b[1;32m   1322\u001b[0m \u001b[43m    \u001b[49m\u001b[43manswer\u001b[49m\u001b[43m,\u001b[49m\u001b[43m \u001b[49m\u001b[38;5;28;43mself\u001b[39;49m\u001b[38;5;241;43m.\u001b[39;49m\u001b[43mgateway_client\u001b[49m\u001b[43m,\u001b[49m\u001b[43m \u001b[49m\u001b[38;5;28;43mself\u001b[39;49m\u001b[38;5;241;43m.\u001b[39;49m\u001b[43mtarget_id\u001b[49m\u001b[43m,\u001b[49m\u001b[43m \u001b[49m\u001b[38;5;28;43mself\u001b[39;49m\u001b[38;5;241;43m.\u001b[39;49m\u001b[43mname\u001b[49m\u001b[43m)\u001b[49m\n\u001b[1;32m   1324\u001b[0m \u001b[38;5;28;01mfor\u001b[39;00m temp_arg \u001b[38;5;129;01min\u001b[39;00m temp_args:\n\u001b[1;32m   1325\u001b[0m     temp_arg\u001b[38;5;241m.\u001b[39m_detach()\n",
      "File \u001b[0;32m/usr/lib/spark/python/pyspark/sql/utils.py:117\u001b[0m, in \u001b[0;36mcapture_sql_exception.<locals>.deco\u001b[0;34m(*a, **kw)\u001b[0m\n\u001b[1;32m    113\u001b[0m converted \u001b[38;5;241m=\u001b[39m convert_exception(e\u001b[38;5;241m.\u001b[39mjava_exception)\n\u001b[1;32m    114\u001b[0m \u001b[38;5;28;01mif\u001b[39;00m \u001b[38;5;129;01mnot\u001b[39;00m \u001b[38;5;28misinstance\u001b[39m(converted, UnknownException):\n\u001b[1;32m    115\u001b[0m     \u001b[38;5;66;03m# Hide where the exception came from that shows a non-Pythonic\u001b[39;00m\n\u001b[1;32m    116\u001b[0m     \u001b[38;5;66;03m# JVM exception message.\u001b[39;00m\n\u001b[0;32m--> 117\u001b[0m     \u001b[38;5;28;01mraise\u001b[39;00m converted \u001b[38;5;28;01mfrom\u001b[39;00m \u001b[38;5;28mNone\u001b[39m\n\u001b[1;32m    118\u001b[0m \u001b[38;5;28;01melse\u001b[39;00m:\n\u001b[1;32m    119\u001b[0m     \u001b[38;5;28;01mraise\u001b[39;00m\n",
      "\u001b[0;31mAnalysisException\u001b[0m: Cannot write incompatible data to table 'spark_catalog.loan_db.loans_by_state_iceberg':\n- Cannot find data for output column 'loan_count'"
     ]
    }
   ],
   "source": [
    "# Attempt to append to the table\n",
    "lessColumnsDF.writeTo(f\"{FQTN}\").append()"
   ]
  },
  {
   "cell_type": "markdown",
   "id": "58302b29-9c15-40ef-98a4-09663d6bcccf",
   "metadata": {},
   "source": [
    "#### c. Incompatible Data Types"
   ]
  },
  {
   "cell_type": "code",
   "execution_count": 21,
   "id": "d0ebd093-6088-44fd-b9f8-a05373202365",
   "metadata": {},
   "outputs": [
    {
     "name": "stdout",
     "output_type": "stream",
     "text": [
      "root\n",
      " |-- addr_state: string (nullable = true)\n",
      " |-- loan_count: string (nullable = true)\n",
      "\n"
     ]
    }
   ],
   "source": [
    "newDatatypeDF = spark.sql(f\"SELECT addr_state , STRING(loan_count)  FROM {FQTN}\")\n",
    "newDatatypeDF.printSchema()"
   ]
  },
  {
   "cell_type": "code",
   "execution_count": 22,
   "id": "d2d751f4-98ca-43b6-877b-9b5294cbf77f",
   "metadata": {},
   "outputs": [
    {
     "ename": "AnalysisException",
     "evalue": "Cannot write incompatible data to table 'spark_catalog.loan_db.loans_by_state_iceberg':\n- Cannot safely cast 'loan_count': string to bigint",
     "output_type": "error",
     "traceback": [
      "\u001b[0;31m---------------------------------------------------------------------------\u001b[0m",
      "\u001b[0;31mAnalysisException\u001b[0m                         Traceback (most recent call last)",
      "Cell \u001b[0;32mIn[22], line 1\u001b[0m\n\u001b[0;32m----> 1\u001b[0m \u001b[43mnewDatatypeDF\u001b[49m\u001b[38;5;241;43m.\u001b[39;49m\u001b[43mwriteTo\u001b[49m\u001b[43m(\u001b[49m\u001b[38;5;124;43mf\u001b[39;49m\u001b[38;5;124;43m\"\u001b[39;49m\u001b[38;5;132;43;01m{\u001b[39;49;00m\u001b[43mFQTN\u001b[49m\u001b[38;5;132;43;01m}\u001b[39;49;00m\u001b[38;5;124;43m\"\u001b[39;49m\u001b[43m)\u001b[49m\u001b[38;5;241;43m.\u001b[39;49m\u001b[43mappend\u001b[49m\u001b[43m(\u001b[49m\u001b[43m)\u001b[49m\n",
      "File \u001b[0;32m/usr/lib/spark/python/pyspark/sql/readwriter.py:1158\u001b[0m, in \u001b[0;36mDataFrameWriterV2.append\u001b[0;34m(self)\u001b[0m\n\u001b[1;32m   1153\u001b[0m \u001b[38;5;129m@since\u001b[39m(\u001b[38;5;241m3.1\u001b[39m)\n\u001b[1;32m   1154\u001b[0m \u001b[38;5;28;01mdef\u001b[39;00m \u001b[38;5;21mappend\u001b[39m(\u001b[38;5;28mself\u001b[39m):\n\u001b[1;32m   1155\u001b[0m \u001b[38;5;250m    \u001b[39m\u001b[38;5;124;03m\"\"\"\u001b[39;00m\n\u001b[1;32m   1156\u001b[0m \u001b[38;5;124;03m    Append the contents of the data frame to the output table.\u001b[39;00m\n\u001b[1;32m   1157\u001b[0m \u001b[38;5;124;03m    \"\"\"\u001b[39;00m\n\u001b[0;32m-> 1158\u001b[0m     \u001b[38;5;28;43mself\u001b[39;49m\u001b[38;5;241;43m.\u001b[39;49m\u001b[43m_jwriter\u001b[49m\u001b[38;5;241;43m.\u001b[39;49m\u001b[43mappend\u001b[49m\u001b[43m(\u001b[49m\u001b[43m)\u001b[49m\n",
      "File \u001b[0;32m/usr/lib/spark/python/lib/py4j-0.10.9.5-src.zip/py4j/java_gateway.py:1321\u001b[0m, in \u001b[0;36mJavaMember.__call__\u001b[0;34m(self, *args)\u001b[0m\n\u001b[1;32m   1315\u001b[0m command \u001b[38;5;241m=\u001b[39m proto\u001b[38;5;241m.\u001b[39mCALL_COMMAND_NAME \u001b[38;5;241m+\u001b[39m\\\n\u001b[1;32m   1316\u001b[0m     \u001b[38;5;28mself\u001b[39m\u001b[38;5;241m.\u001b[39mcommand_header \u001b[38;5;241m+\u001b[39m\\\n\u001b[1;32m   1317\u001b[0m     args_command \u001b[38;5;241m+\u001b[39m\\\n\u001b[1;32m   1318\u001b[0m     proto\u001b[38;5;241m.\u001b[39mEND_COMMAND_PART\n\u001b[1;32m   1320\u001b[0m answer \u001b[38;5;241m=\u001b[39m \u001b[38;5;28mself\u001b[39m\u001b[38;5;241m.\u001b[39mgateway_client\u001b[38;5;241m.\u001b[39msend_command(command)\n\u001b[0;32m-> 1321\u001b[0m return_value \u001b[38;5;241m=\u001b[39m \u001b[43mget_return_value\u001b[49m\u001b[43m(\u001b[49m\n\u001b[1;32m   1322\u001b[0m \u001b[43m    \u001b[49m\u001b[43manswer\u001b[49m\u001b[43m,\u001b[49m\u001b[43m \u001b[49m\u001b[38;5;28;43mself\u001b[39;49m\u001b[38;5;241;43m.\u001b[39;49m\u001b[43mgateway_client\u001b[49m\u001b[43m,\u001b[49m\u001b[43m \u001b[49m\u001b[38;5;28;43mself\u001b[39;49m\u001b[38;5;241;43m.\u001b[39;49m\u001b[43mtarget_id\u001b[49m\u001b[43m,\u001b[49m\u001b[43m \u001b[49m\u001b[38;5;28;43mself\u001b[39;49m\u001b[38;5;241;43m.\u001b[39;49m\u001b[43mname\u001b[49m\u001b[43m)\u001b[49m\n\u001b[1;32m   1324\u001b[0m \u001b[38;5;28;01mfor\u001b[39;00m temp_arg \u001b[38;5;129;01min\u001b[39;00m temp_args:\n\u001b[1;32m   1325\u001b[0m     temp_arg\u001b[38;5;241m.\u001b[39m_detach()\n",
      "File \u001b[0;32m/usr/lib/spark/python/pyspark/sql/utils.py:117\u001b[0m, in \u001b[0;36mcapture_sql_exception.<locals>.deco\u001b[0;34m(*a, **kw)\u001b[0m\n\u001b[1;32m    113\u001b[0m converted \u001b[38;5;241m=\u001b[39m convert_exception(e\u001b[38;5;241m.\u001b[39mjava_exception)\n\u001b[1;32m    114\u001b[0m \u001b[38;5;28;01mif\u001b[39;00m \u001b[38;5;129;01mnot\u001b[39;00m \u001b[38;5;28misinstance\u001b[39m(converted, UnknownException):\n\u001b[1;32m    115\u001b[0m     \u001b[38;5;66;03m# Hide where the exception came from that shows a non-Pythonic\u001b[39;00m\n\u001b[1;32m    116\u001b[0m     \u001b[38;5;66;03m# JVM exception message.\u001b[39;00m\n\u001b[0;32m--> 117\u001b[0m     \u001b[38;5;28;01mraise\u001b[39;00m converted \u001b[38;5;28;01mfrom\u001b[39;00m \u001b[38;5;28mNone\u001b[39m\n\u001b[1;32m    118\u001b[0m \u001b[38;5;28;01melse\u001b[39;00m:\n\u001b[1;32m    119\u001b[0m     \u001b[38;5;28;01mraise\u001b[39;00m\n",
      "\u001b[0;31mAnalysisException\u001b[0m: Cannot write incompatible data to table 'spark_catalog.loan_db.loans_by_state_iceberg':\n- Cannot safely cast 'loan_count': string to bigint"
     ]
    }
   ],
   "source": [
    "newDatatypeDF.writeTo(f\"{FQTN}\").append()"
   ]
  },
  {
   "cell_type": "markdown",
   "id": "9238ce00-0fc0-4b87-b805-e4caf1fd8cfa",
   "metadata": {},
   "source": []
  },
  {
   "cell_type": "markdown",
   "id": "4b6cc873-426e-43e6-be17-545e667f2e87",
   "metadata": {},
   "source": [
    "### 6. Schema Evolution\n",
    "Iceberg supports schema evolution using **ALTER TABLE** ddl commands\n"
   ]
  },
  {
   "cell_type": "code",
   "execution_count": 31,
   "id": "a9089a04-d99f-408a-8549-aa52582f2fbd",
   "metadata": {},
   "outputs": [
    {
     "name": "stdout",
     "output_type": "stream",
     "text": [
      "DATA_FILE_COUNT ['6']\n",
      "METADATA_FILE_COUNT ['9']\n",
      "MANIFEST_FILE_COUNT ['11']\n",
      "MANIFEST_LIST_COUNT ['6']\n"
     ]
    }
   ],
   "source": [
    "#Get Base File counts from the table folder\n",
    "\n",
    "DATA_FILE_COUNT= !gsutil ls -r {HIVE_METASTORE_WAREHOUSE_DIR}/loan_db.db/{TABLE_NAME}/data/*.parquet | wc -l\n",
    "print(\"DATA_FILE_COUNT\",DATA_FILE_COUNT)\n",
    "\n",
    "METADATA_FILE_COUNT= !gsutil ls -r {HIVE_METASTORE_WAREHOUSE_DIR}/loan_db.db/{TABLE_NAME}/metadata/*.json | wc -l\n",
    "print(\"METADATA_FILE_COUNT\",METADATA_FILE_COUNT)\n",
    "\n",
    "MANIFEST_FILE_COUNT= !gsutil ls -r {HIVE_METASTORE_WAREHOUSE_DIR}/loan_db.db/{TABLE_NAME}/metadata/*m[0-9].avro | wc -l\n",
    "print(\"MANIFEST_FILE_COUNT\",MANIFEST_FILE_COUNT)\n",
    "\n",
    "MANIFEST_LIST_COUNT= !gsutil ls -r {HIVE_METASTORE_WAREHOUSE_DIR}/loan_db.db/{TABLE_NAME}/metadata/snap*.avro | wc -l\n",
    "print(\"MANIFEST_LIST_COUNT\",MANIFEST_LIST_COUNT)\n"
   ]
  },
  {
   "cell_type": "markdown",
   "id": "ce1139b3-12a3-4989-9e5c-1f6d8873a876",
   "metadata": {},
   "source": [
    "  #### a. Add new Column"
   ]
  },
  {
   "cell_type": "code",
   "execution_count": 24,
   "id": "c7be418e-1d41-431f-8a82-b6943f764e8d",
   "metadata": {},
   "outputs": [
    {
     "data": {
      "text/plain": [
       "DataFrame[]"
      ]
     },
     "execution_count": 24,
     "metadata": {},
     "output_type": "execute_result"
    }
   ],
   "source": [
    "spark.sql(f\"ALTER TABLE {FQTN} ADD COLUMN new_column BIGINT\")"
   ]
  },
  {
   "cell_type": "code",
   "execution_count": 25,
   "id": "b97d025e-6744-450f-bb6a-f37ecc7a724c",
   "metadata": {},
   "outputs": [
    {
     "name": "stdout",
     "output_type": "stream",
     "text": [
      "+----------+----------+----------+\n",
      "|addr_state|loan_count|new_column|\n",
      "+----------+----------+----------+\n",
      "|        CA|     11111|      null|\n",
      "|        IA|     11111|      null|\n",
      "|        SC|      5460|      null|\n",
      "+----------+----------+----------+\n",
      "only showing top 3 rows\n",
      "\n"
     ]
    }
   ],
   "source": [
    "spark.table(f\"{FQTN}\").show(3)"
   ]
  },
  {
   "cell_type": "markdown",
   "id": "730727b5-c63b-4c33-939f-f339a254e265",
   "metadata": {},
   "source": [
    "#### b. Rename Column"
   ]
  },
  {
   "cell_type": "code",
   "execution_count": 26,
   "id": "16dcf766-cf76-4210-aa26-519fd91b9207",
   "metadata": {},
   "outputs": [
    {
     "data": {
      "text/plain": [
       "DataFrame[]"
      ]
     },
     "execution_count": 26,
     "metadata": {},
     "output_type": "execute_result"
    }
   ],
   "source": [
    "spark.sql(f\"ALTER TABLE {FQTN} RENAME COLUMN new_column TO renamed_column\")"
   ]
  },
  {
   "cell_type": "code",
   "execution_count": 27,
   "id": "9a56affe-a463-4835-a45a-51cbdeda8f20",
   "metadata": {},
   "outputs": [
    {
     "name": "stdout",
     "output_type": "stream",
     "text": [
      "root\n",
      " |-- addr_state: string (nullable = true)\n",
      " |-- loan_count: long (nullable = true)\n",
      " |-- renamed_column: long (nullable = true)\n",
      "\n"
     ]
    }
   ],
   "source": [
    "spark.table(f\"{FQTN}\").printSchema()"
   ]
  },
  {
   "cell_type": "markdown",
   "id": "3f2966c9-df1a-486c-991f-d1e214533f44",
   "metadata": {},
   "source": [
    "#### c. Drop Column"
   ]
  },
  {
   "cell_type": "code",
   "execution_count": 28,
   "id": "928295c9-7e35-4625-95ff-e68989ebb7d5",
   "metadata": {},
   "outputs": [
    {
     "data": {
      "text/plain": [
       "DataFrame[]"
      ]
     },
     "execution_count": 28,
     "metadata": {},
     "output_type": "execute_result"
    }
   ],
   "source": [
    "spark.sql(f\"ALTER TABLE {FQTN} DROP COLUMN renamed_column\")"
   ]
  },
  {
   "cell_type": "code",
   "execution_count": 29,
   "id": "d7ceba1d-1bb0-4480-9b5d-419911fdd95b",
   "metadata": {},
   "outputs": [
    {
     "name": "stdout",
     "output_type": "stream",
     "text": [
      "root\n",
      " |-- addr_state: string (nullable = true)\n",
      " |-- loan_count: long (nullable = true)\n",
      "\n"
     ]
    }
   ],
   "source": [
    "spark.table(f\"{FQTN}\").printSchema()"
   ]
  },
  {
   "cell_type": "code",
   "execution_count": 32,
   "id": "7ff9b15e-94f3-4019-adb3-b5193d22e9d3",
   "metadata": {},
   "outputs": [
    {
     "name": "stdout",
     "output_type": "stream",
     "text": [
      "DATA_FILE_COUNT ['6']\n",
      "METADATA_FILE_COUNT ['9']\n",
      "MANIFEST_FILE_COUNT ['11']\n",
      "MANIFEST_LIST_COUNT ['6']\n"
     ]
    }
   ],
   "source": [
    "#Get New File counts from the table folder after Schema updates\n",
    "\n",
    "DATA_FILE_COUNT= !gsutil ls -r {HIVE_METASTORE_WAREHOUSE_DIR}/loan_db.db/{TABLE_NAME}/data/*.parquet | wc -l\n",
    "print(\"DATA_FILE_COUNT\",DATA_FILE_COUNT)\n",
    "\n",
    "METADATA_FILE_COUNT= !gsutil ls -r {HIVE_METASTORE_WAREHOUSE_DIR}/loan_db.db/{TABLE_NAME}/metadata/*.json | wc -l\n",
    "print(\"METADATA_FILE_COUNT\",METADATA_FILE_COUNT)\n",
    "\n",
    "MANIFEST_FILE_COUNT= !gsutil ls -r {HIVE_METASTORE_WAREHOUSE_DIR}/loan_db.db/{TABLE_NAME}/metadata/*m[0-9].avro | wc -l\n",
    "print(\"MANIFEST_FILE_COUNT\",MANIFEST_FILE_COUNT)\n",
    "\n",
    "MANIFEST_LIST_COUNT= !gsutil ls -r {HIVE_METASTORE_WAREHOUSE_DIR}/loan_db.db/{TABLE_NAME}/metadata/snap*.avro | wc -l\n",
    "print(\"MANIFEST_LIST_COUNT\",MANIFEST_LIST_COUNT)\n"
   ]
  },
  {
   "cell_type": "markdown",
   "id": "03b4546f-045e-49b8-8898-e43945e690e6",
   "metadata": {},
   "source": [
    "**NOTE:**\n",
    "1. Schema Evolution only performs Metadata updates and there are no changes to Data or Snapshot files\n",
    "2. Notice below that the latest Metadata file keeps track of all schema versions and updates the **current-schema-id** value to reflect the current state"
   ]
  },
  {
   "cell_type": "code",
   "execution_count": 33,
   "id": "93d03295-0ca2-4869-8edc-7128e6563df6",
   "metadata": {},
   "outputs": [
    {
     "name": "stdout",
     "output_type": "stream",
     "text": [
      "LATEST_METADATA_FILE gs://gcs-bucket-iceberg-hms-928505941962-71d67f3e-cf27-4b25-a996-86a/hive-warehouse/loan_db.db/loans_by_state_iceberg/metadata/00008-e22e9032-f45b-41ba-a815-c7fbbb913536.metadata.json\n",
      "{\n",
      "  \"format-version\" : 1,\n",
      "  \"table-uuid\" : \"d08425df-63be-497b-b873-529790a5c137\",\n",
      "  \"location\" : \"gs://gcs-bucket-iceberg-hms-928505941962-71d67f3e-cf27-4b25-a996-86a/hive-warehouse/loan_db.db/loans_by_state_iceberg\",\n",
      "  \"last-updated-ms\" : 1676069746657,\n",
      "  \"last-column-id\" : 3,\n",
      "  \"schema\" : {\n",
      "    \"type\" : \"struct\",\n",
      "    \"schema-id\" : 0,\n",
      "    \"fields\" : [ {\n",
      "      \"id\" : 1,\n",
      "      \"name\" : \"addr_state\",\n",
      "      \"required\" : false,\n",
      "      \"type\" : \"string\"\n",
      "    }, {\n",
      "      \"id\" : 2,\n",
      "      \"name\" : \"loan_count\",\n",
      "      \"required\" : false,\n",
      "      \"type\" : \"long\"\n",
      "    } ]\n",
      "  },\n",
      "  \"current-schema-id\" : 0,\n",
      "  \"schemas\" : [ {\n",
      "    \"type\" : \"struct\",\n",
      "    \"schema-id\" : 0,\n",
      "    \"fields\" : [ {\n",
      "      \"id\" : 1,\n",
      "      \"name\" : \"addr_state\",\n",
      "      \"required\" : false,\n",
      "      \"type\" : \"string\"\n",
      "    }, {\n",
      "      \"id\" : 2,\n",
      "      \"name\" : \"loan_count\",\n",
      "      \"required\" : false,\n",
      "      \"type\" : \"long\"\n",
      "    } ]\n",
      "  }, {\n",
      "    \"type\" : \"struct\",\n",
      "    \"schema-id\" : 1,\n",
      "    \"fields\" : [ {\n",
      "      \"id\" : 1,\n",
      "      \"name\" : \"addr_state\",\n",
      "      \"required\" : false,\n",
      "      \"type\" : \"string\"\n",
      "    }, {\n",
      "      \"id\" : 2,\n",
      "      \"name\" : \"loan_count\",\n",
      "      \"required\" : false,\n",
      "      \"type\" : \"long\"\n",
      "    }, {\n",
      "      \"id\" : 3,\n",
      "      \"name\" : \"new_column\",\n",
      "      \"required\" : false,\n",
      "      \"type\" : \"long\"\n",
      "    } ]\n",
      "  }, {\n",
      "    \"type\" : \"struct\",\n",
      "    \"schema-id\" : 2,\n",
      "    \"fields\" : [ {\n",
      "      \"id\" : 1,\n",
      "      \"name\" : \"addr_state\",\n",
      "      \"required\" : false,\n",
      "      \"type\" : \"string\"\n",
      "    }, {\n",
      "      \"id\" : 2,\n",
      "      \"name\" : \"loan_count\",\n",
      "      \"required\" : false,\n",
      "      \"type\" : \"long\"\n",
      "    }, {\n",
      "      \"id\" : 3,\n",
      "      \"name\" : \"renamed_column\",\n",
      "      \"required\" : false,\n",
      "      \"type\" : \"long\"\n",
      "    } ]\n",
      "  } ],\n",
      "  \"partition-spec\" : [ ],\n",
      "  \"default-spec-id\" : 0,\n",
      "  \"partition-specs\" : [ {\n",
      "    \"spec-id\" : 0,\n",
      "    \"fields\" : [ ]\n",
      "  } ],\n",
      "  \"last-partition-id\" : 999,\n",
      "  \"default-sort-order-id\" : 0,\n",
      "  \"sort-orders\" : [ {\n",
      "    \"order-id\" : 0,\n",
      "    \"fields\" : [ ]\n",
      "  } ],\n",
      "  \"properties\" : {\n",
      "    \"owner\" : \"spark\"\n",
      "  },\n",
      "  \"current-snapshot-id\" : 5865803199727045458,\n",
      "  \"refs\" : {\n",
      "    \"main\" : {\n",
      "      \"snapshot-id\" : 5865803199727045458,\n",
      "      \"type\" : \"branch\"\n",
      "    }\n",
      "  },\n",
      "  \"snapshots\" : [ {\n",
      "    \"snapshot-id\" : 3648627921780331930,\n",
      "    \"timestamp-ms\" : 1676042776364,\n",
      "Exception ignored in: <_io.TextIOWrapper name='<stdout>' mode='w' encoding='utf-8'>\n",
      "BrokenPipeError: [Errno 32] Broken pipe\n"
     ]
    }
   ],
   "source": [
    "#Scanning through the metadata file notice that the current-schema-id has been updated to the latest version\n",
    "\n",
    "latest_metadata = !gsutil ls  $HIVE_METASTORE_WAREHOUSE_DIR/loan_db.db/{TABLE_NAME}/metadata/*.metadata.json | tail -1\n",
    "LATEST_METADATA_FILE = latest_metadata[0]\n",
    "print(\"LATEST_METADATA_FILE\", LATEST_METADATA_FILE)\n",
    "\n",
    "!gsutil cat {LATEST_METADATA_FILE} |head -100"
   ]
  },
  {
   "cell_type": "markdown",
   "id": "ff99e48f-51b6-4731-b741-d91f368f9d23",
   "metadata": {},
   "source": [
    "**NOTE:** *(In our case we have added a column , renamed it and then deleted it to revert the table schema to its orgiginal version. Hence the current-schema-id has been set again to **\"0\"** to reflect the current schema state)*"
   ]
  },
  {
   "cell_type": "markdown",
   "id": "676817ca-622f-4d0d-b09b-45e6dae5f2e6",
   "metadata": {},
   "source": [
    "### THIS CONCLUDES THIS UNIT. PROCEED TO THE NEXT NOTEBOOK"
   ]
  }
 ],
 "metadata": {
  "language_info": {
   "codemirror_mode": {
    "name": "ipython",
    "version": 3
   },
   "file_extension": ".py",
   "mimetype": "text/x-python",
   "name": "python",
   "nbconvert_exporter": "python",
   "pygments_lexer": "ipython3",
   "version": "3.9.15"
  },
  "serverless_spark": "{\"name\":\"projects/nikhim-iceberg-lab/locations/us-central1/sessions/iceberg-lab-21148\",\"uuid\":\"6f0318c1-a7df-4fe3-94cf-9975cfbf72e0\",\"createTime\":\"2023-02-10T22:23:37.228833Z\",\"jupyterSession\":{},\"spark\":{},\"runtimeInfo\":{\"endpoints\":{\"Spark History Server\":\"https://7suwyw62lfbjhcvtckfaxhuxcm-dot-us-central1.dataproc.googleusercontent.com/sparkhistory/?eventLogDirFilter=6f0318c1-a7df-4fe3-94cf-9975cfbf72e0\"}},\"state\":\"ACTIVE\",\"stateTime\":\"2023-02-10T22:24:33.846420Z\",\"creator\":\"nikhim@google.com\",\"runtimeConfig\":{\"version\":\"1.0.29\",\"properties\":{\"spark:spark.jars.packages\":\"org.apache.iceberg:iceberg-spark-runtime-3.2_2.12:1.1.0\",\"spark:spark.sql.catalog.hdp_ctlg\":\"org.apache.iceberg.spark.SparkCatalog\",\"spark:spark.sql.catalog.hdp_ctlg.type\":\"hadoop\",\"spark:spark.sql.catalog.hdp_ctlg.warehouse\":\"gs://iceberg-spark-bucket-928505941962/iceberg-warehouse-dir\",\"spark:spark.sql.catalog.spark_catalog\":\"org.apache.iceberg.spark.SparkSessionCatalog\",\"spark:spark.sql.catalog.spark_catalog.type\":\"hive\",\"spark:spark.sql.extensions\":\"org.apache.iceberg.spark.extensions.IcebergSparkSessionExtensions\",\"spark:spark.executor.instances\":\"2\",\"spark:spark.driver.cores\":\"4\",\"spark:spark.executor.cores\":\"4\",\"spark:spark.dynamicAllocation.executorAllocationRatio\":\"0.3\",\"spark:spark.eventLog.dir\":\"gs://iceberg-sphs-bucket-928505941962/6f0318c1-a7df-4fe3-94cf-9975cfbf72e0/spark-job-history\"}},\"environmentConfig\":{\"executionConfig\":{\"serviceAccount\":\"iceberg-lab-sa@nikhim-iceberg-lab.iam.gserviceaccount.com\",\"subnetworkUri\":\"spark-subnet\",\"idleTtl\":\"14400s\"},\"peripheralsConfig\":{\"metastoreService\":\"projects/nikhim-iceberg-lab/locations/us-central1/services/iceberg-hms-928505941962\",\"sparkHistoryServerConfig\":{\"dataprocCluster\":\"projects/nikhim-iceberg-lab/regions/us-central1/clusters/iceberg-sphs-928505941962\"}}},\"stateHistory\":[{\"state\":\"CREATING\",\"stateStartTime\":\"2023-02-10T22:23:37.228833Z\"}]}",
  "serverless_spark_kernel_name": "remote-54476d9b9a4e3729c940cef9-pyspark",
  "vscode": {
   "interpreter": {
    "hash": "aee8b7b246df8f9039afb4144a1f6fd8d2ca17a180786b69acc140d282b71a49"
   }
  }
 },
 "nbformat": 4,
 "nbformat_minor": 5
}
