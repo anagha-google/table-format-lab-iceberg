{
 "cells": [
  {
   "cell_type": "markdown",
   "id": "4529a790-8425-4600-841a-4b094b82eaa8",
   "metadata": {},
   "source": [
    "# Iceberg Lab \n",
    "## Unit 7: Snapshot Management\n",
    "\n",
    "In the previous unit, we -\n",
    "1. Learned how to \"Time Travel\" in Iceberg Tables\n",
    "\n",
    "In this unit, we will-\n",
    "1. Learn about managing table snapshots \n"
   ]
  },
  {
   "cell_type": "markdown",
   "id": "1a31c4fd-d465-4f52-8e56-3775bf499abc",
   "metadata": {},
   "source": [
    "### 1. Imports"
   ]
  },
  {
   "cell_type": "code",
   "execution_count": 2,
   "id": "1321bce9-178c-4065-8187-0a5728c1a370",
   "metadata": {},
   "outputs": [],
   "source": [
    "from pyspark.sql.functions import col\n",
    "from pyspark.sql import SparkSession\n",
    "\n",
    "import warnings\n",
    "warnings.filterwarnings('ignore')"
   ]
  },
  {
   "cell_type": "markdown",
   "id": "ed295a74-ed1d-4b5d-831a-1b5dcf73c36f",
   "metadata": {},
   "source": [
    "### 2. Create a Spark session powered by Cloud Dataproc "
   ]
  },
  {
   "cell_type": "code",
   "execution_count": 3,
   "id": "b383d5ab-a0b9-45ab-a232-34d88f2a0065",
   "metadata": {},
   "outputs": [
    {
     "data": {
      "text/html": [
       "\n",
       "            <div>\n",
       "                <p><b>SparkSession - hive</b></p>\n",
       "                \n",
       "        <div>\n",
       "            <p><b>SparkContext</b></p>\n",
       "\n",
       "            <p><a href=\"http://gdpic-srvls-session-66878214-9b30-427c-9c7e-c7956ae0f642-m.c.nikhim-iceberg-lab.internal:4040\">Spark UI</a></p>\n",
       "\n",
       "            <dl>\n",
       "              <dt>Version</dt>\n",
       "                <dd><code>v3.2.3</code></dd>\n",
       "              <dt>Master</dt>\n",
       "                <dd><code>spark://gdpic-srvls-session-66878214-9b30-427c-9c7e-c7956ae0f642-m:7077</code></dd>\n",
       "              <dt>AppName</dt>\n",
       "                <dd><code>PySparkShell</code></dd>\n",
       "            </dl>\n",
       "        </div>\n",
       "        \n",
       "            </div>\n",
       "        "
      ],
      "text/plain": [
       "<pyspark.sql.session.SparkSession at 0x7fe3e22b88b0>"
      ]
     },
     "execution_count": 3,
     "metadata": {},
     "output_type": "execute_result"
    }
   ],
   "source": [
    "spark = SparkSession.builder.appName('Loan Analysis').getOrCreate()\n",
    "spark.sparkContext.setLogLevel(\"WARN\")\n",
    "spark"
   ]
  },
  {
   "cell_type": "markdown",
   "id": "63cd13e6-f3f5-4f2c-b4fc-d7e2660c6206",
   "metadata": {},
   "source": [
    "### 3. Declare variables"
   ]
  },
  {
   "cell_type": "code",
   "execution_count": 4,
   "id": "5596e31b-749a-4702-8879-6f05f9ff0c2d",
   "metadata": {},
   "outputs": [
    {
     "name": "stdout",
     "output_type": "stream",
     "text": [
      "PROJECT_ID:  nikhim-iceberg-lab\n"
     ]
    }
   ],
   "source": [
    "project_id_output = !gcloud config list --format \"value(core.project)\" 2>/dev/null\n",
    "PROJECT_ID = project_id_output[0]\n",
    "print(\"PROJECT_ID: \", PROJECT_ID)"
   ]
  },
  {
   "cell_type": "code",
   "execution_count": 5,
   "id": "471c6743-a058-462b-851a-f34323f36243",
   "metadata": {},
   "outputs": [
    {
     "name": "stdout",
     "output_type": "stream",
     "text": [
      "PROJECT_NAME:  nikhim-iceberg-lab\n"
     ]
    }
   ],
   "source": [
    "project_name_output = !gcloud projects describe $PROJECT_ID | grep name | cut -d':' -f2 | xargs\n",
    "PROJECT_NAME = project_name_output[0]\n",
    "print(\"PROJECT_NAME: \", PROJECT_NAME)"
   ]
  },
  {
   "cell_type": "code",
   "execution_count": 6,
   "id": "61929dc6-a083-433c-8a13-3d39d9c4a4a1",
   "metadata": {},
   "outputs": [
    {
     "name": "stdout",
     "output_type": "stream",
     "text": [
      "PROJECT_NUMBER:  928505941962\n"
     ]
    }
   ],
   "source": [
    "project_number_output = !gcloud projects describe $PROJECT_ID | grep projectNumber | cut -d':' -f2 | xargs\n",
    "PROJECT_NUMBER = project_number_output[0]\n",
    "print(\"PROJECT_NUMBER: \", PROJECT_NUMBER)"
   ]
  },
  {
   "cell_type": "code",
   "execution_count": 7,
   "id": "f8b79fd2-5243-41a4-ae87-e7f9dd87cf20",
   "metadata": {},
   "outputs": [
    {
     "name": "stdout",
     "output_type": "stream",
     "text": [
      "HIVE_METASTORE_WAREHOUSE_DIR gs://gcs-bucket-iceberg-hms-928505941962-71d67f3e-cf27-4b25-a996-86a/hive-warehouse\n"
     ]
    }
   ],
   "source": [
    "DPMS_NAME=f\"iceberg-hms-{PROJECT_NUMBER}\"\n",
    "LOCATION=\"us-central1\"\n",
    "\n",
    "metastore_dir = !gcloud metastore services describe $DPMS_NAME --location $LOCATION |grep 'hive.metastore.warehouse.dir'| cut -d':' -f2- | xargs \n",
    "HIVE_METASTORE_WAREHOUSE_DIR = metastore_dir[0]\n",
    "print(\"HIVE_METASTORE_WAREHOUSE_DIR\",HIVE_METASTORE_WAREHOUSE_DIR)"
   ]
  },
  {
   "cell_type": "code",
   "execution_count": 8,
   "id": "68ed1c03-17ba-4de8-97a6-b04edfa15b5a",
   "metadata": {},
   "outputs": [
    {
     "name": "stdout",
     "output_type": "stream",
     "text": [
      "Fully quailified table name : loan_db.loans_by_state_iceberg\n"
     ]
    }
   ],
   "source": [
    "TABLE_NAME=\"loans_by_state_iceberg\"\n",
    "DB_NAME=\"loan_db\"\n",
    "\n",
    "#fully qualified table name\n",
    "FQTN=f\"{DB_NAME}.{TABLE_NAME}\"\n",
    "\n",
    "print(\"Fully quailified table name :\",FQTN)"
   ]
  },
  {
   "cell_type": "markdown",
   "id": "ed74d358-e90b-46d0-b81c-1e29c25ccac5",
   "metadata": {},
   "source": [
    "### 4. Snapshot Management"
   ]
  },
  {
   "cell_type": "code",
   "execution_count": 9,
   "id": "045a80bc-9c39-431f-9f0b-474bee5f645a",
   "metadata": {},
   "outputs": [
    {
     "name": "stdout",
     "output_type": "stream",
     "text": [
      "+--------------------+-------------------+-------------------+---------+--------------------+--------------------+\n",
      "|        committed_at|        snapshot_id|          parent_id|operation|       manifest_list|             summary|\n",
      "+--------------------+-------------------+-------------------+---------+--------------------+--------------------+\n",
      "|2023-02-10 15:26:...|3648627921780331930|               null|   append|gs://gcs-bucket-i...|{spark.app.id -> ...|\n",
      "|2023-02-10 22:29:...|5222601969543758311|3648627921780331930|overwrite|gs://gcs-bucket-i...|{spark.app.id -> ...|\n",
      "|2023-02-10 22:33:...|9145457862466461068|5222601969543758311|   append|gs://gcs-bucket-i...|{spark.app.id -> ...|\n",
      "|2023-02-10 22:35:...|8627182030940064924|9145457862466461068|overwrite|gs://gcs-bucket-i...|{spark.app.id -> ...|\n",
      "|2023-02-10 22:36:...|2697368997376323351|8627182030940064924|overwrite|gs://gcs-bucket-i...|{spark.app.id -> ...|\n",
      "|2023-02-10 22:44:...|5865803199727045458|2697368997376323351|overwrite|gs://gcs-bucket-i...|{spark.app.id -> ...|\n",
      "+--------------------+-------------------+-------------------+---------+--------------------+--------------------+\n",
      "\n"
     ]
    }
   ],
   "source": [
    "#Listing currently available snapshots for the table\n",
    "\n",
    "spark.table(\"loan_db.loans_by_state_iceberg.snapshots\").show()"
   ]
  },
  {
   "cell_type": "code",
   "execution_count": 10,
   "id": "c7b48435-d624-4e5e-bd83-ece0b352ff85",
   "metadata": {},
   "outputs": [
    {
     "name": "stderr",
     "output_type": "stream",
     "text": [
      "ivysettings.xml file not found in HIVE_HOME or HIVE_CONF_DIR,/etc/spark/conf/ivysettings.xml will be used\n",
      "[Stage 2:>                                                          (0 + 1) / 1]\r"
     ]
    },
    {
     "name": "stdout",
     "output_type": "stream",
     "text": [
      "+----------+----------+\n",
      "|addr_state|loan_count|\n",
      "+----------+----------+\n",
      "|CA        |11111     |\n",
      "|IA        |11111     |\n",
      "|IN        |11111     |\n",
      "|AZ        |11111     |\n",
      "+----------+----------+\n",
      "\n"
     ]
    },
    {
     "name": "stderr",
     "output_type": "stream",
     "text": [
      "                                                                                \r"
     ]
    }
   ],
   "source": [
    "#Checking the Table state with few sample records\n",
    "\n",
    "#Fetch current values for 4 states\n",
    "spark.sql(\"SELECT * FROM loan_db.loans_by_state_iceberg where addr_state in ('IA','AZ','CA','IN')\").show(truncate=False)\n"
   ]
  },
  {
   "cell_type": "markdown",
   "id": "2d57fcf1-dd66-43c6-93ac-2c8ae9cfa92d",
   "metadata": {},
   "source": [
    "#### a. rollback_to_snapshot"
   ]
  },
  {
   "cell_type": "code",
   "execution_count": 1,
   "id": "00687d82-d96c-4c08-8f05-1fcdc8843141",
   "metadata": {},
   "outputs": [
    {
     "name": "stderr",
     "output_type": "stream",
     "text": [
      "23/02/11 04:42:53 INFO metastore: Trying to connect to metastore with URI thrift://10.93.64.15:9080\n",
      "23/02/11 04:42:53 INFO metastore: Opened a connection to metastore, current connections: 1\n",
      "23/02/11 04:42:53 INFO metastore: Connected to metastore.\n",
      "23/02/11 04:42:53 INFO BaseMetastoreTableOperations: Refreshing table metadata from new version: gs://gcs-bucket-iceberg-hms-928505941962-71d67f3e-cf27-4b25-a996-86a/hive-warehouse/loan_db.db/loans_by_state_iceberg/metadata/00008-e22e9032-f45b-41ba-a815-c7fbbb913536.metadata.json\n",
      "23/02/11 04:42:54 INFO BaseMetastoreCatalog: Table loaded by catalog: spark_catalog.loan_db.loans_by_state_iceberg\n",
      "23/02/11 04:42:57 WARN WindowExec: No Partition Defined for Window operation! Moving all data to a single partition, this can cause serious performance degradation.\n",
      "23/02/11 04:42:57 WARN WindowExec: No Partition Defined for Window operation! Moving all data to a single partition, this can cause serious performance degradation.\n",
      "[Stage 0:>                                                          (0 + 1) / 1]\r"
     ]
    },
    {
     "name": "stdout",
     "output_type": "stream",
     "text": [
      "ROLLBACK_SNAPSHOT_ID  2697368997376323351\n"
     ]
    },
    {
     "name": "stderr",
     "output_type": "stream",
     "text": [
      "                                                                                \r"
     ]
    }
   ],
   "source": [
    "#Fetch the 5th snapshot update for this example\n",
    "ROLLBACK_SNAPSHOT_ID = spark.sql(f\"SELECT snapshot_id FROM \\\n",
    "(SELECT snapshot_id, ROW_NUMBER() OVER(ORDER BY committed_at ASC) rownum FROM {FQTN}.snapshots) \\\n",
    "a where a.rownum =5\").collect()[0][0]\n",
    "\n",
    "print(\"ROLLBACK_SNAPSHOT_ID \", ROLLBACK_SNAPSHOT_ID)\n"
   ]
  },
  {
   "cell_type": "code",
   "execution_count": 14,
   "id": "516d2636-96a6-42e5-8ef1-0ee3b7d41069",
   "metadata": {},
   "outputs": [],
   "source": [
    "#build snapshot rollback statement\n",
    "\n",
    "SNPSHT_RLBK_STMNT = f\"CALL spark_catalog.system.rollback_to_snapshot('{FQTN}',{ROLLBACK_SNAPSHOT_ID})\"\n",
    "print(SNPSHT_RLBK_STMNT)\n",
    "\n",
    "spark.sql(f\"{SNPSHT_RLBK_STMNT}\").show()"
   ]
  },
  {
   "cell_type": "code",
   "execution_count": 15,
   "id": "9075d0ad-e5b1-4733-b02d-d76739d75393",
   "metadata": {},
   "outputs": [
    {
     "name": "stdout",
     "output_type": "stream",
     "text": [
      "+----------+----------+\n",
      "|addr_state|loan_count|\n",
      "+----------+----------+\n",
      "|IN        |7511      |\n",
      "|AZ        |11111     |\n",
      "+----------+----------+\n",
      "\n"
     ]
    }
   ],
   "source": [
    "#Table current state has been updated to an older snaphsot version\n",
    "spark.sql(\"SELECT * FROM loan_db.loans_by_state_iceberg where addr_state in ('IA','AZ','CA','IN')\").show(truncate=False)\n"
   ]
  },
  {
   "cell_type": "markdown",
   "id": "509ed3e2-c9b0-4166-8ddf-0d63aab4c5af",
   "metadata": {},
   "source": [
    "#### b. rollback_to_timestamp"
   ]
  },
  {
   "cell_type": "code",
   "execution_count": 16,
   "id": "05b5bc4c-c6d7-4e3e-9b9d-33e3d3b4d7aa",
   "metadata": {},
   "outputs": [
    {
     "name": "stderr",
     "output_type": "stream",
     "text": [
      "23/02/11 04:45:15 WARN WindowExec: No Partition Defined for Window operation! Moving all data to a single partition, this can cause serious performance degradation.\n",
      "23/02/11 04:45:15 WARN WindowExec: No Partition Defined for Window operation! Moving all data to a single partition, this can cause serious performance degradation.\n",
      "[Stage 5:>                                                          (0 + 1) / 1]\r"
     ]
    },
    {
     "name": "stdout",
     "output_type": "stream",
     "text": [
      "Rolling back to timestamp 2023-02-10 22:33:06.455000\n"
     ]
    },
    {
     "name": "stderr",
     "output_type": "stream",
     "text": [
      "                                                                                \r"
     ]
    }
   ],
   "source": [
    "#Fetch a specific timestamp to revert table state to\n",
    "\n",
    "timestamp_val = spark.sql(\"select committed_at from (SELECT committed_at, ROW_NUMBER() OVER(ORDER BY committed_at ASC) rownum from loan_db.loans_by_state_iceberg.snapshots) a where a.rownum =3\").collect()[0][0]\n",
    "print(\"Rolling back to timestamp\", timestamp_val)"
   ]
  },
  {
   "cell_type": "code",
   "execution_count": 17,
   "id": "3985f4e3-87bc-40dc-95c1-5364be50664d",
   "metadata": {},
   "outputs": [
    {
     "name": "stdout",
     "output_type": "stream",
     "text": [
      "CALL spark_catalog.system.rollback_to_timestamp('loan_db.loans_by_state_iceberg',TIMESTAMP '2023-02-10 22:33:06.455000')\n",
      "+--------------------+-------------------+\n",
      "|previous_snapshot_id|current_snapshot_id|\n",
      "+--------------------+-------------------+\n",
      "| 2697368997376323351|5222601969543758311|\n",
      "+--------------------+-------------------+\n",
      "\n"
     ]
    }
   ],
   "source": [
    "tmstmp_rlbk_stmnt = f\"CALL spark_catalog.system.rollback_to_timestamp('loan_db.loans_by_state_iceberg',TIMESTAMP '{timestamp_val}')\"\n",
    "print(tmstmp_rlbk_stmnt)\n",
    "\n",
    "spark.sql(tmstmp_rlbk_stmnt).show()"
   ]
  },
  {
   "cell_type": "code",
   "execution_count": 18,
   "id": "82d722be-333b-483a-9ce0-6c339e7c3210",
   "metadata": {},
   "outputs": [
    {
     "name": "stderr",
     "output_type": "stream",
     "text": [
      "[Stage 7:>                                                          (0 + 1) / 1]\r"
     ]
    },
    {
     "name": "stdout",
     "output_type": "stream",
     "text": [
      "+----------+----------+\n",
      "|addr_state|loan_count|\n",
      "+----------+----------+\n",
      "|CA        |62090     |\n",
      "|IN        |7511      |\n",
      "|IA        |1         |\n",
      "+----------+----------+\n",
      "\n"
     ]
    },
    {
     "name": "stderr",
     "output_type": "stream",
     "text": [
      "                                                                                \r"
     ]
    }
   ],
   "source": [
    "#Table current state\n",
    "spark.sql(\"SELECT * FROM loan_db.loans_by_state_iceberg where addr_state in ('IA','AZ','CA','IN')\").show(truncate=False)\n"
   ]
  },
  {
   "cell_type": "markdown",
   "id": "f90bb5f3-d759-448b-836a-2ab6ecdd9d59",
   "metadata": {},
   "source": [
    "**NOTE:**\n",
    "\n",
    "\n",
    "Both rollback_to_snapshot and rollback_to_timestamp can only switch the snapshot if the updating snapshot_id is an ancestor of the current snapshot (older than current_snapshot). \n"
   ]
  },
  {
   "cell_type": "code",
   "execution_count": 19,
   "id": "02a02503-6f13-4628-8f92-76c26e2a0606",
   "metadata": {},
   "outputs": [
    {
     "name": "stderr",
     "output_type": "stream",
     "text": [
      "23/02/11 04:47:54 WARN WindowExec: No Partition Defined for Window operation! Moving all data to a single partition, this can cause serious performance degradation.\n",
      "23/02/11 04:47:54 WARN WindowExec: No Partition Defined for Window operation! Moving all data to a single partition, this can cause serious performance degradation.\n"
     ]
    },
    {
     "name": "stdout",
     "output_type": "stream",
     "text": [
      "Rolling back to snapshot id  5865803199727045458\n"
     ]
    }
   ],
   "source": [
    "#Fetching a younger snapshot which is not an ancestor of the current snapshot\n",
    "\n",
    "newer_snpsht_id = spark.sql(\"select snapshot_id from (SELECT snapshot_id, ROW_NUMBER() OVER(ORDER BY committed_at DESC) rownum from loan_db.loans_by_state_iceberg.snapshots) a where a.rownum =1\").collect()[0][0]\n",
    "print(\"Rolling back to snapshot id \", newer_snpsht_id)\n"
   ]
  },
  {
   "cell_type": "code",
   "execution_count": 20,
   "id": "32c3e7e7-8c67-40d0-ae44-f406cfdb8f65",
   "metadata": {},
   "outputs": [
    {
     "name": "stdout",
     "output_type": "stream",
     "text": [
      "CALL spark_catalog.system.rollback_to_snapshot('loan_db.loans_by_state_iceberg',5865803199727045458)\n"
     ]
    },
    {
     "ename": "Py4JJavaError",
     "evalue": "An error occurred while calling o83.sql.\n: org.apache.iceberg.exceptions.ValidationException: Cannot roll back to snapshot, not an ancestor of the current state: 5865803199727045458\n\tat org.apache.iceberg.exceptions.ValidationException.check(ValidationException.java:49)\n\tat org.apache.iceberg.SetSnapshotOperation.rollbackTo(SetSnapshotOperation.java:84)\n\tat org.apache.iceberg.SnapshotManager.rollbackTo(SnapshotManager.java:59)\n\tat org.apache.iceberg.spark.procedures.RollbackToSnapshotProcedure.lambda$call$0(RollbackToSnapshotProcedure.java:88)\n\tat org.apache.iceberg.spark.procedures.BaseProcedure.execute(BaseProcedure.java:100)\n\tat org.apache.iceberg.spark.procedures.BaseProcedure.modifyIcebergTable(BaseProcedure.java:81)\n\tat org.apache.iceberg.spark.procedures.RollbackToSnapshotProcedure.call(RollbackToSnapshotProcedure.java:83)\n\tat org.apache.spark.sql.execution.datasources.v2.CallExec.run(CallExec.scala:34)\n\tat org.apache.spark.sql.execution.datasources.v2.V2CommandExec.result$lzycompute(V2CommandExec.scala:43)\n\tat org.apache.spark.sql.execution.datasources.v2.V2CommandExec.result(V2CommandExec.scala:43)\n\tat org.apache.spark.sql.execution.datasources.v2.V2CommandExec.executeCollect(V2CommandExec.scala:49)\n\tat org.apache.spark.sql.execution.QueryExecution$$anonfun$eagerlyExecuteCommands$1.$anonfun$applyOrElse$1(QueryExecution.scala:97)\n\tat org.apache.spark.sql.execution.SQLExecution$.$anonfun$withNewExecutionId$5(SQLExecution.scala:103)\n\tat org.apache.spark.sql.execution.SQLExecution$.withSQLConfPropagated(SQLExecution.scala:163)\n\tat org.apache.spark.sql.execution.SQLExecution$.$anonfun$withNewExecutionId$1(SQLExecution.scala:90)\n\tat org.apache.spark.sql.SparkSession.withActive(SparkSession.scala:775)\n\tat org.apache.spark.sql.execution.SQLExecution$.withNewExecutionId(SQLExecution.scala:64)\n\tat org.apache.spark.sql.execution.QueryExecution$$anonfun$eagerlyExecuteCommands$1.applyOrElse(QueryExecution.scala:97)\n\tat org.apache.spark.sql.execution.QueryExecution$$anonfun$eagerlyExecuteCommands$1.applyOrElse(QueryExecution.scala:93)\n\tat org.apache.spark.sql.catalyst.trees.TreeNode.$anonfun$transformDownWithPruning$1(TreeNode.scala:481)\n\tat org.apache.spark.sql.catalyst.trees.CurrentOrigin$.withOrigin(TreeNode.scala:82)\n\tat org.apache.spark.sql.catalyst.trees.TreeNode.transformDownWithPruning(TreeNode.scala:481)\n\tat org.apache.spark.sql.catalyst.plans.logical.LogicalPlan.org$apache$spark$sql$catalyst$plans$logical$AnalysisHelper$$super$transformDownWithPruning(LogicalPlan.scala:30)\n\tat org.apache.spark.sql.catalyst.plans.logical.AnalysisHelper.transformDownWithPruning(AnalysisHelper.scala:267)\n\tat org.apache.spark.sql.catalyst.plans.logical.AnalysisHelper.transformDownWithPruning$(AnalysisHelper.scala:263)\n\tat org.apache.spark.sql.catalyst.plans.logical.LogicalPlan.transformDownWithPruning(LogicalPlan.scala:30)\n\tat org.apache.spark.sql.catalyst.plans.logical.LogicalPlan.transformDownWithPruning(LogicalPlan.scala:30)\n\tat org.apache.spark.sql.catalyst.trees.TreeNode.transformDown(TreeNode.scala:457)\n\tat org.apache.spark.sql.execution.QueryExecution.eagerlyExecuteCommands(QueryExecution.scala:93)\n\tat org.apache.spark.sql.execution.QueryExecution.commandExecuted$lzycompute(QueryExecution.scala:80)\n\tat org.apache.spark.sql.execution.QueryExecution.commandExecuted(QueryExecution.scala:78)\n\tat org.apache.spark.sql.Dataset.<init>(Dataset.scala:219)\n\tat org.apache.spark.sql.Dataset$.$anonfun$ofRows$2(Dataset.scala:99)\n\tat org.apache.spark.sql.SparkSession.withActive(SparkSession.scala:775)\n\tat org.apache.spark.sql.Dataset$.ofRows(Dataset.scala:96)\n\tat org.apache.spark.sql.SparkSession.$anonfun$sql$1(SparkSession.scala:618)\n\tat org.apache.spark.sql.SparkSession.withActive(SparkSession.scala:775)\n\tat org.apache.spark.sql.SparkSession.sql(SparkSession.scala:613)\n\tat java.base/jdk.internal.reflect.NativeMethodAccessorImpl.invoke0(Native Method)\n\tat java.base/jdk.internal.reflect.NativeMethodAccessorImpl.invoke(NativeMethodAccessorImpl.java:62)\n\tat java.base/jdk.internal.reflect.DelegatingMethodAccessorImpl.invoke(DelegatingMethodAccessorImpl.java:43)\n\tat java.base/java.lang.reflect.Method.invoke(Method.java:566)\n\tat py4j.reflection.MethodInvoker.invoke(MethodInvoker.java:244)\n\tat py4j.reflection.ReflectionEngine.invoke(ReflectionEngine.java:357)\n\tat py4j.Gateway.invoke(Gateway.java:282)\n\tat py4j.commands.AbstractCommand.invokeMethod(AbstractCommand.java:132)\n\tat py4j.commands.CallCommand.execute(CallCommand.java:79)\n\tat py4j.ClientServerConnection.waitForCommands(ClientServerConnection.java:182)\n\tat py4j.ClientServerConnection.run(ClientServerConnection.java:106)\n\tat java.base/java.lang.Thread.run(Thread.java:829)\n",
     "output_type": "error",
     "traceback": [
      "\u001b[0;31m---------------------------------------------------------------------------\u001b[0m",
      "\u001b[0;31mPy4JJavaError\u001b[0m                             Traceback (most recent call last)",
      "Cell \u001b[0;32mIn[20], line 4\u001b[0m\n\u001b[1;32m      1\u001b[0m snpsht_rlbk_stmmt \u001b[38;5;241m=\u001b[39m \u001b[38;5;124mf\u001b[39m\u001b[38;5;124m\"\u001b[39m\u001b[38;5;124mCALL spark_catalog.system.rollback_to_snapshot(\u001b[39m\u001b[38;5;124m'\u001b[39m\u001b[38;5;124mloan_db.loans_by_state_iceberg\u001b[39m\u001b[38;5;124m'\u001b[39m\u001b[38;5;124m,\u001b[39m\u001b[38;5;132;01m{\u001b[39;00mnewer_snpsht_id\u001b[38;5;132;01m}\u001b[39;00m\u001b[38;5;124m)\u001b[39m\u001b[38;5;124m\"\u001b[39m\n\u001b[1;32m      2\u001b[0m \u001b[38;5;28mprint\u001b[39m(snpsht_rlbk_stmmt)\n\u001b[0;32m----> 4\u001b[0m \u001b[43mspark\u001b[49m\u001b[38;5;241;43m.\u001b[39;49m\u001b[43msql\u001b[49m\u001b[43m(\u001b[49m\u001b[43msnpsht_rlbk_stmmt\u001b[49m\u001b[43m)\u001b[49m\u001b[38;5;241m.\u001b[39mshow()\n",
      "File \u001b[0;32m/usr/lib/spark/python/pyspark/sql/session.py:723\u001b[0m, in \u001b[0;36mSparkSession.sql\u001b[0;34m(self, sqlQuery)\u001b[0m\n\u001b[1;32m    707\u001b[0m \u001b[38;5;28;01mdef\u001b[39;00m \u001b[38;5;21msql\u001b[39m(\u001b[38;5;28mself\u001b[39m, sqlQuery):\n\u001b[1;32m    708\u001b[0m \u001b[38;5;250m    \u001b[39m\u001b[38;5;124;03m\"\"\"Returns a :class:`DataFrame` representing the result of the given query.\u001b[39;00m\n\u001b[1;32m    709\u001b[0m \n\u001b[1;32m    710\u001b[0m \u001b[38;5;124;03m    .. versionadded:: 2.0.0\u001b[39;00m\n\u001b[0;32m   (...)\u001b[0m\n\u001b[1;32m    721\u001b[0m \u001b[38;5;124;03m    [Row(f1=1, f2='row1'), Row(f1=2, f2='row2'), Row(f1=3, f2='row3')]\u001b[39;00m\n\u001b[1;32m    722\u001b[0m \u001b[38;5;124;03m    \"\"\"\u001b[39;00m\n\u001b[0;32m--> 723\u001b[0m     \u001b[38;5;28;01mreturn\u001b[39;00m DataFrame(\u001b[38;5;28;43mself\u001b[39;49m\u001b[38;5;241;43m.\u001b[39;49m\u001b[43m_jsparkSession\u001b[49m\u001b[38;5;241;43m.\u001b[39;49m\u001b[43msql\u001b[49m\u001b[43m(\u001b[49m\u001b[43msqlQuery\u001b[49m\u001b[43m)\u001b[49m, \u001b[38;5;28mself\u001b[39m\u001b[38;5;241m.\u001b[39m_wrapped)\n",
      "File \u001b[0;32m/usr/lib/spark/python/lib/py4j-0.10.9.5-src.zip/py4j/java_gateway.py:1321\u001b[0m, in \u001b[0;36mJavaMember.__call__\u001b[0;34m(self, *args)\u001b[0m\n\u001b[1;32m   1315\u001b[0m command \u001b[38;5;241m=\u001b[39m proto\u001b[38;5;241m.\u001b[39mCALL_COMMAND_NAME \u001b[38;5;241m+\u001b[39m\\\n\u001b[1;32m   1316\u001b[0m     \u001b[38;5;28mself\u001b[39m\u001b[38;5;241m.\u001b[39mcommand_header \u001b[38;5;241m+\u001b[39m\\\n\u001b[1;32m   1317\u001b[0m     args_command \u001b[38;5;241m+\u001b[39m\\\n\u001b[1;32m   1318\u001b[0m     proto\u001b[38;5;241m.\u001b[39mEND_COMMAND_PART\n\u001b[1;32m   1320\u001b[0m answer \u001b[38;5;241m=\u001b[39m \u001b[38;5;28mself\u001b[39m\u001b[38;5;241m.\u001b[39mgateway_client\u001b[38;5;241m.\u001b[39msend_command(command)\n\u001b[0;32m-> 1321\u001b[0m return_value \u001b[38;5;241m=\u001b[39m \u001b[43mget_return_value\u001b[49m\u001b[43m(\u001b[49m\n\u001b[1;32m   1322\u001b[0m \u001b[43m    \u001b[49m\u001b[43manswer\u001b[49m\u001b[43m,\u001b[49m\u001b[43m \u001b[49m\u001b[38;5;28;43mself\u001b[39;49m\u001b[38;5;241;43m.\u001b[39;49m\u001b[43mgateway_client\u001b[49m\u001b[43m,\u001b[49m\u001b[43m \u001b[49m\u001b[38;5;28;43mself\u001b[39;49m\u001b[38;5;241;43m.\u001b[39;49m\u001b[43mtarget_id\u001b[49m\u001b[43m,\u001b[49m\u001b[43m \u001b[49m\u001b[38;5;28;43mself\u001b[39;49m\u001b[38;5;241;43m.\u001b[39;49m\u001b[43mname\u001b[49m\u001b[43m)\u001b[49m\n\u001b[1;32m   1324\u001b[0m \u001b[38;5;28;01mfor\u001b[39;00m temp_arg \u001b[38;5;129;01min\u001b[39;00m temp_args:\n\u001b[1;32m   1325\u001b[0m     temp_arg\u001b[38;5;241m.\u001b[39m_detach()\n",
      "File \u001b[0;32m/usr/lib/spark/python/pyspark/sql/utils.py:111\u001b[0m, in \u001b[0;36mcapture_sql_exception.<locals>.deco\u001b[0;34m(*a, **kw)\u001b[0m\n\u001b[1;32m    109\u001b[0m \u001b[38;5;28;01mdef\u001b[39;00m \u001b[38;5;21mdeco\u001b[39m(\u001b[38;5;241m*\u001b[39ma, \u001b[38;5;241m*\u001b[39m\u001b[38;5;241m*\u001b[39mkw):\n\u001b[1;32m    110\u001b[0m     \u001b[38;5;28;01mtry\u001b[39;00m:\n\u001b[0;32m--> 111\u001b[0m         \u001b[38;5;28;01mreturn\u001b[39;00m \u001b[43mf\u001b[49m\u001b[43m(\u001b[49m\u001b[38;5;241;43m*\u001b[39;49m\u001b[43ma\u001b[49m\u001b[43m,\u001b[49m\u001b[43m \u001b[49m\u001b[38;5;241;43m*\u001b[39;49m\u001b[38;5;241;43m*\u001b[39;49m\u001b[43mkw\u001b[49m\u001b[43m)\u001b[49m\n\u001b[1;32m    112\u001b[0m     \u001b[38;5;28;01mexcept\u001b[39;00m py4j\u001b[38;5;241m.\u001b[39mprotocol\u001b[38;5;241m.\u001b[39mPy4JJavaError \u001b[38;5;28;01mas\u001b[39;00m e:\n\u001b[1;32m    113\u001b[0m         converted \u001b[38;5;241m=\u001b[39m convert_exception(e\u001b[38;5;241m.\u001b[39mjava_exception)\n",
      "File \u001b[0;32m/usr/lib/spark/python/lib/py4j-0.10.9.5-src.zip/py4j/protocol.py:326\u001b[0m, in \u001b[0;36mget_return_value\u001b[0;34m(answer, gateway_client, target_id, name)\u001b[0m\n\u001b[1;32m    324\u001b[0m value \u001b[38;5;241m=\u001b[39m OUTPUT_CONVERTER[\u001b[38;5;28mtype\u001b[39m](answer[\u001b[38;5;241m2\u001b[39m:], gateway_client)\n\u001b[1;32m    325\u001b[0m \u001b[38;5;28;01mif\u001b[39;00m answer[\u001b[38;5;241m1\u001b[39m] \u001b[38;5;241m==\u001b[39m REFERENCE_TYPE:\n\u001b[0;32m--> 326\u001b[0m     \u001b[38;5;28;01mraise\u001b[39;00m Py4JJavaError(\n\u001b[1;32m    327\u001b[0m         \u001b[38;5;124m\"\u001b[39m\u001b[38;5;124mAn error occurred while calling \u001b[39m\u001b[38;5;132;01m{0}\u001b[39;00m\u001b[38;5;132;01m{1}\u001b[39;00m\u001b[38;5;132;01m{2}\u001b[39;00m\u001b[38;5;124m.\u001b[39m\u001b[38;5;130;01m\\n\u001b[39;00m\u001b[38;5;124m\"\u001b[39m\u001b[38;5;241m.\u001b[39m\n\u001b[1;32m    328\u001b[0m         \u001b[38;5;28mformat\u001b[39m(target_id, \u001b[38;5;124m\"\u001b[39m\u001b[38;5;124m.\u001b[39m\u001b[38;5;124m\"\u001b[39m, name), value)\n\u001b[1;32m    329\u001b[0m \u001b[38;5;28;01melse\u001b[39;00m:\n\u001b[1;32m    330\u001b[0m     \u001b[38;5;28;01mraise\u001b[39;00m Py4JError(\n\u001b[1;32m    331\u001b[0m         \u001b[38;5;124m\"\u001b[39m\u001b[38;5;124mAn error occurred while calling \u001b[39m\u001b[38;5;132;01m{0}\u001b[39;00m\u001b[38;5;132;01m{1}\u001b[39;00m\u001b[38;5;132;01m{2}\u001b[39;00m\u001b[38;5;124m. Trace:\u001b[39m\u001b[38;5;130;01m\\n\u001b[39;00m\u001b[38;5;132;01m{3}\u001b[39;00m\u001b[38;5;130;01m\\n\u001b[39;00m\u001b[38;5;124m\"\u001b[39m\u001b[38;5;241m.\u001b[39m\n\u001b[1;32m    332\u001b[0m         \u001b[38;5;28mformat\u001b[39m(target_id, \u001b[38;5;124m\"\u001b[39m\u001b[38;5;124m.\u001b[39m\u001b[38;5;124m\"\u001b[39m, name, value))\n",
      "\u001b[0;31mPy4JJavaError\u001b[0m: An error occurred while calling o83.sql.\n: org.apache.iceberg.exceptions.ValidationException: Cannot roll back to snapshot, not an ancestor of the current state: 5865803199727045458\n\tat org.apache.iceberg.exceptions.ValidationException.check(ValidationException.java:49)\n\tat org.apache.iceberg.SetSnapshotOperation.rollbackTo(SetSnapshotOperation.java:84)\n\tat org.apache.iceberg.SnapshotManager.rollbackTo(SnapshotManager.java:59)\n\tat org.apache.iceberg.spark.procedures.RollbackToSnapshotProcedure.lambda$call$0(RollbackToSnapshotProcedure.java:88)\n\tat org.apache.iceberg.spark.procedures.BaseProcedure.execute(BaseProcedure.java:100)\n\tat org.apache.iceberg.spark.procedures.BaseProcedure.modifyIcebergTable(BaseProcedure.java:81)\n\tat org.apache.iceberg.spark.procedures.RollbackToSnapshotProcedure.call(RollbackToSnapshotProcedure.java:83)\n\tat org.apache.spark.sql.execution.datasources.v2.CallExec.run(CallExec.scala:34)\n\tat org.apache.spark.sql.execution.datasources.v2.V2CommandExec.result$lzycompute(V2CommandExec.scala:43)\n\tat org.apache.spark.sql.execution.datasources.v2.V2CommandExec.result(V2CommandExec.scala:43)\n\tat org.apache.spark.sql.execution.datasources.v2.V2CommandExec.executeCollect(V2CommandExec.scala:49)\n\tat org.apache.spark.sql.execution.QueryExecution$$anonfun$eagerlyExecuteCommands$1.$anonfun$applyOrElse$1(QueryExecution.scala:97)\n\tat org.apache.spark.sql.execution.SQLExecution$.$anonfun$withNewExecutionId$5(SQLExecution.scala:103)\n\tat org.apache.spark.sql.execution.SQLExecution$.withSQLConfPropagated(SQLExecution.scala:163)\n\tat org.apache.spark.sql.execution.SQLExecution$.$anonfun$withNewExecutionId$1(SQLExecution.scala:90)\n\tat org.apache.spark.sql.SparkSession.withActive(SparkSession.scala:775)\n\tat org.apache.spark.sql.execution.SQLExecution$.withNewExecutionId(SQLExecution.scala:64)\n\tat org.apache.spark.sql.execution.QueryExecution$$anonfun$eagerlyExecuteCommands$1.applyOrElse(QueryExecution.scala:97)\n\tat org.apache.spark.sql.execution.QueryExecution$$anonfun$eagerlyExecuteCommands$1.applyOrElse(QueryExecution.scala:93)\n\tat org.apache.spark.sql.catalyst.trees.TreeNode.$anonfun$transformDownWithPruning$1(TreeNode.scala:481)\n\tat org.apache.spark.sql.catalyst.trees.CurrentOrigin$.withOrigin(TreeNode.scala:82)\n\tat org.apache.spark.sql.catalyst.trees.TreeNode.transformDownWithPruning(TreeNode.scala:481)\n\tat org.apache.spark.sql.catalyst.plans.logical.LogicalPlan.org$apache$spark$sql$catalyst$plans$logical$AnalysisHelper$$super$transformDownWithPruning(LogicalPlan.scala:30)\n\tat org.apache.spark.sql.catalyst.plans.logical.AnalysisHelper.transformDownWithPruning(AnalysisHelper.scala:267)\n\tat org.apache.spark.sql.catalyst.plans.logical.AnalysisHelper.transformDownWithPruning$(AnalysisHelper.scala:263)\n\tat org.apache.spark.sql.catalyst.plans.logical.LogicalPlan.transformDownWithPruning(LogicalPlan.scala:30)\n\tat org.apache.spark.sql.catalyst.plans.logical.LogicalPlan.transformDownWithPruning(LogicalPlan.scala:30)\n\tat org.apache.spark.sql.catalyst.trees.TreeNode.transformDown(TreeNode.scala:457)\n\tat org.apache.spark.sql.execution.QueryExecution.eagerlyExecuteCommands(QueryExecution.scala:93)\n\tat org.apache.spark.sql.execution.QueryExecution.commandExecuted$lzycompute(QueryExecution.scala:80)\n\tat org.apache.spark.sql.execution.QueryExecution.commandExecuted(QueryExecution.scala:78)\n\tat org.apache.spark.sql.Dataset.<init>(Dataset.scala:219)\n\tat org.apache.spark.sql.Dataset$.$anonfun$ofRows$2(Dataset.scala:99)\n\tat org.apache.spark.sql.SparkSession.withActive(SparkSession.scala:775)\n\tat org.apache.spark.sql.Dataset$.ofRows(Dataset.scala:96)\n\tat org.apache.spark.sql.SparkSession.$anonfun$sql$1(SparkSession.scala:618)\n\tat org.apache.spark.sql.SparkSession.withActive(SparkSession.scala:775)\n\tat org.apache.spark.sql.SparkSession.sql(SparkSession.scala:613)\n\tat java.base/jdk.internal.reflect.NativeMethodAccessorImpl.invoke0(Native Method)\n\tat java.base/jdk.internal.reflect.NativeMethodAccessorImpl.invoke(NativeMethodAccessorImpl.java:62)\n\tat java.base/jdk.internal.reflect.DelegatingMethodAccessorImpl.invoke(DelegatingMethodAccessorImpl.java:43)\n\tat java.base/java.lang.reflect.Method.invoke(Method.java:566)\n\tat py4j.reflection.MethodInvoker.invoke(MethodInvoker.java:244)\n\tat py4j.reflection.ReflectionEngine.invoke(ReflectionEngine.java:357)\n\tat py4j.Gateway.invoke(Gateway.java:282)\n\tat py4j.commands.AbstractCommand.invokeMethod(AbstractCommand.java:132)\n\tat py4j.commands.CallCommand.execute(CallCommand.java:79)\n\tat py4j.ClientServerConnection.waitForCommands(ClientServerConnection.java:182)\n\tat py4j.ClientServerConnection.run(ClientServerConnection.java:106)\n\tat java.base/java.lang.Thread.run(Thread.java:829)\n"
     ]
    }
   ],
   "source": [
    "snpsht_rlbk_stmmt = f\"CALL spark_catalog.system.rollback_to_snapshot('loan_db.loans_by_state_iceberg',{newer_snpsht_id})\"\n",
    "print(snpsht_rlbk_stmmt)\n",
    "\n",
    "spark.sql(snpsht_rlbk_stmmt).show()"
   ]
  },
  {
   "cell_type": "markdown",
   "id": "e9242e57-3d08-4b01-a60c-37ff75c379f9",
   "metadata": {},
   "source": [
    "As seen above we get the error _\"Cannot roll back to snapshot, not an ancestor of the current state\"_\n",
    "\n",
    "We can workaround this problem using another procedure called **_set_current_snapshot_**"
   ]
  },
  {
   "cell_type": "markdown",
   "id": "01af88a7-be2e-4d0c-a623-198875e2fe7f",
   "metadata": {},
   "source": [
    "#### c. set_current_snapshot"
   ]
  },
  {
   "cell_type": "code",
   "execution_count": 21,
   "id": "21d588f0-f0a8-435d-9d04-67f2177c0ce9",
   "metadata": {},
   "outputs": [
    {
     "name": "stdout",
     "output_type": "stream",
     "text": [
      "CALL spark_catalog.system.set_current_snapshot('loan_db.loans_by_state_iceberg',5865803199727045458)\n",
      "+--------------------+-------------------+\n",
      "|previous_snapshot_id|current_snapshot_id|\n",
      "+--------------------+-------------------+\n",
      "|5222601969543758311 |5865803199727045458|\n",
      "+--------------------+-------------------+\n",
      "\n"
     ]
    }
   ],
   "source": [
    "set_snpsht_stmnt = f\"CALL spark_catalog.system.set_current_snapshot('loan_db.loans_by_state_iceberg',{newer_snpsht_id})\"\n",
    "print(set_snpsht_stmnt)\n",
    "\n",
    "spark.sql(set_snpsht_stmnt).show(truncate=False)"
   ]
  },
  {
   "cell_type": "code",
   "execution_count": 22,
   "id": "1f9ba6f3-2369-4efc-a05e-3e8d999eb9e5",
   "metadata": {},
   "outputs": [
    {
     "name": "stdout",
     "output_type": "stream",
     "text": [
      "+----------+----------+\n",
      "|addr_state|loan_count|\n",
      "+----------+----------+\n",
      "|CA        |11111     |\n",
      "|IA        |11111     |\n",
      "|IN        |11111     |\n",
      "|AZ        |11111     |\n",
      "+----------+----------+\n",
      "\n"
     ]
    }
   ],
   "source": [
    "#Table current state modified to newer_snapshot_id\n",
    "spark.sql(\"SELECT * FROM loan_db.loans_by_state_iceberg where addr_state in ('IA','AZ','CA','IN')\").show(truncate=False)\n"
   ]
  },
  {
   "cell_type": "code",
   "execution_count": 23,
   "id": "f805c1c3-bd20-47ff-ac1c-cdc5587227e7",
   "metadata": {},
   "outputs": [
    {
     "name": "stdout",
     "output_type": "stream",
     "text": [
      "gs://gcs-bucket-iceberg-hms-928505941962-71d67f3e-cf27-4b25-a996-86a/hive-warehouse/loan_db.db/loans_by_state_iceberg/:\n",
      "\n",
      "gs://gcs-bucket-iceberg-hms-928505941962-71d67f3e-cf27-4b25-a996-86a/hive-warehouse/loan_db.db/loans_by_state_iceberg/data/:\n",
      "gs://gcs-bucket-iceberg-hms-928505941962-71d67f3e-cf27-4b25-a996-86a/hive-warehouse/loan_db.db/loans_by_state_iceberg/data/00000-2-b2d1021e-d3ad-4aff-baa7-1c740e8a3144-00001.parquet\n",
      "gs://gcs-bucket-iceberg-hms-928505941962-71d67f3e-cf27-4b25-a996-86a/hive-warehouse/loan_db.db/loans_by_state_iceberg/data/00000-205-c4327bde-de7b-4bb7-a2fe-cb90b1c77623-00001.parquet\n",
      "gs://gcs-bucket-iceberg-hms-928505941962-71d67f3e-cf27-4b25-a996-86a/hive-warehouse/loan_db.db/loans_by_state_iceberg/data/00000-410-3265a2ac-0164-4598-a86e-03a63e191071-00001.parquet\n",
      "gs://gcs-bucket-iceberg-hms-928505941962-71d67f3e-cf27-4b25-a996-86a/hive-warehouse/loan_db.db/loans_by_state_iceberg/data/00000-457-db97e1c8-4cc1-4098-94d7-a1172491a65c-00001.parquet\n",
      "gs://gcs-bucket-iceberg-hms-928505941962-71d67f3e-cf27-4b25-a996-86a/hive-warehouse/loan_db.db/loans_by_state_iceberg/data/00054-4-595dbb6c-4517-4463-91be-a1b513cf82f2-00001.parquet\n",
      "gs://gcs-bucket-iceberg-hms-928505941962-71d67f3e-cf27-4b25-a996-86a/hive-warehouse/loan_db.db/loans_by_state_iceberg/data/00130-209-e5d9f868-2616-41fc-9233-464482068f34-00001.parquet\n",
      "\n",
      "gs://gcs-bucket-iceberg-hms-928505941962-71d67f3e-cf27-4b25-a996-86a/hive-warehouse/loan_db.db/loans_by_state_iceberg/metadata/:\n",
      "gs://gcs-bucket-iceberg-hms-928505941962-71d67f3e-cf27-4b25-a996-86a/hive-warehouse/loan_db.db/loans_by_state_iceberg/metadata/00000-e9f97377-9cf7-4d6b-a97f-cde34a16cb51.metadata.json\n",
      "gs://gcs-bucket-iceberg-hms-928505941962-71d67f3e-cf27-4b25-a996-86a/hive-warehouse/loan_db.db/loans_by_state_iceberg/metadata/00001-3278c0db-1d9d-4483-9b6f-e6fe9bc799c1.metadata.json\n",
      "gs://gcs-bucket-iceberg-hms-928505941962-71d67f3e-cf27-4b25-a996-86a/hive-warehouse/loan_db.db/loans_by_state_iceberg/metadata/00002-bc68f99b-7d12-4b18-a2b2-e9c9e745cbfe.metadata.json\n",
      "gs://gcs-bucket-iceberg-hms-928505941962-71d67f3e-cf27-4b25-a996-86a/hive-warehouse/loan_db.db/loans_by_state_iceberg/metadata/00003-b3d4f2b7-aa02-4b21-b475-9b2dc02441e7.metadata.json\n",
      "gs://gcs-bucket-iceberg-hms-928505941962-71d67f3e-cf27-4b25-a996-86a/hive-warehouse/loan_db.db/loans_by_state_iceberg/metadata/00004-1f15486a-5485-4bdf-aefb-e1b7a9da220f.metadata.json\n",
      "gs://gcs-bucket-iceberg-hms-928505941962-71d67f3e-cf27-4b25-a996-86a/hive-warehouse/loan_db.db/loans_by_state_iceberg/metadata/00005-11ccc425-46bd-4e46-a9e8-8606b7dbc16a.metadata.json\n",
      "gs://gcs-bucket-iceberg-hms-928505941962-71d67f3e-cf27-4b25-a996-86a/hive-warehouse/loan_db.db/loans_by_state_iceberg/metadata/00006-7a8cd0dd-ceaf-44e4-bc68-2da1a0ad5845.metadata.json\n",
      "gs://gcs-bucket-iceberg-hms-928505941962-71d67f3e-cf27-4b25-a996-86a/hive-warehouse/loan_db.db/loans_by_state_iceberg/metadata/00007-27838306-ac0b-4958-bd31-9fb632eb04ca.metadata.json\n",
      "gs://gcs-bucket-iceberg-hms-928505941962-71d67f3e-cf27-4b25-a996-86a/hive-warehouse/loan_db.db/loans_by_state_iceberg/metadata/00008-e22e9032-f45b-41ba-a815-c7fbbb913536.metadata.json\n",
      "gs://gcs-bucket-iceberg-hms-928505941962-71d67f3e-cf27-4b25-a996-86a/hive-warehouse/loan_db.db/loans_by_state_iceberg/metadata/00009-f979853c-e8c3-40fe-8369-4f280e7b93bc.metadata.json\n",
      "gs://gcs-bucket-iceberg-hms-928505941962-71d67f3e-cf27-4b25-a996-86a/hive-warehouse/loan_db.db/loans_by_state_iceberg/metadata/00010-592b9956-1aa8-450c-a713-9f31ca500e43.metadata.json\n",
      "gs://gcs-bucket-iceberg-hms-928505941962-71d67f3e-cf27-4b25-a996-86a/hive-warehouse/loan_db.db/loans_by_state_iceberg/metadata/00011-866e8847-b4b2-42c5-88e0-16c47a48caa9.metadata.json\n",
      "gs://gcs-bucket-iceberg-hms-928505941962-71d67f3e-cf27-4b25-a996-86a/hive-warehouse/loan_db.db/loans_by_state_iceberg/metadata/60274643-cd8c-4f7c-b037-4ada16053ca9-m0.avro\n",
      "gs://gcs-bucket-iceberg-hms-928505941962-71d67f3e-cf27-4b25-a996-86a/hive-warehouse/loan_db.db/loans_by_state_iceberg/metadata/60274643-cd8c-4f7c-b037-4ada16053ca9-m1.avro\n",
      "gs://gcs-bucket-iceberg-hms-928505941962-71d67f3e-cf27-4b25-a996-86a/hive-warehouse/loan_db.db/loans_by_state_iceberg/metadata/6d82bf31-6b44-4f47-bdf1-6567080cbaa4-m0.avro\n",
      "gs://gcs-bucket-iceberg-hms-928505941962-71d67f3e-cf27-4b25-a996-86a/hive-warehouse/loan_db.db/loans_by_state_iceberg/metadata/6d82bf31-6b44-4f47-bdf1-6567080cbaa4-m1.avro\n",
      "gs://gcs-bucket-iceberg-hms-928505941962-71d67f3e-cf27-4b25-a996-86a/hive-warehouse/loan_db.db/loans_by_state_iceberg/metadata/b4bce2b6-d0e0-440f-a879-f2cc876fe580-m0.avro\n",
      "gs://gcs-bucket-iceberg-hms-928505941962-71d67f3e-cf27-4b25-a996-86a/hive-warehouse/loan_db.db/loans_by_state_iceberg/metadata/b4bce2b6-d0e0-440f-a879-f2cc876fe580-m1.avro\n",
      "gs://gcs-bucket-iceberg-hms-928505941962-71d67f3e-cf27-4b25-a996-86a/hive-warehouse/loan_db.db/loans_by_state_iceberg/metadata/bbe9674b-8463-4473-9361-7cff8e15023e-m0.avro\n",
      "gs://gcs-bucket-iceberg-hms-928505941962-71d67f3e-cf27-4b25-a996-86a/hive-warehouse/loan_db.db/loans_by_state_iceberg/metadata/cf61b81b-a797-4f85-9b06-81472ed49468-m0.avro\n",
      "gs://gcs-bucket-iceberg-hms-928505941962-71d67f3e-cf27-4b25-a996-86a/hive-warehouse/loan_db.db/loans_by_state_iceberg/metadata/cf61b81b-a797-4f85-9b06-81472ed49468-m1.avro\n",
      "gs://gcs-bucket-iceberg-hms-928505941962-71d67f3e-cf27-4b25-a996-86a/hive-warehouse/loan_db.db/loans_by_state_iceberg/metadata/cf61b81b-a797-4f85-9b06-81472ed49468-m2.avro\n",
      "gs://gcs-bucket-iceberg-hms-928505941962-71d67f3e-cf27-4b25-a996-86a/hive-warehouse/loan_db.db/loans_by_state_iceberg/metadata/d37b2f20-215b-4690-9fdf-1e59a8e68f24-m0.avro\n",
      "gs://gcs-bucket-iceberg-hms-928505941962-71d67f3e-cf27-4b25-a996-86a/hive-warehouse/loan_db.db/loans_by_state_iceberg/metadata/snap-2697368997376323351-1-cf61b81b-a797-4f85-9b06-81472ed49468.avro\n",
      "gs://gcs-bucket-iceberg-hms-928505941962-71d67f3e-cf27-4b25-a996-86a/hive-warehouse/loan_db.db/loans_by_state_iceberg/metadata/snap-3648627921780331930-1-d37b2f20-215b-4690-9fdf-1e59a8e68f24.avro\n",
      "gs://gcs-bucket-iceberg-hms-928505941962-71d67f3e-cf27-4b25-a996-86a/hive-warehouse/loan_db.db/loans_by_state_iceberg/metadata/snap-5222601969543758311-1-b4bce2b6-d0e0-440f-a879-f2cc876fe580.avro\n",
      "gs://gcs-bucket-iceberg-hms-928505941962-71d67f3e-cf27-4b25-a996-86a/hive-warehouse/loan_db.db/loans_by_state_iceberg/metadata/snap-5865803199727045458-1-60274643-cd8c-4f7c-b037-4ada16053ca9.avro\n",
      "gs://gcs-bucket-iceberg-hms-928505941962-71d67f3e-cf27-4b25-a996-86a/hive-warehouse/loan_db.db/loans_by_state_iceberg/metadata/snap-8627182030940064924-1-6d82bf31-6b44-4f47-bdf1-6567080cbaa4.avro\n",
      "gs://gcs-bucket-iceberg-hms-928505941962-71d67f3e-cf27-4b25-a996-86a/hive-warehouse/loan_db.db/loans_by_state_iceberg/metadata/snap-9145457862466461068-1-bbe9674b-8463-4473-9361-7cff8e15023e.avro\n"
     ]
    }
   ],
   "source": [
    "!gsutil ls -r  {HIVE_METASTORE_WAREHOUSE_DIR}/loan_db.db/{TABLE_NAME}/"
   ]
  },
  {
   "cell_type": "markdown",
   "id": "b86593ab-c082-4067-8f45-4d7f1836fef4",
   "metadata": {},
   "source": [
    "### THIS CONCLUDES THIS LAB. PROCEED TO THE NEXT NOTEBOOK."
   ]
  }
 ],
 "metadata": {
  "language_info": {
   "codemirror_mode": {
    "name": "ipython",
    "version": 3
   },
   "file_extension": ".py",
   "mimetype": "text/x-python",
   "name": "python",
   "nbconvert_exporter": "python",
   "pygments_lexer": "ipython3",
   "version": "3.9.15"
  },
  "serverless_spark": "{\"name\":\"projects/nikhim-iceberg-lab/locations/us-central1/sessions/iceberg-lab-29983\",\"uuid\":\"66878214-9b30-427c-9c7e-c7956ae0f642\",\"createTime\":\"2023-02-11T04:34:01.430029Z\",\"jupyterSession\":{},\"spark\":{},\"runtimeInfo\":{\"endpoints\":{\"Spark History Server\":\"https://7suwyw62lfbjhcvtckfaxhuxcm-dot-us-central1.dataproc.googleusercontent.com/sparkhistory/?eventLogDirFilter=66878214-9b30-427c-9c7e-c7956ae0f642\"}},\"state\":\"ACTIVE\",\"stateTime\":\"2023-02-11T04:35:44.436862Z\",\"creator\":\"nikhim@google.com\",\"runtimeConfig\":{\"version\":\"1.0.29\",\"properties\":{\"spark:spark.jars.packages\":\"org.apache.iceberg:iceberg-spark-runtime-3.2_2.12:1.1.0\",\"spark:spark.sql.catalog.hdp_ctlg\":\"org.apache.iceberg.spark.SparkCatalog\",\"spark:spark.sql.catalog.hdp_ctlg.type\":\"hadoop\",\"spark:spark.sql.catalog.hdp_ctlg.warehouse\":\"gs://iceberg-spark-bucket-928505941962/iceberg-warehouse-dir\",\"spark:spark.sql.catalog.spark_catalog\":\"org.apache.iceberg.spark.SparkSessionCatalog\",\"spark:spark.sql.catalog.spark_catalog.type\":\"hive\",\"spark:spark.sql.extensions\":\"org.apache.iceberg.spark.extensions.IcebergSparkSessionExtensions\",\"spark:spark.executor.instances\":\"2\",\"spark:spark.driver.cores\":\"4\",\"spark:spark.executor.cores\":\"4\",\"spark:spark.dynamicAllocation.executorAllocationRatio\":\"0.3\",\"spark:spark.eventLog.dir\":\"gs://iceberg-sphs-bucket-928505941962/66878214-9b30-427c-9c7e-c7956ae0f642/spark-job-history\"}},\"environmentConfig\":{\"executionConfig\":{\"serviceAccount\":\"iceberg-lab-sa@nikhim-iceberg-lab.iam.gserviceaccount.com\",\"subnetworkUri\":\"spark-subnet\",\"idleTtl\":\"14400s\"},\"peripheralsConfig\":{\"metastoreService\":\"projects/nikhim-iceberg-lab/locations/us-central1/services/iceberg-hms-928505941962\",\"sparkHistoryServerConfig\":{\"dataprocCluster\":\"projects/nikhim-iceberg-lab/regions/us-central1/clusters/iceberg-sphs-928505941962\"}}},\"stateHistory\":[{\"state\":\"CREATING\",\"stateStartTime\":\"2023-02-11T04:34:01.430029Z\"}]}",
  "serverless_spark_kernel_name": "remote-00e042e2d3fa02aea30310e6-pyspark",
  "vscode": {
   "interpreter": {
    "hash": "aee8b7b246df8f9039afb4144a1f6fd8d2ca17a180786b69acc140d282b71a49"
   }
  }
 },
 "nbformat": 4,
 "nbformat_minor": 5
}
