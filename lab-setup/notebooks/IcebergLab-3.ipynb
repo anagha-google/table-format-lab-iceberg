{
 "cells": [
  {
   "cell_type": "markdown",
   "id": "4529a790-8425-4600-841a-4b094b82eaa8",
   "metadata": {},
   "source": [
    "# Iceberg Lab \n",
    "## Unit 3: CRUD Support\n",
    "\n",
    "This lab is powered by Dataproc Serverless Spark.\n",
    "\n",
    "In the previous unit, we did the following-\n",
    "1. Create Partitioned and Unpartitioned Icberg Table in Hive Catalog\n",
    "2. Explore folder structure in Hive Catalog\n",
    "3. Explore table descriptions and metadata files for tables in both catalogs\n",
    "\n",
    "\n",
    "In this unit, we will learn how to -\n",
    "1. Delete a record and study the metadata log\n",
    "2. Insert a record and study the metadata log\n",
    "3. Update a record and study the metadata log\n",
    "4. Insert Overwrite from a source table and study the metadata log\n",
    "5. Merge from a source table and study the metadata log "
   ]
  },
  {
   "cell_type": "markdown",
   "id": "1a31c4fd-d465-4f52-8e56-3775bf499abc",
   "metadata": {},
   "source": [
    "### 1. Imports"
   ]
  },
  {
   "cell_type": "code",
   "execution_count": 1,
   "id": "1321bce9-178c-4065-8187-0a5728c1a370",
   "metadata": {},
   "outputs": [],
   "source": [
    "from pyspark.sql.functions import col\n",
    "from pyspark.sql import SparkSession\n",
    "\n",
    "import warnings\n",
    "warnings.filterwarnings('ignore')"
   ]
  },
  {
   "cell_type": "markdown",
   "id": "ed295a74-ed1d-4b5d-831a-1b5dcf73c36f",
   "metadata": {},
   "source": [
    "### 2. Create a Spark session powered by Cloud Dataproc "
   ]
  },
  {
   "cell_type": "code",
   "execution_count": 2,
   "id": "b383d5ab-a0b9-45ab-a232-34d88f2a0065",
   "metadata": {},
   "outputs": [
    {
     "name": "stderr",
     "output_type": "stream",
     "text": [
      "24/05/13 16:42:29 WARN SparkSession: Using an existing Spark session; only runtime SQL configurations will take effect.\n"
     ]
    },
    {
     "data": {
      "text/html": [
       "\n",
       "            <div>\n",
       "                <p><b>SparkSession - hive</b></p>\n",
       "                \n",
       "        <div>\n",
       "            <p><b>SparkContext</b></p>\n",
       "\n",
       "            <p><a href=\"http://gdpic-srvls-session-0d0ce882-9f5b-439e-bbb8-5879459b71b9-m.us-central1-a.c.delta-lake-diy-lab.internal:4040\">Spark UI</a></p>\n",
       "\n",
       "            <dl>\n",
       "              <dt>Version</dt>\n",
       "                <dd><code>v3.3.4</code></dd>\n",
       "              <dt>Master</dt>\n",
       "                <dd><code>spark://gdpic-srvls-session-0d0ce882-9f5b-439e-bbb8-5879459b71b9-m:7077</code></dd>\n",
       "              <dt>AppName</dt>\n",
       "                <dd><code>PySparkShell</code></dd>\n",
       "            </dl>\n",
       "        </div>\n",
       "        \n",
       "            </div>\n",
       "        "
      ],
      "text/plain": [
       "<pyspark.sql.session.SparkSession at 0x7f4fdee3d330>"
      ]
     },
     "execution_count": 2,
     "metadata": {},
     "output_type": "execute_result"
    }
   ],
   "source": [
    "spark = SparkSession.builder.appName('Loan Analysis').getOrCreate()\n",
    "spark.sparkContext.setLogLevel(\"WARN\")\n",
    "spark"
   ]
  },
  {
   "cell_type": "markdown",
   "id": "63cd13e6-f3f5-4f2c-b4fc-d7e2660c6206",
   "metadata": {},
   "source": [
    "### 3. Declare variables"
   ]
  },
  {
   "cell_type": "code",
   "execution_count": 3,
   "id": "5596e31b-749a-4702-8879-6f05f9ff0c2d",
   "metadata": {},
   "outputs": [
    {
     "name": "stdout",
     "output_type": "stream",
     "text": [
      "PROJECT_ID:  delta-lake-diy-lab\n"
     ]
    }
   ],
   "source": [
    "project_id_output = !gcloud config list --format \"value(core.project)\" 2>/dev/null\n",
    "PROJECT_ID = project_id_output[0]\n",
    "print(\"PROJECT_ID: \", PROJECT_ID)"
   ]
  },
  {
   "cell_type": "code",
   "execution_count": 4,
   "id": "471c6743-a058-462b-851a-f34323f36243",
   "metadata": {},
   "outputs": [
    {
     "name": "stdout",
     "output_type": "stream",
     "text": [
      "PROJECT_NAME:  delta-lake-diy-lab\n"
     ]
    }
   ],
   "source": [
    "project_name_output = !gcloud projects describe $PROJECT_ID | grep name | cut -d':' -f2 | xargs\n",
    "PROJECT_NAME = project_name_output[0]\n",
    "print(\"PROJECT_NAME: \", PROJECT_NAME)"
   ]
  },
  {
   "cell_type": "code",
   "execution_count": 5,
   "id": "61929dc6-a083-433c-8a13-3d39d9c4a4a1",
   "metadata": {},
   "outputs": [
    {
     "name": "stdout",
     "output_type": "stream",
     "text": [
      "PROJECT_NUMBER:  11002190840\n"
     ]
    }
   ],
   "source": [
    "project_number_output = !gcloud projects describe $PROJECT_ID | grep projectNumber | cut -d':' -f2 | xargs\n",
    "PROJECT_NUMBER = project_number_output[0]\n",
    "print(\"PROJECT_NUMBER: \", PROJECT_NUMBER)"
   ]
  },
  {
   "cell_type": "code",
   "execution_count": 6,
   "id": "f8b79fd2-5243-41a4-ae87-e7f9dd87cf20",
   "metadata": {},
   "outputs": [
    {
     "name": "stdout",
     "output_type": "stream",
     "text": [
      "HIVE_METASTORE_WAREHOUSE_DIR gs://gcs-bucket-dll-hms-11002190840-e1664035-a2d9-4215-be46-45c40712/hive-warehouse\n"
     ]
    }
   ],
   "source": [
    "DPMS_NAME=f\"dll-hms-{PROJECT_NUMBER}\"\n",
    "LOCATION=\"us-central1\"\n",
    "\n",
    "metastore_dir = !gcloud metastore services describe $DPMS_NAME --location $LOCATION |grep 'hive.metastore.warehouse.dir'| cut -d':' -f2- | xargs \n",
    "HIVE_METASTORE_WAREHOUSE_DIR = metastore_dir[0]\n",
    "\n",
    "print(\"HIVE_METASTORE_WAREHOUSE_DIR\",HIVE_METASTORE_WAREHOUSE_DIR)"
   ]
  },
  {
   "cell_type": "code",
   "execution_count": 7,
   "id": "aee0e9a2-545b-4f04-86ef-894e877519c2",
   "metadata": {},
   "outputs": [
    {
     "name": "stdout",
     "output_type": "stream",
     "text": [
      "Fully quailified table name : loan_db.loans_by_state_iceberg\n"
     ]
    }
   ],
   "source": [
    "TABLE_NAME=\"loans_by_state_iceberg\"\n",
    "DB_NAME=\"loan_db\"\n",
    "#fully qualified table name\n",
    "FQTN=f\"{DB_NAME}.{TABLE_NAME}\"\n",
    "print(\"Fully quailified table name :\",FQTN)"
   ]
  },
  {
   "cell_type": "code",
   "execution_count": 8,
   "id": "97b70135-a0e3-4f5b-a917-086775bc2d49",
   "metadata": {},
   "outputs": [
    {
     "name": "stdout",
     "output_type": "stream",
     "text": [
      "gs://gcs-bucket-dll-hms-11002190840-e1664035-a2d9-4215-be46-45c40712/hive-warehouse/loan_db.db/loans_by_state_iceberg/:\n",
      "\n",
      "gs://gcs-bucket-dll-hms-11002190840-e1664035-a2d9-4215-be46-45c40712/hive-warehouse/loan_db.db/loans_by_state_iceberg/data/:\n",
      "gs://gcs-bucket-dll-hms-11002190840-e1664035-a2d9-4215-be46-45c40712/hive-warehouse/loan_db.db/loans_by_state_iceberg/data/00000-2-525c32e9-c437-4d4c-a7a0-c6fac91bba85-0-00001.parquet\n",
      "\n",
      "gs://gcs-bucket-dll-hms-11002190840-e1664035-a2d9-4215-be46-45c40712/hive-warehouse/loan_db.db/loans_by_state_iceberg/metadata/:\n",
      "gs://gcs-bucket-dll-hms-11002190840-e1664035-a2d9-4215-be46-45c40712/hive-warehouse/loan_db.db/loans_by_state_iceberg/metadata/00000-ff4fdfd8-1029-48c2-ac68-d44d499bc9ce.metadata.json\n",
      "gs://gcs-bucket-dll-hms-11002190840-e1664035-a2d9-4215-be46-45c40712/hive-warehouse/loan_db.db/loans_by_state_iceberg/metadata/9702db53-a27d-47ad-ab43-477bbf42516d-m0.avro\n",
      "gs://gcs-bucket-dll-hms-11002190840-e1664035-a2d9-4215-be46-45c40712/hive-warehouse/loan_db.db/loans_by_state_iceberg/metadata/snap-9176687385630465169-1-9702db53-a27d-47ad-ab43-477bbf42516d.avro\n"
     ]
    }
   ],
   "source": [
    "# Checking the initial folder structure\n",
    "\n",
    "!gsutil ls -r {HIVE_METASTORE_WAREHOUSE_DIR}/loan_db.db/{TABLE_NAME}/"
   ]
  },
  {
   "cell_type": "markdown",
   "id": "ed74d358-e90b-46d0-b81c-1e29c25ccac5",
   "metadata": {},
   "source": [
    "### 4. DELETE operation"
   ]
  },
  {
   "cell_type": "code",
   "execution_count": 9,
   "id": "5e1e1753-2ef1-47cb-bd51-a44f79630c1b",
   "metadata": {},
   "outputs": [
    {
     "name": "stderr",
     "output_type": "stream",
     "text": [
      "ivysettings.xml file not found in HIVE_HOME or HIVE_CONF_DIR,/etc/spark/conf/ivysettings.xml will be used\n",
      "[Stage 0:>                                                          (0 + 1) / 1]\r"
     ]
    },
    {
     "name": "stdout",
     "output_type": "stream",
     "text": [
      "+----------+----------+\n",
      "|addr_state|loan_count|\n",
      "+----------+----------+\n",
      "|AZ        |10318     |\n",
      "|SC        |5460      |\n",
      "|LA        |5284      |\n",
      "|MN        |8031      |\n",
      "|NJ        |16367     |\n",
      "|DC        |1059      |\n",
      "|OR        |5258      |\n",
      "|VA        |12775     |\n",
      "|RI        |1968      |\n",
      "|KY        |4287      |\n",
      "|WY        |964       |\n",
      "|NH        |2148      |\n",
      "|MI        |11638     |\n",
      "|NV        |6309      |\n",
      "|WI        |5798      |\n",
      "|ID        |522       |\n",
      "|CA        |62090     |\n",
      "|CT        |6767      |\n",
      "|NE        |1299      |\n",
      "|MT        |1220      |\n",
      "+----------+----------+\n",
      "only showing top 20 rows\n",
      "\n"
     ]
    },
    {
     "name": "stderr",
     "output_type": "stream",
     "text": [
      "                                                                                \r"
     ]
    }
   ],
   "source": [
    "spark.sql(f\"SELECT * FROM {FQTN}\").show(truncate=False)"
   ]
  },
  {
   "cell_type": "code",
   "execution_count": 10,
   "id": "1f7f5fb8-70cc-4a36-be78-9158c74ff165",
   "metadata": {},
   "outputs": [
    {
     "name": "stderr",
     "output_type": "stream",
     "text": [
      "                                                                                \r"
     ]
    },
    {
     "name": "stdout",
     "output_type": "stream",
     "text": [
      "++\n",
      "||\n",
      "++\n",
      "++\n",
      "\n"
     ]
    }
   ],
   "source": [
    "spark.sql(f\"DELETE FROM {FQTN} WHERE addr_state='AZ'\").show(truncate=False)"
   ]
  },
  {
   "cell_type": "code",
   "execution_count": 11,
   "id": "fe5fe9c6-bcb7-4b28-b989-cd8dac4df38d",
   "metadata": {},
   "outputs": [
    {
     "name": "stdout",
     "output_type": "stream",
     "text": [
      "+----------+----------+\n",
      "|addr_state|loan_count|\n",
      "+----------+----------+\n",
      "+----------+----------+\n",
      "\n"
     ]
    }
   ],
   "source": [
    "spark.sql(f\"SELECT * FROM {FQTN} WHERE addr_state='AZ'\").show(truncate=False)"
   ]
  },
  {
   "cell_type": "code",
   "execution_count": 12,
   "id": "98f13764-d150-46fe-ad8d-beb3f7267029",
   "metadata": {},
   "outputs": [
    {
     "name": "stdout",
     "output_type": "stream",
     "text": [
      "gs://gcs-bucket-dll-hms-11002190840-e1664035-a2d9-4215-be46-45c40712/hive-warehouse/loan_db.db/loans_by_state_iceberg/:\n",
      "\n",
      "gs://gcs-bucket-dll-hms-11002190840-e1664035-a2d9-4215-be46-45c40712/hive-warehouse/loan_db.db/loans_by_state_iceberg/data/:\n",
      "gs://gcs-bucket-dll-hms-11002190840-e1664035-a2d9-4215-be46-45c40712/hive-warehouse/loan_db.db/loans_by_state_iceberg/data/00000-2-525c32e9-c437-4d4c-a7a0-c6fac91bba85-0-00001.parquet\n",
      "gs://gcs-bucket-dll-hms-11002190840-e1664035-a2d9-4215-be46-45c40712/hive-warehouse/loan_db.db/loans_by_state_iceberg/data/00098-3-ba66277d-68ee-4b82-86ac-0b7e1aab54f5-0-00001.parquet\n",
      "\n",
      "gs://gcs-bucket-dll-hms-11002190840-e1664035-a2d9-4215-be46-45c40712/hive-warehouse/loan_db.db/loans_by_state_iceberg/metadata/:\n",
      "gs://gcs-bucket-dll-hms-11002190840-e1664035-a2d9-4215-be46-45c40712/hive-warehouse/loan_db.db/loans_by_state_iceberg/metadata/00000-ff4fdfd8-1029-48c2-ac68-d44d499bc9ce.metadata.json\n",
      "gs://gcs-bucket-dll-hms-11002190840-e1664035-a2d9-4215-be46-45c40712/hive-warehouse/loan_db.db/loans_by_state_iceberg/metadata/00001-45382348-1735-41f3-9369-c570189ed61c.metadata.json\n",
      "gs://gcs-bucket-dll-hms-11002190840-e1664035-a2d9-4215-be46-45c40712/hive-warehouse/loan_db.db/loans_by_state_iceberg/metadata/2761bca5-556a-4567-9c37-95f533e1cf44-m0.avro\n",
      "gs://gcs-bucket-dll-hms-11002190840-e1664035-a2d9-4215-be46-45c40712/hive-warehouse/loan_db.db/loans_by_state_iceberg/metadata/2761bca5-556a-4567-9c37-95f533e1cf44-m1.avro\n",
      "gs://gcs-bucket-dll-hms-11002190840-e1664035-a2d9-4215-be46-45c40712/hive-warehouse/loan_db.db/loans_by_state_iceberg/metadata/9702db53-a27d-47ad-ab43-477bbf42516d-m0.avro\n",
      "gs://gcs-bucket-dll-hms-11002190840-e1664035-a2d9-4215-be46-45c40712/hive-warehouse/loan_db.db/loans_by_state_iceberg/metadata/snap-5233765456160638845-1-2761bca5-556a-4567-9c37-95f533e1cf44.avro\n",
      "gs://gcs-bucket-dll-hms-11002190840-e1664035-a2d9-4215-be46-45c40712/hive-warehouse/loan_db.db/loans_by_state_iceberg/metadata/snap-9176687385630465169-1-9702db53-a27d-47ad-ab43-477bbf42516d.avro\n"
     ]
    }
   ],
   "source": [
    "# Explore the table folder contents after DELETE Operation\n",
    "!gsutil ls -r $HIVE_METASTORE_WAREHOUSE_DIR/loan_db.db/{TABLE_NAME}/"
   ]
  },
  {
   "cell_type": "markdown",
   "id": "aa45879a-e9cc-42eb-b8ad-5011bd92febb",
   "metadata": {},
   "source": [
    "**NOTE:** \n",
    "1. In Data folder, a new  parquet file is added which has all records of addr_state=\"AZ\" removed\n",
    "2. In Metadata folder, we have new metadata, manifest lists and manifest files "
   ]
  },
  {
   "cell_type": "code",
   "execution_count": 13,
   "id": "7303642d-b249-4a4f-8b9e-0da4b29bdc97",
   "metadata": {},
   "outputs": [
    {
     "name": "stdout",
     "output_type": "stream",
     "text": [
      "LATEST_METADATA_FILE gs://gcs-bucket-dll-hms-11002190840-e1664035-a2d9-4215-be46-45c40712/hive-warehouse/loan_db.db/loans_by_state_iceberg/metadata/00001-45382348-1735-41f3-9369-c570189ed61c.metadata.json\n"
     ]
    }
   ],
   "source": [
    "#Fetching the latest metadata file\n",
    "\n",
    "#Note: In production usage the latest version of Metadata file is not always the one with highest sequence number. As we see further in lab Time Travel can restore an earlier version of metadata as current.\n",
    "\n",
    "latest_metadata = !gsutil ls  $HIVE_METASTORE_WAREHOUSE_DIR/loan_db.db/{TABLE_NAME}/metadata/*.metadata.json | tail -1\n",
    "LATEST_METADATA_FILE = latest_metadata[0]\n",
    "print(\"LATEST_METADATA_FILE\", LATEST_METADATA_FILE)"
   ]
  },
  {
   "cell_type": "code",
   "execution_count": 14,
   "id": "337f32ed-d55a-48be-9979-b3781dcfcb04",
   "metadata": {},
   "outputs": [
    {
     "name": "stdout",
     "output_type": "stream",
     "text": [
      "{\n",
      "  \"format-version\" : 2,\n",
      "  \"table-uuid\" : \"9228ae9b-8c1d-4c94-bc1e-9205b86ffd30\",\n",
      "  \"location\" : \"gs://gcs-bucket-dll-hms-11002190840-e1664035-a2d9-4215-be46-45c40712/hive-warehouse/loan_db.db/loans_by_state_iceberg\",\n",
      "  \"last-sequence-number\" : 2,\n",
      "  \"last-updated-ms\" : 1715618925421,\n",
      "  \"last-column-id\" : 2,\n",
      "  \"current-schema-id\" : 0,\n",
      "  \"schemas\" : [ {\n",
      "    \"type\" : \"struct\",\n",
      "    \"schema-id\" : 0,\n",
      "    \"fields\" : [ {\n",
      "      \"id\" : 1,\n",
      "      \"name\" : \"addr_state\",\n",
      "      \"required\" : false,\n",
      "      \"type\" : \"string\"\n",
      "    }, {\n",
      "      \"id\" : 2,\n",
      "      \"name\" : \"loan_count\",\n",
      "      \"required\" : false,\n",
      "      \"type\" : \"long\"\n",
      "    } ]\n",
      "  } ],\n",
      "  \"default-spec-id\" : 0,\n",
      "  \"partition-specs\" : [ {\n",
      "    \"spec-id\" : 0,\n",
      "    \"fields\" : [ ]\n",
      "  } ],\n",
      "  \"last-partition-id\" : 999,\n",
      "  \"default-sort-order-id\" : 0,\n",
      "  \"sort-orders\" : [ {\n",
      "    \"order-id\" : 0,\n",
      "    \"fields\" : [ ]\n",
      "  } ],\n",
      "  \"properties\" : {\n",
      "    \"owner\" : \"spark\",\n",
      "    \"write.parquet.compression-codec\" : \"zstd\"\n",
      "  },\n",
      "  \"current-snapshot-id\" : 5233765456160638845,\n",
      "  \"refs\" : {\n",
      "    \"main\" : {\n",
      "      \"snapshot-id\" : 5233765456160638845,\n",
      "      \"type\" : \"branch\"\n",
      "    }\n",
      "  },\n",
      "  \"snapshots\" : [ {\n",
      "    \"sequence-number\" : 1,\n",
      "    \"snapshot-id\" : 9176687385630465169,\n",
      "    \"timestamp-ms\" : 1715618413336,\n",
      "    \"summary\" : {\n",
      "      \"operation\" : \"append\",\n",
      "      \"spark.app.id\" : \"app-20240513163930-0005\",\n",
      "      \"added-data-files\" : \"1\",\n",
      "      \"added-records\" : \"51\",\n",
      "      \"added-files-size\" : \"1018\",\n",
      "      \"changed-partition-count\" : \"1\",\n",
      "      \"total-records\" : \"51\",\n",
      "      \"total-files-size\" : \"1018\",\n",
      "      \"total-data-files\" : \"1\",\n",
      "      \"total-delete-files\" : \"0\",\n",
      "      \"total-position-deletes\" : \"0\",\n",
      "      \"total-equality-deletes\" : \"0\"\n",
      "    },\n",
      "    \"manifest-list\" : \"gs://gcs-bucket-dll-hms-11002190840-e1664035-a2d9-4215-be46-45c40712/hive-warehouse/loan_db.db/loans_by_state_iceberg/metadata/snap-9176687385630465169-1-9702db53-a27d-47ad-ab43-477bbf42516d.avro\",\n",
      "    \"schema-id\" : 0\n",
      "  }, {\n",
      "    \"sequence-number\" : 2,\n",
      "    \"snapshot-id\" : 5233765456160638845,\n",
      "    \"parent-snapshot-id\" : 9176687385630465169,\n",
      "    \"timestamp-ms\" : 1715618925421,\n",
      "    \"summary\" : {\n",
      "      \"operation\" : \"overwrite\",\n",
      "      \"spark.app.id\" : \"app-20240513164202-0005\",\n",
      "      \"added-data-files\" : \"1\",\n",
      "      \"deleted-data-files\" : \"1\",\n",
      "      \"added-records\" : \"50\",\n",
      "      \"deleted-records\" : \"51\",\n",
      "      \"added-files-size\" : \"1008\",\n",
      "      \"removed-files-size\" : \"1018\",\n",
      "      \"changed-partition-count\" : \"1\",\n",
      "      \"total-records\" : \"50\",\n",
      "      \"total-files-size\" : \"1008\",\n",
      "      \"total-data-files\" : \"1\",\n",
      "      \"total-delete-files\" : \"0\",\n",
      "      \"total-position-deletes\" : \"0\",\n",
      "      \"total-equality-deletes\" : \"0\"\n",
      "    },\n",
      "    \"manifest-list\" : \"gs://gcs-bucket-dll-hms-11002190840-e1664035-a2d9-4215-be46-45c40712/hive-warehouse/loan_db.db/loans_by_state_iceberg/metadata/snap-5233765456160638845-1-2761bca5-556a-4567-9c37-95f533e1cf44.avro\",\n",
      "    \"schema-id\" : 0\n",
      "  } ],\n",
      "  \"statistics\" : [ ],\n",
      "  \"partition-statistics\" : [ ],\n",
      "  \"snapshot-log\" : [ {\n",
      "    \"timestamp-ms\" : 1715618413336,\n",
      "    \"snapshot-id\" : 9176687385630465169\n",
      "  }, {\n",
      "    \"timestamp-ms\" : 1715618925421,\n",
      "    \"snapshot-id\" : 5233765456160638845\n",
      "  } ],\n",
      "  \"metadata-log\" : [ {\n",
      "    \"timestamp-ms\" : 1715618413336,\n",
      "    \"metadata-file\" : \"gs://gcs-bucket-dll-hms-11002190840-e1664035-a2d9-4215-be46-45c40712/hive-warehouse/loan_db.db/loans_by_state_iceberg/metadata/00000-ff4fdfd8-1029-48c2-ac68-d44d499bc9ce.metadata.json\"\n",
      "  } ]\n",
      "}"
     ]
    }
   ],
   "source": [
    "#Explore the contents of the latest metadata file\n",
    "\n",
    "#Note that the new metadata files keeps track of new snapshots and also indicates the no of files deleted or modified \n",
    "\n",
    "!gsutil cat {LATEST_METADATA_FILE}"
   ]
  },
  {
   "cell_type": "markdown",
   "id": "17581b81-035f-43b6-a4fa-48b55ce28c8c",
   "metadata": {},
   "source": [
    "### 5. INSERT Operation\n"
   ]
  },
  {
   "cell_type": "code",
   "execution_count": 15,
   "id": "da4f7939-4668-4015-83eb-90209251ea03",
   "metadata": {},
   "outputs": [
    {
     "data": {
      "text/plain": [
       "DataFrame[]"
      ]
     },
     "execution_count": 15,
     "metadata": {},
     "output_type": "execute_result"
    }
   ],
   "source": [
    "spark.sql(f\"INSERT INTO {FQTN} VALUES ('AZ',50000)\")"
   ]
  },
  {
   "cell_type": "code",
   "execution_count": 16,
   "id": "e98a313e-98cf-43a6-b000-626c5f3672e1",
   "metadata": {},
   "outputs": [
    {
     "name": "stdout",
     "output_type": "stream",
     "text": [
      "+----------+----------+\n",
      "|addr_state|loan_count|\n",
      "+----------+----------+\n",
      "|AZ        |50000     |\n",
      "+----------+----------+\n",
      "\n"
     ]
    }
   ],
   "source": [
    "spark.sql(f\"SELECT * FROM {FQTN} WHERE addr_state='AZ'\").show(truncate=False)"
   ]
  },
  {
   "cell_type": "code",
   "execution_count": 17,
   "id": "90acbd73-975a-4911-8afc-50dec3e0d58a",
   "metadata": {},
   "outputs": [
    {
     "name": "stdout",
     "output_type": "stream",
     "text": [
      "gs://gcs-bucket-dll-hms-11002190840-e1664035-a2d9-4215-be46-45c40712/hive-warehouse/loan_db.db/loans_by_state_iceberg/:\n",
      "\n",
      "gs://gcs-bucket-dll-hms-11002190840-e1664035-a2d9-4215-be46-45c40712/hive-warehouse/loan_db.db/loans_by_state_iceberg/data/:\n",
      "gs://gcs-bucket-dll-hms-11002190840-e1664035-a2d9-4215-be46-45c40712/hive-warehouse/loan_db.db/loans_by_state_iceberg/data/00000-2-525c32e9-c437-4d4c-a7a0-c6fac91bba85-0-00001.parquet\n",
      "gs://gcs-bucket-dll-hms-11002190840-e1664035-a2d9-4215-be46-45c40712/hive-warehouse/loan_db.db/loans_by_state_iceberg/data/00000-204-10f4d0c1-80ac-4e51-acf9-b918ef057a8d-0-00001.parquet\n",
      "gs://gcs-bucket-dll-hms-11002190840-e1664035-a2d9-4215-be46-45c40712/hive-warehouse/loan_db.db/loans_by_state_iceberg/data/00098-3-ba66277d-68ee-4b82-86ac-0b7e1aab54f5-0-00001.parquet\n",
      "\n",
      "gs://gcs-bucket-dll-hms-11002190840-e1664035-a2d9-4215-be46-45c40712/hive-warehouse/loan_db.db/loans_by_state_iceberg/metadata/:\n",
      "gs://gcs-bucket-dll-hms-11002190840-e1664035-a2d9-4215-be46-45c40712/hive-warehouse/loan_db.db/loans_by_state_iceberg/metadata/00000-ff4fdfd8-1029-48c2-ac68-d44d499bc9ce.metadata.json\n",
      "gs://gcs-bucket-dll-hms-11002190840-e1664035-a2d9-4215-be46-45c40712/hive-warehouse/loan_db.db/loans_by_state_iceberg/metadata/00001-45382348-1735-41f3-9369-c570189ed61c.metadata.json\n",
      "gs://gcs-bucket-dll-hms-11002190840-e1664035-a2d9-4215-be46-45c40712/hive-warehouse/loan_db.db/loans_by_state_iceberg/metadata/00002-7ff9d324-2678-42c0-8cf0-10e0efd94222.metadata.json\n",
      "gs://gcs-bucket-dll-hms-11002190840-e1664035-a2d9-4215-be46-45c40712/hive-warehouse/loan_db.db/loans_by_state_iceberg/metadata/2761bca5-556a-4567-9c37-95f533e1cf44-m0.avro\n",
      "gs://gcs-bucket-dll-hms-11002190840-e1664035-a2d9-4215-be46-45c40712/hive-warehouse/loan_db.db/loans_by_state_iceberg/metadata/2761bca5-556a-4567-9c37-95f533e1cf44-m1.avro\n",
      "gs://gcs-bucket-dll-hms-11002190840-e1664035-a2d9-4215-be46-45c40712/hive-warehouse/loan_db.db/loans_by_state_iceberg/metadata/65ea8eec-1f10-4d53-bea3-fbef20246fa5-m0.avro\n",
      "gs://gcs-bucket-dll-hms-11002190840-e1664035-a2d9-4215-be46-45c40712/hive-warehouse/loan_db.db/loans_by_state_iceberg/metadata/9702db53-a27d-47ad-ab43-477bbf42516d-m0.avro\n",
      "gs://gcs-bucket-dll-hms-11002190840-e1664035-a2d9-4215-be46-45c40712/hive-warehouse/loan_db.db/loans_by_state_iceberg/metadata/snap-5233765456160638845-1-2761bca5-556a-4567-9c37-95f533e1cf44.avro\n",
      "gs://gcs-bucket-dll-hms-11002190840-e1664035-a2d9-4215-be46-45c40712/hive-warehouse/loan_db.db/loans_by_state_iceberg/metadata/snap-7272046516454809414-1-65ea8eec-1f10-4d53-bea3-fbef20246fa5.avro\n",
      "gs://gcs-bucket-dll-hms-11002190840-e1664035-a2d9-4215-be46-45c40712/hive-warehouse/loan_db.db/loans_by_state_iceberg/metadata/snap-9176687385630465169-1-9702db53-a27d-47ad-ab43-477bbf42516d.avro\n"
     ]
    }
   ],
   "source": [
    "!gsutil ls -r $HIVE_METASTORE_WAREHOUSE_DIR/loan_db.db/{TABLE_NAME}/"
   ]
  },
  {
   "cell_type": "markdown",
   "id": "d89c7cb8-2c1e-46a9-ab22-7314d479e173",
   "metadata": {},
   "source": [
    "**NOTE:** INSERT operation has created new set of files in the table directory\n",
    "1. New parquet file in data folder with new row for \"AZ\" \n",
    "2. New snapshot, manifest, meta-data files in the meta-data folder"
   ]
  },
  {
   "cell_type": "code",
   "execution_count": 18,
   "id": "c97ea3e1-7178-48bc-bb2a-fa4e15cf21e5",
   "metadata": {},
   "outputs": [
    {
     "name": "stdout",
     "output_type": "stream",
     "text": [
      "LATEST_METADATA_FILE gs://gcs-bucket-dll-hms-11002190840-e1664035-a2d9-4215-be46-45c40712/hive-warehouse/loan_db.db/loans_by_state_iceberg/metadata/00002-7ff9d324-2678-42c0-8cf0-10e0efd94222.metadata.json\n"
     ]
    }
   ],
   "source": [
    "#Fetching the latest metadata file\n",
    "\n",
    "latest_metadata = !gsutil ls  $HIVE_METASTORE_WAREHOUSE_DIR/loan_db.db/{TABLE_NAME}/metadata/*.metadata.json | tail -1\n",
    "LATEST_METADATA_FILE = latest_metadata[0]\n",
    "print(\"LATEST_METADATA_FILE\", LATEST_METADATA_FILE)"
   ]
  },
  {
   "cell_type": "code",
   "execution_count": 19,
   "id": "61df7321-31bc-4705-a688-f0890908215c",
   "metadata": {},
   "outputs": [
    {
     "name": "stdout",
     "output_type": "stream",
     "text": [
      "{\n",
      "  \"format-version\" : 2,\n",
      "  \"table-uuid\" : \"9228ae9b-8c1d-4c94-bc1e-9205b86ffd30\",\n",
      "  \"location\" : \"gs://gcs-bucket-dll-hms-11002190840-e1664035-a2d9-4215-be46-45c40712/hive-warehouse/loan_db.db/loans_by_state_iceberg\",\n",
      "  \"last-sequence-number\" : 3,\n",
      "  \"last-updated-ms\" : 1715619019235,\n",
      "  \"last-column-id\" : 2,\n",
      "  \"current-schema-id\" : 0,\n",
      "  \"schemas\" : [ {\n",
      "    \"type\" : \"struct\",\n",
      "    \"schema-id\" : 0,\n",
      "    \"fields\" : [ {\n",
      "      \"id\" : 1,\n",
      "      \"name\" : \"addr_state\",\n",
      "      \"required\" : false,\n",
      "      \"type\" : \"string\"\n",
      "    }, {\n",
      "      \"id\" : 2,\n",
      "      \"name\" : \"loan_count\",\n",
      "      \"required\" : false,\n",
      "      \"type\" : \"long\"\n",
      "    } ]\n",
      "  } ],\n",
      "  \"default-spec-id\" : 0,\n",
      "  \"partition-specs\" : [ {\n",
      "    \"spec-id\" : 0,\n",
      "    \"fields\" : [ ]\n",
      "  } ],\n",
      "  \"last-partition-id\" : 999,\n",
      "  \"default-sort-order-id\" : 0,\n",
      "  \"sort-orders\" : [ {\n",
      "    \"order-id\" : 0,\n",
      "    \"fields\" : [ ]\n",
      "  } ],\n",
      "  \"properties\" : {\n",
      "    \"owner\" : \"spark\",\n",
      "    \"write.parquet.compression-codec\" : \"zstd\"\n",
      "  },\n",
      "  \"current-snapshot-id\" : 7272046516454809414,\n",
      "  \"refs\" : {\n",
      "    \"main\" : {\n",
      "      \"snapshot-id\" : 7272046516454809414,\n",
      "      \"type\" : \"branch\"\n",
      "    }\n",
      "  },\n",
      "  \"snapshots\" : [ {\n",
      "    \"sequence-number\" : 1,\n",
      "    \"snapshot-id\" : 9176687385630465169,\n",
      "    \"timestamp-ms\" : 1715618413336,\n",
      "    \"summary\" : {\n",
      "      \"operation\" : \"append\",\n",
      "      \"spark.app.id\" : \"app-20240513163930-0005\",\n",
      "      \"added-data-files\" : \"1\",\n",
      "      \"added-records\" : \"51\",\n",
      "      \"added-files-size\" : \"1018\",\n",
      "      \"changed-partition-count\" : \"1\",\n",
      "      \"total-records\" : \"51\",\n",
      "      \"total-files-size\" : \"1018\",\n",
      "      \"total-data-files\" : \"1\",\n",
      "      \"total-delete-files\" : \"0\",\n",
      "      \"total-position-deletes\" : \"0\",\n",
      "      \"total-equality-deletes\" : \"0\"\n",
      "    },\n",
      "    \"manifest-list\" : \"gs://gcs-bucket-dll-hms-11002190840-e1664035-a2d9-4215-be46-45c40712/hive-warehouse/loan_db.db/loans_by_state_iceberg/metadata/snap-9176687385630465169-1-9702db53-a27d-47ad-ab43-477bbf42516d.avro\",\n",
      "    \"schema-id\" : 0\n",
      "  }, {\n",
      "    \"sequence-number\" : 2,\n",
      "    \"snapshot-id\" : 5233765456160638845,\n",
      "    \"parent-snapshot-id\" : 9176687385630465169,\n",
      "    \"timestamp-ms\" : 1715618925421,\n",
      "    \"summary\" : {\n",
      "      \"operation\" : \"overwrite\",\n",
      "      \"spark.app.id\" : \"app-20240513164202-0005\",\n",
      "      \"added-data-files\" : \"1\",\n",
      "      \"deleted-data-files\" : \"1\",\n",
      "      \"added-records\" : \"50\",\n",
      "      \"deleted-records\" : \"51\",\n",
      "      \"added-files-size\" : \"1008\",\n",
      "      \"removed-files-size\" : \"1018\",\n",
      "      \"changed-partition-count\" : \"1\",\n",
      "      \"total-records\" : \"50\",\n",
      "      \"total-files-size\" : \"1008\",\n",
      "      \"total-data-files\" : \"1\",\n",
      "      \"total-delete-files\" : \"0\",\n",
      "      \"total-position-deletes\" : \"0\",\n",
      "      \"total-equality-deletes\" : \"0\"\n",
      "    },\n",
      "    \"manifest-list\" : \"gs://gcs-bucket-dll-hms-11002190840-e1664035-a2d9-4215-be46-45c40712/hive-warehouse/loan_db.db/loans_by_state_iceberg/metadata/snap-5233765456160638845-1-2761bca5-556a-4567-9c37-95f533e1cf44.avro\",\n",
      "    \"schema-id\" : 0\n",
      "  }, {\n",
      "    \"sequence-number\" : 3,\n",
      "    \"snapshot-id\" : 7272046516454809414,\n",
      "    \"parent-snapshot-id\" : 5233765456160638845,\n",
      "    \"timestamp-ms\" : 1715619019235,\n",
      "    \"summary\" : {\n",
      "      \"operation\" : \"append\",\n",
      "      \"spark.app.id\" : \"app-20240513164202-0005\",\n",
      "      \"added-data-files\" : \"1\",\n",
      "      \"added-records\" : \"1\",\n",
      "      \"added-files-size\" : \"675\",\n",
      "      \"changed-partition-count\" : \"1\",\n",
      "      \"total-records\" : \"51\",\n",
      "      \"total-files-size\" : \"1683\",\n",
      "      \"total-data-files\" : \"2\",\n",
      "      \"total-delete-files\" : \"0\",\n",
      "      \"total-position-deletes\" : \"0\",\n",
      "      \"total-equality-deletes\" : \"0\"\n",
      "    },\n",
      "    \"manifest-list\" : \"gs://gcs-bucket-dll-hms-11002190840-e1664035-a2d9-4215-be46-45c40712/hive-warehouse/loan_db.db/loans_by_state_iceberg/metadata/snap-7272046516454809414-1-65ea8eec-1f10-4d53-bea3-fbef20246fa5.avro\",\n",
      "    \"schema-id\" : 0\n",
      "  } ],\n",
      "  \"statistics\" : [ ],\n",
      "  \"partition-statistics\" : [ ],\n",
      "  \"snapshot-log\" : [ {\n",
      "    \"timestamp-ms\" : 1715618413336,\n",
      "    \"snapshot-id\" : 9176687385630465169\n",
      "  }, {\n",
      "    \"timestamp-ms\" : 1715618925421,\n",
      "    \"snapshot-id\" : 5233765456160638845\n",
      "  }, {\n",
      "    \"timestamp-ms\" : 1715619019235,\n",
      "    \"snapshot-id\" : 7272046516454809414\n",
      "  } ],\n",
      "  \"metadata-log\" : [ {\n",
      "    \"timestamp-ms\" : 1715618413336,\n",
      "    \"metadata-file\" : \"gs://gcs-bucket-dll-hms-11002190840-e1664035-a2d9-4215-be46-45c40712/hive-warehouse/loan_db.db/loans_by_state_iceberg/metadata/00000-ff4fdfd8-1029-48c2-ac68-d44d499bc9ce.metadata.json\"\n",
      "  }, {\n",
      "    \"timestamp-ms\" : 1715618925421,\n",
      "    \"metadata-file\" : \"gs://gcs-bucket-dll-hms-11002190840-e1664035-a2d9-4215-be46-45c40712/hive-warehouse/loan_db.db/loans_by_state_iceberg/metadata/00001-45382348-1735-41f3-9369-c570189ed61c.metadata.json\"\n",
      "  } ]\n",
      "}"
     ]
    }
   ],
   "source": [
    "#Explore contents of latest metadata file post INSERT operation\n",
    "\n",
    "!gsutil cat {LATEST_METADATA_FILE}"
   ]
  },
  {
   "cell_type": "markdown",
   "id": "b82aef62-845f-43da-ba55-654eac9ae0e1",
   "metadata": {},
   "source": [
    "**NOTE:**\n",
    "1. The value of current snapshot is set to uuid of the latest snapshot file\n",
    "2. The operation is indicated as \"append\" and \n",
    "3. Note the number of files added/deleted as part of this INSERT operation. \n",
    "    \n",
    "    \n",
    "   In our specific case since we are using unpartitioned table here all 51 records are part of the same file hence the entire file is being overwriten. \n"
   ]
  },
  {
   "cell_type": "markdown",
   "id": "446bb16c-a935-4521-9d4f-d3122eecf323",
   "metadata": {},
   "source": [
    "### 6. UPDATE Operation"
   ]
  },
  {
   "cell_type": "code",
   "execution_count": 20,
   "id": "16dcf766-cf76-4210-aa26-519fd91b9207",
   "metadata": {},
   "outputs": [
    {
     "name": "stderr",
     "output_type": "stream",
     "text": [
      "                                                                                \r"
     ]
    },
    {
     "name": "stdout",
     "output_type": "stream",
     "text": [
      "++\n",
      "||\n",
      "++\n",
      "++\n",
      "\n"
     ]
    }
   ],
   "source": [
    "spark.sql(f\"UPDATE {FQTN} SET loan_count = 11111 WHERE addr_state='AZ'\").show(truncate=False)"
   ]
  },
  {
   "cell_type": "code",
   "execution_count": 21,
   "id": "9a56affe-a463-4835-a45a-51cbdeda8f20",
   "metadata": {},
   "outputs": [
    {
     "name": "stdout",
     "output_type": "stream",
     "text": [
      "+----------+----------+\n",
      "|addr_state|loan_count|\n",
      "+----------+----------+\n",
      "|AZ        |11111     |\n",
      "+----------+----------+\n",
      "\n"
     ]
    }
   ],
   "source": [
    "spark.sql(f\"SELECT * FROM {FQTN} WHERE addr_state='AZ'\").show(truncate=False)"
   ]
  },
  {
   "cell_type": "code",
   "execution_count": 22,
   "id": "7c7a62c6-afdd-48ea-b99c-870098058395",
   "metadata": {},
   "outputs": [
    {
     "name": "stdout",
     "output_type": "stream",
     "text": [
      "gs://gcs-bucket-dll-hms-11002190840-e1664035-a2d9-4215-be46-45c40712/hive-warehouse/loan_db.db/loans_by_state_iceberg/:\n",
      "\n",
      "gs://gcs-bucket-dll-hms-11002190840-e1664035-a2d9-4215-be46-45c40712/hive-warehouse/loan_db.db/loans_by_state_iceberg/data/:\n",
      "gs://gcs-bucket-dll-hms-11002190840-e1664035-a2d9-4215-be46-45c40712/hive-warehouse/loan_db.db/loans_by_state_iceberg/data/00000-2-525c32e9-c437-4d4c-a7a0-c6fac91bba85-0-00001.parquet\n",
      "gs://gcs-bucket-dll-hms-11002190840-e1664035-a2d9-4215-be46-45c40712/hive-warehouse/loan_db.db/loans_by_state_iceberg/data/00000-204-10f4d0c1-80ac-4e51-acf9-b918ef057a8d-0-00001.parquet\n",
      "gs://gcs-bucket-dll-hms-11002190840-e1664035-a2d9-4215-be46-45c40712/hive-warehouse/loan_db.db/loans_by_state_iceberg/data/00098-3-ba66277d-68ee-4b82-86ac-0b7e1aab54f5-0-00001.parquet\n",
      "gs://gcs-bucket-dll-hms-11002190840-e1664035-a2d9-4215-be46-45c40712/hive-warehouse/loan_db.db/loans_by_state_iceberg/data/00177-208-a545235b-7ccd-45f0-8d66-c3a6fd260072-0-00001.parquet\n",
      "\n",
      "gs://gcs-bucket-dll-hms-11002190840-e1664035-a2d9-4215-be46-45c40712/hive-warehouse/loan_db.db/loans_by_state_iceberg/metadata/:\n",
      "gs://gcs-bucket-dll-hms-11002190840-e1664035-a2d9-4215-be46-45c40712/hive-warehouse/loan_db.db/loans_by_state_iceberg/metadata/00000-ff4fdfd8-1029-48c2-ac68-d44d499bc9ce.metadata.json\n",
      "gs://gcs-bucket-dll-hms-11002190840-e1664035-a2d9-4215-be46-45c40712/hive-warehouse/loan_db.db/loans_by_state_iceberg/metadata/00001-45382348-1735-41f3-9369-c570189ed61c.metadata.json\n",
      "gs://gcs-bucket-dll-hms-11002190840-e1664035-a2d9-4215-be46-45c40712/hive-warehouse/loan_db.db/loans_by_state_iceberg/metadata/00002-7ff9d324-2678-42c0-8cf0-10e0efd94222.metadata.json\n",
      "gs://gcs-bucket-dll-hms-11002190840-e1664035-a2d9-4215-be46-45c40712/hive-warehouse/loan_db.db/loans_by_state_iceberg/metadata/00003-f4ea5e78-31ac-41bb-9fd5-49ab3ebb6f2d.metadata.json\n",
      "gs://gcs-bucket-dll-hms-11002190840-e1664035-a2d9-4215-be46-45c40712/hive-warehouse/loan_db.db/loans_by_state_iceberg/metadata/2761bca5-556a-4567-9c37-95f533e1cf44-m0.avro\n",
      "gs://gcs-bucket-dll-hms-11002190840-e1664035-a2d9-4215-be46-45c40712/hive-warehouse/loan_db.db/loans_by_state_iceberg/metadata/2761bca5-556a-4567-9c37-95f533e1cf44-m1.avro\n",
      "gs://gcs-bucket-dll-hms-11002190840-e1664035-a2d9-4215-be46-45c40712/hive-warehouse/loan_db.db/loans_by_state_iceberg/metadata/343c5fbf-794e-43fc-9d04-056702606d92-m0.avro\n",
      "gs://gcs-bucket-dll-hms-11002190840-e1664035-a2d9-4215-be46-45c40712/hive-warehouse/loan_db.db/loans_by_state_iceberg/metadata/343c5fbf-794e-43fc-9d04-056702606d92-m1.avro\n",
      "gs://gcs-bucket-dll-hms-11002190840-e1664035-a2d9-4215-be46-45c40712/hive-warehouse/loan_db.db/loans_by_state_iceberg/metadata/65ea8eec-1f10-4d53-bea3-fbef20246fa5-m0.avro\n",
      "gs://gcs-bucket-dll-hms-11002190840-e1664035-a2d9-4215-be46-45c40712/hive-warehouse/loan_db.db/loans_by_state_iceberg/metadata/9702db53-a27d-47ad-ab43-477bbf42516d-m0.avro\n",
      "gs://gcs-bucket-dll-hms-11002190840-e1664035-a2d9-4215-be46-45c40712/hive-warehouse/loan_db.db/loans_by_state_iceberg/metadata/snap-5233765456160638845-1-2761bca5-556a-4567-9c37-95f533e1cf44.avro\n",
      "gs://gcs-bucket-dll-hms-11002190840-e1664035-a2d9-4215-be46-45c40712/hive-warehouse/loan_db.db/loans_by_state_iceberg/metadata/snap-6697245229602575300-1-343c5fbf-794e-43fc-9d04-056702606d92.avro\n",
      "gs://gcs-bucket-dll-hms-11002190840-e1664035-a2d9-4215-be46-45c40712/hive-warehouse/loan_db.db/loans_by_state_iceberg/metadata/snap-7272046516454809414-1-65ea8eec-1f10-4d53-bea3-fbef20246fa5.avro\n",
      "gs://gcs-bucket-dll-hms-11002190840-e1664035-a2d9-4215-be46-45c40712/hive-warehouse/loan_db.db/loans_by_state_iceberg/metadata/snap-9176687385630465169-1-9702db53-a27d-47ad-ab43-477bbf42516d.avro\n"
     ]
    }
   ],
   "source": [
    "# Note how the update created a new parquet file and added more metadata files in the metadata directory\n",
    "!gsutil ls -r $HIVE_METASTORE_WAREHOUSE_DIR/loan_db.db/{TABLE_NAME}/"
   ]
  },
  {
   "cell_type": "markdown",
   "id": "989df741-1ce5-4743-9556-ed896241a061",
   "metadata": {},
   "source": [
    "### 7. INSERT OVERWRITE Operation"
   ]
  },
  {
   "cell_type": "code",
   "execution_count": 23,
   "id": "c4cca697-f023-4f5f-a301-c1a61a52402a",
   "metadata": {},
   "outputs": [],
   "source": [
    "#Creating a source table for overwriting \n",
    "\n",
    "overwrt_df = spark.sql(f\"SELECT * FROM {FQTN} WHERE addr_state NOT IN ('IA','CA')\")\n",
    "overwrt_df.createOrReplaceTempView(\"overwrite_source_table\")"
   ]
  },
  {
   "cell_type": "code",
   "execution_count": 24,
   "id": "ee837649-13c6-4f3a-b75c-686b0d867e84",
   "metadata": {},
   "outputs": [
    {
     "name": "stdout",
     "output_type": "stream",
     "text": [
      "++\n",
      "||\n",
      "++\n",
      "++\n",
      "\n"
     ]
    }
   ],
   "source": [
    "#Overwrite Iceberg table with the values from above source table\n",
    "spark.sql(f\"INSERT OVERWRITE {FQTN} SELECT * FROM overwrite_source_table\").show(truncate=False)"
   ]
  },
  {
   "cell_type": "code",
   "execution_count": 25,
   "id": "eab490ab-334a-4796-ba6a-fffb96d692ff",
   "metadata": {},
   "outputs": [
    {
     "name": "stdout",
     "output_type": "stream",
     "text": [
      "+-----+\n",
      "|count|\n",
      "+-----+\n",
      "|49   |\n",
      "+-----+\n",
      "\n"
     ]
    }
   ],
   "source": [
    "#\n",
    "spark.sql(f\"SELECT COUNT(*) as count  from {FQTN}\").show(truncate=False)"
   ]
  },
  {
   "cell_type": "code",
   "execution_count": 26,
   "id": "c0181486-46a8-432a-80e2-514ab7834b22",
   "metadata": {},
   "outputs": [
    {
     "name": "stdout",
     "output_type": "stream",
     "text": [
      "LATEST_METADATA_FILE gs://gcs-bucket-dll-hms-11002190840-e1664035-a2d9-4215-be46-45c40712/hive-warehouse/loan_db.db/loans_by_state_iceberg/metadata/00004-3bd4d900-5e07-4acf-9935-0d557023d467.metadata.json\n",
      "{\n",
      "  \"format-version\" : 2,\n",
      "  \"table-uuid\" : \"9228ae9b-8c1d-4c94-bc1e-9205b86ffd30\",\n",
      "  \"location\" : \"gs://gcs-bucket-dll-hms-11002190840-e1664035-a2d9-4215-be46-45c40712/hive-warehouse/loan_db.db/loans_by_state_iceberg\",\n",
      "  \"last-sequence-number\" : 5,\n",
      "  \"last-updated-ms\" : 1715619153693,\n",
      "  \"last-column-id\" : 2,\n",
      "  \"current-schema-id\" : 0,\n",
      "  \"schemas\" : [ {\n",
      "    \"type\" : \"struct\",\n",
      "    \"schema-id\" : 0,\n",
      "    \"fields\" : [ {\n",
      "      \"id\" : 1,\n",
      "      \"name\" : \"addr_state\",\n",
      "      \"required\" : false,\n",
      "      \"type\" : \"string\"\n",
      "    }, {\n",
      "      \"id\" : 2,\n",
      "      \"name\" : \"loan_count\",\n",
      "      \"required\" : false,\n",
      "      \"type\" : \"long\"\n",
      "    } ]\n",
      "  } ],\n",
      "  \"default-spec-id\" : 0,\n",
      "  \"partition-specs\" : [ {\n",
      "    \"spec-id\" : 0,\n",
      "    \"fields\" : [ ]\n",
      "  } ],\n",
      "  \"last-partition-id\" : 999,\n",
      "  \"default-sort-order-id\" : 0,\n",
      "  \"sort-orders\" : [ {\n",
      "    \"order-id\" : 0,\n",
      "    \"fields\" : [ ]\n",
      "  } ],\n",
      "  \"properties\" : {\n",
      "    \"owner\" : \"spark\",\n",
      "    \"write.parquet.compression-codec\" : \"zstd\"\n",
      "  },\n",
      "  \"current-snapshot-id\" : 1795098683837972174,\n",
      "  \"refs\" : {\n",
      "    \"main\" : {\n",
      "      \"snapshot-id\" : 1795098683837972174,\n",
      "      \"type\" : \"branch\"\n",
      "    }\n",
      "  },\n",
      "  \"snapshots\" : [ {\n",
      "    \"sequence-number\" : 1,\n",
      "    \"snapshot-id\" : 9176687385630465169,\n",
      "    \"timestamp-ms\" : 1715618413336,\n",
      "    \"summary\" : {\n",
      "      \"operation\" : \"append\",\n",
      "      \"spark.app.id\" : \"app-20240513163930-0005\",\n",
      "      \"added-data-files\" : \"1\",\n",
      "      \"added-records\" : \"51\",\n",
      "      \"added-files-size\" : \"1018\",\n",
      "      \"changed-partition-count\" : \"1\",\n",
      "      \"total-records\" : \"51\",\n",
      "      \"total-files-size\" : \"1018\",\n",
      "      \"total-data-files\" : \"1\",\n",
      "      \"total-delete-files\" : \"0\",\n",
      "      \"total-position-deletes\" : \"0\",\n",
      "      \"total-equality-deletes\" : \"0\"\n",
      "    },\n",
      "    \"manifest-list\" : \"gs://gcs-bucket-dll-hms-11002190840-e1664035-a2d9-4215-be46-45c40712/hive-warehouse/loan_db.db/loans_by_state_iceberg/metadata/snap-9176687385630465169-1-9702db53-a27d-47ad-ab43-477bbf42516d.avro\",\n",
      "    \"schema-id\" : 0\n",
      "  }, {\n",
      "    \"sequence-number\" : 2,\n",
      "    \"snapshot-id\" : 5233765456160638845,\n",
      "    \"parent-snapshot-id\" : 9176687385630465169,\n",
      "    \"timestamp-ms\" : 1715618925421,\n",
      "    \"summary\" : {\n",
      "      \"operation\" : \"overwrite\",\n",
      "      \"spark.app.id\" : \"app-20240513164202-0005\",\n",
      "      \"added-data-files\" : \"1\",\n",
      "      \"deleted-data-files\" : \"1\",\n",
      "      \"added-records\" : \"50\",\n",
      "      \"deleted-records\" : \"51\",\n",
      "      \"added-files-size\" : \"1008\",\n",
      "      \"removed-files-size\" : \"1018\",\n",
      "      \"changed-partition-count\" : \"1\",\n",
      "      \"total-records\" : \"50\",\n",
      "      \"total-files-size\" : \"1008\",\n",
      "      \"total-data-files\" : \"1\",\n",
      "      \"total-delete-files\" : \"0\",\n",
      "      \"total-position-deletes\" : \"0\",\n",
      "      \"total-equality-deletes\" : \"0\"\n",
      "    },\n",
      "    \"manifest-list\" : \"gs://gcs-bucket-dll-hms-11002190840-e1664035-a2d9-4215-be46-45c40712/hive-warehouse/loan_db.db/loans_by_state_iceberg/metadata/snap-5233765456160638845-1-2761bca5-556a-4567-9c37-95f533e1cf44.avro\",\n",
      "    \"schema-id\" : 0\n",
      "  }, {\n",
      "    \"sequence-number\" : 3,\n",
      "    \"snapshot-id\" : 7272046516454809414,\n",
      "    \"parent-snapshot-id\" : 5233765456160638845,\n",
      "    \"timestamp-ms\" : 1715619019235,\n",
      "    \"summary\" : {\n",
      "      \"operation\" : \"append\",\n",
      "      \"spark.app.id\" : \"app-20240513164202-0005\",\n",
      "      \"added-data-files\" : \"1\",\n",
      "      \"added-records\" : \"1\",\n",
      "      \"added-files-size\" : \"675\",\n",
      "      \"changed-partition-count\" : \"1\",\n",
      "      \"total-records\" : \"51\",\n",
      "      \"total-files-size\" : \"1683\",\n",
      "      \"total-data-files\" : \"2\",\n",
      "      \"total-delete-files\" : \"0\",\n",
      "      \"total-position-deletes\" : \"0\",\n",
      "      \"total-equality-deletes\" : \"0\"\n",
      "    },\n",
      "    \"manifest-list\" : \"gs://gcs-bucket-dll-hms-11002190840-e1664035-a2d9-4215-be46-45c40712/hive-warehouse/loan_db.db/loans_by_state_iceberg/metadata/snap-7272046516454809414-1-65ea8eec-1f10-4d53-bea3-fbef20246fa5.avro\",\n",
      "    \"schema-id\" : 0\n",
      "  }, {\n",
      "    \"sequence-number\" : 4,\n",
      "    \"snapshot-id\" : 6697245229602575300,\n",
      "    \"parent-snapshot-id\" : 7272046516454809414,\n",
      "    \"timestamp-ms\" : 1715619096457,\n",
      "    \"summary\" : {\n",
      "      \"operation\" : \"overwrite\",\n",
      "      \"spark.app.id\" : \"app-20240513164202-0005\",\n",
      "      \"added-data-files\" : \"1\",\n",
      "      \"deleted-data-files\" : \"1\",\n",
      "      \"added-records\" : \"1\",\n",
      "      \"deleted-records\" : \"1\",\n",
      "      \"added-files-size\" : \"692\",\n",
      "      \"removed-files-size\" : \"675\",\n",
      "      \"changed-partition-count\" : \"1\",\n",
      "      \"total-records\" : \"51\",\n",
      "      \"total-files-size\" : \"1700\",\n",
      "      \"total-data-files\" : \"2\",\n",
      "      \"total-delete-files\" : \"0\",\n",
      "      \"total-position-deletes\" : \"0\",\n",
      "      \"total-equality-deletes\" : \"0\"\n",
      "    },\n",
      "    \"manifest-list\" : \"gs://gcs-bucket-dll-hms-11002190840-e1664035-a2d9-4215-be46-45c40712/hive-warehouse/loan_db.db/loans_by_state_iceberg/metadata/snap-6697245229602575300-1-343c5fbf-794e-43fc-9d04-056702606d92.avro\",\n",
      "    \"schema-id\" : 0\n",
      "  }, {\n",
      "    \"sequence-number\" : 5,\n",
      "    \"snapshot-id\" : 1795098683837972174,\n",
      "    \"parent-snapshot-id\" : 6697245229602575300,\n",
      "    \"timestamp-ms\" : 1715619153693,\n",
      "    \"summary\" : {\n",
      "      \"operation\" : \"overwrite\",\n",
      "      \"spark.app.id\" : \"app-20240513164202-0005\",\n",
      "      \"added-data-files\" : \"1\",\n",
      "      \"deleted-data-files\" : \"2\",\n",
      "      \"added-records\" : \"49\",\n",
      "      \"deleted-records\" : \"51\",\n",
      "      \"added-files-size\" : \"1003\",\n",
      "      \"removed-files-size\" : \"1700\",\n",
      "      \"changed-partition-count\" : \"1\",\n",
      "      \"total-records\" : \"49\",\n",
      "      \"total-files-size\" : \"1003\",\n",
      "      \"total-data-files\" : \"1\",\n",
      "      \"total-delete-files\" : \"0\",\n",
      "      \"total-position-deletes\" : \"0\",\n",
      "      \"total-equality-deletes\" : \"0\"\n",
      "    },\n",
      "    \"manifest-list\" : \"gs://gcs-bucket-dll-hms-11002190840-e1664035-a2d9-4215-be46-45c40712/hive-warehouse/loan_db.db/loans_by_state_iceberg/metadata/snap-1795098683837972174-1-ba8aac95-51f6-4185-bdd8-4ea146d16dea.avro\",\n",
      "    \"schema-id\" : 0\n",
      "  } ],\n",
      "  \"statistics\" : [ ],\n",
      "  \"partition-statistics\" : [ ],\n",
      "  \"snapshot-log\" : [ {\n",
      "    \"timestamp-ms\" : 1715618413336,\n",
      "    \"snapshot-id\" : 9176687385630465169\n",
      "  }, {\n",
      "    \"timestamp-ms\" : 1715618925421,\n",
      "    \"snapshot-id\" : 5233765456160638845\n",
      "  }, {\n",
      "    \"timestamp-ms\" : 1715619019235,\n",
      "    \"snapshot-id\" : 7272046516454809414\n",
      "  }, {\n",
      "    \"timestamp-ms\" : 1715619096457,\n",
      "    \"snapshot-id\" : 6697245229602575300\n",
      "  }, {\n",
      "    \"timestamp-ms\" : 1715619153693,\n",
      "    \"snapshot-id\" : 1795098683837972174\n",
      "  } ],\n",
      "  \"metadata-log\" : [ {\n",
      "    \"timestamp-ms\" : 1715618413336,\n",
      "    \"metadata-file\" : \"gs://gcs-bucket-dll-hms-11002190840-e1664035-a2d9-4215-be46-45c40712/hive-warehouse/loan_db.db/loans_by_state_iceberg/metadata/00000-ff4fdfd8-1029-48c2-ac68-d44d499bc9ce.metadata.json\"\n",
      "  }, {\n",
      "    \"timestamp-ms\" : 1715618925421,\n",
      "    \"metadata-file\" : \"gs://gcs-bucket-dll-hms-11002190840-e1664035-a2d9-4215-be46-45c40712/hive-warehouse/loan_db.db/loans_by_state_iceberg/metadata/00001-45382348-1735-41f3-9369-c570189ed61c.metadata.json\"\n",
      "  }, {\n",
      "    \"timestamp-ms\" : 1715619019235,\n",
      "    \"metadata-file\" : \"gs://gcs-bucket-dll-hms-11002190840-e1664035-a2d9-4215-be46-45c40712/hive-warehouse/loan_db.db/loans_by_state_iceberg/metadata/00002-7ff9d324-2678-42c0-8cf0-10e0efd94222.metadata.json\"\n",
      "  }, {\n",
      "    \"timestamp-ms\" : 1715619096457,\n",
      "    \"metadata-file\" : \"gs://gcs-bucket-dll-hms-11002190840-e1664035-a2d9-4215-be46-45c40712/hive-warehouse/loan_db.db/loans_by_state_iceberg/metadata/00003-f4ea5e78-31ac-41bb-9fd5-49ab3ebb6f2d.metadata.json\"\n",
      "  } ]\n",
      "}"
     ]
    }
   ],
   "source": [
    "#Fetching the latest metadata file\n",
    "\n",
    "latest_metadata = !gsutil ls  $HIVE_METASTORE_WAREHOUSE_DIR/loan_db.db/{TABLE_NAME}/metadata/*.metadata.json | tail -1\n",
    "LATEST_METADATA_FILE = latest_metadata[0]\n",
    "print(\"LATEST_METADATA_FILE\", LATEST_METADATA_FILE)\n",
    "\n",
    "!gsutil cat {LATEST_METADATA_FILE} "
   ]
  },
  {
   "cell_type": "markdown",
   "id": "6f782eb2-05c8-497b-8023-65a394e6f7cf",
   "metadata": {},
   "source": [
    "**NOTE:**\n",
    "INSERT OVERWRITE operation performs an atomic overwrite on the data file.\n",
    "Notice the operation summary of the current snapshot in above metadata file"
   ]
  },
  {
   "cell_type": "code",
   "execution_count": 27,
   "id": "ecc7a30f-dce1-4a98-b439-74f1e56e8fd6",
   "metadata": {},
   "outputs": [
    {
     "name": "stdout",
     "output_type": "stream",
     "text": [
      "gs://gcs-bucket-dll-hms-11002190840-e1664035-a2d9-4215-be46-45c40712/hive-warehouse/loan_db.db/loans_by_state_iceberg/:\n",
      "\n",
      "gs://gcs-bucket-dll-hms-11002190840-e1664035-a2d9-4215-be46-45c40712/hive-warehouse/loan_db.db/loans_by_state_iceberg/data/:\n",
      "gs://gcs-bucket-dll-hms-11002190840-e1664035-a2d9-4215-be46-45c40712/hive-warehouse/loan_db.db/loans_by_state_iceberg/data/00000-2-525c32e9-c437-4d4c-a7a0-c6fac91bba85-0-00001.parquet\n",
      "gs://gcs-bucket-dll-hms-11002190840-e1664035-a2d9-4215-be46-45c40712/hive-warehouse/loan_db.db/loans_by_state_iceberg/data/00000-204-10f4d0c1-80ac-4e51-acf9-b918ef057a8d-0-00001.parquet\n",
      "gs://gcs-bucket-dll-hms-11002190840-e1664035-a2d9-4215-be46-45c40712/hive-warehouse/loan_db.db/loans_by_state_iceberg/data/00000-409-0e90780c-f8a8-40ff-a14d-6defc2157af7-0-00001.parquet\n",
      "gs://gcs-bucket-dll-hms-11002190840-e1664035-a2d9-4215-be46-45c40712/hive-warehouse/loan_db.db/loans_by_state_iceberg/data/00098-3-ba66277d-68ee-4b82-86ac-0b7e1aab54f5-0-00001.parquet\n",
      "gs://gcs-bucket-dll-hms-11002190840-e1664035-a2d9-4215-be46-45c40712/hive-warehouse/loan_db.db/loans_by_state_iceberg/data/00177-208-a545235b-7ccd-45f0-8d66-c3a6fd260072-0-00001.parquet\n",
      "\n",
      "gs://gcs-bucket-dll-hms-11002190840-e1664035-a2d9-4215-be46-45c40712/hive-warehouse/loan_db.db/loans_by_state_iceberg/metadata/:\n",
      "gs://gcs-bucket-dll-hms-11002190840-e1664035-a2d9-4215-be46-45c40712/hive-warehouse/loan_db.db/loans_by_state_iceberg/metadata/00000-ff4fdfd8-1029-48c2-ac68-d44d499bc9ce.metadata.json\n",
      "gs://gcs-bucket-dll-hms-11002190840-e1664035-a2d9-4215-be46-45c40712/hive-warehouse/loan_db.db/loans_by_state_iceberg/metadata/00001-45382348-1735-41f3-9369-c570189ed61c.metadata.json\n",
      "gs://gcs-bucket-dll-hms-11002190840-e1664035-a2d9-4215-be46-45c40712/hive-warehouse/loan_db.db/loans_by_state_iceberg/metadata/00002-7ff9d324-2678-42c0-8cf0-10e0efd94222.metadata.json\n",
      "gs://gcs-bucket-dll-hms-11002190840-e1664035-a2d9-4215-be46-45c40712/hive-warehouse/loan_db.db/loans_by_state_iceberg/metadata/00003-f4ea5e78-31ac-41bb-9fd5-49ab3ebb6f2d.metadata.json\n",
      "gs://gcs-bucket-dll-hms-11002190840-e1664035-a2d9-4215-be46-45c40712/hive-warehouse/loan_db.db/loans_by_state_iceberg/metadata/00004-3bd4d900-5e07-4acf-9935-0d557023d467.metadata.json\n",
      "gs://gcs-bucket-dll-hms-11002190840-e1664035-a2d9-4215-be46-45c40712/hive-warehouse/loan_db.db/loans_by_state_iceberg/metadata/2761bca5-556a-4567-9c37-95f533e1cf44-m0.avro\n",
      "gs://gcs-bucket-dll-hms-11002190840-e1664035-a2d9-4215-be46-45c40712/hive-warehouse/loan_db.db/loans_by_state_iceberg/metadata/2761bca5-556a-4567-9c37-95f533e1cf44-m1.avro\n",
      "gs://gcs-bucket-dll-hms-11002190840-e1664035-a2d9-4215-be46-45c40712/hive-warehouse/loan_db.db/loans_by_state_iceberg/metadata/343c5fbf-794e-43fc-9d04-056702606d92-m0.avro\n",
      "gs://gcs-bucket-dll-hms-11002190840-e1664035-a2d9-4215-be46-45c40712/hive-warehouse/loan_db.db/loans_by_state_iceberg/metadata/343c5fbf-794e-43fc-9d04-056702606d92-m1.avro\n",
      "gs://gcs-bucket-dll-hms-11002190840-e1664035-a2d9-4215-be46-45c40712/hive-warehouse/loan_db.db/loans_by_state_iceberg/metadata/65ea8eec-1f10-4d53-bea3-fbef20246fa5-m0.avro\n",
      "gs://gcs-bucket-dll-hms-11002190840-e1664035-a2d9-4215-be46-45c40712/hive-warehouse/loan_db.db/loans_by_state_iceberg/metadata/9702db53-a27d-47ad-ab43-477bbf42516d-m0.avro\n",
      "gs://gcs-bucket-dll-hms-11002190840-e1664035-a2d9-4215-be46-45c40712/hive-warehouse/loan_db.db/loans_by_state_iceberg/metadata/ba8aac95-51f6-4185-bdd8-4ea146d16dea-m0.avro\n",
      "gs://gcs-bucket-dll-hms-11002190840-e1664035-a2d9-4215-be46-45c40712/hive-warehouse/loan_db.db/loans_by_state_iceberg/metadata/ba8aac95-51f6-4185-bdd8-4ea146d16dea-m1.avro\n",
      "gs://gcs-bucket-dll-hms-11002190840-e1664035-a2d9-4215-be46-45c40712/hive-warehouse/loan_db.db/loans_by_state_iceberg/metadata/ba8aac95-51f6-4185-bdd8-4ea146d16dea-m2.avro\n",
      "gs://gcs-bucket-dll-hms-11002190840-e1664035-a2d9-4215-be46-45c40712/hive-warehouse/loan_db.db/loans_by_state_iceberg/metadata/snap-1795098683837972174-1-ba8aac95-51f6-4185-bdd8-4ea146d16dea.avro\n",
      "gs://gcs-bucket-dll-hms-11002190840-e1664035-a2d9-4215-be46-45c40712/hive-warehouse/loan_db.db/loans_by_state_iceberg/metadata/snap-5233765456160638845-1-2761bca5-556a-4567-9c37-95f533e1cf44.avro\n",
      "gs://gcs-bucket-dll-hms-11002190840-e1664035-a2d9-4215-be46-45c40712/hive-warehouse/loan_db.db/loans_by_state_iceberg/metadata/snap-6697245229602575300-1-343c5fbf-794e-43fc-9d04-056702606d92.avro\n",
      "gs://gcs-bucket-dll-hms-11002190840-e1664035-a2d9-4215-be46-45c40712/hive-warehouse/loan_db.db/loans_by_state_iceberg/metadata/snap-7272046516454809414-1-65ea8eec-1f10-4d53-bea3-fbef20246fa5.avro\n",
      "gs://gcs-bucket-dll-hms-11002190840-e1664035-a2d9-4215-be46-45c40712/hive-warehouse/loan_db.db/loans_by_state_iceberg/metadata/snap-9176687385630465169-1-9702db53-a27d-47ad-ab43-477bbf42516d.avro\n"
     ]
    }
   ],
   "source": [
    "# Note how the update created a new parquet file and added more metadata files in the metadata directory\n",
    "!gsutil ls -r $HIVE_METASTORE_WAREHOUSE_DIR/loan_db.db/{TABLE_NAME}/"
   ]
  },
  {
   "cell_type": "markdown",
   "id": "b9631ffd-dc27-45ba-b629-cd91abd9fc24",
   "metadata": {},
   "source": [
    "### 8. MERGE INTO Operation"
   ]
  },
  {
   "cell_type": "code",
   "execution_count": 28,
   "id": "3b37f749-51b6-4b0e-b1d9-37407383590f",
   "metadata": {},
   "outputs": [
    {
     "name": "stderr",
     "output_type": "stream",
     "text": [
      "[Stage 17:===========================================>              (6 + 2) / 8]\r"
     ]
    },
    {
     "name": "stdout",
     "output_type": "stream",
     "text": [
      "+----------+----------+\n",
      "|addr_state|loan_count|\n",
      "+----------+----------+\n",
      "|        CA|     11111|\n",
      "|        IA|     11111|\n",
      "|        IN|     11111|\n",
      "+----------+----------+\n",
      "\n"
     ]
    },
    {
     "name": "stderr",
     "output_type": "stream",
     "text": [
      "                                                                                \r"
     ]
    }
   ],
   "source": [
    "#Create a Source Dataframe to merge\n",
    "# IN exists - update operation\n",
    "# CA, IA dont exist - insert operation\n",
    "# Together - an upsert operation\n",
    "toBeMergedRows = [('IA', 11111), ('CA', 11111), ('IN', 11111)]\n",
    "toBeMergedColumns = ['addr_state', 'loan_count']\n",
    "toBeMergedDF = spark.createDataFrame(toBeMergedRows, toBeMergedColumns)\n",
    "toBeMergedDF.createOrReplaceTempView(\"to_be_merged_table\")\n",
    "toBeMergedDF.orderBy(\"addr_state\").show(3)"
   ]
  },
  {
   "cell_type": "code",
   "execution_count": 29,
   "id": "c8262dc4-cfe5-478e-af6a-b62cd6cd273a",
   "metadata": {},
   "outputs": [
    {
     "name": "stdout",
     "output_type": "stream",
     "text": [
      "+----------+----------+\n",
      "|addr_state|loan_count|\n",
      "+----------+----------+\n",
      "|IN        |7511      |\n",
      "+----------+----------+\n",
      "\n"
     ]
    }
   ],
   "source": [
    "#Iceberg Table before merging\n",
    "spark.sql(f\"SELECT addr_state,loan_count FROM {FQTN} WHERE addr_state in ('IA','CA','IN') ORDER BY addr_state\").show(truncate=False)"
   ]
  },
  {
   "cell_type": "code",
   "execution_count": 30,
   "id": "c845dc15-f7dd-4c47-924f-cea130ba7c1d",
   "metadata": {},
   "outputs": [
    {
     "name": "stdout",
     "output_type": "stream",
     "text": [
      "MERGE INTO loan_db.loans_by_state_iceberg as d USING to_be_merged_table as m ON (d.addr_state = m.addr_state) WHEN MATCHED THEN UPDATE SET * WHEN NOT MATCHED THEN INSERT * \n"
     ]
    }
   ],
   "source": [
    "#build merge statement\n",
    "mergeSQLStatement = f\"MERGE INTO {FQTN} as d USING to_be_merged_table as m ON (d.addr_state = m.addr_state) WHEN MATCHED THEN UPDATE SET * WHEN NOT MATCHED THEN INSERT * \"\n",
    "\n",
    "print(mergeSQLStatement)"
   ]
  },
  {
   "cell_type": "code",
   "execution_count": 31,
   "id": "23f73ea1-f822-49e7-97b1-9cfdfea0e878",
   "metadata": {},
   "outputs": [
    {
     "name": "stdout",
     "output_type": "stream",
     "text": [
      "++\n",
      "||\n",
      "++\n",
      "++\n",
      "\n"
     ]
    }
   ],
   "source": [
    "spark.sql(mergeSQLStatement).show(truncate=False)"
   ]
  },
  {
   "cell_type": "code",
   "execution_count": 32,
   "id": "76acae37-2f19-4fbe-a17f-fd2ad8bbeed1",
   "metadata": {},
   "outputs": [
    {
     "name": "stdout",
     "output_type": "stream",
     "text": [
      "+----------+----------+\n",
      "|addr_state|loan_count|\n",
      "+----------+----------+\n",
      "|CA        |11111     |\n",
      "|IA        |11111     |\n",
      "|IN        |11111     |\n",
      "+----------+----------+\n",
      "\n"
     ]
    }
   ],
   "source": [
    "# Iceberg Table \n",
    "spark.sql(f\"SELECT addr_state,loan_count FROM {FQTN} WHERE addr_state in ('IA','CA','IN') ORDER BY addr_state\").show(truncate=False)"
   ]
  },
  {
   "cell_type": "code",
   "execution_count": 33,
   "id": "aca0b5ad-b029-46da-82a6-bfce0d9d538e",
   "metadata": {},
   "outputs": [
    {
     "name": "stdout",
     "output_type": "stream",
     "text": [
      "gs://gcs-bucket-dll-hms-11002190840-e1664035-a2d9-4215-be46-45c40712/hive-warehouse/loan_db.db/loans_by_state_iceberg/:\n",
      "\n",
      "gs://gcs-bucket-dll-hms-11002190840-e1664035-a2d9-4215-be46-45c40712/hive-warehouse/loan_db.db/loans_by_state_iceberg/data/:\n",
      "gs://gcs-bucket-dll-hms-11002190840-e1664035-a2d9-4215-be46-45c40712/hive-warehouse/loan_db.db/loans_by_state_iceberg/data/00000-2-525c32e9-c437-4d4c-a7a0-c6fac91bba85-0-00001.parquet\n",
      "gs://gcs-bucket-dll-hms-11002190840-e1664035-a2d9-4215-be46-45c40712/hive-warehouse/loan_db.db/loans_by_state_iceberg/data/00000-204-10f4d0c1-80ac-4e51-acf9-b918ef057a8d-0-00001.parquet\n",
      "gs://gcs-bucket-dll-hms-11002190840-e1664035-a2d9-4215-be46-45c40712/hive-warehouse/loan_db.db/loans_by_state_iceberg/data/00000-409-0e90780c-f8a8-40ff-a14d-6defc2157af7-0-00001.parquet\n",
      "gs://gcs-bucket-dll-hms-11002190840-e1664035-a2d9-4215-be46-45c40712/hive-warehouse/loan_db.db/loans_by_state_iceberg/data/00000-441-eb0fbb23-c499-40cf-9192-c8bc95b48657-0-00001.parquet\n",
      "gs://gcs-bucket-dll-hms-11002190840-e1664035-a2d9-4215-be46-45c40712/hive-warehouse/loan_db.db/loans_by_state_iceberg/data/00098-3-ba66277d-68ee-4b82-86ac-0b7e1aab54f5-0-00001.parquet\n",
      "gs://gcs-bucket-dll-hms-11002190840-e1664035-a2d9-4215-be46-45c40712/hive-warehouse/loan_db.db/loans_by_state_iceberg/data/00177-208-a545235b-7ccd-45f0-8d66-c3a6fd260072-0-00001.parquet\n",
      "\n",
      "gs://gcs-bucket-dll-hms-11002190840-e1664035-a2d9-4215-be46-45c40712/hive-warehouse/loan_db.db/loans_by_state_iceberg/metadata/:\n",
      "gs://gcs-bucket-dll-hms-11002190840-e1664035-a2d9-4215-be46-45c40712/hive-warehouse/loan_db.db/loans_by_state_iceberg/metadata/00000-ff4fdfd8-1029-48c2-ac68-d44d499bc9ce.metadata.json\n",
      "gs://gcs-bucket-dll-hms-11002190840-e1664035-a2d9-4215-be46-45c40712/hive-warehouse/loan_db.db/loans_by_state_iceberg/metadata/00001-45382348-1735-41f3-9369-c570189ed61c.metadata.json\n",
      "gs://gcs-bucket-dll-hms-11002190840-e1664035-a2d9-4215-be46-45c40712/hive-warehouse/loan_db.db/loans_by_state_iceberg/metadata/00002-7ff9d324-2678-42c0-8cf0-10e0efd94222.metadata.json\n",
      "gs://gcs-bucket-dll-hms-11002190840-e1664035-a2d9-4215-be46-45c40712/hive-warehouse/loan_db.db/loans_by_state_iceberg/metadata/00003-f4ea5e78-31ac-41bb-9fd5-49ab3ebb6f2d.metadata.json\n",
      "gs://gcs-bucket-dll-hms-11002190840-e1664035-a2d9-4215-be46-45c40712/hive-warehouse/loan_db.db/loans_by_state_iceberg/metadata/00004-3bd4d900-5e07-4acf-9935-0d557023d467.metadata.json\n",
      "gs://gcs-bucket-dll-hms-11002190840-e1664035-a2d9-4215-be46-45c40712/hive-warehouse/loan_db.db/loans_by_state_iceberg/metadata/00005-a1d4009d-0a1e-4f32-9e94-20c5a10fad11.metadata.json\n",
      "gs://gcs-bucket-dll-hms-11002190840-e1664035-a2d9-4215-be46-45c40712/hive-warehouse/loan_db.db/loans_by_state_iceberg/metadata/2724a2d0-7ad7-4de0-81ae-e0b7a4b93619-m0.avro\n",
      "gs://gcs-bucket-dll-hms-11002190840-e1664035-a2d9-4215-be46-45c40712/hive-warehouse/loan_db.db/loans_by_state_iceberg/metadata/2724a2d0-7ad7-4de0-81ae-e0b7a4b93619-m1.avro\n",
      "gs://gcs-bucket-dll-hms-11002190840-e1664035-a2d9-4215-be46-45c40712/hive-warehouse/loan_db.db/loans_by_state_iceberg/metadata/2761bca5-556a-4567-9c37-95f533e1cf44-m0.avro\n",
      "gs://gcs-bucket-dll-hms-11002190840-e1664035-a2d9-4215-be46-45c40712/hive-warehouse/loan_db.db/loans_by_state_iceberg/metadata/2761bca5-556a-4567-9c37-95f533e1cf44-m1.avro\n",
      "gs://gcs-bucket-dll-hms-11002190840-e1664035-a2d9-4215-be46-45c40712/hive-warehouse/loan_db.db/loans_by_state_iceberg/metadata/343c5fbf-794e-43fc-9d04-056702606d92-m0.avro\n",
      "gs://gcs-bucket-dll-hms-11002190840-e1664035-a2d9-4215-be46-45c40712/hive-warehouse/loan_db.db/loans_by_state_iceberg/metadata/343c5fbf-794e-43fc-9d04-056702606d92-m1.avro\n",
      "gs://gcs-bucket-dll-hms-11002190840-e1664035-a2d9-4215-be46-45c40712/hive-warehouse/loan_db.db/loans_by_state_iceberg/metadata/65ea8eec-1f10-4d53-bea3-fbef20246fa5-m0.avro\n",
      "gs://gcs-bucket-dll-hms-11002190840-e1664035-a2d9-4215-be46-45c40712/hive-warehouse/loan_db.db/loans_by_state_iceberg/metadata/9702db53-a27d-47ad-ab43-477bbf42516d-m0.avro\n",
      "gs://gcs-bucket-dll-hms-11002190840-e1664035-a2d9-4215-be46-45c40712/hive-warehouse/loan_db.db/loans_by_state_iceberg/metadata/ba8aac95-51f6-4185-bdd8-4ea146d16dea-m0.avro\n",
      "gs://gcs-bucket-dll-hms-11002190840-e1664035-a2d9-4215-be46-45c40712/hive-warehouse/loan_db.db/loans_by_state_iceberg/metadata/ba8aac95-51f6-4185-bdd8-4ea146d16dea-m1.avro\n",
      "gs://gcs-bucket-dll-hms-11002190840-e1664035-a2d9-4215-be46-45c40712/hive-warehouse/loan_db.db/loans_by_state_iceberg/metadata/ba8aac95-51f6-4185-bdd8-4ea146d16dea-m2.avro\n",
      "gs://gcs-bucket-dll-hms-11002190840-e1664035-a2d9-4215-be46-45c40712/hive-warehouse/loan_db.db/loans_by_state_iceberg/metadata/snap-1795098683837972174-1-ba8aac95-51f6-4185-bdd8-4ea146d16dea.avro\n",
      "gs://gcs-bucket-dll-hms-11002190840-e1664035-a2d9-4215-be46-45c40712/hive-warehouse/loan_db.db/loans_by_state_iceberg/metadata/snap-4282559450411521188-1-2724a2d0-7ad7-4de0-81ae-e0b7a4b93619.avro\n",
      "gs://gcs-bucket-dll-hms-11002190840-e1664035-a2d9-4215-be46-45c40712/hive-warehouse/loan_db.db/loans_by_state_iceberg/metadata/snap-5233765456160638845-1-2761bca5-556a-4567-9c37-95f533e1cf44.avro\n",
      "gs://gcs-bucket-dll-hms-11002190840-e1664035-a2d9-4215-be46-45c40712/hive-warehouse/loan_db.db/loans_by_state_iceberg/metadata/snap-6697245229602575300-1-343c5fbf-794e-43fc-9d04-056702606d92.avro\n",
      "gs://gcs-bucket-dll-hms-11002190840-e1664035-a2d9-4215-be46-45c40712/hive-warehouse/loan_db.db/loans_by_state_iceberg/metadata/snap-7272046516454809414-1-65ea8eec-1f10-4d53-bea3-fbef20246fa5.avro\n",
      "gs://gcs-bucket-dll-hms-11002190840-e1664035-a2d9-4215-be46-45c40712/hive-warehouse/loan_db.db/loans_by_state_iceberg/metadata/snap-9176687385630465169-1-9702db53-a27d-47ad-ab43-477bbf42516d.avro\n"
     ]
    }
   ],
   "source": [
    "# Merge created new set of files \n",
    "!gsutil ls -r $HIVE_METASTORE_WAREHOUSE_DIR/loan_db.db/{TABLE_NAME}/"
   ]
  },
  {
   "cell_type": "markdown",
   "id": "038d5201-b299-4ba7-b8e2-eb3dea090421",
   "metadata": {},
   "source": [
    "### THIS CONCLUDES THIS UNIT. PROCEED TO THE NEXT NOTEBOOK"
   ]
  }
 ],
 "metadata": {
  "language_info": {
   "codemirror_mode": {
    "name": "ipython",
    "version": 3
   },
   "file_extension": ".py",
   "mimetype": "text/x-python",
   "name": "python",
   "nbconvert_exporter": "python",
   "pygments_lexer": "ipython3",
   "version": "3.10.9"
  },
  "serverless_spark": "{\"name\":\"projects/delta-lake-diy-lab/locations/us-central1/sessions/iceberg-lab-10866\",\"uuid\":\"0d0ce882-9f5b-439e-bbb8-5879459b71b9\",\"createTime\":\"2024-05-13T15:48:08.648503Z\",\"jupyterSession\":{},\"runtimeInfo\":{},\"state\":\"ACTIVE\",\"stateTime\":\"2024-05-13T15:50:25.744996Z\",\"creator\":\"admin@akhanolkar.altostrat.com\",\"runtimeConfig\":{\"version\":\"2.0.69\",\"properties\":{\"spark:spark.jars.packages\":\"org.apache.iceberg:iceberg-spark-runtime-3.3_2.13:1.5.0\",\"spark:spark.sql.catalog.hdp_ctlg\":\"org.apache.iceberg.spark.SparkCatalog\",\"spark:spark.sql.catalog.hdp_ctlg.type\":\"hadoop\",\"spark:spark.sql.catalog.hdp_ctlg.warehouse\":\"gs://iceberg-spark-bucket-11002190840/iceberg-warehouse-dir\",\"spark:spark.sql.catalog.spark_catalog\":\"org.apache.iceberg.spark.SparkSessionCatalog\",\"spark:spark.sql.catalog.spark_catalog.type\":\"hive\",\"spark:spark.sql.extensions\":\"org.apache.iceberg.spark.extensions.IcebergSparkSessionExtensions\",\"spark:spark.executor.instances\":\"2\",\"spark:spark.driver.cores\":\"4\",\"spark:spark.executor.cores\":\"4\",\"spark:spark.dynamicAllocation.executorAllocationRatio\":\"0.3\",\"spark:spark.eventLog.dir\":\"gs://dll-sphs-bucket-11002190840/0d0ce882-9f5b-439e-bbb8-5879459b71b9/spark-job-history\",\"spark:spark.dataproc.scaling.version\":\"1\"}},\"environmentConfig\":{\"executionConfig\":{\"serviceAccount\":\"dll-lab-sa@delta-lake-diy-lab.iam.gserviceaccount.com\",\"subnetworkUri\":\"projects/delta-lake-diy-lab/regions/us-central1/subnetworks/spark-snet\",\"idleTtl\":\"3600s\",\"ttl\":\"86400s\"},\"peripheralsConfig\":{\"metastoreService\":\"projects/delta-lake-diy-lab/locations/us-central1/services/dll-hms-11002190840\",\"sparkHistoryServerConfig\":{\"dataprocCluster\":\"projects/delta-lake-diy-lab/regions/us-central1/clusters/dll-sphs-11002190840\"}}},\"stateHistory\":[{\"state\":\"CREATING\",\"stateStartTime\":\"2024-05-13T15:48:08.648503Z\"}]}",
  "serverless_spark_kernel_name": "remote-ce1d891cea45e23d1b066316-pyspark",
  "vscode": {
   "interpreter": {
    "hash": "aee8b7b246df8f9039afb4144a1f6fd8d2ca17a180786b69acc140d282b71a49"
   }
  }
 },
 "nbformat": 4,
 "nbformat_minor": 5
}
